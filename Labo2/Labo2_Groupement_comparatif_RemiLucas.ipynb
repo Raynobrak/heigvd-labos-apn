{
 "cells": [
  {
   "cell_type": "markdown",
   "id": "da52a68a",
   "metadata": {},
   "source": [
    "<img src=\"https://heig-vd.ch/docs/default-source/doc-global-newsletter/2020-slim.svg\" alt=\"Logo HEIG-VD\" style=\"width: 80px;\" align=\"right\"/>\n",
    "\n",
    "# Cours APN - Labo 2 : Comparaison de méthodes <br>de groupement sur des données biomédicales"
   ]
  },
  {
   "cell_type": "markdown",
   "id": "b776ea11",
   "metadata": {},
   "source": [
    "## Résumé\n",
    "\n",
    "L'objectif de ce laboratoire est de comparer deux méthodes de groupement : _k_-moyennes et DBSCAN.  \n",
    "\n",
    "Le jeu de données vient du domaine biomédical et possède une annotation de référence.  \n",
    "\n",
    "Les tâches demandées sont les suivantes :\n",
    "* préparer les données à partir de données brutes disponibles en ligne\n",
    "* pour chaque méthode de groupement\n",
    "  - décider quels sont les meilleurs hyper-paramètres par évaluation intrinsèque\n",
    "  - avec ces paramètres, afficher aussi les scores par évaluation extrinsèque\n",
    "  - visualiser les groupements en 2D\n",
    "* comparer les deux méthodes de groupement et conclure."
   ]
  },
  {
   "cell_type": "code",
   "execution_count": 119,
   "id": "29e26888",
   "metadata": {},
   "outputs": [],
   "source": [
    "# Nom et prénom : CHARBONNIER LUCAS et ANCAY Rémi"
   ]
  },
  {
   "cell_type": "code",
   "execution_count": 1,
   "id": "c9e1ef26",
   "metadata": {},
   "outputs": [],
   "source": [
    "import numpy as np\n",
    "import pandas as pd\n",
    "import matplotlib.pyplot as plt\n",
    "%matplotlib inline\n",
    "import os\n",
    "os.environ[\"OMP_NUM_THREADS\"] = \"1\" # KMeans is known to have a memory leak ... set OMP_NUM_THREADS=1\n",
    "\n",
    "from sklearn.preprocessing import StandardScaler\n",
    "from sklearn.decomposition import PCA\n",
    "\n",
    "from sklearn.cluster import KMeans\n",
    "from sklearn.cluster import DBSCAN\n",
    "\n",
    "from sklearn.metrics import davies_bouldin_score as dbs\n",
    "from sklearn.metrics import silhouette_score as sis\n",
    "from sklearn.metrics import adjusted_rand_score as ars\n",
    "from sklearn.metrics import f1_score\n",
    "\n",
    "from matplotlib.colors import Normalize # peut aider au coloriage des groupes (ou utiliser Seaborn)"
   ]
  },
  {
   "cell_type": "markdown",
   "id": "ee11ccc6",
   "metadata": {},
   "source": [
    "## 1. Prise en main et analyse exploratoire des données\n",
    "\n",
    "Les données biomédicales ont été présentées dans l'article de Todd R. Golub et al., [Molecular classification of cancer: class discovery and class prediction by gene expression monitoring](https://www.science.org/doi/abs/10.1126/science.286.5439.531), *Science*, 286:531-537, 1999.  Ces données représentent l'expression de **7129 gènes** dans des échantillons sanguins et de moëlle osseuse provenant de 72 patients souffrant de leucémie.  Pour chaque gène, son niveau d'expression est codé comme un nombre entier, positif ou négatif.  Le type de leucémie a été annoté pour chaque patient comme ALL ou AML (*acute lymphoblastic leukemia* ou *acute myeloid leukemia*) : ce sont les deux classes de référence.\n",
    "\n",
    "Les données sont à télécharger depuis [une version fournie par C. Crawford sur Kaggle](https://www.kaggle.com/datasets/crawford/gene-expression) (pour information, une autre version se trouve dans le [package R golubEsets](https://master.bioconductor.org/packages/release/data/experiment/html/golubEsets.html)).  Si vous n'avez pas accès à Kaggle, le fichier `archive.zip` est fourni avec ce notebook.  Les données brutes contiennent :\n",
    "* un fichier `train` avec les données de 38 patients : noms des gènes (longs et courts), niveau d'expression, signifiance ('call')\n",
    "* un fichier `independent` avec les données de 34 autres patients\n",
    "* un fichier `actual` qui indique pour chaque patient son type de leucémie (ALL ou AML)\n",
    "\n",
    "**Le premier but est d'obtenir une DataFrame avec les 72 patients (lignes) et les niveaux des 7129 gènes (colonnes).  Le numéro de patient sert d'index.  Enfin, une colonne indiquera le type de chaque patient.**"
   ]
  },
  {
   "cell_type": "markdown",
   "id": "7c79da7d",
   "metadata": {},
   "source": [
    "a. Veuillez compléter le code ci-dessous pour transformer le premier fichier de données en un tableau:\n",
    "* avec 7129 colonnes correspondant à la valeur exprimée de chaque gène pour chaque patient\n",
    "* les noms des 7129 colonnes sont les noms courts de chaque gène (connus comme *Gene Accession Number*) \n",
    "* indexé par le numéro des patients, qui sera appelé 'Patient'"
   ]
  },
  {
   "cell_type": "code",
   "execution_count": 113,
   "id": "af9f7aab",
   "metadata": {},
   "outputs": [],
   "source": [
    "def conversion_donnees_brutes(f):\n",
    "    # Lire le fichier f\n",
    "    df = pd.read_csv(f)\n",
    "\n",
    "    cols = [c for c in df.columns if not c.startswith('call')]\n",
    "    df = df[cols]\n",
    "\n",
    "    df = df.T\n",
    "\n",
    "    # les nom des colonnes sont le Gene Accession Number\n",
    "    df.columns = df.iloc[1]\n",
    "    df.columns.name = 'Patient'\n",
    "\n",
    "    # les lignes sont les patients\n",
    "    df = df.drop(['Gene Accession Number', 'Gene Description'])\n",
    "\n",
    "    df.index = df.index.astype(int)\n",
    "    df = df.astype(int)\n",
    "\n",
    "    return df\n"
   ]
  },
  {
   "cell_type": "code",
   "execution_count": 114,
   "id": "282eeb90",
   "metadata": {},
   "outputs": [
    {
     "name": "stdout",
     "output_type": "stream",
     "text": [
      "(38, 7129)\n"
     ]
    },
    {
     "data": {
      "text/html": [
       "<div>\n",
       "<style scoped>\n",
       "    .dataframe tbody tr th:only-of-type {\n",
       "        vertical-align: middle;\n",
       "    }\n",
       "\n",
       "    .dataframe tbody tr th {\n",
       "        vertical-align: top;\n",
       "    }\n",
       "\n",
       "    .dataframe thead th {\n",
       "        text-align: right;\n",
       "    }\n",
       "</style>\n",
       "<table border=\"1\" class=\"dataframe\">\n",
       "  <thead>\n",
       "    <tr style=\"text-align: right;\">\n",
       "      <th>Patient</th>\n",
       "      <th>AFFX-BioB-5_at</th>\n",
       "      <th>AFFX-BioB-M_at</th>\n",
       "      <th>AFFX-BioB-3_at</th>\n",
       "      <th>AFFX-BioC-5_at</th>\n",
       "      <th>AFFX-BioC-3_at</th>\n",
       "      <th>AFFX-BioDn-5_at</th>\n",
       "      <th>AFFX-BioDn-3_at</th>\n",
       "      <th>AFFX-CreX-5_at</th>\n",
       "      <th>AFFX-CreX-3_at</th>\n",
       "      <th>AFFX-BioB-5_st</th>\n",
       "      <th>...</th>\n",
       "      <th>U48730_at</th>\n",
       "      <th>U58516_at</th>\n",
       "      <th>U73738_at</th>\n",
       "      <th>X06956_at</th>\n",
       "      <th>X16699_at</th>\n",
       "      <th>X83863_at</th>\n",
       "      <th>Z17240_at</th>\n",
       "      <th>L49218_f_at</th>\n",
       "      <th>M71243_f_at</th>\n",
       "      <th>Z78285_f_at</th>\n",
       "    </tr>\n",
       "  </thead>\n",
       "  <tbody>\n",
       "    <tr>\n",
       "      <th>1</th>\n",
       "      <td>-214</td>\n",
       "      <td>-153</td>\n",
       "      <td>-58</td>\n",
       "      <td>88</td>\n",
       "      <td>-295</td>\n",
       "      <td>-558</td>\n",
       "      <td>199</td>\n",
       "      <td>-176</td>\n",
       "      <td>252</td>\n",
       "      <td>206</td>\n",
       "      <td>...</td>\n",
       "      <td>185</td>\n",
       "      <td>511</td>\n",
       "      <td>-125</td>\n",
       "      <td>389</td>\n",
       "      <td>-37</td>\n",
       "      <td>793</td>\n",
       "      <td>329</td>\n",
       "      <td>36</td>\n",
       "      <td>191</td>\n",
       "      <td>-37</td>\n",
       "    </tr>\n",
       "    <tr>\n",
       "      <th>2</th>\n",
       "      <td>-139</td>\n",
       "      <td>-73</td>\n",
       "      <td>-1</td>\n",
       "      <td>283</td>\n",
       "      <td>-264</td>\n",
       "      <td>-400</td>\n",
       "      <td>-330</td>\n",
       "      <td>-168</td>\n",
       "      <td>101</td>\n",
       "      <td>74</td>\n",
       "      <td>...</td>\n",
       "      <td>169</td>\n",
       "      <td>837</td>\n",
       "      <td>-36</td>\n",
       "      <td>442</td>\n",
       "      <td>-17</td>\n",
       "      <td>782</td>\n",
       "      <td>295</td>\n",
       "      <td>11</td>\n",
       "      <td>76</td>\n",
       "      <td>-14</td>\n",
       "    </tr>\n",
       "    <tr>\n",
       "      <th>3</th>\n",
       "      <td>-76</td>\n",
       "      <td>-49</td>\n",
       "      <td>-307</td>\n",
       "      <td>309</td>\n",
       "      <td>-376</td>\n",
       "      <td>-650</td>\n",
       "      <td>33</td>\n",
       "      <td>-367</td>\n",
       "      <td>206</td>\n",
       "      <td>-215</td>\n",
       "      <td>...</td>\n",
       "      <td>315</td>\n",
       "      <td>1199</td>\n",
       "      <td>33</td>\n",
       "      <td>168</td>\n",
       "      <td>52</td>\n",
       "      <td>1138</td>\n",
       "      <td>777</td>\n",
       "      <td>41</td>\n",
       "      <td>228</td>\n",
       "      <td>-41</td>\n",
       "    </tr>\n",
       "  </tbody>\n",
       "</table>\n",
       "<p>3 rows × 7129 columns</p>\n",
       "</div>"
      ],
      "text/plain": [
       "Patient  AFFX-BioB-5_at  AFFX-BioB-M_at  AFFX-BioB-3_at  AFFX-BioC-5_at  \\\n",
       "1                  -214            -153             -58              88   \n",
       "2                  -139             -73              -1             283   \n",
       "3                   -76             -49            -307             309   \n",
       "\n",
       "Patient  AFFX-BioC-3_at  AFFX-BioDn-5_at  AFFX-BioDn-3_at  AFFX-CreX-5_at  \\\n",
       "1                  -295             -558              199            -176   \n",
       "2                  -264             -400             -330            -168   \n",
       "3                  -376             -650               33            -367   \n",
       "\n",
       "Patient  AFFX-CreX-3_at  AFFX-BioB-5_st  ...  U48730_at  U58516_at  U73738_at  \\\n",
       "1                   252             206  ...        185        511       -125   \n",
       "2                   101              74  ...        169        837        -36   \n",
       "3                   206            -215  ...        315       1199         33   \n",
       "\n",
       "Patient  X06956_at  X16699_at  X83863_at  Z17240_at  L49218_f_at  M71243_f_at  \\\n",
       "1              389        -37        793        329           36          191   \n",
       "2              442        -17        782        295           11           76   \n",
       "3              168         52       1138        777           41          228   \n",
       "\n",
       "Patient  Z78285_f_at  \n",
       "1                -37  \n",
       "2                -14  \n",
       "3                -41  \n",
       "\n",
       "[3 rows x 7129 columns]"
      ]
     },
     "execution_count": 114,
     "metadata": {},
     "output_type": "execute_result"
    }
   ],
   "source": [
    "train_df = conversion_donnees_brutes(os.path.join('data', 'data_set_ALL_AML_train.csv'))\n",
    "print(train_df.shape) # vérifie le résultat : (38, 7129)\n",
    "train_df.head(3)"
   ]
  },
  {
   "cell_type": "markdown",
   "id": "c63d0b8b",
   "metadata": {},
   "source": [
    "b. Veuillez appliquer la même fonction au deuxième fichier de données."
   ]
  },
  {
   "cell_type": "code",
   "execution_count": 115,
   "id": "dbc82e7f",
   "metadata": {},
   "outputs": [
    {
     "name": "stdout",
     "output_type": "stream",
     "text": [
      "(34, 7129)\n"
     ]
    },
    {
     "data": {
      "text/html": [
       "<div>\n",
       "<style scoped>\n",
       "    .dataframe tbody tr th:only-of-type {\n",
       "        vertical-align: middle;\n",
       "    }\n",
       "\n",
       "    .dataframe tbody tr th {\n",
       "        vertical-align: top;\n",
       "    }\n",
       "\n",
       "    .dataframe thead th {\n",
       "        text-align: right;\n",
       "    }\n",
       "</style>\n",
       "<table border=\"1\" class=\"dataframe\">\n",
       "  <thead>\n",
       "    <tr style=\"text-align: right;\">\n",
       "      <th>Patient</th>\n",
       "      <th>AFFX-BioB-5_at</th>\n",
       "      <th>AFFX-BioB-M_at</th>\n",
       "      <th>AFFX-BioB-3_at</th>\n",
       "      <th>AFFX-BioC-5_at</th>\n",
       "      <th>AFFX-BioC-3_at</th>\n",
       "      <th>AFFX-BioDn-5_at</th>\n",
       "      <th>AFFX-BioDn-3_at</th>\n",
       "      <th>AFFX-CreX-5_at</th>\n",
       "      <th>AFFX-CreX-3_at</th>\n",
       "      <th>AFFX-BioB-5_st</th>\n",
       "      <th>...</th>\n",
       "      <th>U48730_at</th>\n",
       "      <th>U58516_at</th>\n",
       "      <th>U73738_at</th>\n",
       "      <th>X06956_at</th>\n",
       "      <th>X16699_at</th>\n",
       "      <th>X83863_at</th>\n",
       "      <th>Z17240_at</th>\n",
       "      <th>L49218_f_at</th>\n",
       "      <th>M71243_f_at</th>\n",
       "      <th>Z78285_f_at</th>\n",
       "    </tr>\n",
       "  </thead>\n",
       "  <tbody>\n",
       "    <tr>\n",
       "      <th>39</th>\n",
       "      <td>-342</td>\n",
       "      <td>-200</td>\n",
       "      <td>41</td>\n",
       "      <td>328</td>\n",
       "      <td>-224</td>\n",
       "      <td>-427</td>\n",
       "      <td>-656</td>\n",
       "      <td>-292</td>\n",
       "      <td>137</td>\n",
       "      <td>-144</td>\n",
       "      <td>...</td>\n",
       "      <td>277</td>\n",
       "      <td>1023</td>\n",
       "      <td>67</td>\n",
       "      <td>214</td>\n",
       "      <td>-135</td>\n",
       "      <td>1074</td>\n",
       "      <td>475</td>\n",
       "      <td>48</td>\n",
       "      <td>168</td>\n",
       "      <td>-70</td>\n",
       "    </tr>\n",
       "    <tr>\n",
       "      <th>40</th>\n",
       "      <td>-87</td>\n",
       "      <td>-248</td>\n",
       "      <td>262</td>\n",
       "      <td>295</td>\n",
       "      <td>-226</td>\n",
       "      <td>-493</td>\n",
       "      <td>367</td>\n",
       "      <td>-452</td>\n",
       "      <td>194</td>\n",
       "      <td>162</td>\n",
       "      <td>...</td>\n",
       "      <td>83</td>\n",
       "      <td>529</td>\n",
       "      <td>-295</td>\n",
       "      <td>352</td>\n",
       "      <td>-67</td>\n",
       "      <td>67</td>\n",
       "      <td>263</td>\n",
       "      <td>-33</td>\n",
       "      <td>-33</td>\n",
       "      <td>-21</td>\n",
       "    </tr>\n",
       "    <tr>\n",
       "      <th>42</th>\n",
       "      <td>22</td>\n",
       "      <td>-153</td>\n",
       "      <td>17</td>\n",
       "      <td>276</td>\n",
       "      <td>-211</td>\n",
       "      <td>-250</td>\n",
       "      <td>55</td>\n",
       "      <td>-141</td>\n",
       "      <td>0</td>\n",
       "      <td>500</td>\n",
       "      <td>...</td>\n",
       "      <td>413</td>\n",
       "      <td>399</td>\n",
       "      <td>16</td>\n",
       "      <td>558</td>\n",
       "      <td>24</td>\n",
       "      <td>893</td>\n",
       "      <td>297</td>\n",
       "      <td>6</td>\n",
       "      <td>1971</td>\n",
       "      <td>-42</td>\n",
       "    </tr>\n",
       "  </tbody>\n",
       "</table>\n",
       "<p>3 rows × 7129 columns</p>\n",
       "</div>"
      ],
      "text/plain": [
       "Patient  AFFX-BioB-5_at  AFFX-BioB-M_at  AFFX-BioB-3_at  AFFX-BioC-5_at  \\\n",
       "39                 -342            -200              41             328   \n",
       "40                  -87            -248             262             295   \n",
       "42                   22            -153              17             276   \n",
       "\n",
       "Patient  AFFX-BioC-3_at  AFFX-BioDn-5_at  AFFX-BioDn-3_at  AFFX-CreX-5_at  \\\n",
       "39                 -224             -427             -656            -292   \n",
       "40                 -226             -493              367            -452   \n",
       "42                 -211             -250               55            -141   \n",
       "\n",
       "Patient  AFFX-CreX-3_at  AFFX-BioB-5_st  ...  U48730_at  U58516_at  U73738_at  \\\n",
       "39                  137            -144  ...        277       1023         67   \n",
       "40                  194             162  ...         83        529       -295   \n",
       "42                    0             500  ...        413        399         16   \n",
       "\n",
       "Patient  X06956_at  X16699_at  X83863_at  Z17240_at  L49218_f_at  M71243_f_at  \\\n",
       "39             214       -135       1074        475           48          168   \n",
       "40             352        -67         67        263          -33          -33   \n",
       "42             558         24        893        297            6         1971   \n",
       "\n",
       "Patient  Z78285_f_at  \n",
       "39               -70  \n",
       "40               -21  \n",
       "42               -42  \n",
       "\n",
       "[3 rows x 7129 columns]"
      ]
     },
     "execution_count": 115,
     "metadata": {},
     "output_type": "execute_result"
    }
   ],
   "source": [
    "test_df = conversion_donnees_brutes(os.path.join('data', 'data_set_ALL_AML_independent.csv'))\n",
    "print(test_df.shape) # vérifier le résultat : (34, 7129)\n",
    "test_df.head(3)"
   ]
  },
  {
   "cell_type": "markdown",
   "id": "a071d50b",
   "metadata": {},
   "source": [
    "c. Veuillez fusionner les deux data frames en mettant les patients dans l'ordre 1 à 72."
   ]
  },
  {
   "cell_type": "code",
   "execution_count": 118,
   "id": "df43634a",
   "metadata": {},
   "outputs": [],
   "source": [
    "total_df = pd.concat([train_df, test_df])\n",
    "total_df.sort_index(inplace=True)"
   ]
  },
  {
   "cell_type": "markdown",
   "id": "fb6a6e91",
   "metadata": {},
   "source": [
    "d.  En utilisant le fichier `actual.csv`, veuillez ajouter à **total_df** une colonne intitulée **type**, qui indique pour chaque patient son type de maladie (ALL ou AML).  Attention, cette colonne servira uniquement pour l'évaluation extrinsèque en fin de labo."
   ]
  },
  {
   "cell_type": "code",
   "execution_count": null,
   "id": "a2f70a33",
   "metadata": {},
   "outputs": [],
   "source": [
    "# Veuillez écrire le code ici :\n",
    "\n",
    "print(total_df.shape)\n",
    "total_df.head()"
   ]
  },
  {
   "cell_type": "markdown",
   "id": "6cd4f8d8",
   "metadata": {},
   "source": [
    "e. Y a-t-il des données manquantes dans la Data Frame obtenue ?"
   ]
  },
  {
   "cell_type": "code",
   "execution_count": null,
   "id": "fad93fd0",
   "metadata": {},
   "outputs": [],
   "source": []
  },
  {
   "cell_type": "markdown",
   "id": "1e0e8a12",
   "metadata": {},
   "source": [
    "f. Y a-t-il des *outliers* dans chaque colonne ?  Même s'il y en a, ne pas les supprimer."
   ]
  },
  {
   "cell_type": "code",
   "execution_count": null,
   "id": "f5ba452b",
   "metadata": {},
   "outputs": [],
   "source": []
  },
  {
   "cell_type": "markdown",
   "id": "2f226369",
   "metadata": {},
   "source": [
    "g. Veuillez donner un résumé pour chaque colonne numérique (le _5-number-summary_) en utilisant la méthode _describe()_.  Utiliser l'affichage par défaut qui affiche un petit nombre de colonnes."
   ]
  },
  {
   "cell_type": "code",
   "execution_count": null,
   "id": "9c91e81d",
   "metadata": {},
   "outputs": [],
   "source": []
  },
  {
   "cell_type": "markdown",
   "id": "633ac85e",
   "metadata": {},
   "source": [
    "h. Combien de fois apparaît chaque classe de référence, ALL et AML ?"
   ]
  },
  {
   "cell_type": "code",
   "execution_count": null,
   "id": "b17c18b1",
   "metadata": {},
   "outputs": [],
   "source": []
  },
  {
   "cell_type": "markdown",
   "id": "88ec02bb",
   "metadata": {},
   "source": [
    "i. Appliquez la PCA sur des données normalisées (sans la colonne `type`), en **deux** dimensions (sans normaliser le résultat). **Vous travaillerez sur ces données tout au long du labo.**"
   ]
  },
  {
   "cell_type": "code",
   "execution_count": null,
   "id": "68703432",
   "metadata": {},
   "outputs": [],
   "source": [
    "# Veuillez nommer X_pca le résultat de la PCA sur les colonnes de données.\n",
    "# Veuillez nommer Y la colonne indiquant le type correct de chaque patient.\n"
   ]
  },
  {
   "cell_type": "markdown",
   "id": "b51ff3a8",
   "metadata": {},
   "source": [
    "k. À ce stade, après la PCA, les points vous semblent-ils présenter un groupement visible ?"
   ]
  },
  {
   "cell_type": "code",
   "execution_count": null,
   "id": "9242aca2",
   "metadata": {},
   "outputs": [],
   "source": []
  },
  {
   "cell_type": "markdown",
   "id": "1dcda422",
   "metadata": {},
   "source": [
    "## 2. Groupement avec _k_-moyennes\n",
    "\n",
    "Dans cette section, on vous demande de grouper les patients en utilisant la méthode des _k_-moyennes (avec initialisation _kmeans++_) et de trouver la valeur optimale du nombre de groupes entre 2 et 12, en utilisant l'indice de Davies-Bouldin et le score Silhouette.  Vous *ne* devez *pas* utiliser l'information du type de maladie.\n",
    "\n",
    "Vu le nombre élevé d'attributs, vous réutiliserez les résultat de l'ACP faite ci-dessus, sans normalisation après l'ACP.\n",
    "\n",
    "a. Pour les trois scores suivants, veuillez rappeler (en utilisant la documentation de sklearn) quel est leur intervalle de valeurs et quelles valeurs indiquent un meilleur groupement :\n",
    "* l'indice de Davies-Bouldin\n",
    "* le coefficient de Silhouette\n",
    "* l'inertie."
   ]
  },
  {
   "cell_type": "code",
   "execution_count": null,
   "id": "3d535b8f",
   "metadata": {},
   "outputs": [],
   "source": [
    "# Veuillez répondre ici.\n"
   ]
  },
  {
   "cell_type": "markdown",
   "id": "804ea67f",
   "metadata": {},
   "source": [
    "b. Pour un nombre de groupes _k_ allant de 2 à 12 compris, veuillez effectuer le groupement avec _k_-moyennes, puis représenter sur trois graphiques la variation des trois scores intrinsèques en fonction de _k_.  Utiliser `n_init=10`."
   ]
  },
  {
   "cell_type": "code",
   "execution_count": null,
   "id": "baf2cc17",
   "metadata": {},
   "outputs": [],
   "source": []
  },
  {
   "cell_type": "code",
   "execution_count": null,
   "id": "0ee709be",
   "metadata": {},
   "outputs": [],
   "source": []
  },
  {
   "cell_type": "markdown",
   "id": "c07db9f4",
   "metadata": {},
   "source": [
    "c. Selon les courbes affichées, quelle valeur de _k_ proposez-vous de retenir ?  Veuillez donner une raison.\n",
    "\n",
    "Si vous exécutez plusieurs fois l'affichage des courbes, la valeur optimale de _k_ reste-t-elle la même ?  Que pouvez-vous en conclure ?\n",
    "\n",
    "Note : si vous fixez l'attribut `random_seed` de KMeans, alors les courbes ne varient pas au fil des exécutions, sauf si vous changez `n_init`."
   ]
  },
  {
   "cell_type": "code",
   "execution_count": null,
   "id": "1af2d844",
   "metadata": {},
   "outputs": [],
   "source": [
    "# Votre discussion ici."
   ]
  },
  {
   "cell_type": "markdown",
   "id": "ab59eac8",
   "metadata": {},
   "source": [
    "d. Avec la valeur de _k_ choisie au (c), veuillez calculer deux scores extrinsèques : l'indice de Rand ajusté et le score F1.  Veuillez commenter brièvement ces scores.\n",
    "\n",
    "_Indication pour calculer le F1-score, qui n'est pas implémenté dans sklearn pour le groupement._  Pour chaque patient, assignez-lui le type qui est majoritaire dans son groupe (ALL ou AML) en utilisant les bonnes réponses.  Puis comparez les types ainsi assignés avec les types corrects en utilisant directement le score F1 de sklearn.  Notez que pour simplifier, cette méthode est un peu différente de celle du cours."
   ]
  },
  {
   "cell_type": "code",
   "execution_count": null,
   "id": "de1f45c4",
   "metadata": {},
   "outputs": [],
   "source": [
    "# Effectuer le groupement k-moyennes avec la meilleure valeur de k retenue au (b).\n"
   ]
  },
  {
   "cell_type": "code",
   "execution_count": null,
   "id": "5ca204d2",
   "metadata": {},
   "outputs": [],
   "source": [
    "# Calcul et affichage des deux scores.\n"
   ]
  },
  {
   "cell_type": "code",
   "execution_count": null,
   "id": "d0158931",
   "metadata": {},
   "outputs": [],
   "source": [
    "# Votre commentaire sur les scores."
   ]
  },
  {
   "cell_type": "markdown",
   "id": "09253aa7",
   "metadata": {},
   "source": [
    "e. Veuillez représenter les points avec PCA en 2D, en gardant les marqueurs précédents pour les deux types (cercle et triangle), et en utilisant des couleurs pour coder les groupes trouvés. Suggestion : réutiliser le code du Labo 1.  Veuillez commenter le résultat."
   ]
  },
  {
   "cell_type": "code",
   "execution_count": null,
   "id": "708d0bbb",
   "metadata": {},
   "outputs": [],
   "source": [
    "# Utiliser le groupement obtenu ci-dessus.\n"
   ]
  },
  {
   "cell_type": "code",
   "execution_count": null,
   "id": "2263bfed",
   "metadata": {},
   "outputs": [],
   "source": [
    "# Veuillez écrire ici votre discussion des résultats, à l'aide du graphique.\n"
   ]
  },
  {
   "cell_type": "markdown",
   "id": "e24d4d81",
   "metadata": {},
   "source": [
    "## 3. Groupement avec DBSCAN\n",
    "\n",
    "Dans cette section, vous répondrez aux mêmes questions que dans la section précédente, mais pour la méthode DBSCAN, en utilisant les mêmes mesures intrinsèques que ci-dessus (sauf l'inertie).\n",
    "\n",
    "a. Veuillez représenter sur des _heatmaps_ la variation des deux scores intrinsèques et le nombre de groupes en fonction des paramètres _eps_ et _min_samples_ :\n",
    "* chercher _eps_ entre 0.5 et 14 par sauts de 0.5\n",
    "* chercher _min_samples_ entre 1 et 12"
   ]
  },
  {
   "cell_type": "code",
   "execution_count": null,
   "id": "3f97d66b",
   "metadata": {},
   "outputs": [],
   "source": [
    "# Obtenir les deux scores et le nombre de groupes en variant les deux paramètres, les mettre dans des tableaux 2D\n"
   ]
  },
  {
   "cell_type": "code",
   "execution_count": null,
   "id": "b242ecf9",
   "metadata": {},
   "outputs": [],
   "source": [
    "# Afficher les trois heatmaps : Davies_Bouldin, Silhouette, et Nombre_de_groupes\n"
   ]
  },
  {
   "cell_type": "markdown",
   "id": "aba082d2",
   "metadata": {},
   "source": [
    "b. Selon les scores trouvés, quelles valeurs de _eps_ et _min_samples_ proposez-vous de retenir ?  Pourquoi ?\n",
    "\n",
    "Attention : les trois heatmaps ne sont pas toujours en accord, donc vous avez une certaine liberté pour choisir les deux paramètres (il n'y a pas d'optimum évident)."
   ]
  },
  {
   "cell_type": "code",
   "execution_count": null,
   "id": "8f06a273",
   "metadata": {},
   "outputs": [],
   "source": [
    "# Votre discussion ici."
   ]
  },
  {
   "cell_type": "markdown",
   "id": "56def74e",
   "metadata": {},
   "source": [
    "c. Avec les valeurs choisies au (b), veuillez calculer les deux scores extrinsèques comme dans la partie (2)."
   ]
  },
  {
   "cell_type": "code",
   "execution_count": null,
   "id": "6f10910d",
   "metadata": {},
   "outputs": [],
   "source": [
    "# Effectuer le groupement DBSCAN avec les meilleurs paramètres,\n",
    "# puis calculer l'indice de Rand ajusté et le score F1.\n"
   ]
  },
  {
   "cell_type": "code",
   "execution_count": null,
   "id": "3be33296",
   "metadata": {},
   "outputs": [],
   "source": []
  },
  {
   "cell_type": "code",
   "execution_count": null,
   "id": "77081225",
   "metadata": {},
   "outputs": [],
   "source": [
    "# Votre commentaire sur les scores."
   ]
  },
  {
   "cell_type": "markdown",
   "id": "2f87169e",
   "metadata": {},
   "source": [
    "d. Veuillez représenter les points en 2D avec la même représentation que ci-dessus : utilisez des marques différentes pour les deux types, et des couleurs pour coder les groupes trouvés.  Veuillez commenter le résultat."
   ]
  },
  {
   "cell_type": "code",
   "execution_count": null,
   "id": "2b1f6eb8",
   "metadata": {},
   "outputs": [],
   "source": []
  },
  {
   "cell_type": "code",
   "execution_count": null,
   "id": "3803566e",
   "metadata": {},
   "outputs": [],
   "source": [
    "# Veuillez commenter le graphique ici.\n"
   ]
  },
  {
   "cell_type": "markdown",
   "id": "527c6de5",
   "metadata": {},
   "source": [
    "## 4. Conclusion\n",
    "\n",
    "Comment se comparent les deux méthodes optimisées, en termes de scores extrinsèques ?  Veuillez discuter les paramètres trouvés et les scores obtenus.  En particulier, y a-t-il des sous-types des leucémies ALL et AML qui sont visibles sur les groupements que vous obtenus ?  Combien pour chacun ?"
   ]
  },
  {
   "cell_type": "code",
   "execution_count": null,
   "id": "39077d2f",
   "metadata": {},
   "outputs": [],
   "source": [
    "# Votre discussion ici."
   ]
  },
  {
   "cell_type": "markdown",
   "id": "1e19be49",
   "metadata": {},
   "source": [
    "***\n",
    "**Fin du Labo 2.**  Veuillez nettoyer ce notebook en gardant seulement les réponses et résultats désirés, l'enregistrer en remplaçant 'student' par votre nom, et le soumettre sur Cyberlearn."
   ]
  }
 ],
 "metadata": {
  "kernelspec": {
   "display_name": "base",
   "language": "python",
   "name": "python3"
  },
  "language_info": {
   "codemirror_mode": {
    "name": "ipython",
    "version": 3
   },
   "file_extension": ".py",
   "mimetype": "text/x-python",
   "name": "python",
   "nbconvert_exporter": "python",
   "pygments_lexer": "ipython3",
   "version": "3.11.7"
  }
 },
 "nbformat": 4,
 "nbformat_minor": 5
}

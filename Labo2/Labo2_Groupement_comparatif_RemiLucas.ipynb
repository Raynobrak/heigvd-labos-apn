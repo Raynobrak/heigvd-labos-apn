{
 "cells": [
  {
   "cell_type": "markdown",
   "id": "da52a68a",
   "metadata": {},
   "source": [
    "<img src=\"https://heig-vd.ch/docs/default-source/doc-global-newsletter/2020-slim.svg\" alt=\"Logo HEIG-VD\" style=\"width: 80px;\" align=\"right\"/>\n",
    "\n",
    "# Cours APN - Labo 2 : Comparaison de méthodes <br>de groupement sur des données biomédicales"
   ]
  },
  {
   "cell_type": "markdown",
   "id": "b776ea11",
   "metadata": {},
   "source": [
    "## Résumé\n",
    "\n",
    "L'objectif de ce laboratoire est de comparer deux méthodes de groupement : _k_-moyennes et DBSCAN.  \n",
    "\n",
    "Le jeu de données vient du domaine biomédical et possède une annotation de référence.  \n",
    "\n",
    "Les tâches demandées sont les suivantes :\n",
    "* préparer les données à partir de données brutes disponibles en ligne\n",
    "* pour chaque méthode de groupement\n",
    "  - décider quels sont les meilleurs hyper-paramètres par évaluation intrinsèque\n",
    "  - avec ces paramètres, afficher aussi les scores par évaluation extrinsèque\n",
    "  - visualiser les groupements en 2D\n",
    "* comparer les deux méthodes de groupement et conclure."
   ]
  },
  {
   "cell_type": "code",
   "execution_count": 111,
   "id": "29e26888",
   "metadata": {},
   "outputs": [],
   "source": [
    "# Nom et prénom : CHARBONNIER LUCAS et ANCAY Rémi"
   ]
  },
  {
   "cell_type": "code",
   "execution_count": 112,
   "id": "c9e1ef26",
   "metadata": {},
   "outputs": [],
   "source": [
    "import numpy as np\n",
    "import pandas as pd\n",
    "import matplotlib.pyplot as plt\n",
    "import os\n",
    "os.environ[\"OMP_NUM_THREADS\"] = \"1\" # KMeans is known to have a memory leak ... set OMP_NUM_THREADS=1\n",
    "\n",
    "from sklearn.preprocessing import StandardScaler\n",
    "from sklearn.decomposition import PCA\n",
    "\n",
    "from sklearn.cluster import KMeans\n",
    "from sklearn.cluster import DBSCAN\n",
    "\n",
    "from sklearn.metrics import davies_bouldin_score as dbs\n",
    "from sklearn.metrics import silhouette_score as sis\n",
    "from sklearn.metrics import adjusted_rand_score as ars\n",
    "from sklearn.metrics import f1_score\n",
    "\n",
    "from matplotlib.colors import Normalize # peut aider au coloriage des groupes (ou utiliser Seaborn)"
   ]
  },
  {
   "cell_type": "markdown",
   "id": "ee11ccc6",
   "metadata": {},
   "source": [
    "## 1. Prise en main et analyse exploratoire des données\n",
    "\n",
    "Les données biomédicales ont été présentées dans l'article de Todd R. Golub et al., [Molecular classification of cancer: class discovery and class prediction by gene expression monitoring](https://www.science.org/doi/abs/10.1126/science.286.5439.531), *Science*, 286:531-537, 1999.  Ces données représentent l'expression de **7129 gènes** dans des échantillons sanguins et de moëlle osseuse provenant de 72 patients souffrant de leucémie.  Pour chaque gène, son niveau d'expression est codé comme un nombre entier, positif ou négatif.  Le type de leucémie a été annoté pour chaque patient comme ALL ou AML (*acute lymphoblastic leukemia* ou *acute myeloid leukemia*) : ce sont les deux classes de référence.\n",
    "\n",
    "Les données sont à télécharger depuis [une version fournie par C. Crawford sur Kaggle](https://www.kaggle.com/datasets/crawford/gene-expression) (pour information, une autre version se trouve dans le [package R golubEsets](https://master.bioconductor.org/packages/release/data/experiment/html/golubEsets.html)).  Si vous n'avez pas accès à Kaggle, le fichier `archive.zip` est fourni avec ce notebook.  Les données brutes contiennent :\n",
    "* un fichier `train` avec les données de 38 patients : noms des gènes (longs et courts), niveau d'expression, signifiance ('call')\n",
    "* un fichier `independent` avec les données de 34 autres patients\n",
    "* un fichier `actual` qui indique pour chaque patient son type de leucémie (ALL ou AML)\n",
    "\n",
    "**Le premier but est d'obtenir une DataFrame avec les 72 patients (lignes) et les niveaux des 7129 gènes (colonnes).  Le numéro de patient sert d'index.  Enfin, une colonne indiquera le type de chaque patient.**"
   ]
  },
  {
   "cell_type": "markdown",
   "id": "7c79da7d",
   "metadata": {},
   "source": [
    "a. Veuillez compléter le code ci-dessous pour transformer le premier fichier de données en un tableau:\n",
    "* avec 7129 colonnes correspondant à la valeur exprimée de chaque gène pour chaque patient\n",
    "* les noms des 7129 colonnes sont les noms courts de chaque gène (connus comme *Gene Accession Number*) \n",
    "* indexé par le numéro des patients, qui sera appelé 'Patient'"
   ]
  },
  {
   "cell_type": "code",
   "execution_count": 113,
   "id": "af9f7aab",
   "metadata": {},
   "outputs": [],
   "source": [
    "def conversion_donnees_brutes(f):\n",
    "    # Lire le fichier f\n",
    "    df = pd.read_csv(f)\n",
    "\n",
    "    cols = [c for c in df.columns if not c.startswith('call')]\n",
    "    df = df[cols]\n",
    "\n",
    "    df = df.T\n",
    "\n",
    "    # les nom des colonnes sont le Gene Accession Number\n",
    "    df.columns = df.iloc[1]\n",
    "    df.columns.name = 'Patient'\n",
    "\n",
    "    # les lignes sont les patients\n",
    "    df = df.drop(['Gene Accession Number', 'Gene Description'])\n",
    "\n",
    "    df.index = df.index.astype(int)\n",
    "    df = df.astype(int)\n",
    "\n",
    "    return df\n"
   ]
  },
  {
   "cell_type": "code",
   "execution_count": 114,
   "id": "282eeb90",
   "metadata": {},
   "outputs": [
    {
     "name": "stdout",
     "output_type": "stream",
     "text": [
      "(38, 7129)\n"
     ]
    },
    {
     "data": {
      "text/html": [
       "<div>\n",
       "<style scoped>\n",
       "    .dataframe tbody tr th:only-of-type {\n",
       "        vertical-align: middle;\n",
       "    }\n",
       "\n",
       "    .dataframe tbody tr th {\n",
       "        vertical-align: top;\n",
       "    }\n",
       "\n",
       "    .dataframe thead th {\n",
       "        text-align: right;\n",
       "    }\n",
       "</style>\n",
       "<table border=\"1\" class=\"dataframe\">\n",
       "  <thead>\n",
       "    <tr style=\"text-align: right;\">\n",
       "      <th>Patient</th>\n",
       "      <th>AFFX-BioB-5_at</th>\n",
       "      <th>AFFX-BioB-M_at</th>\n",
       "      <th>AFFX-BioB-3_at</th>\n",
       "      <th>AFFX-BioC-5_at</th>\n",
       "      <th>AFFX-BioC-3_at</th>\n",
       "      <th>AFFX-BioDn-5_at</th>\n",
       "      <th>AFFX-BioDn-3_at</th>\n",
       "      <th>AFFX-CreX-5_at</th>\n",
       "      <th>AFFX-CreX-3_at</th>\n",
       "      <th>AFFX-BioB-5_st</th>\n",
       "      <th>...</th>\n",
       "      <th>U48730_at</th>\n",
       "      <th>U58516_at</th>\n",
       "      <th>U73738_at</th>\n",
       "      <th>X06956_at</th>\n",
       "      <th>X16699_at</th>\n",
       "      <th>X83863_at</th>\n",
       "      <th>Z17240_at</th>\n",
       "      <th>L49218_f_at</th>\n",
       "      <th>M71243_f_at</th>\n",
       "      <th>Z78285_f_at</th>\n",
       "    </tr>\n",
       "  </thead>\n",
       "  <tbody>\n",
       "    <tr>\n",
       "      <th>1</th>\n",
       "      <td>-214</td>\n",
       "      <td>-153</td>\n",
       "      <td>-58</td>\n",
       "      <td>88</td>\n",
       "      <td>-295</td>\n",
       "      <td>-558</td>\n",
       "      <td>199</td>\n",
       "      <td>-176</td>\n",
       "      <td>252</td>\n",
       "      <td>206</td>\n",
       "      <td>...</td>\n",
       "      <td>185</td>\n",
       "      <td>511</td>\n",
       "      <td>-125</td>\n",
       "      <td>389</td>\n",
       "      <td>-37</td>\n",
       "      <td>793</td>\n",
       "      <td>329</td>\n",
       "      <td>36</td>\n",
       "      <td>191</td>\n",
       "      <td>-37</td>\n",
       "    </tr>\n",
       "    <tr>\n",
       "      <th>2</th>\n",
       "      <td>-139</td>\n",
       "      <td>-73</td>\n",
       "      <td>-1</td>\n",
       "      <td>283</td>\n",
       "      <td>-264</td>\n",
       "      <td>-400</td>\n",
       "      <td>-330</td>\n",
       "      <td>-168</td>\n",
       "      <td>101</td>\n",
       "      <td>74</td>\n",
       "      <td>...</td>\n",
       "      <td>169</td>\n",
       "      <td>837</td>\n",
       "      <td>-36</td>\n",
       "      <td>442</td>\n",
       "      <td>-17</td>\n",
       "      <td>782</td>\n",
       "      <td>295</td>\n",
       "      <td>11</td>\n",
       "      <td>76</td>\n",
       "      <td>-14</td>\n",
       "    </tr>\n",
       "    <tr>\n",
       "      <th>3</th>\n",
       "      <td>-76</td>\n",
       "      <td>-49</td>\n",
       "      <td>-307</td>\n",
       "      <td>309</td>\n",
       "      <td>-376</td>\n",
       "      <td>-650</td>\n",
       "      <td>33</td>\n",
       "      <td>-367</td>\n",
       "      <td>206</td>\n",
       "      <td>-215</td>\n",
       "      <td>...</td>\n",
       "      <td>315</td>\n",
       "      <td>1199</td>\n",
       "      <td>33</td>\n",
       "      <td>168</td>\n",
       "      <td>52</td>\n",
       "      <td>1138</td>\n",
       "      <td>777</td>\n",
       "      <td>41</td>\n",
       "      <td>228</td>\n",
       "      <td>-41</td>\n",
       "    </tr>\n",
       "  </tbody>\n",
       "</table>\n",
       "<p>3 rows × 7129 columns</p>\n",
       "</div>"
      ],
      "text/plain": [
       "Patient  AFFX-BioB-5_at  AFFX-BioB-M_at  AFFX-BioB-3_at  AFFX-BioC-5_at  \\\n",
       "1                  -214            -153             -58              88   \n",
       "2                  -139             -73              -1             283   \n",
       "3                   -76             -49            -307             309   \n",
       "\n",
       "Patient  AFFX-BioC-3_at  AFFX-BioDn-5_at  AFFX-BioDn-3_at  AFFX-CreX-5_at  \\\n",
       "1                  -295             -558              199            -176   \n",
       "2                  -264             -400             -330            -168   \n",
       "3                  -376             -650               33            -367   \n",
       "\n",
       "Patient  AFFX-CreX-3_at  AFFX-BioB-5_st  ...  U48730_at  U58516_at  U73738_at  \\\n",
       "1                   252             206  ...        185        511       -125   \n",
       "2                   101              74  ...        169        837        -36   \n",
       "3                   206            -215  ...        315       1199         33   \n",
       "\n",
       "Patient  X06956_at  X16699_at  X83863_at  Z17240_at  L49218_f_at  M71243_f_at  \\\n",
       "1              389        -37        793        329           36          191   \n",
       "2              442        -17        782        295           11           76   \n",
       "3              168         52       1138        777           41          228   \n",
       "\n",
       "Patient  Z78285_f_at  \n",
       "1                -37  \n",
       "2                -14  \n",
       "3                -41  \n",
       "\n",
       "[3 rows x 7129 columns]"
      ]
     },
     "execution_count": 114,
     "metadata": {},
     "output_type": "execute_result"
    }
   ],
   "source": [
    "train_df = conversion_donnees_brutes(os.path.join('data', 'data_set_ALL_AML_train.csv'))\n",
    "print(train_df.shape) # vérifie le résultat : (38, 7129)\n",
    "train_df.head(3)"
   ]
  },
  {
   "cell_type": "markdown",
   "id": "c63d0b8b",
   "metadata": {},
   "source": [
    "b. Veuillez appliquer la même fonction au deuxième fichier de données."
   ]
  },
  {
   "cell_type": "code",
   "execution_count": 115,
   "id": "dbc82e7f",
   "metadata": {},
   "outputs": [
    {
     "name": "stdout",
     "output_type": "stream",
     "text": [
      "(34, 7129)\n"
     ]
    },
    {
     "data": {
      "text/html": [
       "<div>\n",
       "<style scoped>\n",
       "    .dataframe tbody tr th:only-of-type {\n",
       "        vertical-align: middle;\n",
       "    }\n",
       "\n",
       "    .dataframe tbody tr th {\n",
       "        vertical-align: top;\n",
       "    }\n",
       "\n",
       "    .dataframe thead th {\n",
       "        text-align: right;\n",
       "    }\n",
       "</style>\n",
       "<table border=\"1\" class=\"dataframe\">\n",
       "  <thead>\n",
       "    <tr style=\"text-align: right;\">\n",
       "      <th>Patient</th>\n",
       "      <th>AFFX-BioB-5_at</th>\n",
       "      <th>AFFX-BioB-M_at</th>\n",
       "      <th>AFFX-BioB-3_at</th>\n",
       "      <th>AFFX-BioC-5_at</th>\n",
       "      <th>AFFX-BioC-3_at</th>\n",
       "      <th>AFFX-BioDn-5_at</th>\n",
       "      <th>AFFX-BioDn-3_at</th>\n",
       "      <th>AFFX-CreX-5_at</th>\n",
       "      <th>AFFX-CreX-3_at</th>\n",
       "      <th>AFFX-BioB-5_st</th>\n",
       "      <th>...</th>\n",
       "      <th>U48730_at</th>\n",
       "      <th>U58516_at</th>\n",
       "      <th>U73738_at</th>\n",
       "      <th>X06956_at</th>\n",
       "      <th>X16699_at</th>\n",
       "      <th>X83863_at</th>\n",
       "      <th>Z17240_at</th>\n",
       "      <th>L49218_f_at</th>\n",
       "      <th>M71243_f_at</th>\n",
       "      <th>Z78285_f_at</th>\n",
       "    </tr>\n",
       "  </thead>\n",
       "  <tbody>\n",
       "    <tr>\n",
       "      <th>39</th>\n",
       "      <td>-342</td>\n",
       "      <td>-200</td>\n",
       "      <td>41</td>\n",
       "      <td>328</td>\n",
       "      <td>-224</td>\n",
       "      <td>-427</td>\n",
       "      <td>-656</td>\n",
       "      <td>-292</td>\n",
       "      <td>137</td>\n",
       "      <td>-144</td>\n",
       "      <td>...</td>\n",
       "      <td>277</td>\n",
       "      <td>1023</td>\n",
       "      <td>67</td>\n",
       "      <td>214</td>\n",
       "      <td>-135</td>\n",
       "      <td>1074</td>\n",
       "      <td>475</td>\n",
       "      <td>48</td>\n",
       "      <td>168</td>\n",
       "      <td>-70</td>\n",
       "    </tr>\n",
       "    <tr>\n",
       "      <th>40</th>\n",
       "      <td>-87</td>\n",
       "      <td>-248</td>\n",
       "      <td>262</td>\n",
       "      <td>295</td>\n",
       "      <td>-226</td>\n",
       "      <td>-493</td>\n",
       "      <td>367</td>\n",
       "      <td>-452</td>\n",
       "      <td>194</td>\n",
       "      <td>162</td>\n",
       "      <td>...</td>\n",
       "      <td>83</td>\n",
       "      <td>529</td>\n",
       "      <td>-295</td>\n",
       "      <td>352</td>\n",
       "      <td>-67</td>\n",
       "      <td>67</td>\n",
       "      <td>263</td>\n",
       "      <td>-33</td>\n",
       "      <td>-33</td>\n",
       "      <td>-21</td>\n",
       "    </tr>\n",
       "    <tr>\n",
       "      <th>42</th>\n",
       "      <td>22</td>\n",
       "      <td>-153</td>\n",
       "      <td>17</td>\n",
       "      <td>276</td>\n",
       "      <td>-211</td>\n",
       "      <td>-250</td>\n",
       "      <td>55</td>\n",
       "      <td>-141</td>\n",
       "      <td>0</td>\n",
       "      <td>500</td>\n",
       "      <td>...</td>\n",
       "      <td>413</td>\n",
       "      <td>399</td>\n",
       "      <td>16</td>\n",
       "      <td>558</td>\n",
       "      <td>24</td>\n",
       "      <td>893</td>\n",
       "      <td>297</td>\n",
       "      <td>6</td>\n",
       "      <td>1971</td>\n",
       "      <td>-42</td>\n",
       "    </tr>\n",
       "  </tbody>\n",
       "</table>\n",
       "<p>3 rows × 7129 columns</p>\n",
       "</div>"
      ],
      "text/plain": [
       "Patient  AFFX-BioB-5_at  AFFX-BioB-M_at  AFFX-BioB-3_at  AFFX-BioC-5_at  \\\n",
       "39                 -342            -200              41             328   \n",
       "40                  -87            -248             262             295   \n",
       "42                   22            -153              17             276   \n",
       "\n",
       "Patient  AFFX-BioC-3_at  AFFX-BioDn-5_at  AFFX-BioDn-3_at  AFFX-CreX-5_at  \\\n",
       "39                 -224             -427             -656            -292   \n",
       "40                 -226             -493              367            -452   \n",
       "42                 -211             -250               55            -141   \n",
       "\n",
       "Patient  AFFX-CreX-3_at  AFFX-BioB-5_st  ...  U48730_at  U58516_at  U73738_at  \\\n",
       "39                  137            -144  ...        277       1023         67   \n",
       "40                  194             162  ...         83        529       -295   \n",
       "42                    0             500  ...        413        399         16   \n",
       "\n",
       "Patient  X06956_at  X16699_at  X83863_at  Z17240_at  L49218_f_at  M71243_f_at  \\\n",
       "39             214       -135       1074        475           48          168   \n",
       "40             352        -67         67        263          -33          -33   \n",
       "42             558         24        893        297            6         1971   \n",
       "\n",
       "Patient  Z78285_f_at  \n",
       "39               -70  \n",
       "40               -21  \n",
       "42               -42  \n",
       "\n",
       "[3 rows x 7129 columns]"
      ]
     },
     "execution_count": 115,
     "metadata": {},
     "output_type": "execute_result"
    }
   ],
   "source": [
    "test_df = conversion_donnees_brutes(os.path.join('data', 'data_set_ALL_AML_independent.csv'))\n",
    "print(test_df.shape) # vérifier le résultat : (34, 7129)\n",
    "test_df.head(3)"
   ]
  },
  {
   "cell_type": "markdown",
   "id": "a071d50b",
   "metadata": {},
   "source": [
    "c. Veuillez fusionner les deux data frames en mettant les patients dans l'ordre 1 à 72."
   ]
  },
  {
   "cell_type": "code",
   "execution_count": 116,
   "id": "df43634a",
   "metadata": {},
   "outputs": [],
   "source": [
    "total_df = pd.concat([train_df, test_df])\n",
    "total_df.sort_index(inplace=True)"
   ]
  },
  {
   "cell_type": "markdown",
   "id": "fb6a6e91",
   "metadata": {},
   "source": [
    "d.  En utilisant le fichier `actual.csv`, veuillez ajouter à **total_df** une colonne intitulée **type**, qui indique pour chaque patient son type de maladie (ALL ou AML).  Attention, cette colonne servira uniquement pour l'évaluation extrinsèque en fin de labo."
   ]
  },
  {
   "cell_type": "code",
   "execution_count": 117,
   "id": "a2f70a33",
   "metadata": {},
   "outputs": [
    {
     "name": "stdout",
     "output_type": "stream",
     "text": [
      "(72, 7130)\n"
     ]
    },
    {
     "data": {
      "text/html": [
       "<div>\n",
       "<style scoped>\n",
       "    .dataframe tbody tr th:only-of-type {\n",
       "        vertical-align: middle;\n",
       "    }\n",
       "\n",
       "    .dataframe tbody tr th {\n",
       "        vertical-align: top;\n",
       "    }\n",
       "\n",
       "    .dataframe thead th {\n",
       "        text-align: right;\n",
       "    }\n",
       "</style>\n",
       "<table border=\"1\" class=\"dataframe\">\n",
       "  <thead>\n",
       "    <tr style=\"text-align: right;\">\n",
       "      <th>Patient</th>\n",
       "      <th>AFFX-BioB-5_at</th>\n",
       "      <th>AFFX-BioB-M_at</th>\n",
       "      <th>AFFX-BioB-3_at</th>\n",
       "      <th>AFFX-BioC-5_at</th>\n",
       "      <th>AFFX-BioC-3_at</th>\n",
       "      <th>AFFX-BioDn-5_at</th>\n",
       "      <th>AFFX-BioDn-3_at</th>\n",
       "      <th>AFFX-CreX-5_at</th>\n",
       "      <th>AFFX-CreX-3_at</th>\n",
       "      <th>AFFX-BioB-5_st</th>\n",
       "      <th>...</th>\n",
       "      <th>U58516_at</th>\n",
       "      <th>U73738_at</th>\n",
       "      <th>X06956_at</th>\n",
       "      <th>X16699_at</th>\n",
       "      <th>X83863_at</th>\n",
       "      <th>Z17240_at</th>\n",
       "      <th>L49218_f_at</th>\n",
       "      <th>M71243_f_at</th>\n",
       "      <th>Z78285_f_at</th>\n",
       "      <th>type</th>\n",
       "    </tr>\n",
       "  </thead>\n",
       "  <tbody>\n",
       "    <tr>\n",
       "      <th>1</th>\n",
       "      <td>-214</td>\n",
       "      <td>-153</td>\n",
       "      <td>-58</td>\n",
       "      <td>88</td>\n",
       "      <td>-295</td>\n",
       "      <td>-558</td>\n",
       "      <td>199</td>\n",
       "      <td>-176</td>\n",
       "      <td>252</td>\n",
       "      <td>206</td>\n",
       "      <td>...</td>\n",
       "      <td>511</td>\n",
       "      <td>-125</td>\n",
       "      <td>389</td>\n",
       "      <td>-37</td>\n",
       "      <td>793</td>\n",
       "      <td>329</td>\n",
       "      <td>36</td>\n",
       "      <td>191</td>\n",
       "      <td>-37</td>\n",
       "      <td>ALL</td>\n",
       "    </tr>\n",
       "    <tr>\n",
       "      <th>2</th>\n",
       "      <td>-139</td>\n",
       "      <td>-73</td>\n",
       "      <td>-1</td>\n",
       "      <td>283</td>\n",
       "      <td>-264</td>\n",
       "      <td>-400</td>\n",
       "      <td>-330</td>\n",
       "      <td>-168</td>\n",
       "      <td>101</td>\n",
       "      <td>74</td>\n",
       "      <td>...</td>\n",
       "      <td>837</td>\n",
       "      <td>-36</td>\n",
       "      <td>442</td>\n",
       "      <td>-17</td>\n",
       "      <td>782</td>\n",
       "      <td>295</td>\n",
       "      <td>11</td>\n",
       "      <td>76</td>\n",
       "      <td>-14</td>\n",
       "      <td>ALL</td>\n",
       "    </tr>\n",
       "    <tr>\n",
       "      <th>3</th>\n",
       "      <td>-76</td>\n",
       "      <td>-49</td>\n",
       "      <td>-307</td>\n",
       "      <td>309</td>\n",
       "      <td>-376</td>\n",
       "      <td>-650</td>\n",
       "      <td>33</td>\n",
       "      <td>-367</td>\n",
       "      <td>206</td>\n",
       "      <td>-215</td>\n",
       "      <td>...</td>\n",
       "      <td>1199</td>\n",
       "      <td>33</td>\n",
       "      <td>168</td>\n",
       "      <td>52</td>\n",
       "      <td>1138</td>\n",
       "      <td>777</td>\n",
       "      <td>41</td>\n",
       "      <td>228</td>\n",
       "      <td>-41</td>\n",
       "      <td>ALL</td>\n",
       "    </tr>\n",
       "    <tr>\n",
       "      <th>4</th>\n",
       "      <td>-135</td>\n",
       "      <td>-114</td>\n",
       "      <td>265</td>\n",
       "      <td>12</td>\n",
       "      <td>-419</td>\n",
       "      <td>-585</td>\n",
       "      <td>158</td>\n",
       "      <td>-253</td>\n",
       "      <td>49</td>\n",
       "      <td>31</td>\n",
       "      <td>...</td>\n",
       "      <td>835</td>\n",
       "      <td>218</td>\n",
       "      <td>174</td>\n",
       "      <td>-110</td>\n",
       "      <td>627</td>\n",
       "      <td>170</td>\n",
       "      <td>-50</td>\n",
       "      <td>126</td>\n",
       "      <td>-91</td>\n",
       "      <td>ALL</td>\n",
       "    </tr>\n",
       "    <tr>\n",
       "      <th>5</th>\n",
       "      <td>-106</td>\n",
       "      <td>-125</td>\n",
       "      <td>-76</td>\n",
       "      <td>168</td>\n",
       "      <td>-230</td>\n",
       "      <td>-284</td>\n",
       "      <td>4</td>\n",
       "      <td>-122</td>\n",
       "      <td>70</td>\n",
       "      <td>252</td>\n",
       "      <td>...</td>\n",
       "      <td>649</td>\n",
       "      <td>57</td>\n",
       "      <td>504</td>\n",
       "      <td>-26</td>\n",
       "      <td>250</td>\n",
       "      <td>314</td>\n",
       "      <td>14</td>\n",
       "      <td>56</td>\n",
       "      <td>-25</td>\n",
       "      <td>ALL</td>\n",
       "    </tr>\n",
       "  </tbody>\n",
       "</table>\n",
       "<p>5 rows × 7130 columns</p>\n",
       "</div>"
      ],
      "text/plain": [
       "Patient  AFFX-BioB-5_at  AFFX-BioB-M_at  AFFX-BioB-3_at  AFFX-BioC-5_at  \\\n",
       "1                  -214            -153             -58              88   \n",
       "2                  -139             -73              -1             283   \n",
       "3                   -76             -49            -307             309   \n",
       "4                  -135            -114             265              12   \n",
       "5                  -106            -125             -76             168   \n",
       "\n",
       "Patient  AFFX-BioC-3_at  AFFX-BioDn-5_at  AFFX-BioDn-3_at  AFFX-CreX-5_at  \\\n",
       "1                  -295             -558              199            -176   \n",
       "2                  -264             -400             -330            -168   \n",
       "3                  -376             -650               33            -367   \n",
       "4                  -419             -585              158            -253   \n",
       "5                  -230             -284                4            -122   \n",
       "\n",
       "Patient  AFFX-CreX-3_at  AFFX-BioB-5_st  ...  U58516_at  U73738_at  X06956_at  \\\n",
       "1                   252             206  ...        511       -125        389   \n",
       "2                   101              74  ...        837        -36        442   \n",
       "3                   206            -215  ...       1199         33        168   \n",
       "4                    49              31  ...        835        218        174   \n",
       "5                    70             252  ...        649         57        504   \n",
       "\n",
       "Patient  X16699_at  X83863_at  Z17240_at  L49218_f_at  M71243_f_at  \\\n",
       "1              -37        793        329           36          191   \n",
       "2              -17        782        295           11           76   \n",
       "3               52       1138        777           41          228   \n",
       "4             -110        627        170          -50          126   \n",
       "5              -26        250        314           14           56   \n",
       "\n",
       "Patient  Z78285_f_at  type  \n",
       "1                -37   ALL  \n",
       "2                -14   ALL  \n",
       "3                -41   ALL  \n",
       "4                -91   ALL  \n",
       "5                -25   ALL  \n",
       "\n",
       "[5 rows x 7130 columns]"
      ]
     },
     "execution_count": 117,
     "metadata": {},
     "output_type": "execute_result"
    }
   ],
   "source": [
    "# Ajout de la nouvelle colonne\n",
    "patients = pd.read_csv(os.path.join('data', 'actual.csv'))\n",
    "patients.sort_index(inplace=True)\n",
    "total_df[\"type\"] = patients[\"cancer\"]\n",
    "\n",
    "print(total_df.shape)\n",
    "total_df.head()"
   ]
  },
  {
   "cell_type": "markdown",
   "id": "6cd4f8d8",
   "metadata": {},
   "source": [
    "e. Y a-t-il des données manquantes dans la Data Frame obtenue ?"
   ]
  },
  {
   "cell_type": "code",
   "execution_count": 118,
   "id": "fad93fd0",
   "metadata": {},
   "outputs": [
    {
     "data": {
      "text/plain": [
       "np.True_"
      ]
     },
     "execution_count": 118,
     "metadata": {},
     "output_type": "execute_result"
    }
   ],
   "source": [
    "total_df.isna().any().any()"
   ]
  },
  {
   "cell_type": "markdown",
   "id": "1e0e8a12",
   "metadata": {},
   "source": [
    "f. Y a-t-il des *outliers* dans chaque colonne ?  Même s'il y en a, ne pas les supprimer."
   ]
  },
  {
   "cell_type": "code",
   "execution_count": 119,
   "id": "f5ba452b",
   "metadata": {},
   "outputs": [
    {
     "data": {
      "text/plain": [
       "Patient\n",
       "AFFX-BioB-5_at     True\n",
       "AFFX-BioB-M_at     True\n",
       "AFFX-BioB-3_at     True\n",
       "AFFX-BioC-5_at    False\n",
       "AFFX-BioC-3_at     True\n",
       "                  ...  \n",
       "X83863_at          True\n",
       "Z17240_at          True\n",
       "L49218_f_at        True\n",
       "M71243_f_at        True\n",
       "Z78285_f_at        True\n",
       "Length: 7129, dtype: bool"
      ]
     },
     "execution_count": 119,
     "metadata": {},
     "output_type": "execute_result"
    }
   ],
   "source": [
    "# Utilisation de l'IQR pour savoir si il y a des outliers :\n",
    "columns = total_df.iloc[:, :-1]\n",
    "\n",
    "Q1 = columns.quantile(0.25)\n",
    "Q3 = columns.quantile(0.75)\n",
    "IQR = Q3 - Q1\n",
    "\n",
    "outliers = (columns < (Q1 - 1.5 * IQR)) | (columns > (Q3 + 1.5 * IQR))\n",
    "\n",
    "# Affiche toutes les colonnes contenant des outliers\n",
    "outliers.any()"
   ]
  },
  {
   "cell_type": "markdown",
   "id": "2f226369",
   "metadata": {},
   "source": [
    "g. Veuillez donner un résumé pour chaque colonne numérique (le _5-number-summary_) en utilisant la méthode _describe()_.  Utiliser l'affichage par défaut qui affiche un petit nombre de colonnes."
   ]
  },
  {
   "cell_type": "code",
   "execution_count": 120,
   "id": "9c91e81d",
   "metadata": {},
   "outputs": [
    {
     "data": {
      "text/html": [
       "<div>\n",
       "<style scoped>\n",
       "    .dataframe tbody tr th:only-of-type {\n",
       "        vertical-align: middle;\n",
       "    }\n",
       "\n",
       "    .dataframe tbody tr th {\n",
       "        vertical-align: top;\n",
       "    }\n",
       "\n",
       "    .dataframe thead th {\n",
       "        text-align: right;\n",
       "    }\n",
       "</style>\n",
       "<table border=\"1\" class=\"dataframe\">\n",
       "  <thead>\n",
       "    <tr style=\"text-align: right;\">\n",
       "      <th>Patient</th>\n",
       "      <th>AFFX-BioB-5_at</th>\n",
       "      <th>AFFX-BioB-M_at</th>\n",
       "      <th>AFFX-BioB-3_at</th>\n",
       "      <th>AFFX-BioC-5_at</th>\n",
       "      <th>AFFX-BioC-3_at</th>\n",
       "      <th>AFFX-BioDn-5_at</th>\n",
       "      <th>AFFX-BioDn-3_at</th>\n",
       "      <th>AFFX-CreX-5_at</th>\n",
       "      <th>AFFX-CreX-3_at</th>\n",
       "      <th>AFFX-BioB-5_st</th>\n",
       "      <th>...</th>\n",
       "      <th>U48730_at</th>\n",
       "      <th>U58516_at</th>\n",
       "      <th>U73738_at</th>\n",
       "      <th>X06956_at</th>\n",
       "      <th>X16699_at</th>\n",
       "      <th>X83863_at</th>\n",
       "      <th>Z17240_at</th>\n",
       "      <th>L49218_f_at</th>\n",
       "      <th>M71243_f_at</th>\n",
       "      <th>Z78285_f_at</th>\n",
       "    </tr>\n",
       "  </thead>\n",
       "  <tbody>\n",
       "    <tr>\n",
       "      <th>count</th>\n",
       "      <td>72.000000</td>\n",
       "      <td>72.000000</td>\n",
       "      <td>72.000000</td>\n",
       "      <td>72.000000</td>\n",
       "      <td>72.000000</td>\n",
       "      <td>72.000000</td>\n",
       "      <td>72.000000</td>\n",
       "      <td>72.000000</td>\n",
       "      <td>72.000000</td>\n",
       "      <td>72.000000</td>\n",
       "      <td>...</td>\n",
       "      <td>72.000000</td>\n",
       "      <td>72.00000</td>\n",
       "      <td>72.000000</td>\n",
       "      <td>72.000000</td>\n",
       "      <td>72.000000</td>\n",
       "      <td>72.000000</td>\n",
       "      <td>72.000000</td>\n",
       "      <td>72.000000</td>\n",
       "      <td>72.000000</td>\n",
       "      <td>72.000000</td>\n",
       "    </tr>\n",
       "    <tr>\n",
       "      <th>mean</th>\n",
       "      <td>-114.583333</td>\n",
       "      <td>-160.125000</td>\n",
       "      <td>-8.069444</td>\n",
       "      <td>189.347222</td>\n",
       "      <td>-253.305556</td>\n",
       "      <td>-396.125000</td>\n",
       "      <td>-64.777778</td>\n",
       "      <td>-190.694444</td>\n",
       "      <td>80.083333</td>\n",
       "      <td>98.194444</td>\n",
       "      <td>...</td>\n",
       "      <td>175.347222</td>\n",
       "      <td>668.37500</td>\n",
       "      <td>-11.750000</td>\n",
       "      <td>381.805556</td>\n",
       "      <td>-33.666667</td>\n",
       "      <td>780.555556</td>\n",
       "      <td>303.944444</td>\n",
       "      <td>9.569444</td>\n",
       "      <td>433.486111</td>\n",
       "      <td>-30.569444</td>\n",
       "    </tr>\n",
       "    <tr>\n",
       "      <th>std</th>\n",
       "      <td>97.738333</td>\n",
       "      <td>96.136631</td>\n",
       "      <td>122.697995</td>\n",
       "      <td>111.884014</td>\n",
       "      <td>122.183611</td>\n",
       "      <td>150.291354</td>\n",
       "      <td>284.700199</td>\n",
       "      <td>99.886645</td>\n",
       "      <td>89.409447</td>\n",
       "      <td>227.277868</td>\n",
       "      <td>...</td>\n",
       "      <td>94.134031</td>\n",
       "      <td>305.72336</td>\n",
       "      <td>87.403347</td>\n",
       "      <td>378.516029</td>\n",
       "      <td>52.052249</td>\n",
       "      <td>451.249904</td>\n",
       "      <td>206.500137</td>\n",
       "      <td>44.874732</td>\n",
       "      <td>623.918444</td>\n",
       "      <td>40.192434</td>\n",
       "    </tr>\n",
       "    <tr>\n",
       "      <th>min</th>\n",
       "      <td>-476.000000</td>\n",
       "      <td>-531.000000</td>\n",
       "      <td>-410.000000</td>\n",
       "      <td>-36.000000</td>\n",
       "      <td>-541.000000</td>\n",
       "      <td>-810.000000</td>\n",
       "      <td>-1038.000000</td>\n",
       "      <td>-463.000000</td>\n",
       "      <td>-148.000000</td>\n",
       "      <td>-468.000000</td>\n",
       "      <td>...</td>\n",
       "      <td>-58.000000</td>\n",
       "      <td>91.00000</td>\n",
       "      <td>-295.000000</td>\n",
       "      <td>-24.000000</td>\n",
       "      <td>-220.000000</td>\n",
       "      <td>67.000000</td>\n",
       "      <td>-42.000000</td>\n",
       "      <td>-207.000000</td>\n",
       "      <td>-68.000000</td>\n",
       "      <td>-190.000000</td>\n",
       "    </tr>\n",
       "    <tr>\n",
       "      <th>25%</th>\n",
       "      <td>-148.000000</td>\n",
       "      <td>-213.500000</td>\n",
       "      <td>-77.250000</td>\n",
       "      <td>99.500000</td>\n",
       "      <td>-344.250000</td>\n",
       "      <td>-501.250000</td>\n",
       "      <td>-221.250000</td>\n",
       "      <td>-237.750000</td>\n",
       "      <td>6.000000</td>\n",
       "      <td>-58.500000</td>\n",
       "      <td>...</td>\n",
       "      <td>112.000000</td>\n",
       "      <td>462.50000</td>\n",
       "      <td>-53.500000</td>\n",
       "      <td>200.000000</td>\n",
       "      <td>-63.000000</td>\n",
       "      <td>519.000000</td>\n",
       "      <td>173.750000</td>\n",
       "      <td>-8.000000</td>\n",
       "      <td>123.500000</td>\n",
       "      <td>-54.750000</td>\n",
       "    </tr>\n",
       "    <tr>\n",
       "      <th>50%</th>\n",
       "      <td>-100.500000</td>\n",
       "      <td>-144.000000</td>\n",
       "      <td>-14.000000</td>\n",
       "      <td>179.000000</td>\n",
       "      <td>-227.500000</td>\n",
       "      <td>-394.000000</td>\n",
       "      <td>-57.500000</td>\n",
       "      <td>-175.000000</td>\n",
       "      <td>77.500000</td>\n",
       "      <td>98.500000</td>\n",
       "      <td>...</td>\n",
       "      <td>173.000000</td>\n",
       "      <td>632.50000</td>\n",
       "      <td>3.000000</td>\n",
       "      <td>286.000000</td>\n",
       "      <td>-24.500000</td>\n",
       "      <td>701.500000</td>\n",
       "      <td>295.000000</td>\n",
       "      <td>9.500000</td>\n",
       "      <td>218.000000</td>\n",
       "      <td>-28.500000</td>\n",
       "    </tr>\n",
       "    <tr>\n",
       "      <th>75%</th>\n",
       "      <td>-57.500000</td>\n",
       "      <td>-96.750000</td>\n",
       "      <td>49.000000</td>\n",
       "      <td>277.750000</td>\n",
       "      <td>-173.500000</td>\n",
       "      <td>-281.750000</td>\n",
       "      <td>87.250000</td>\n",
       "      <td>-121.250000</td>\n",
       "      <td>140.250000</td>\n",
       "      <td>213.500000</td>\n",
       "      <td>...</td>\n",
       "      <td>225.000000</td>\n",
       "      <td>823.00000</td>\n",
       "      <td>45.250000</td>\n",
       "      <td>456.750000</td>\n",
       "      <td>2.500000</td>\n",
       "      <td>1016.000000</td>\n",
       "      <td>386.500000</td>\n",
       "      <td>29.500000</td>\n",
       "      <td>373.000000</td>\n",
       "      <td>-3.750000</td>\n",
       "    </tr>\n",
       "    <tr>\n",
       "      <th>max</th>\n",
       "      <td>86.000000</td>\n",
       "      <td>-13.000000</td>\n",
       "      <td>312.000000</td>\n",
       "      <td>431.000000</td>\n",
       "      <td>114.000000</td>\n",
       "      <td>-122.000000</td>\n",
       "      <td>709.000000</td>\n",
       "      <td>-11.000000</td>\n",
       "      <td>283.000000</td>\n",
       "      <td>878.000000</td>\n",
       "      <td>...</td>\n",
       "      <td>413.000000</td>\n",
       "      <td>1653.00000</td>\n",
       "      <td>218.000000</td>\n",
       "      <td>2527.000000</td>\n",
       "      <td>52.000000</td>\n",
       "      <td>2315.000000</td>\n",
       "      <td>1109.000000</td>\n",
       "      <td>115.000000</td>\n",
       "      <td>3193.000000</td>\n",
       "      <td>78.000000</td>\n",
       "    </tr>\n",
       "  </tbody>\n",
       "</table>\n",
       "<p>8 rows × 7129 columns</p>\n",
       "</div>"
      ],
      "text/plain": [
       "Patient  AFFX-BioB-5_at  AFFX-BioB-M_at  AFFX-BioB-3_at  AFFX-BioC-5_at  \\\n",
       "count         72.000000       72.000000       72.000000       72.000000   \n",
       "mean        -114.583333     -160.125000       -8.069444      189.347222   \n",
       "std           97.738333       96.136631      122.697995      111.884014   \n",
       "min         -476.000000     -531.000000     -410.000000      -36.000000   \n",
       "25%         -148.000000     -213.500000      -77.250000       99.500000   \n",
       "50%         -100.500000     -144.000000      -14.000000      179.000000   \n",
       "75%          -57.500000      -96.750000       49.000000      277.750000   \n",
       "max           86.000000      -13.000000      312.000000      431.000000   \n",
       "\n",
       "Patient  AFFX-BioC-3_at  AFFX-BioDn-5_at  AFFX-BioDn-3_at  AFFX-CreX-5_at  \\\n",
       "count         72.000000        72.000000        72.000000       72.000000   \n",
       "mean        -253.305556      -396.125000       -64.777778     -190.694444   \n",
       "std          122.183611       150.291354       284.700199       99.886645   \n",
       "min         -541.000000      -810.000000     -1038.000000     -463.000000   \n",
       "25%         -344.250000      -501.250000      -221.250000     -237.750000   \n",
       "50%         -227.500000      -394.000000       -57.500000     -175.000000   \n",
       "75%         -173.500000      -281.750000        87.250000     -121.250000   \n",
       "max          114.000000      -122.000000       709.000000      -11.000000   \n",
       "\n",
       "Patient  AFFX-CreX-3_at  AFFX-BioB-5_st  ...   U48730_at   U58516_at  \\\n",
       "count         72.000000       72.000000  ...   72.000000    72.00000   \n",
       "mean          80.083333       98.194444  ...  175.347222   668.37500   \n",
       "std           89.409447      227.277868  ...   94.134031   305.72336   \n",
       "min         -148.000000     -468.000000  ...  -58.000000    91.00000   \n",
       "25%            6.000000      -58.500000  ...  112.000000   462.50000   \n",
       "50%           77.500000       98.500000  ...  173.000000   632.50000   \n",
       "75%          140.250000      213.500000  ...  225.000000   823.00000   \n",
       "max          283.000000      878.000000  ...  413.000000  1653.00000   \n",
       "\n",
       "Patient   U73738_at    X06956_at   X16699_at    X83863_at    Z17240_at  \\\n",
       "count     72.000000    72.000000   72.000000    72.000000    72.000000   \n",
       "mean     -11.750000   381.805556  -33.666667   780.555556   303.944444   \n",
       "std       87.403347   378.516029   52.052249   451.249904   206.500137   \n",
       "min     -295.000000   -24.000000 -220.000000    67.000000   -42.000000   \n",
       "25%      -53.500000   200.000000  -63.000000   519.000000   173.750000   \n",
       "50%        3.000000   286.000000  -24.500000   701.500000   295.000000   \n",
       "75%       45.250000   456.750000    2.500000  1016.000000   386.500000   \n",
       "max      218.000000  2527.000000   52.000000  2315.000000  1109.000000   \n",
       "\n",
       "Patient  L49218_f_at  M71243_f_at  Z78285_f_at  \n",
       "count      72.000000    72.000000    72.000000  \n",
       "mean        9.569444   433.486111   -30.569444  \n",
       "std        44.874732   623.918444    40.192434  \n",
       "min      -207.000000   -68.000000  -190.000000  \n",
       "25%        -8.000000   123.500000   -54.750000  \n",
       "50%         9.500000   218.000000   -28.500000  \n",
       "75%        29.500000   373.000000    -3.750000  \n",
       "max       115.000000  3193.000000    78.000000  \n",
       "\n",
       "[8 rows x 7129 columns]"
      ]
     },
     "execution_count": 120,
     "metadata": {},
     "output_type": "execute_result"
    }
   ],
   "source": [
    "total_df.describe()"
   ]
  },
  {
   "cell_type": "markdown",
   "id": "633ac85e",
   "metadata": {},
   "source": [
    "h. Combien de fois apparaît chaque classe de référence, ALL et AML ?"
   ]
  },
  {
   "cell_type": "code",
   "execution_count": 121,
   "id": "b17c18b1",
   "metadata": {},
   "outputs": [
    {
     "data": {
      "text/plain": [
       "type\n",
       "ALL    46\n",
       "AML    25\n",
       "Name: count, dtype: int64"
      ]
     },
     "execution_count": 121,
     "metadata": {},
     "output_type": "execute_result"
    }
   ],
   "source": [
    "total_df[\"type\"].value_counts()"
   ]
  },
  {
   "cell_type": "markdown",
   "id": "88ec02bb",
   "metadata": {},
   "source": [
    "i. Appliquez la PCA sur des données normalisées (sans la colonne `type`), en **deux** dimensions (sans normaliser le résultat). **Vous travaillerez sur ces données tout au long du labo.**"
   ]
  },
  {
   "cell_type": "code",
   "execution_count": 122,
   "id": "68703432",
   "metadata": {},
   "outputs": [
    {
     "name": "stdout",
     "output_type": "stream",
     "text": [
      "         PC1        PC2    Y\n",
      "0  27.105206   6.448465  ALL\n",
      "1   3.507419  15.845796  ALL\n",
      "2  60.006380  10.392293  ALL\n",
      "3  20.640386  -2.623376  ALL\n",
      "4 -21.012018  41.794166  ALL\n"
     ]
    }
   ],
   "source": [
    "from sklearn.preprocessing import StandardScaler\n",
    "from sklearn.decomposition import PCA\n",
    "\n",
    "# Veuillez nommer X_pca le résultat de la PCA sur les colonnes de données.\n",
    "# Veuillez nommer Y la colonne indiquant le type correct de chaque patient.\n",
    "\n",
    "data = total_df.drop(columns=['type'])\n",
    "\n",
    "# normalisation\n",
    "scaler = StandardScaler()\n",
    "data_normalized = scaler.fit_transform(data)\n",
    "\n",
    "pca = PCA(n_components=2)\n",
    "data_pca = pca.fit_transform(data_normalized)\n",
    "\n",
    "X_pca = pd.DataFrame(data_pca, columns=['PC1', 'PC2'])\n",
    "X_pca[\"Y\"] = patients[\"cancer\"]\n",
    "\n",
    "print(X_pca.head())\n"
   ]
  },
  {
   "cell_type": "markdown",
   "id": "b51ff3a8",
   "metadata": {},
   "source": [
    "k. À ce stade, après la PCA, les points vous semblent-ils présenter un groupement visible ?"
   ]
  },
  {
   "cell_type": "code",
   "execution_count": 123,
   "id": "9242aca2",
   "metadata": {},
   "outputs": [
    {
     "data": {
      "image/png": "[encoded data removed]",
      "text/plain": [
       "<Figure size 800x600 with 1 Axes>"
      ]
     },
     "metadata": {},
     "output_type": "display_data"
    }
   ],
   "source": [
    "# Variables\n",
    "x_col = 'PC1'  # Nom de la première colonne d'entiers\n",
    "y_col = 'PC2'  # Nom de la deuxième colonne d'entiers\n",
    "response = 'Y'  # Nom de la colonne variable de réponse\n",
    "\n",
    "# Création du scatter plot\n",
    "plt.figure(figsize=(8, 6))\n",
    "\n",
    "X_pca_aml = X_pca[X_pca[\"Y\"] == \"AML\"]\n",
    "X_pca_all = X_pca[X_pca[\"Y\"] == \"ALL\"]\n",
    "\n",
    "scatter = plt.scatter(X_pca_aml[x_col], X_pca_aml[y_col], marker=\"o\", c=\"black\", alpha=0.7)\n",
    "scatter = plt.scatter(X_pca_all[x_col], X_pca_all[y_col], marker=\"^\", c=\"black\", alpha=0.7)\n",
    "\n",
    "# Ajouter des labels aux axes\n",
    "plt.xlabel(x_col)\n",
    "plt.ylabel(y_col)\n",
    "\n",
    "# Afficher le graphique\n",
    "plt.show()\n"
   ]
  },
  {
   "cell_type": "markdown",
   "id": "5b355abe",
   "metadata": {},
   "source": [
    "*Résultats :*\n",
    "\n",
    "En conclusion, on peut voir que la PCA n'est pas très concluante et on ne voit pas vraiment de clusters."
   ]
  },
  {
   "cell_type": "markdown",
   "id": "1dcda422",
   "metadata": {},
   "source": [
    "## 2. Groupement avec _k_-moyennes\n",
    "\n",
    "Dans cette section, on vous demande de grouper les patients en utilisant la méthode des _k_-moyennes (avec initialisation _kmeans++_) et de trouver la valeur optimale du nombre de groupes entre 2 et 12, en utilisant l'indice de Davies-Bouldin et le score Silhouette.  Vous *ne* devez *pas* utiliser l'information du type de maladie.\n",
    "\n",
    "Vu le nombre élevé d'attributs, vous réutiliserez les résultat de l'ACP faite ci-dessus, sans normalisation après l'ACP.\n",
    "\n",
    "a. Pour les trois scores suivants, veuillez rappeler (en utilisant la documentation de sklearn) quel est leur intervalle de valeurs et quelles valeurs indiquent un meilleur groupement :\n",
    "* l'indice de Davies-Bouldin\n",
    "* le coefficient de Silhouette\n",
    "* l'inertie."
   ]
  },
  {
   "cell_type": "markdown",
   "id": "8769a33c",
   "metadata": {},
   "source": [
    "*Réponse :*\n",
    "- Daviez-Bouldin : Plus l'indice est proche de 0, plus les clusters sont similaires.\n",
    "- Silhouette : Score allant de -1 à 1. Plus le score est proche de 1, plus les clusters sont denses et bien séparés.\n",
    "- Inertie : Plus l'inertie est faible, plus les clusters sont denses."
   ]
  },
  {
   "cell_type": "markdown",
   "id": "804ea67f",
   "metadata": {},
   "source": [
    "b. Pour un nombre de groupes _k_ allant de 2 à 12 compris, veuillez effectuer le groupement avec _k_-moyennes, puis représenter sur trois graphiques la variation des trois scores intrinsèques en fonction de _k_.  Utiliser `n_init=10`."
   ]
  },
  {
   "cell_type": "code",
   "execution_count": 124,
   "id": "baf2cc17",
   "metadata": {},
   "outputs": [],
   "source": [
    "from sklearn.cluster import KMeans\n",
    "from sklearn.metrics import davies_bouldin_score\n",
    "from sklearn.metrics import silhouette_score\n",
    "\n",
    "X = X_pca.iloc[:, :-1]\n",
    "\n",
    "wss = []\n",
    "davies_bouldin_scores = []\n",
    "silouhette_scores = []\n",
    "\n",
    "for i in range(2, 13):\n",
    "    client_kmeans = KMeans(n_clusters=i, init='k-means++', n_init=10)\n",
    "    client_kmeans.fit(X)\n",
    "    wss.append(client_kmeans.inertia_)\n",
    "    davies_bouldin_scores.append(davies_bouldin_score(X, client_kmeans.labels_))\n",
    "    silouhette_scores.append(silhouette_score(X, client_kmeans.labels_))\n"
   ]
  },
  {
   "cell_type": "code",
   "execution_count": 125,
   "id": "0efcb029",
   "metadata": {},
   "outputs": [
    {
     "data": {
      "image/png": "[encoded data removed]",
      "text/plain": [
       "<Figure size 1500x500 with 3 Axes>"
      ]
     },
     "metadata": {},
     "output_type": "display_data"
    }
   ],
   "source": [
    "#Subplots\n",
    "fig, ax = plt.subplots(1, 3, figsize=(15, 5))\n",
    "\n",
    "# WSS\n",
    "ax[0].plot(range(2, 13), wss, marker='o')\n",
    "ax[0].set_title('Elbow Method')\n",
    "ax[0].set_xlabel('Number of clusters')\n",
    "ax[0].set_ylabel('WSS')\n",
    "\n",
    "# Davies Bouldin\n",
    "ax[1].plot(range(2, 13), davies_bouldin_scores, marker='o')\n",
    "ax[1].set_title('Davies Bouldin')\n",
    "ax[1].set_xlabel('Number of clusters')\n",
    "ax[1].set_ylabel('Davies Bouldin Score')\n",
    "\n",
    "# Silhouette\n",
    "ax[2].plot(range(2, 13), silouhette_scores, marker='o')\n",
    "ax[2].set_title('Silhouette Score')\n",
    "ax[2].set_xlabel('Number of clusters')\n",
    "ax[2].set_ylabel('Silhouette Score')\n",
    "\n",
    "plt.show()"
   ]
  },
  {
   "cell_type": "markdown",
   "id": "c07db9f4",
   "metadata": {},
   "source": [
    "c. Selon les courbes affichées, quelle valeur de _k_ proposez-vous de retenir ?  Veuillez donner une raison.\n",
    "\n",
    "Si vous exécutez plusieurs fois l'affichage des courbes, la valeur optimale de _k_ reste-t-elle la même ?  Que pouvez-vous en conclure ?\n",
    "\n",
    "Note : si vous fixez l'attribut `random_seed` de KMeans, alors les courbes ne varient pas au fil des exécutions, sauf si vous changez `n_init`."
   ]
  },
  {
   "cell_type": "markdown",
   "id": "5afcd95e",
   "metadata": {},
   "source": [
    "*Résultats :*\n",
    "La valeur optimale de k serait 8 car elle optient des très bons score pour les trois indices et est très stable si on change le random_seed."
   ]
  },
  {
   "cell_type": "markdown",
   "id": "ab59eac8",
   "metadata": {},
   "source": [
    "d. Avec la valeur de _k_ choisie au (c), veuillez calculer deux scores extrinsèques : l'indice de Rand ajusté et le score F1.  Veuillez commenter brièvement ces scores.\n",
    "\n",
    "_Indication pour calculer le F1-score, qui n'est pas implémenté dans sklearn pour le groupement._  Pour chaque patient, assignez-lui le type qui est majoritaire dans son groupe (ALL ou AML) en utilisant les bonnes réponses.  Puis comparez les types ainsi assignés avec les types corrects en utilisant directement le score F1 de sklearn.  Notez que pour simplifier, cette méthode est un peu différente de celle du cours."
   ]
  },
  {
   "cell_type": "code",
   "execution_count": 126,
   "id": "de1f45c4",
   "metadata": {},
   "outputs": [],
   "source": [
    "from sklearn.metrics import adjusted_rand_score\n",
    "from collections import Counter\n",
    "\n",
    "# Effectuer le groupement k-moyennes avec la meilleure valeur de k retenue au (b).\n",
    "k = 8\n",
    "optimal_kmeans = KMeans(n_clusters=k, init='k-means++', n_init=10)\n",
    "optimal_kmeans.fit(X)\n",
    "\n",
    "# prediction\n",
    "pred = optimal_kmeans.predict(X)"
   ]
  },
  {
   "cell_type": "code",
   "execution_count": 127,
   "id": "5ca204d2",
   "metadata": {},
   "outputs": [
    {
     "name": "stdout",
     "output_type": "stream",
     "text": [
      "Rand score :  0.03389274204154887\n",
      "F1-score : 0.7361111111111112\n"
     ]
    }
   ],
   "source": [
    "# Indice de Rand\n",
    "print(\"Rand score : \", adjusted_rand_score(X_pca['Y'], pred))\n",
    "\n",
    "# F1-score\n",
    "df = pd.DataFrame({'Cluster': optimal_kmeans.labels_, 'Classe': X_pca['Y']})\n",
    "\n",
    "class_by_cluster = df.groupby('Cluster')['Classe'].agg(lambda x: Counter(x).most_common(1)[0][0])\n",
    "\n",
    "new_preds = np.full(len(pred), \"N/A\", dtype='<U10')\n",
    "for cluster in class_by_cluster.index:\n",
    "    new_preds[optimal_kmeans.labels_ == cluster] = class_by_cluster[cluster]\n",
    "\n",
    "print(\"F1-score :\", f1_score(X_pca['Y'].values, new_preds, average='micro'))"
   ]
  },
  {
   "cell_type": "code",
   "execution_count": 128,
   "id": "d0158931",
   "metadata": {},
   "outputs": [],
   "source": [
    "# Le rand score n'est pas très satisfaisant, il devrait être proche de 1.\n",
    "# Le F1-score n'est pas si mal, la technique utilisé pour la prédiction semble prometteuse (prédire la classe majoritaire du cluster)"
   ]
  },
  {
   "cell_type": "markdown",
   "id": "09253aa7",
   "metadata": {},
   "source": [
    "e. Veuillez représenter les points avec PCA en 2D, en gardant les marqueurs précédents pour les deux types (cercle et triangle), et en utilisant des couleurs pour coder les groupes trouvés. Suggestion : réutiliser le code du Labo 1.  Veuillez commenter le résultat."
   ]
  },
  {
   "cell_type": "code",
   "execution_count": 129,
   "id": "708d0bbb",
   "metadata": {},
   "outputs": [
    {
     "data": {
      "image/png": "[encoded data removed]",
      "text/plain": [
       "<Figure size 800x600 with 1 Axes>"
      ]
     },
     "metadata": {},
     "output_type": "display_data"
    }
   ],
   "source": [
    "# Création du scatter plot\n",
    "plt.figure(figsize=(8, 6))\n",
    "\n",
    "X_pca_aml = X_pca[X_pca[\"Y\"] == \"AML\"]\n",
    "X_pca_all = X_pca[X_pca[\"Y\"] == \"ALL\"]\n",
    "\n",
    "scatter = plt.scatter(X_pca_aml[x_col], X_pca_aml[y_col], marker=\"o\", c=optimal_kmeans.labels_[X_pca_aml.index], cmap='Set1', alpha=0.7)\n",
    "scatter = plt.scatter(X_pca_all[x_col], X_pca_all[y_col], marker=\"^\", c=optimal_kmeans.labels_[X_pca_all.index], cmap='Set1', alpha=0.7)\n",
    "\n",
    "# Ajouter des labels aux axes\n",
    "plt.xlabel(x_col)\n",
    "plt.ylabel(y_col)\n",
    "\n",
    "# Afficher le graphique\n",
    "plt.show()\n"
   ]
  },
  {
   "cell_type": "code",
   "execution_count": 130,
   "id": "2263bfed",
   "metadata": {},
   "outputs": [],
   "source": [
    "# On peut voir que, même si ce n'était pas visible au début de ce TP, le groupement en cluster fait sens quand on applique la prédiction avec la classe majoritaire du cluster."
   ]
  },
  {
   "cell_type": "markdown",
   "id": "e24d4d81",
   "metadata": {},
   "source": [
    "## 3. Groupement avec DBSCAN\n",
    "\n",
    "Dans cette section, vous répondrez aux mêmes questions que dans la section précédente, mais pour la méthode DBSCAN, en utilisant les mêmes mesures intrinsèques que ci-dessus (sauf l'inertie).\n",
    "\n",
    "a. Veuillez représenter sur des _heatmaps_ la variation des deux scores intrinsèques et le nombre de groupes en fonction des paramètres _eps_ et _min_samples_ :\n",
    "* chercher _eps_ entre 0.5 et 14 par sauts de 0.5\n",
    "* chercher _min_samples_ entre 1 et 12"
   ]
  },
  {
   "cell_type": "code",
   "execution_count": 143,
   "id": "3f97d66b",
   "metadata": {},
   "outputs": [
    {
     "name": "stdout",
     "output_type": "stream",
     "text": [
      "[-1 -1 -1 -1 -1 -1 -1 -1 -1 -1 -1 -1 -1 -1 -1 -1 -1 -1 -1 -1 -1 -1 -1 -1\n",
      " -1  2 -1 -1  0 -1  1 -1 -1 -1 -1 -1 -1 -1  1  1 -1  2 -1  0  0  0 -1 -1\n",
      " -1 -1 -1 -1 -1  2 -1 -1 -1 -1 -1 -1 -1 -1 -1 -1 -1 -1 -1 -1 -1 -1 -1 -1]\n"
     ]
    }
   ],
   "source": [
    "# Obtenir les deux scores et le nombre de groupes en variant les deux paramètres, les mettre dans des tableaux 2D\n",
    "\n",
    "eps_values = np.arange(0.5, 14.5, 0.5)\n",
    "min_samples_values = range(1, 13)\n",
    "\n",
    "dbs_scores = np.zeros((len(eps_values), len(min_samples_values)))\n",
    "sis_scores = np.zeros((len(eps_values), len(min_samples_values)))\n",
    "n_groups = np.zeros((len(eps_values), len(min_samples_values)))\n",
    "\n",
    "for i, eps in enumerate(eps_values):\n",
    "    for j, min_samples in enumerate(min_samples_values):\n",
    "        dbscan = DBSCAN(eps=eps, min_samples=min_samples)\n",
    "        dbscan.fit(X)\n",
    "        n_groups[i, j] = len(set(dbscan.labels_))\n",
    "        if len(set(dbscan.labels_)) > 1 and len(set(dbscan.labels_)) < len(X):\n",
    "            dbs_scores[i, j] = davies_bouldin_score(X, dbscan.labels_)\n",
    "            sis_scores[i, j] = silhouette_score(X, dbscan.labels_)\n",
    "        else:\n",
    "            dbs_scores[i, j] = np.nan\n",
    "            sis_scores[i, j] = np.nan\n",
    "            \n"
   ]
  },
  {
   "cell_type": "code",
   "execution_count": 132,
   "id": "b242ecf9",
   "metadata": {},
   "outputs": [
    {
     "data": {
      "image/png": "[encoded data removed]",
      "text/plain": [
       "<Figure size 1500x500 with 6 Axes>"
      ]
     },
     "metadata": {},
     "output_type": "display_data"
    }
   ],
   "source": [
    "# Afficher les trois heatmaps : Davies_Bouldin, Silhouette, et Nombre_de_groupes\n",
    "fig, ax = plt.subplots(1, 3, figsize=(15, 5))\n",
    "\n",
    "# Davies Bouldin\n",
    "im = ax[0].imshow(dbs_scores, cmap='hot', extent=[min_samples_values[0], min_samples_values[-1], eps_values[-1], eps_values[0]])\n",
    "ax[0].set_title('Davies Bouldin')\n",
    "ax[0].set_xlabel('min_samples')\n",
    "ax[0].set_ylabel('eps')\n",
    "fig.colorbar(im, ax=ax[0])\n",
    "\n",
    "# Silhouette\n",
    "im = ax[1].imshow(sis_scores, cmap='hot', extent=[min_samples_values[0], min_samples_values[-1], eps_values[-1], eps_values[0]])\n",
    "ax[1].set_title('Silhouette Score')\n",
    "ax[1].set_xlabel('min_samples')\n",
    "ax[1].set_ylabel('eps')\n",
    "fig.colorbar(im, ax=ax[1])\n",
    "\n",
    "# Nombre de groupes\n",
    "im = ax[2].imshow(n_groups, cmap='hot', extent=[min_samples_values[0], min_samples_values[-1], eps_values[-1], eps_values[0]])\n",
    "ax[2].set_title('Number of groups')\n",
    "ax[2].set_xlabel('min_samples')\n",
    "ax[2].set_ylabel('eps')\n",
    "fig.colorbar(im, ax=ax[2])\n",
    "\n",
    "plt.show()\n"
   ]
  },
  {
   "cell_type": "code",
   "execution_count": 58,
   "id": "7d8c255a",
   "metadata": {},
   "outputs": [
    {
     "name": "stdout",
     "output_type": "stream",
     "text": [
      "Optimal value = eps: 11 , min_samples: 3\n",
      "Optimal Davies Bouldin: 1.2234942142270646\n",
      "Optimal Silhouette: 0.33084426397062805\n",
      "Optimal Number of groups: 5\n"
     ]
    }
   ],
   "source": [
    "# Valeur \"optimal\" de eps et min_samples observée sur les graphiques\n",
    "eps = 11\n",
    "min_samples = 3\n",
    "\n",
    "optimal_dbscan = DBSCAN(eps=eps, min_samples=min_samples)\n",
    "optimal_dbscan.fit(X)\n",
    "\n",
    "optimal_davies_bouldin = davies_bouldin_score(X, optimal_dbscan.labels_)\n",
    "optimal_silhouette = silhouette_score(X, optimal_dbscan.labels_)\n",
    "optimal_n_groups = len(set(optimal_dbscan.labels_))\n",
    "\n",
    "print(f\"Optimal value = eps: {eps}\", f\", min_samples: {min_samples}\")\n",
    "print(f\"Optimal Davies Bouldin: {optimal_davies_bouldin}\")\n",
    "print(f\"Optimal Silhouette: {optimal_silhouette}\")\n",
    "print(f\"Optimal Number of groups: {optimal_n_groups}\")"
   ]
  },
  {
   "cell_type": "markdown",
   "id": "aba082d2",
   "metadata": {},
   "source": [
    "b. Selon les scores trouvés, quelles valeurs de _eps_ et _min_samples_ proposez-vous de retenir ?  Pourquoi ?\n",
    "\n",
    "Attention : les trois heatmaps ne sont pas toujours en accord, donc vous avez une certaine liberté pour choisir les deux paramètres (il n'y a pas d'optimum évident)."
   ]
  },
  {
   "cell_type": "code",
   "execution_count": 133,
   "id": "8f06a273",
   "metadata": {},
   "outputs": [],
   "source": [
    "# Nous avons choisi les valeurs de eps et min_samples qui maximisent le score de silhouette et minimisent le score de Davies Bouldin.\n",
    "# Ici cela nous fait les valeur eps = 11 et min_samples = 3."
   ]
  },
  {
   "cell_type": "markdown",
   "id": "56def74e",
   "metadata": {},
   "source": [
    "c. Avec les valeurs choisies au (b), veuillez calculer les deux scores extrinsèques comme dans la partie (2)."
   ]
  },
  {
   "cell_type": "code",
   "execution_count": 134,
   "id": "6f10910d",
   "metadata": {},
   "outputs": [],
   "source": [
    "# Effectuer le groupement DBSCAN avec les meilleurs paramètres,\n",
    "# puis calculer l'indice de Rand ajusté et le score F1.\n",
    "from sklearn.metrics import adjusted_rand_score\n",
    "rand = adjusted_rand_score(X_pca[\"Y\"], optimal_dbscan.labels_)\n",
    "\n",
    "# Calcul du score F1\n",
    "\n"
   ]
  },
  {
   "cell_type": "code",
   "execution_count": 61,
   "id": "3be33296",
   "metadata": {},
   "outputs": [
    {
     "name": "stdout",
     "output_type": "stream",
     "text": [
      "Adjusted Rand Score: 0.09529761622671912\n"
     ]
    }
   ],
   "source": [
    "print(f\"Adjusted Rand Score: {rand}\")"
   ]
  },
  {
   "cell_type": "code",
   "execution_count": 135,
   "id": "77081225",
   "metadata": {},
   "outputs": [],
   "source": [
    "# Votre commentaire sur les scores."
   ]
  },
  {
   "cell_type": "markdown",
   "id": "2f87169e",
   "metadata": {},
   "source": [
    "d. Veuillez représenter les points en 2D avec la même représentation que ci-dessus : utilisez des marques différentes pour les deux types, et des couleurs pour coder les groupes trouvés.  Veuillez commenter le résultat."
   ]
  },
  {
   "cell_type": "code",
   "execution_count": null,
   "id": "2b1f6eb8",
   "metadata": {},
   "outputs": [],
   "source": []
  },
  {
   "cell_type": "code",
   "execution_count": 136,
   "id": "3803566e",
   "metadata": {},
   "outputs": [],
   "source": [
    "# Veuillez commenter le graphique ici.\n"
   ]
  },
  {
   "cell_type": "markdown",
   "id": "527c6de5",
   "metadata": {},
   "source": [
    "## 4. Conclusion\n",
    "\n",
    "Comment se comparent les deux méthodes optimisées, en termes de scores extrinsèques ?  Veuillez discuter les paramètres trouvés et les scores obtenus.  En particulier, y a-t-il des sous-types des leucémies ALL et AML qui sont visibles sur les groupements que vous obtenus ?  Combien pour chacun ?"
   ]
  },
  {
   "cell_type": "code",
   "execution_count": 137,
   "id": "39077d2f",
   "metadata": {},
   "outputs": [],
   "source": [
    "# Votre discussion ici."
   ]
  },
  {
   "cell_type": "markdown",
   "id": "1e19be49",
   "metadata": {},
   "source": [
    "***\n",
    "**Fin du Labo 2.**  Veuillez nettoyer ce notebook en gardant seulement les réponses et résultats désirés, l'enregistrer en remplaçant 'student' par votre nom, et le soumettre sur Cyberlearn."
   ]
  }
 ],
 "metadata": {
  "kernelspec": {
   "display_name": "data-science",
   "language": "python",
   "name": "python3"
  },
  "language_info": {
   "codemirror_mode": {
    "name": "ipython",
    "version": 3
   },
   "file_extension": ".py",
   "mimetype": "text/x-python",
   "name": "python",
   "nbconvert_exporter": "python",
   "pygments_lexer": "ipython3",
   "version": "3.12.7"
  }
 },
 "nbformat": 4,
 "nbformat_minor": 5
}

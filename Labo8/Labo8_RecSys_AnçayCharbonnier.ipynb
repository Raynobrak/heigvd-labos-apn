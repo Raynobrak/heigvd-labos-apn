{
 "cells": [
  {
   "cell_type": "markdown",
   "metadata": {},
   "source": [
    "<img src=\"https://heig-vd.ch/docs/default-source/doc-global-newsletter/2020-slim.svg\" alt=\"Logo HEIG-VD\" style=\"width: 80px;\" align=\"right\"/>\n",
    "\n",
    "# Cours APN - Labo 8 : Recommandation de films par filtrage collaboratif\n",
    "\n",
    "## Résumé\n",
    "\n",
    "Le but de ce laboratoire est d'entraîner et de tester plusieurs méthodes de recommandation par filtrage collaboratif :\n",
    "* plusieurs *baselines* (notes moyennes par utilisateur ou par film)\n",
    "* deux approches *memory-based* (modèle utilisateur-utilisateur ou film-film)\n",
    "* une approche *model-based* (réduction de dimensionnalité)\n",
    "\n",
    "Un jeu de données d'entraînement est fourni, ainsi qu'un jeu de validation, sur lequel vous pourrez tester vos méthodes et choisir les paramètres donnant les meilleurs résultats.\n",
    "\n",
    "**Pour rendre ce travail,** veuillez répondre aux questions en écrivant le code demandé, résumer les tests effectués, et comparer entre eux les scores obtenus.  Veuillez ensuite rendre le notebook sur Cyberlearn.\n",
    "\n",
    "**Pour participer à la compétition**, veuillez rendre séparément sur Cyberlearn un notebook qui permet d'exécuter seulement votre meilleure méthode sur les données de validation (nous les remplacerons par celles de test) ; veuillez rendre également le modèle qui est utilisé par votre notebook."
   ]
  },
  {
   "cell_type": "code",
   "execution_count": 1,
   "metadata": {},
   "outputs": [],
   "source": [
    "import numpy as np\n",
    "import pandas as pd\n",
    "import matplotlib.pyplot as plt\n",
    "from sklearn.metrics import mean_squared_error # fournit aussi la RMSE\n",
    "from tqdm import tqdm # permet d'afficher la progression de l'exécution"
   ]
  },
  {
   "cell_type": "markdown",
   "metadata": {},
   "source": [
    "## 1. Analyse exploratoire des données\n",
    "\n",
    "Le groupe de recherche GroupLens met à disposition le [jeu de données MovieLens](http://files.grouplens.org/datasets/movielens/) contenant 20 millions de *ratings*, c'est-à-dire des notes données à des films par des utilisateurs.  Pour simplifier, deux extraits des données sont fournis dans les fichiers `ratings_train.csv` et `ratings_valid.csv` sur Cyberlearn.  \n",
    "\n",
    "Ces fichiers contiennent les index originaux des utilisateurs et des films, ainsi que des index nouveaux (*new*) qui vont de 1 à `n_users` et de 1 à `n_movies` sans discontinuer. \n",
    "\n",
    "Note : GroupLens fournit aussi d'autres informations, notamment une correspondance entre les index originaux des films et leurs titres.  En revanche, les utilisateurs sont toujours anonymisés et sont désignés par leurs index."
   ]
  },
  {
   "cell_type": "markdown",
   "metadata": {},
   "source": [
    "**1a.** Veuillez charger les deux extraits de données dans deux *dataframes* appelées `train_df` et `valid_df`.\n",
    "* Veuillez afficher les 3 premières lignes de chacune.\n",
    "* Combien de *ratings* contient chacune des *dataframes* ?\n",
    "* Quels sont les valeurs minimale, maximale, et moyenne des *ratings* dans chaque *dataframe* ?"
   ]
  },
  {
   "cell_type": "code",
   "execution_count": 2,
   "metadata": {},
   "outputs": [],
   "source": [
    "train_df = pd.read_csv('data/ratings_train.csv')\n",
    "valid_df = pd.read_csv('data/ratings_valid.csv')"
   ]
  },
  {
   "cell_type": "code",
   "execution_count": 3,
   "metadata": {},
   "outputs": [
    {
     "data": {
      "text/html": [
       "<div>\n",
       "<style scoped>\n",
       "    .dataframe tbody tr th:only-of-type {\n",
       "        vertical-align: middle;\n",
       "    }\n",
       "\n",
       "    .dataframe tbody tr th {\n",
       "        vertical-align: top;\n",
       "    }\n",
       "\n",
       "    .dataframe thead th {\n",
       "        text-align: right;\n",
       "    }\n",
       "</style>\n",
       "<table border=\"1\" class=\"dataframe\">\n",
       "  <thead>\n",
       "    <tr style=\"text-align: right;\">\n",
       "      <th></th>\n",
       "      <th>userId</th>\n",
       "      <th>movieId</th>\n",
       "      <th>rating</th>\n",
       "      <th>newMovieId</th>\n",
       "      <th>newUserId</th>\n",
       "    </tr>\n",
       "  </thead>\n",
       "  <tbody>\n",
       "    <tr>\n",
       "      <th>0</th>\n",
       "      <td>112988</td>\n",
       "      <td>44191</td>\n",
       "      <td>8</td>\n",
       "      <td>797</td>\n",
       "      <td>831</td>\n",
       "    </tr>\n",
       "    <tr>\n",
       "      <th>1</th>\n",
       "      <td>10012</td>\n",
       "      <td>3052</td>\n",
       "      <td>8</td>\n",
       "      <td>707</td>\n",
       "      <td>74</td>\n",
       "    </tr>\n",
       "    <tr>\n",
       "      <th>2</th>\n",
       "      <td>97826</td>\n",
       "      <td>3948</td>\n",
       "      <td>8</td>\n",
       "      <td>562</td>\n",
       "      <td>714</td>\n",
       "    </tr>\n",
       "  </tbody>\n",
       "</table>\n",
       "</div>"
      ],
      "text/plain": [
       "   userId  movieId  rating  newMovieId  newUserId\n",
       "0  112988    44191       8         797        831\n",
       "1   10012     3052       8         707         74\n",
       "2   97826     3948       8         562        714"
      ]
     },
     "execution_count": 3,
     "metadata": {},
     "output_type": "execute_result"
    }
   ],
   "source": [
    "train_df.head(3)"
   ]
  },
  {
   "cell_type": "code",
   "execution_count": 4,
   "metadata": {},
   "outputs": [
    {
     "data": {
      "text/html": [
       "<div>\n",
       "<style scoped>\n",
       "    .dataframe tbody tr th:only-of-type {\n",
       "        vertical-align: middle;\n",
       "    }\n",
       "\n",
       "    .dataframe tbody tr th {\n",
       "        vertical-align: top;\n",
       "    }\n",
       "\n",
       "    .dataframe thead th {\n",
       "        text-align: right;\n",
       "    }\n",
       "</style>\n",
       "<table border=\"1\" class=\"dataframe\">\n",
       "  <thead>\n",
       "    <tr style=\"text-align: right;\">\n",
       "      <th></th>\n",
       "      <th>userId</th>\n",
       "      <th>movieId</th>\n",
       "      <th>rating</th>\n",
       "      <th>newMovieId</th>\n",
       "      <th>newUserId</th>\n",
       "    </tr>\n",
       "  </thead>\n",
       "  <tbody>\n",
       "    <tr>\n",
       "      <th>0</th>\n",
       "      <td>99342</td>\n",
       "      <td>10</td>\n",
       "      <td>6</td>\n",
       "      <td>7</td>\n",
       "      <td>725</td>\n",
       "    </tr>\n",
       "    <tr>\n",
       "      <th>1</th>\n",
       "      <td>107579</td>\n",
       "      <td>1729</td>\n",
       "      <td>6</td>\n",
       "      <td>679</td>\n",
       "      <td>795</td>\n",
       "    </tr>\n",
       "    <tr>\n",
       "      <th>2</th>\n",
       "      <td>134156</td>\n",
       "      <td>2881</td>\n",
       "      <td>5</td>\n",
       "      <td>475</td>\n",
       "      <td>971</td>\n",
       "    </tr>\n",
       "  </tbody>\n",
       "</table>\n",
       "</div>"
      ],
      "text/plain": [
       "   userId  movieId  rating  newMovieId  newUserId\n",
       "0   99342       10       6           7        725\n",
       "1  107579     1729       6         679        795\n",
       "2  134156     2881       5         475        971"
      ]
     },
     "execution_count": 4,
     "metadata": {},
     "output_type": "execute_result"
    }
   ],
   "source": [
    "valid_df.head(3)"
   ]
  },
  {
   "cell_type": "code",
   "execution_count": 5,
   "metadata": {},
   "outputs": [
    {
     "name": "stdout",
     "output_type": "stream",
     "text": [
      "train_df contient 598095 ratings\n",
      "valid_df contient 33227 ratings\n"
     ]
    }
   ],
   "source": [
    "print(\"train_df contient {} ratings\".format(train_df.shape[0]))\n",
    "print(\"valid_df contient {} ratings\".format(valid_df.shape[0]))"
   ]
  },
  {
   "cell_type": "code",
   "execution_count": 6,
   "metadata": {},
   "outputs": [
    {
     "data": {
      "text/plain": [
       "count    598095.000000\n",
       "mean          6.848430\n",
       "std           2.018841\n",
       "min           1.000000\n",
       "25%           6.000000\n",
       "50%           7.000000\n",
       "75%           8.000000\n",
       "max          10.000000\n",
       "Name: rating, dtype: float64"
      ]
     },
     "execution_count": 6,
     "metadata": {},
     "output_type": "execute_result"
    }
   ],
   "source": [
    "train_df['rating'].describe()"
   ]
  },
  {
   "cell_type": "code",
   "execution_count": 7,
   "metadata": {},
   "outputs": [
    {
     "data": {
      "text/plain": [
       "count    33227.000000\n",
       "mean         6.871430\n",
       "std          2.022735\n",
       "min          1.000000\n",
       "25%          6.000000\n",
       "50%          7.000000\n",
       "75%          8.000000\n",
       "max         10.000000\n",
       "Name: rating, dtype: float64"
      ]
     },
     "execution_count": 7,
     "metadata": {},
     "output_type": "execute_result"
    }
   ],
   "source": [
    "valid_df['rating'].describe()"
   ]
  },
  {
   "cell_type": "markdown",
   "metadata": {},
   "source": [
    "**1b. Vérifications.** Quelles sont les plus petites et les plus grandes valeurs des *nouveaux* index des utilisateurs et des films, dans chacune des deux dataframes ?  Combien de valeurs différentes y a-t-il ? Est-ce qu'il y a des index manquants ?"
   ]
  },
  {
   "cell_type": "code",
   "execution_count": 8,
   "metadata": {},
   "outputs": [
    {
     "name": "stdout",
     "output_type": "stream",
     "text": [
      "train_df newMovieId   min :  1 , max :  1000 , unique :  1000 , missing 0\n",
      "train_df newUserId    min :  1 , max :  1000 , unique :  1000 , missing 0\n",
      "\n",
      "valid_df newMovieId   min :  1 , max :  1000 , unique :  1000 , missing 0\n",
      "valid_df newUserId    min :  1 , max :  1000 , unique :  1000 , missing 0\n",
      "\n",
      "Comparaison avec les ids originaux\n",
      "traind_df user_id min :  156 , max :  138208 , unique :  1000 , missing 0\n"
     ]
    }
   ],
   "source": [
    "print(\"train_df newMovieId   min : \",train_df['newMovieId'].min(), \", max : \", train_df['newMovieId'].max(), \", unique : \", train_df['newMovieId'].nunique(), \", missing\" , train_df['newMovieId'].isnull().sum())\n",
    "print(\"train_df newUserId    min : \",train_df['newUserId'].min(), \", max : \", train_df['newUserId'].max(), \", unique : \", train_df['newUserId'].nunique(), \", missing\" , train_df['newUserId'].isnull().sum())\n",
    "print()\n",
    "print(\"valid_df newMovieId   min : \",valid_df['newMovieId'].min(), \", max : \", valid_df['newMovieId'].max(), \", unique : \", valid_df['newMovieId'].nunique(), \", missing\" , valid_df['newMovieId'].isnull().sum())\n",
    "print(\"valid_df newUserId    min : \",valid_df['newUserId'].min(), \", max : \", valid_df['newUserId'].max(), \", unique : \", valid_df['newUserId'].nunique(), \", missing\" , valid_df['newUserId'].isnull().sum())\n",
    "\n",
    "print(\"\\nComparaison avec les ids originaux\")\n",
    "print(\"traind_df user_id min : \", train_df['userId'].min(), \", max : \", train_df['userId'].max(), \", unique : \", train_df['userId'].nunique(), \", missing\" , train_df['userId'].isnull().sum())"
   ]
  },
  {
   "cell_type": "markdown",
   "metadata": {},
   "source": [
    "**1c.** Veuillez d'abord définir les variables `n_users` et `n_movies` qui stockent le nombre d'utilisateurs et de films différents.  Quel est le nombre moyen de *ratings* par utilisateur ?  Et par film ?\n",
    "\n",
    "Dans `train_df`, combien de *ratings* possède le film le plus souvent évalué ?  (Autrement dit, quel est le nombre maximal de *ratings* d'un film ?)  Combien de *ratings* possède le film le moins souvent évalué ?  \n",
    "\n",
    "Indication : pour calculer le nombre de ratings par film, appliquer `groupby()` puis `count()` sur la *dataframe*. \n",
    "\n",
    "Dans `train_df`, combien de *ratings* a formulé l'utilisateur qui s'est le plus souvent exprimé ?  (Autrement dit, quel est le nombre maximal de *ratings* donnés par un utilisateur ?)  Combien de *ratings* a formulé l'utilisateur qui s'est le moins souvent exprimé ?"
   ]
  },
  {
   "cell_type": "code",
   "execution_count": 12,
   "metadata": {},
   "outputs": [
    {
     "name": "stdout",
     "output_type": "stream",
     "text": [
      "n_users =  1000 , n_movies =  1000\n",
      "Nombre moyen de ratings par utilisateur :  598.095\n",
      "Nombre moyen de ratings par film :  598.095\n",
      "Nombre max de ratings pour un film : 914\n",
      "Nombre min de ratings pour un film : 192\n",
      "Nombre max de ratings pour un utilisateur : 901\n",
      "Nombre min de ratings pour un utilisateur : 497\n"
     ]
    }
   ],
   "source": [
    "n_users = train_df['newUserId'].nunique()\n",
    "n_movies = train_df['newMovieId'].nunique()\n",
    "\n",
    "print(\"n_users = \", n_users, \", n_movies = \", n_movies)\n",
    "\n",
    "#Nombre moyen de ratings par utilisateur/par film\n",
    "print(\"Nombre moyen de ratings par utilisateur : \", train_df.groupby('newUserId')[\"rating\"].count().mean())\n",
    "print(\"Nombre moyen de ratings par film : \", train_df.groupby('newMovieId')[\"rating\"].count().mean())\n",
    "\n",
    "print(\"Nombre max de ratings pour un film :\", train_df.groupby('newMovieId')[\"rating\"].count().max())\n",
    "print(\"Nombre min de ratings pour un film :\", train_df.groupby('newMovieId')[\"rating\"].count().min())\n",
    "\n",
    "ratings_per_user = train_df.groupby('newUserId')[\"rating\"].count()\n",
    "print(\"Nombre max de ratings pour un utilisateur :\", ratings_per_user.max())\n",
    "print(\"Nombre min de ratings pour un utilisateur :\", ratings_per_user.min())"
   ]
  },
  {
   "cell_type": "markdown",
   "metadata": {},
   "source": [
    "**1d (facultatif).** Le but ici est de mieux étudier la distribution des *ratings* par utilisateur, dont vous venez de calculer les valeurs moyenne, minimale et maximale.\n",
    "\n",
    "Veuillez afficher (côte à côte si possible) les histogrammes du nombre de *ratings* par utilisateur dans `train_df` et dans `valid_df`.  Pensez à bien écrire les légendes des axes. Qu'observe-t-on en comparant `train_df` et dans `valid_df`?\n",
    "\n",
    "Même question pour le nombre de *ratings* par film."
   ]
  },
  {
   "cell_type": "code",
   "execution_count": 20,
   "metadata": {},
   "outputs": [
    {
     "data": {
      "image/png": "[encoded data removed]",
      "text/plain": [
       "<Figure size 640x480 with 1 Axes>"
      ]
     },
     "metadata": {},
     "output_type": "display_data"
    },
    {
     "data": {
      "image/png": "[encoded data removed]",
      "text/plain": [
       "<Figure size 640x480 with 1 Axes>"
      ]
     },
     "metadata": {},
     "output_type": "display_data"
    },
    {
     "name": "stdout",
     "output_type": "stream",
     "text": [
      "598095 33227\n"
     ]
    }
   ],
   "source": [
    "import matplotlib.pyplot as plt\n",
    "\n",
    "ratings_per_user_val = valid_df.groupby('newUserId')[\"rating\"].count()\n",
    "\n",
    "ratings_per_user.hist(bins=30)\n",
    "ratings_per_user_val.hist(bins=30)\n",
    "plt.xlabel(\"Nombre d'évaluations par utilisateur\")\n",
    "plt.ylabel(\"Nombre d'utilisateur\")\n",
    "plt.show()\n",
    "\n",
    "train_df.groupby('newMovieId')[\"rating\"].count().hist(bins=30)\n",
    "valid_df.groupby('newMovieId')[\"rating\"].count().hist(bins=30)\n",
    "plt.xlabel(\"Nombre d'évaluations par film\")\n",
    "plt.ylabel(\"Nombre de films\")\n",
    "plt.show()\n",
    "\n",
    "print(len(train_df), len(valid_df))\n"
   ]
  },
  {
   "cell_type": "markdown",
   "metadata": {},
   "source": [
    "*Réponse :* Au niveau du nombre de ratings par utilisateur, on observe qu'il y en a beaucoup moins dans les données de validation que les données d'entraînement. On obtient le même résultat pour les films. On peut donc en conclure qu'il y a en général moins d'évaluations dans les données de validation."
   ]
  },
  {
   "cell_type": "markdown",
   "metadata": {},
   "source": [
    "**1e.** Veuillez générer les matrices *utilisateurs x films* qui contiennent dans chaque cellule \\[i, j\\] le *rating* de l'utilisateur *i* pour le film *j*.  Si ce *rating* n'existe pas, la cellule vaut zéro.  Veuillez générer :\n",
    "- la matrice `train_matrix` à partir de `train_df`\n",
    "- la matrice `valid_matrix` à partir de `valid_df`\n",
    "\n",
    "Quel est le taux de remplissage (cellules non nulles) de chaque matrice ?  On peut le calculer soit à partir des *dataframes*, soit directement sur les matrices.  Que pouvez-vous observer en comparant ces deux valeurs ?"
   ]
  },
  {
   "cell_type": "code",
   "execution_count": 22,
   "metadata": {},
   "outputs": [],
   "source": [
    "def generate_matrix(df):\n",
    "    users = df['newUserId'].unique()\n",
    "    movies = df['newMovieId'].unique()\n",
    "    \n",
    "    user_index = {user: idx for idx, user in enumerate(users)}\n",
    "    movie_index = {movie: idx for idx, movie in enumerate(movies)}\n",
    "    \n",
    "    matrix = np.zeros((len(users), len(movies)))\n",
    "    \n",
    "    for _, row in df.iterrows():\n",
    "        user_idx = user_index[row['newUserId']]\n",
    "        movie_idx = movie_index[row['newMovieId']]\n",
    "        matrix[user_idx, movie_idx] = row['rating']\n",
    "    \n",
    "    return matrix\n",
    "\n",
    "train_matrix = generate_matrix(train_df)\n",
    "valid_matrix = generate_matrix(valid_df)"
   ]
  },
  {
   "cell_type": "code",
   "execution_count": 27,
   "metadata": {},
   "outputs": [
    {
     "name": "stdout",
     "output_type": "stream",
     "text": [
      "Taux de remplissage de la matrice d'entraînement : 0.598095\n",
      "Taux de remplissage de la matrice de validation : 0.033227\n"
     ]
    }
   ],
   "source": [
    "MATRIX_SIZE_TRAIN = len(train_df['newUserId'].unique()) * len(train_df['newMovieId'].unique())\n",
    "MATRIX_SIZE_VALID = len(valid_df['newUserId'].unique()) * len(valid_df['newMovieId'].unique())\n",
    "\n",
    "print(\"Taux de remplissage de la matrice d'entraînement :\", np.count_nonzero(train_matrix) / MATRIX_SIZE_TRAIN)\n",
    "print(\"Taux de remplissage de la matrice de validation :\", np.count_nonzero(valid_matrix) / MATRIX_SIZE_VALID)"
   ]
  },
  {
   "cell_type": "markdown",
   "metadata": {},
   "source": [
    "*Réponse :* La matrice de validation est beaucoup plus creuse que la matrice d'entraînement."
   ]
  },
  {
   "cell_type": "markdown",
   "metadata": {},
   "source": [
    "## 2. Évaluation des systèmes \"baseline\"\n",
    "\n",
    "Dans cette section, vous allez créer plusieurs systèmes *baseline* pour la comparaison, calculer leurs scores sur `valid_matrix` et les afficher.  Le calcul des scores vous est montré au point 2a.  Ces systèmes sont :\n",
    "- **2a.** Prédiction des *ratings* comme valeurs aléatoires entre 1 et 10 (**code fourni**).\n",
    "- **2b.** Prédiction des *ratings* par la moyenne de tous les *ratings* fournis dans `train_matrix`.\n",
    "- **2c.** Prédiction des *ratings* d'un utilisateur par la moyenne de ses *ratings* fournis dans `train_matrix`.\n",
    "- **2d.** Prédiction des *ratings* d'un film par la moyenne de ses *ratings* fournis dans `train_matrix`.\n",
    "- **2e.** Prédiction de votre choix, par une combinaison des éléments de (b), (c) et (d)."
   ]
  },
  {
   "cell_type": "code",
   "execution_count": 47,
   "metadata": {},
   "outputs": [
    {
     "name": "stdout",
     "output_type": "stream",
     "text": [
      "[ 6.  6.  8. ...  7. 10.  7.]\n",
      "       userId  movieId  rating  newMovieId  newUserId\n",
      "0       99342       10       6           7        725\n",
      "1      107579     1729       6         679        795\n",
      "2      134156     2881       5         475        971\n",
      "3      114659     4571       5         594        851\n",
      "4        3318     3114       6         709         20\n",
      "...       ...      ...     ...         ...        ...\n",
      "33222   18415     1228      10         656        137\n",
      "33223   46744     3020       8         492        353\n",
      "33224    9145    41566       6         925         68\n",
      "33225   22963     2396       6         421        167\n",
      "33226   35011      588       7         637        270\n",
      "\n",
      "[33227 rows x 5 columns]\n",
      "RMSE en faisant des prédictions aléatoires entre 1 et 11 : 3.7728\n"
     ]
    }
   ],
   "source": [
    "from sklearn.metrics import root_mean_squared_error\n",
    "\n",
    "# 2a. Voici comment calculer la Root Mean Squared Error (RMSE) des prédictions par rapport aux ratings de valid_matrix.\n",
    "valid_vector = valid_matrix[valid_matrix.nonzero()] # suite des ratings non-nuls de valid_matrix\n",
    "\n",
    "predict_2a = np.random.randint(1, 11, (len(valid_vector), 1)) # ratings aléatoires pour les utilisateurs x films \n",
    "\n",
    "rmse_2a = root_mean_squared_error(valid_vector, predict_2a)\n",
    "\n",
    "print(f'RMSE en faisant des prédictions aléatoires entre 1 et 11 : {round(rmse_2a, 4)}')"
   ]
  },
  {
   "cell_type": "code",
   "execution_count": 42,
   "metadata": {},
   "outputs": [
    {
     "name": "stdout",
     "output_type": "stream",
     "text": [
      "RMSE en faisant la moyenne des ratings : 2.0228\n"
     ]
    }
   ],
   "source": [
    "# 2b -- veuillez écrire votre code ici et afficher le score RMSE\n",
    "\n",
    "mean_rating = train_df['rating'].mean()\n",
    "predict_2b = np.full((len(valid_vector), 1), mean_rating)\n",
    "rmse_2b = root_mean_squared_error(valid_vector, predict_2b)\n",
    "print(f'RMSE en faisant la moyenne des ratings : {round(rmse_2b, 4)}')\n"
   ]
  },
  {
   "cell_type": "code",
   "execution_count": 48,
   "metadata": {},
   "outputs": [
    {
     "name": "stdout",
     "output_type": "stream",
     "text": [
      "RMSE en faisant la moyenne des ratings par utilisateur : 1.8535\n"
     ]
    }
   ],
   "source": [
    "# 2c -- veuillez écrire votre code ici et afficher le score RMSE\n",
    "\n",
    "mean_by_user = train_df.groupby('newUserId')['rating'].mean()\n",
    "predict_2c = np.array([mean_by_user[user] for user in valid_df['newUserId']]).reshape(-1,1)\n",
    "rmse_2c = root_mean_squared_error(valid_df['rating'], predict_2c)\n",
    "print(f'RMSE en faisant la moyenne des ratings par utilisateur : {round(rmse_2c, 4)}')\n"
   ]
  },
  {
   "cell_type": "code",
   "execution_count": 50,
   "metadata": {},
   "outputs": [
    {
     "name": "stdout",
     "output_type": "stream",
     "text": [
      "RMSE en faisant la moyenne des ratings par film : 1.7767\n"
     ]
    }
   ],
   "source": [
    "# 2d -- veuillez écrire votre code ici et afficher le score RMSE\n",
    "mean_by_movie = train_df.groupby('newMovieId')['rating'].mean()\n",
    "predict_2d = np.array([mean_by_movie[movie] for movie in valid_df['newMovieId']]).reshape(-1,1)\n",
    "rmse_2d = root_mean_squared_error(valid_df['rating'], predict_2d)\n",
    "print(f'RMSE en faisant la moyenne des ratings par film : {round(rmse_2d, 4)}')\n"
   ]
  },
  {
   "cell_type": "code",
   "execution_count": 51,
   "metadata": {},
   "outputs": [
    {
     "name": "stdout",
     "output_type": "stream",
     "text": [
      "RMSE en faisant la moyenne des deux derniers tableaux de prédiction : 1.7061\n"
     ]
    }
   ],
   "source": [
    "# 2e -- veuillez écrire votre code ici et afficher le score RMSE\n",
    "\n",
    "predict_2e = np.add(predict_2c, predict_2d) / 2\n",
    "rmse_2e = root_mean_squared_error(valid_df['rating'], predict_2e)\n",
    "print(f'RMSE en faisant la moyenne des deux derniers tableaux de prédiction : {round(rmse_2e, 4)}')\n"
   ]
  },
  {
   "cell_type": "markdown",
   "metadata": {},
   "source": [
    "**2f.** Veuillez recopier ici les scores obtenus et commenter leurs différences."
   ]
  },
  {
   "cell_type": "code",
   "execution_count": 52,
   "metadata": {},
   "outputs": [
    {
     "name": "stdout",
     "output_type": "stream",
     "text": [
      "RMSE en faisant des prédictions aléatoires entre 1 et 11 : 3.7728\n",
      "RMSE en faisant la moyenne des ratings : 2.0228\n",
      "RMSE en faisant la moyenne des ratings par utilisateur : 1.8535\n",
      "RMSE en faisant la moyenne des ratings par film : 1.7767\n",
      "RMSE en faisant la moyenne des deux derniers tableaux de prédiction : 1.7061\n"
     ]
    }
   ],
   "source": [
    "print(f'RMSE en faisant des prédictions aléatoires entre 1 et 11 : {round(rmse_2a, 4)}')\n",
    "print(f'RMSE en faisant la moyenne des ratings : {round(rmse_2b, 4)}')\n",
    "print(f'RMSE en faisant la moyenne des ratings par utilisateur : {round(rmse_2c, 4)}')\n",
    "print(f'RMSE en faisant la moyenne des ratings par film : {round(rmse_2d, 4)}')\n",
    "print(f'RMSE en faisant la moyenne des deux derniers tableaux de prédiction : {round(rmse_2e, 4)}')"
   ]
  },
  {
   "cell_type": "markdown",
   "metadata": {},
   "source": [
    "*Réponse :* La meilleure approche parmis les propositions était la moyenne par film. Nous pensons que ce résultat est logique car il y a probablement moins de variance dans la note donnée à un film en général que dans les notes données par un utilisateur sur tous les films qu'il a vu. Cependant, nous avons obtenu les meilleurs résultats avec notre approche consistant à prendre en compte la moyenne par film et de la moyenne par utilisateur (en moyennant les deux vecteurs, par élément)."
   ]
  },
  {
   "cell_type": "markdown",
   "metadata": {},
   "source": [
    "## 3. Filtrage collaboratif basé sur les exemples : modèle utilisateur-utilisateur\n",
    "\n",
    "Dans cette partie, vous allez implémenter et tester les modèles de filtrage collaboratif *\"memory-based\"* qui calculent les *ratings* prédits pour chaque utilisateur selon les films les plus appréciés par les utilisateurs semblables.  Les formules pour ce modèle ont été données en cours.  Il faudra faire attention aux sous-ensembles sur lesquels sont calculées les différentes sommes.\n",
    "\n",
    "**3a.** Veuillez calculer les *ratings* moyens de chaque utilisateur et les stocker dans un tableau nommé `mean_user_ratings`.\n",
    "\n",
    "Attention, il ne faut pas inclure les valeurs nulles dans le calcul de ces moyennes.  Les zéros ne sont pas de vrais scores (*ratings*) mais indiquent l'absence de score.  Si on les incluait, les moyennes seraient toutes très basses."
   ]
  },
  {
   "cell_type": "code",
   "execution_count": 54,
   "metadata": {},
   "outputs": [],
   "source": [
    "mean_user_ratings = mean_by_user"
   ]
  },
  {
   "cell_type": "markdown",
   "metadata": {},
   "source": [
    "**3b.** *Memory-based collaborative filtering: user-user model.*  Veuillez implémenter la formule vue en cours pour calculer la matrice `sim`.  Il s'agit d'un coefficient de similarité entre deux utilisateurs, sur la base des *ratings* qu'ils ont formulés pour les films qu'ils ont jugés en commun.  On utilise la corrélation de Pearson, mais restreinte aux films communs, c'est-à-dire ceux avec des *ratings* non nuls des deux utilisateurs.  Pour cette raison, on ne peut pas appliquer directement la fonction `numpy.corrcoef()` sur `train_matrix`, mais on doit effectuer le calcul explicitement."
   ]
  },
  {
   "cell_type": "code",
   "execution_count": 62,
   "metadata": {},
   "outputs": [
    {
     "name": "stderr",
     "output_type": "stream",
     "text": [
      "100%|██████████| 1000/1000 [01:20<00:00, 12.38it/s]\n"
     ]
    }
   ],
   "source": [
    "# Initialisation de la matrice des similarités entre utilisateurs :\n",
    "# sim[i, j] mesure la similarité entre les utilisateurs i et j.\n",
    "# La matrice sera symétrique car sim[i, j] = sim[j, i], et elle peut\n",
    "# avoir la diagonale nulle, car le modèle n'utilisera pas sim[i, i].\n",
    "\n",
    "sim = np.zeros((n_users, n_users)) \n",
    "\n",
    "# Parcourir les ratings des utilisateurs i et j (avec i<j), c'est-à-dire \n",
    "# train_matrix[i] et train_matrix[j], retenir seulement les positions où\n",
    "# les deux ratings sont >0, puis calculer le coefficient de corrélation.\n",
    "\n",
    "for i in tqdm(range(n_users)):\n",
    "    for j in range(i+1, n_users):\n",
    "        user_i = train_matrix[i]\n",
    "        user_j = train_matrix[j]\n",
    "\n",
    "        common_mask = (user_i > 0) & (user_j > 0)\n",
    "        if np.sum(common_mask) >= 2: # au moins deux éléments trouvés\n",
    "            common_ratings_i = user_i[common_mask]\n",
    "            common_ratings_j = user_j[common_mask]\n",
    "\n",
    "            corr = np.corrcoef(common_ratings_i, common_ratings_j)[0,1]\n",
    "            sim[i,j] = corr\n",
    "\n",
    "\n",
    "        #pairs = [(user_i[movie], user_j[movie]) for movie in range(len(user_i)) if user_i[movie] > 0 and user_j[movie] > 0]\n"
   ]
  },
  {
   "cell_type": "code",
   "execution_count": 63,
   "metadata": {},
   "outputs": [
    {
     "name": "stdout",
     "output_type": "stream",
     "text": [
      "[ 0.          0.          0.          0.          0.          0.\n",
      "  0.          0.          0.          0.          0.          0.\n",
      "  0.          0.15491476  0.34433795  0.47171154  0.29364772  0.32966347\n",
      "  0.23427787  0.47901183  0.08152489  0.24171429  0.14820021  0.23897763\n",
      "  0.05666462  0.0944344   0.27114053  0.51234786  0.21503859  0.18072143\n",
      "  0.33051093  0.19451711  0.37376669  0.37526574  0.5309897   0.42347179\n",
      "  0.26924817  0.43470138  0.25760016  0.40727216  0.5451176   0.48207541\n",
      "  0.35103817  0.3072096   0.26068269  0.48426518  0.3990032   0.30566201\n",
      "  0.06300203  0.22858812  0.34307428  0.38700933  0.28692104  0.57649626\n",
      "  0.41026706  0.20674112  0.36409028  0.36995349  0.2841378   0.19499278\n",
      "  0.3108834   0.39688992  0.06381446  0.51720271  0.24729908  0.41610418\n",
      "  0.24638581  0.10384537  0.21852945  0.30249549  0.26542309  0.28475941\n",
      "  0.29544011  0.13618869  0.28868193  0.28437291  0.29508429  0.24455842\n",
      "  0.05798985  0.32184728  0.34877576  0.25387207  0.20242484  0.04514587\n",
      "  0.40504512  0.48341497  0.03132283  0.48888319  0.56739031  0.52549362\n",
      "  0.0657366   0.39717727  0.14032091  0.45594772  0.02029288  0.47161556\n",
      "  0.11721338  0.54520347  0.40575845  0.52376458  0.52606326  0.01415401\n",
      "  0.23062     0.21610526  0.46444223  0.51988675  0.40667521  0.34584173\n",
      "  0.49289615  0.40749333  0.52344097  0.43800527  0.35905998  0.16890843\n",
      "  0.38837594  0.34096894  0.3245461   0.33478563  0.25316719  0.33437375\n",
      "  0.34246101  0.45753952  0.36507983  0.07909067  0.13334508  0.3500428\n",
      "  0.4516567   0.50222895  0.30013634  0.31705477  0.18726553  0.46296829\n",
      "  0.4055846   0.21689995  0.14337295  0.33643775  0.27896888  0.30372135\n",
      "  0.33407494  0.57024457  0.31319553  0.03967184  0.57182448  0.17162948\n",
      "  0.31715701  0.2949753   0.18031873  0.44087216  0.27664368  0.35212512\n",
      "  0.46061692  0.25573855  0.38023531  0.25857963  0.34726637  0.43875436\n",
      "  0.27264456  0.43122293  0.31502081  0.44759247  0.47084528 -0.04992956\n",
      "  0.04647922  0.52610166 -0.04025055  0.23526541  0.47723584  0.28862064\n",
      "  0.44855707  0.59690114  0.10713609  0.16216452  0.21482817  0.50372742\n",
      "  0.12614601  0.34910595  0.45025295  0.41768193  0.63824024  0.3177409\n",
      "  0.39823478  0.32877877  0.34534627  0.11585504  0.41939258  0.39050047\n",
      "  0.27973201  0.13849871  0.05317555  0.48351272  0.33034389  0.30084356\n",
      "  0.44903038  0.21762851  0.41112891  0.35333043  0.31876863  0.52319051\n",
      "  0.46667888  0.58368583  0.05317413  0.39464032  0.26142532  0.01909702\n",
      "  0.06649959  0.42436423  0.3869072   0.00282309  0.47513495  0.27695433\n",
      "  0.20999255  0.41755712  0.3689286   0.03500154  0.37801641  0.29316634\n",
      "  0.49666754  0.4391719   0.31819134  0.25898633  0.23675681  0.54778432\n",
      "  0.43058325  0.23845326  0.63971908  0.43341884  0.18576816  0.21514764\n",
      "  0.16392667  0.11097606  0.28974694  0.39100834  0.3474781   0.37938562\n",
      "  0.51613101  0.53435927  0.31178485  0.38604131  0.35026076  0.4032677\n",
      " -0.02706517  0.48485059  0.36753297  0.26519813  0.10908167  0.46368449\n",
      "  0.21376549  0.33125696  0.26578738  0.38471907  0.41891964  0.07491813\n",
      "  0.23055365  0.35531751  0.34656837  0.45386896  0.08991868  0.31694953\n",
      "  0.17204589  0.44461881  0.3675864   0.48776164  0.17598706  0.23151262\n",
      "  0.29268767  0.43102412  0.26936867  0.37560197  0.2694217   0.28325825\n",
      "  0.2849981   0.53738071  0.01068313  0.27415058  0.30214085  0.58338073\n",
      "  0.24086208  0.37380053  0.04838174  0.41311939  0.59639722  0.53240408\n",
      "  0.05188352  0.10787343  0.33638303  0.37301996  0.29891922  0.21546397\n",
      "  0.26825459  0.1821562   0.38452045  0.33229821  0.24291758  0.39707215\n",
      "  0.43347106  0.34707648  0.4991827   0.66693522  0.34127186  0.30535721\n",
      "  0.31453495  0.34052653  0.17298305  0.21162455  0.42518126  0.38772742\n",
      "  0.46645992  0.28144673  0.21929362  0.57972302  0.34778881  0.30347581\n",
      "  0.38081434  0.51495752  0.47524472  0.35205796  0.55536021  0.44641373\n",
      "  0.29799573  0.25760956  0.53054996  0.13672289  0.51408711  0.26648408\n",
      "  0.51833989  0.45987428  0.54530509  0.58385832  0.45653335  0.59120385\n",
      "  0.34448699  0.21629488  0.3241837   0.08807128  0.49832387  0.44650152\n",
      "  0.11877508  0.44966809  0.2122426   0.39147521  0.28987791  0.3219197\n",
      "  0.42212501  0.06364482  0.1967664   0.27128265  0.15807809  0.34876061\n",
      "  0.29951568  0.53342511  0.36301665  0.41265971  0.06564439  0.33332049\n",
      "  0.21650716  0.2164364   0.2797722   0.23281987  0.36275595  0.26027602\n",
      "  0.46374677  0.5933094   0.25180831  0.50510034  0.25398409  0.44659485\n",
      "  0.19685306  0.31414155  0.37484799  0.36856737  0.41892167  0.34787242\n",
      "  0.32853087  0.44082124  0.27012507  0.21848106  0.31901684  0.4743115\n",
      "  0.09358073  0.4122496   0.28319826  0.40171123  0.43568141  0.56192717\n",
      "  0.17319635  0.20487046  0.45094491  0.38089932  0.12759404  0.19232969\n",
      "  0.2930396   0.19372948  0.46575194  0.42431916  0.50531885  0.32644657\n",
      "  0.68178173  0.50310273  0.42884307  0.28154162  0.09481031  0.32416168\n",
      "  0.23395865  0.38047261  0.35115525  0.4595766   0.17113569  0.21860875\n",
      "  0.29367978  0.26984931  0.39375027  0.41138218  0.03519089  0.48713236\n",
      "  0.3136685   0.39209159  0.33978043  0.25489588  0.50406765  0.35418367\n",
      "  0.41776325  0.43364256  0.4096959  -0.07634184  0.28738364  0.12934917\n",
      "  0.4718307   0.17321753  0.37215365  0.41250111  0.28486473  0.11918233\n",
      "  0.14765494  0.26714795  0.33043113  0.33843011  0.46796697  0.14750178\n",
      "  0.43692029  0.24837966  0.27014778  0.50277046  0.43655732  0.37666769\n",
      "  0.34545365  0.20654591  0.37573182  0.3509213   0.42177714  0.5482142\n",
      "  0.45165042  0.34023541  0.1622521   0.3572632   0.12156361  0.30311066\n",
      "  0.11308403  0.22082446  0.51701053  0.45967847  0.47697355  0.58333042\n",
      "  0.66391397  0.25536788  0.46619577  0.314509    0.14080021  0.29059818\n",
      "  0.33747272  0.15105222  0.23872839  0.44238779  0.37951575  0.3887063\n",
      "  0.3861674   0.22548515 -0.01252474  0.4978574   0.2756772   0.28191947\n",
      "  0.30632751  0.33508584  0.17440842  0.59464666  0.40544228  0.41921772\n",
      "  0.33027196  0.35834115  0.22703293  0.48768813  0.24450677  0.16440008\n",
      "  0.53646815  0.22568198  0.54003816  0.32810125  0.35388204  0.40290051\n",
      "  0.40147516  0.2514584   0.24443934  0.50572298  0.2800085   0.21750847\n",
      "  0.30434375  0.33620863  0.11514866  0.36559264  0.48853262  0.15274485\n",
      "  0.46623075  0.23043934  0.23415179  0.50114415  0.31803472  0.11090997\n",
      "  0.24462353  0.27372559  0.29205565 -0.17155724  0.34982009  0.23351517\n",
      "  0.32102876  0.57990234  0.20454683  0.32678481  0.41711078  0.33944073\n",
      "  0.34854071  0.49809133  0.3854803   0.27984239  0.11083902  0.36484552\n",
      "  0.34290729  0.23377821  0.39233362  0.34433377  0.49726043  0.55631004\n",
      "  0.40518902  0.17895496  0.1455704   0.54323195  0.47167185  0.37120131\n",
      "  0.18516386  0.18907072  0.4474761   0.49814938  0.59063113  0.50491253\n",
      "  0.41134853  0.38843255  0.46372276  0.41946119  0.4615819   0.47638553\n",
      "  0.26311556  0.54817907  0.28353663  0.45322379  0.22345025  0.41941231\n",
      "  0.38012611  0.49560415  0.24128085  0.22621267  0.34102778  0.34657091\n",
      "  0.32277908  0.33914087  0.49472531  0.25619889  0.54258285  0.4162459\n",
      "  0.54659961  0.35962778  0.40668574  0.71906533  0.37237875  0.10815837\n",
      "  0.45465063  0.4200782   0.302513   -0.12613561  0.02189259  0.42750684\n",
      "  0.40935476  0.27982622  0.11710312  0.50939137  0.36469263  0.32374107\n",
      "  0.36707017  0.23454562  0.38176235  0.53286094  0.28096608  0.49234696\n",
      "  0.21393451  0.16770032  0.40242497  0.34306313  0.46078617  0.42332964\n",
      "  0.54235826  0.53811211  0.33964765  0.42890393  0.2833078   0.40830736\n",
      "  0.25298166  0.27978268  0.19693923  0.4494425  -0.19715025 -0.08280007\n",
      "  0.38508627  0.378677    0.303829    0.45601309  0.53263614  0.40824449\n",
      "  0.28115328  0.24364088  0.39217871  0.42742483  0.24635603  0.0831213\n",
      "  0.48267741  0.38182476  0.23596186  0.49892763  0.27217703  0.15205437\n",
      "  0.26274663  0.26093593  0.41950747  0.39259594  0.21042394  0.22108157\n",
      "  0.86338017  0.02866682  0.26520552  0.39181536  0.19578632  0.24796369\n",
      "  0.27902709  0.28328269  0.24699524  0.2628833   0.48589624  0.56037837\n",
      "  0.25911838  0.30300863  0.35160394  0.40609391  0.27698426 -0.03251245\n",
      "  0.38850389  0.44347273  0.50141986  0.54844767  0.26042707  0.36121313\n",
      "  0.48743726  0.33145117  0.50918747  0.31446805  0.17871099  0.14016841\n",
      "  0.18140115  0.39787584  0.21857378  0.19920054  0.39625922  0.60470118\n",
      "  0.27758083  0.19334271  0.27057093  0.14177318  0.21582018  0.15363271\n",
      " -0.04147565  0.31052225  0.35282471  0.32202542  0.37440343  0.37600391\n",
      "  0.32485569  0.36698619  0.40765709  0.21893816  0.13971383  0.34943109\n",
      "  0.22761598  0.28883003  0.35338377  0.27296591  0.22619188  0.05946585\n",
      "  0.26166075  0.3478996   0.3620951   0.58065739  0.02783495  0.08939097\n",
      "  0.35865245  0.45144433  0.32490121  0.31567017  0.3790337  -0.01523059\n",
      "  0.49121576  0.38734679  0.37976939  0.40302929  0.27427988  0.2545748\n",
      "  0.10308797  0.08748894  0.66354683  0.42582311  0.48285533  0.40515667\n",
      "  0.22393482  0.49462211  0.26563541  0.33879614  0.43671986  0.30454419\n",
      "  0.34577108  0.38452915  0.17342288  0.43072916  0.46636159  0.65789805\n",
      "  0.6641721   0.29373376  0.51108428  0.37458279  0.40049319  0.36152496\n",
      "  0.44230374  0.62810097  0.01658681  0.55525268  0.35375019  0.24466274\n",
      "  0.11161303  0.40368551  0.30587581  0.46286789  0.04404421  0.38441219\n",
      "  0.22596458  0.26522786  0.17239725  0.58350721  0.3243321  -0.11723483\n",
      "  0.23670769  0.48747437  0.34810196  0.33027003  0.28297759  0.50535243\n",
      "  0.19906429  0.42460031  0.32979907  0.22192952  0.54892028  0.34053914\n",
      "  0.25694485  0.22170098  0.37352893  0.15673016  0.52986973  0.49354869\n",
      "  0.54256571  0.13813226  0.29475168  0.24306011  0.44311487  0.06358344\n",
      "  0.2513288   0.15420566  0.23757579  0.35564476  0.5469578   0.33888245\n",
      "  0.44652951  0.1906134   0.38428084  0.59344101  0.35283726  0.37003418\n",
      "  0.59264602  0.40930985  0.2453059   0.48697112  0.06694487  0.49730807\n",
      "  0.08173416  0.29487025  0.0134719   0.17427838  0.43849539  0.36843356\n",
      "  0.41607456  0.40555905  0.42126019  0.31569458  0.47145229  0.54526226\n",
      "  0.23235343  0.10031699  0.28953862  0.22488274  0.23728124  0.2321888\n",
      "  0.09444284  0.54199191  0.3818087   0.19398379  0.52949361  0.21917418\n",
      "  0.18063542  0.37823853  0.3337149  -0.11403597  0.08035732  0.40102753\n",
      "  0.26550833  0.40089199  0.43710676  0.20090287  0.45929619  0.56659393\n",
      "  0.13776634  0.32080745  0.23029987  0.29780919  0.45466927  0.24003336\n",
      "  0.0490641   0.4647326   0.35111515  0.4528238   0.41639381  0.24550034\n",
      "  0.33511286  0.29110016  0.44352453  0.23671608  0.41590798  0.51828167\n",
      "  0.43614577  0.36712664  0.30470006  0.06229181  0.12488465  0.22795068\n",
      "  0.43624424  0.43362358  0.43565559  0.29513542  0.37156412  0.49786568\n",
      "  0.42277225  0.48950274  0.40522605  0.33229765  0.34864532  0.3051334\n",
      "  0.35796445 -0.08371802  0.39864666  0.64072837  0.40494088  0.15738122\n",
      "  0.06248544  0.43094286  0.39923515  0.4556389   0.42364893  0.4269116\n",
      "  0.42788581  0.02834236  0.42736817  0.36578202  0.34465426  0.41362616\n",
      " -0.02370648  0.27221772  0.41718327  0.38673408  0.33970397  0.19768336\n",
      "  0.3187859   0.3086542   0.44614448  0.33229804  0.28484724  0.48383417\n",
      "  0.33075564  0.23430609  0.35688151  0.18077987  0.57122372  0.3732692\n",
      "  0.36219903  0.3929165   0.41206901  0.37299489  0.47414767  0.46469858\n",
      "  0.42145902  0.40829495  0.70457879  0.09483267  0.59847245  0.42854777\n",
      "  0.31417545  0.31837578  0.17296629  0.34921786  0.03222728  0.05851223\n",
      "  0.34582626  0.14539421  0.50310648  0.44050975  0.1298939   0.50541434\n",
      "  0.12342706  0.35558468  0.20211906 -0.01661103  0.05573214  0.41479615\n",
      "  0.53090631  0.34855083  0.1489541   0.5607053   0.27509996  0.27792971\n",
      "  0.44731152  0.34666813  0.12923836  0.43866264  0.0421477   0.09215426\n",
      "  0.36504082  0.27022993  0.25509478  0.43219698  0.2731749   0.33381464\n",
      "  0.48851205  0.26872375  0.3976098   0.28170549  0.55058174  0.51165885\n",
      "  0.27374866  0.37247758  0.29414007  0.53427589  0.42853306  0.35501872\n",
      "  0.40003277  0.2032458   0.88945517  0.2966619   0.41686183  0.40133496\n",
      "  0.28696811  0.33802941  0.22594977  0.4650694   0.09528539  0.33997879\n",
      "  0.35674018  0.33073746  0.32638122  0.37544403  0.56593461  0.01655379\n",
      "  0.36691015  0.183942    0.32511303  0.28619249  0.26490102  0.55713409\n",
      "  0.34752117  0.34970715  0.0494534   0.5969771 ]\n"
     ]
    }
   ],
   "source": [
    "print(sim[12])\n",
    "# todo : continuer ici"
   ]
  },
  {
   "cell_type": "code",
   "execution_count": null,
   "metadata": {},
   "outputs": [],
   "source": [
    "# Une fonction auxiliaire utile.  Elle retourne une copie du vecteur \n",
    "# qui garde ses n plus grandes valeurs et met les autres à zéro.\n",
    "def highest(array, n):\n",
    "    if n >= len(array) or n<0:\n",
    "        return array.copy()\n",
    "    else:\n",
    "        threshold = sorted(array, reverse=True)[n-1]\n",
    "        result = array.copy()\n",
    "        result[result<threshold]=0\n",
    "        return result"
   ]
  },
  {
   "cell_type": "code",
   "execution_count": null,
   "metadata": {},
   "outputs": [],
   "source": [
    "# Test de la fonction : retourne une copie de arr1 qui garde seulement\n",
    "# ses 2 plus grands éléments, puis la même chose mais en gardant les\n",
    "# deux plus grands éléments qui se trouvent à des emplacements non nuls\n",
    "# de arr2 (cet exemple servira au 3c).\n",
    "arr1 = np.array([1, 2, 5, 0, 9, 7])\n",
    "arr2 = np.array([3, 0, 2, 0, 0, 7])\n",
    "print(arr1, highest(arr1, 2), arr1)\n",
    "print(arr1, highest(arr1 * np.where(arr2 > 0, 1, 0), 2), arr1)"
   ]
  },
  {
   "cell_type": "markdown",
   "metadata": {},
   "source": [
    "**3c.** Veuillez calculer les *ratings* prédits par le système pour tous les utilisateurs et les items (comme au 2c et 2d mais chaque cellule doit être calculée avec la formule vue en cours).  Essayez d'optimiser le nombre d'utilisateurs semblables que vous retenez dans la formule."
   ]
  },
  {
   "cell_type": "code",
   "execution_count": null,
   "metadata": {},
   "outputs": [],
   "source": [
    "predict_3 = np.zeros((n_users, n_movies)) \n"
   ]
  },
  {
   "cell_type": "markdown",
   "metadata": {},
   "source": [
    "**3d.** Veuillez évaluer les *ratings* prédits en les comparant avec les *ratings* fournis par `valid_vector` calculé plus haut.  Comment se compare le résultat avec les scores du 2f ?"
   ]
  },
  {
   "cell_type": "code",
   "execution_count": null,
   "metadata": {},
   "outputs": [],
   "source": []
  },
  {
   "cell_type": "code",
   "execution_count": null,
   "metadata": {},
   "outputs": [],
   "source": []
  },
  {
   "cell_type": "markdown",
   "metadata": {},
   "source": [
    "## 4. Filtrage collaboratif basé sur les exemples : modèle film-film\n",
    "\n",
    "Dans cette partie, vous allez implémenter et tester les modèles de filtrage collaboratif *\"memory-based\"* qui calculent les *ratings* prédits pour un film selon les utilisateurs qui ont le plus apprécié les films semblables (modèle réciproque du précédent).  Les formules pour ce modèle ont été données en cours.  Il faudra faire attention aux sous-ensembles sur lesquels sont calculées les différentes sommes.\n",
    "\n",
    "**4a.** Veuillez calculer les *ratings* moyens de chaque film et les stocker dans un tableau nommé `mean_movie_ratings`.  \n",
    "\n",
    "Attention, il ne faut pas inclure les valeurs nulles dans le calcul de ces moyennes.  Les zéros ne sont pas de vrais scores (*ratings*) mais indiquent l'absence de score."
   ]
  },
  {
   "cell_type": "code",
   "execution_count": null,
   "metadata": {},
   "outputs": [],
   "source": [
    "# mean_item_ratings = ...\n"
   ]
  },
  {
   "cell_type": "markdown",
   "metadata": {},
   "source": [
    "**4b.** *Memory-based collaborative filtering: item-item model.*  Veuillez implémenter la formule vue en cours pour calculer la matrice `sim_item`.  Il s'agit d'un coefficient de similarité entre deux films (items), sur la base des *ratings* qu'ils ont reçus des utilisateurs qui se sont exprimés sur les deux films.  On utilise la corrélation de Pearson, mais restreinte aux utilisateurs communs, c'est-à-dire ceux avec des *ratings* non nuls des deux films.  Pour cette raison, on ne peut pas appliquer directement la fonction `numpy.corrcoef()` sur `train_matrix`, mais on doit effectuer le calcul explicitement.  Le code est très similaire au point 3b."
   ]
  },
  {
   "cell_type": "code",
   "execution_count": null,
   "metadata": {},
   "outputs": [],
   "source": [
    "# Initialisation de la matrice des similarités entre films :\n",
    "# sim_item[i, j] mesure la similarité entre les films i et j.\n",
    "# La matrice sera symétrique car sim[i, j] = sim[j, i], et elle peut\n",
    "# avoir la diagonale nulle, car le modèle n'utilisera pas sim[i, i].\n",
    "sim_item = np.zeros((n_movies, n_movies)) \n",
    "\n",
    "# Parcourir les ratings des films i et j (avec i<j), c'est-à-dire \n",
    "# train_matrix[:,i] et train_matrix[:,j], retenir seulement les positions où\n",
    "# les deux ratings sont >0, puis calculer le coefficient de corrélation.\n",
    "\n",
    "for i in tqdm(range(n_movies)):\n",
    "    for j in range(i,n_movies):\n"
   ]
  },
  {
   "cell_type": "markdown",
   "metadata": {},
   "source": [
    "**4c.** Veuillez calculer les *ratings* prédits par le système pour tous les utilisateurs et les items (analogue au 3c).  Essayez d'optimiser le nombre d'films semblables que vous utilisez dans la formule."
   ]
  },
  {
   "cell_type": "code",
   "execution_count": null,
   "metadata": {},
   "outputs": [],
   "source": [
    "predict_4 = np.zeros((n_users, n_movies))\n"
   ]
  },
  {
   "cell_type": "markdown",
   "metadata": {},
   "source": [
    "**4d.** Veuillez évaluer les *ratings* prédits en les comparant avec les *ratings* fournis par `valid_vector` calculé plus haut.  Comment se compare le résultat avec les scores du 2f et ceux du 3d ?"
   ]
  },
  {
   "cell_type": "code",
   "execution_count": null,
   "metadata": {},
   "outputs": [],
   "source": []
  },
  {
   "cell_type": "markdown",
   "metadata": {},
   "source": [
    "## 5. Filtrage collaboratif par factorisation de matrices\n",
    "\n",
    "Dans cette section, vous allez mettre en place un modèle de prédiction des *ratings* utilisant la factorisation de matrices, comme vu en cours.  Vous calculerez deux matrices U et V, telles que R = U.T x V où R est la matrice des *ratings* (U.T désigne la transposée de U).  Le calcul direct d'une SVD ne fonctionne pas, car la matrice R (ici, `train_matrix`) contient beaucoup de 0 qui signifient en réalité des *ratings* inconnus.  Vous utiliserez comme données d'entraînement directement celles de `train_df`. \n",
    "\n",
    "L'hyperparamètre à régler est la dimension réduite de U et de V, notée `n_latent_factors`.\n",
    "\n",
    "Vous utiliserez une approche par descente de gradient, implémentée en Keras, qui utilisera seulement les *ratings* connus (non nuls) pour s'entraîner.  Après avoir calculé U et V, vous pourrez estimer toutes les valeurs inconnues de R, puisque R = U.T x V -- il suffira pour cela d'utiliser le modèle en mode prédiction.\n",
    "\n",
    "Vous évaluerez le résultat en comparant ces estimations avec les *ratings* connus de `valid_df`. "
   ]
  },
  {
   "cell_type": "code",
   "execution_count": null,
   "metadata": {},
   "outputs": [],
   "source": [
    "import keras\n",
    "from tensorflow.keras.layers import Input, Embedding, Flatten, dot\n",
    "from tensorflow.keras.models import Model\n",
    "from tensorflow.keras.metrics import RootMeanSquaredError"
   ]
  },
  {
   "cell_type": "markdown",
   "metadata": {},
   "source": [
    "**5a.** Veuillez définir le modèle Keras qui prend en entrée l'index de l'utilisateur et l'index du film, et produit en sortie le *rating* estimé comme le produit scalaire des embeddings des entrées (*voir le cours*).  Finir par la compilation du modèle selon la ligne de code fournie."
   ]
  },
  {
   "cell_type": "code",
   "execution_count": null,
   "metadata": {},
   "outputs": [],
   "source": [
    "# Définition du modèle\n",
    "# n_latent_factors = \n",
    "\n",
    "model.compile(optimizer='adam', loss='mean_squared_error', metrics=[RootMeanSquaredError()])"
   ]
  },
  {
   "cell_type": "markdown",
   "metadata": {},
   "source": [
    "**5b.** Veuillez entraîner le modèle pendant un certain nombre d'époques et sauvegarder l'historique des scores."
   ]
  },
  {
   "cell_type": "code",
   "execution_count": null,
   "metadata": {},
   "outputs": [],
   "source": []
  },
  {
   "cell_type": "markdown",
   "metadata": {},
   "source": [
    "**5c.** Veuillez afficher sur un graphique l'évolution de la RMSE sur les données de validation (`valid_df`) au cours de l'entraînement.  Veuillez afficher aussi séparément la meilleure valeur de RMSE.  Après plusieurs expériences, veuillez laisser un graphique qui montre que l'apprentissage est satisfaisant et expliquer pourquoi. "
   ]
  },
  {
   "cell_type": "code",
   "execution_count": null,
   "metadata": {},
   "outputs": [],
   "source": []
  },
  {
   "cell_type": "markdown",
   "metadata": {},
   "source": [
    "**5d.** Effectuez plusieurs expériences et décrivez-les brièvement ici, pour déterminer votre meilleur modèle -- c'est à dire les valeurs optimales de `n_latent_factors` et du nombre d'époques.  Utilisez comme critère la RMSE sur les données de validation.  Si ce modèle est meilleur que ceux du (3) ou du (4), veuillez le sauvegarder à l'aide de la fonction [save](https://keras.io/guides/serialization_and_saving/) de Keras pour le soumettre à la compétition."
   ]
  },
  {
   "cell_type": "code",
   "execution_count": null,
   "metadata": {},
   "outputs": [],
   "source": []
  },
  {
   "cell_type": "markdown",
   "metadata": {},
   "source": [
    "**Fin du Labo 8.**  Veuillez nettoyer ce notebook, afficher les résultats et les commentaires demandés, l'enregistrer, et le soumettre comme devoir sur Cyberlearn.  \n",
    "\n",
    "Ne pas oublier de soumettre également votre meilleur système avec le code nécessaire pour l'évaluer sur des données de test similaires à celles de validation."
   ]
  },
  {
   "cell_type": "code",
   "execution_count": null,
   "metadata": {},
   "outputs": [],
   "source": []
  }
 ],
 "metadata": {
  "kernelspec": {
   "display_name": "data-science",
   "language": "python",
   "name": "python3"
  },
  "language_info": {
   "codemirror_mode": {
    "name": "ipython",
    "version": 3
   },
   "file_extension": ".py",
   "mimetype": "text/x-python",
   "name": "python",
   "nbconvert_exporter": "python",
   "pygments_lexer": "ipython3",
   "version": "3.12.7"
  }
 },
 "nbformat": 4,
 "nbformat_minor": 1
}

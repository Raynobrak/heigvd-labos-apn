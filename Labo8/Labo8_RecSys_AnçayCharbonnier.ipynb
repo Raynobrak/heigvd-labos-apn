{
 "cells": [
  {
   "cell_type": "markdown",
   "metadata": {},
   "source": [
    "<img src=\"https://heig-vd.ch/docs/default-source/doc-global-newsletter/2020-slim.svg\" alt=\"Logo HEIG-VD\" style=\"width: 80px;\" align=\"right\"/>\n",
    "\n",
    "# Cours APN - Labo 8 : Recommandation de films par filtrage collaboratif\n",
    "\n",
    "## Résumé\n",
    "\n",
    "Le but de ce laboratoire est d'entraîner et de tester plusieurs méthodes de recommandation par filtrage collaboratif :\n",
    "* plusieurs *baselines* (notes moyennes par utilisateur ou par film)\n",
    "* deux approches *memory-based* (modèle utilisateur-utilisateur ou film-film)\n",
    "* une approche *model-based* (réduction de dimensionnalité)\n",
    "\n",
    "Un jeu de données d'entraînement est fourni, ainsi qu'un jeu de validation, sur lequel vous pourrez tester vos méthodes et choisir les paramètres donnant les meilleurs résultats.\n",
    "\n",
    "**Pour rendre ce travail,** veuillez répondre aux questions en écrivant le code demandé, résumer les tests effectués, et comparer entre eux les scores obtenus.  Veuillez ensuite rendre le notebook sur Cyberlearn.\n",
    "\n",
    "**Pour participer à la compétition**, veuillez rendre séparément sur Cyberlearn un notebook qui permet d'exécuter seulement votre meilleure méthode sur les données de validation (nous les remplacerons par celles de test) ; veuillez rendre également le modèle qui est utilisé par votre notebook."
   ]
  },
  {
   "cell_type": "code",
   "execution_count": 107,
   "metadata": {},
   "outputs": [],
   "source": [
    "import numpy as np\n",
    "import pandas as pd\n",
    "import matplotlib.pyplot as plt\n",
    "from tqdm import tqdm # permet d'afficher la progression de l'exécution"
   ]
  },
  {
   "cell_type": "markdown",
   "metadata": {},
   "source": [
    "## 1. Analyse exploratoire des données\n",
    "\n",
    "Le groupe de recherche GroupLens met à disposition le [jeu de données MovieLens](http://files.grouplens.org/datasets/movielens/) contenant 20 millions de *ratings*, c'est-à-dire des notes données à des films par des utilisateurs.  Pour simplifier, deux extraits des données sont fournis dans les fichiers `ratings_train.csv` et `ratings_valid.csv` sur Cyberlearn.  \n",
    "\n",
    "Ces fichiers contiennent les index originaux des utilisateurs et des films, ainsi que des index nouveaux (*new*) qui vont de 1 à `n_users` et de 1 à `n_movies` sans discontinuer. \n",
    "\n",
    "Note : GroupLens fournit aussi d'autres informations, notamment une correspondance entre les index originaux des films et leurs titres.  En revanche, les utilisateurs sont toujours anonymisés et sont désignés par leurs index."
   ]
  },
  {
   "cell_type": "markdown",
   "metadata": {},
   "source": [
    "**1a.** Veuillez charger les deux extraits de données dans deux *dataframes* appelées `train_df` et `valid_df`.\n",
    "* Veuillez afficher les 3 premières lignes de chacune.\n",
    "* Combien de *ratings* contient chacune des *dataframes* ?\n",
    "* Quels sont les valeurs minimale, maximale, et moyenne des *ratings* dans chaque *dataframe* ?"
   ]
  },
  {
   "cell_type": "code",
   "execution_count": 108,
   "metadata": {},
   "outputs": [],
   "source": [
    "train_df = pd.read_csv('data/ratings_train.csv')\n",
    "valid_df = pd.read_csv('data/ratings_valid.csv')"
   ]
  },
  {
   "cell_type": "code",
   "execution_count": 109,
   "metadata": {},
   "outputs": [
    {
     "data": {
      "text/html": [
       "<div>\n",
       "<style scoped>\n",
       "    .dataframe tbody tr th:only-of-type {\n",
       "        vertical-align: middle;\n",
       "    }\n",
       "\n",
       "    .dataframe tbody tr th {\n",
       "        vertical-align: top;\n",
       "    }\n",
       "\n",
       "    .dataframe thead th {\n",
       "        text-align: right;\n",
       "    }\n",
       "</style>\n",
       "<table border=\"1\" class=\"dataframe\">\n",
       "  <thead>\n",
       "    <tr style=\"text-align: right;\">\n",
       "      <th></th>\n",
       "      <th>userId</th>\n",
       "      <th>movieId</th>\n",
       "      <th>rating</th>\n",
       "      <th>newMovieId</th>\n",
       "      <th>newUserId</th>\n",
       "    </tr>\n",
       "  </thead>\n",
       "  <tbody>\n",
       "    <tr>\n",
       "      <th>0</th>\n",
       "      <td>112988</td>\n",
       "      <td>44191</td>\n",
       "      <td>8</td>\n",
       "      <td>797</td>\n",
       "      <td>831</td>\n",
       "    </tr>\n",
       "    <tr>\n",
       "      <th>1</th>\n",
       "      <td>10012</td>\n",
       "      <td>3052</td>\n",
       "      <td>8</td>\n",
       "      <td>707</td>\n",
       "      <td>74</td>\n",
       "    </tr>\n",
       "    <tr>\n",
       "      <th>2</th>\n",
       "      <td>97826</td>\n",
       "      <td>3948</td>\n",
       "      <td>8</td>\n",
       "      <td>562</td>\n",
       "      <td>714</td>\n",
       "    </tr>\n",
       "  </tbody>\n",
       "</table>\n",
       "</div>"
      ],
      "text/plain": [
       "   userId  movieId  rating  newMovieId  newUserId\n",
       "0  112988    44191       8         797        831\n",
       "1   10012     3052       8         707         74\n",
       "2   97826     3948       8         562        714"
      ]
     },
     "execution_count": 109,
     "metadata": {},
     "output_type": "execute_result"
    }
   ],
   "source": [
    "train_df.head(3)"
   ]
  },
  {
   "cell_type": "code",
   "execution_count": 110,
   "metadata": {},
   "outputs": [
    {
     "data": {
      "text/html": [
       "<div>\n",
       "<style scoped>\n",
       "    .dataframe tbody tr th:only-of-type {\n",
       "        vertical-align: middle;\n",
       "    }\n",
       "\n",
       "    .dataframe tbody tr th {\n",
       "        vertical-align: top;\n",
       "    }\n",
       "\n",
       "    .dataframe thead th {\n",
       "        text-align: right;\n",
       "    }\n",
       "</style>\n",
       "<table border=\"1\" class=\"dataframe\">\n",
       "  <thead>\n",
       "    <tr style=\"text-align: right;\">\n",
       "      <th></th>\n",
       "      <th>userId</th>\n",
       "      <th>movieId</th>\n",
       "      <th>rating</th>\n",
       "      <th>newMovieId</th>\n",
       "      <th>newUserId</th>\n",
       "    </tr>\n",
       "  </thead>\n",
       "  <tbody>\n",
       "    <tr>\n",
       "      <th>0</th>\n",
       "      <td>99342</td>\n",
       "      <td>10</td>\n",
       "      <td>6</td>\n",
       "      <td>7</td>\n",
       "      <td>725</td>\n",
       "    </tr>\n",
       "    <tr>\n",
       "      <th>1</th>\n",
       "      <td>107579</td>\n",
       "      <td>1729</td>\n",
       "      <td>6</td>\n",
       "      <td>679</td>\n",
       "      <td>795</td>\n",
       "    </tr>\n",
       "    <tr>\n",
       "      <th>2</th>\n",
       "      <td>134156</td>\n",
       "      <td>2881</td>\n",
       "      <td>5</td>\n",
       "      <td>475</td>\n",
       "      <td>971</td>\n",
       "    </tr>\n",
       "  </tbody>\n",
       "</table>\n",
       "</div>"
      ],
      "text/plain": [
       "   userId  movieId  rating  newMovieId  newUserId\n",
       "0   99342       10       6           7        725\n",
       "1  107579     1729       6         679        795\n",
       "2  134156     2881       5         475        971"
      ]
     },
     "execution_count": 110,
     "metadata": {},
     "output_type": "execute_result"
    }
   ],
   "source": [
    "valid_df.head(3)"
   ]
  },
  {
   "cell_type": "code",
   "execution_count": 111,
   "metadata": {},
   "outputs": [
    {
     "name": "stdout",
     "output_type": "stream",
     "text": [
      "train_df contient 598095 ratings\n",
      "valid_df contient 33227 ratings\n"
     ]
    }
   ],
   "source": [
    "print(\"train_df contient {} ratings\".format(train_df.shape[0]))\n",
    "print(\"valid_df contient {} ratings\".format(valid_df.shape[0]))"
   ]
  },
  {
   "cell_type": "code",
   "execution_count": 112,
   "metadata": {},
   "outputs": [
    {
     "data": {
      "text/plain": [
       "count    598095.000000\n",
       "mean          6.848430\n",
       "std           2.018841\n",
       "min           1.000000\n",
       "25%           6.000000\n",
       "50%           7.000000\n",
       "75%           8.000000\n",
       "max          10.000000\n",
       "Name: rating, dtype: float64"
      ]
     },
     "execution_count": 112,
     "metadata": {},
     "output_type": "execute_result"
    }
   ],
   "source": [
    "train_df['rating'].describe()"
   ]
  },
  {
   "cell_type": "code",
   "execution_count": 113,
   "metadata": {},
   "outputs": [
    {
     "data": {
      "text/plain": [
       "count    33227.000000\n",
       "mean         6.871430\n",
       "std          2.022735\n",
       "min          1.000000\n",
       "25%          6.000000\n",
       "50%          7.000000\n",
       "75%          8.000000\n",
       "max         10.000000\n",
       "Name: rating, dtype: float64"
      ]
     },
     "execution_count": 113,
     "metadata": {},
     "output_type": "execute_result"
    }
   ],
   "source": [
    "valid_df['rating'].describe()"
   ]
  },
  {
   "cell_type": "markdown",
   "metadata": {},
   "source": [
    "**1b. Vérifications.** Quelles sont les plus petites et les plus grandes valeurs des *nouveaux* index des utilisateurs et des films, dans chacune des deux dataframes ?  Combien de valeurs différentes y a-t-il ? Est-ce qu'il y a des index manquants ?"
   ]
  },
  {
   "cell_type": "code",
   "execution_count": 114,
   "metadata": {},
   "outputs": [
    {
     "name": "stdout",
     "output_type": "stream",
     "text": [
      "train_df newMovieId   min :  1 , max :  1000 , unique :  1000 , missing 0\n",
      "train_df newUserId    min :  1 , max :  1000 , unique :  1000 , missing 0\n",
      "\n",
      "valid_df newMovieId   min :  1 , max :  1000 , unique :  1000 , missing 0\n",
      "valid_df newUserId    min :  1 , max :  1000 , unique :  1000 , missing 0\n",
      "\n",
      "Comparaison avec les ids originaux\n",
      "traind_df user_id min :  156 , max :  138208 , unique :  1000 , missing 0\n"
     ]
    }
   ],
   "source": [
    "print(\"train_df newMovieId   min : \",train_df['newMovieId'].min(), \", max : \", train_df['newMovieId'].max(), \", unique : \", train_df['newMovieId'].nunique(), \", missing\" , train_df['newMovieId'].isnull().sum())\n",
    "print(\"train_df newUserId    min : \",train_df['newUserId'].min(), \", max : \", train_df['newUserId'].max(), \", unique : \", train_df['newUserId'].nunique(), \", missing\" , train_df['newUserId'].isnull().sum())\n",
    "print()\n",
    "print(\"valid_df newMovieId   min : \",valid_df['newMovieId'].min(), \", max : \", valid_df['newMovieId'].max(), \", unique : \", valid_df['newMovieId'].nunique(), \", missing\" , valid_df['newMovieId'].isnull().sum())\n",
    "print(\"valid_df newUserId    min : \",valid_df['newUserId'].min(), \", max : \", valid_df['newUserId'].max(), \", unique : \", valid_df['newUserId'].nunique(), \", missing\" , valid_df['newUserId'].isnull().sum())\n",
    "\n",
    "print(\"\\nComparaison avec les ids originaux\")\n",
    "print(\"traind_df user_id min : \", train_df['userId'].min(), \", max : \", train_df['userId'].max(), \", unique : \", train_df['userId'].nunique(), \", missing\" , train_df['userId'].isnull().sum())"
   ]
  },
  {
   "cell_type": "markdown",
   "metadata": {},
   "source": [
    "**1c.** Veuillez d'abord définir les variables `n_users` et `n_movies` qui stockent le nombre d'utilisateurs et de films différents.  Quel est le nombre moyen de *ratings* par utilisateur ?  Et par film ?\n",
    "\n",
    "Dans `train_df`, combien de *ratings* possède le film le plus souvent évalué ?  (Autrement dit, quel est le nombre maximal de *ratings* d'un film ?)  Combien de *ratings* possède le film le moins souvent évalué ?  \n",
    "\n",
    "Indication : pour calculer le nombre de ratings par film, appliquer `groupby()` puis `count()` sur la *dataframe*. \n",
    "\n",
    "Dans `train_df`, combien de *ratings* a formulé l'utilisateur qui s'est le plus souvent exprimé ?  (Autrement dit, quel est le nombre maximal de *ratings* donnés par un utilisateur ?)  Combien de *ratings* a formulé l'utilisateur qui s'est le moins souvent exprimé ?"
   ]
  },
  {
   "cell_type": "code",
   "execution_count": 115,
   "metadata": {},
   "outputs": [
    {
     "name": "stdout",
     "output_type": "stream",
     "text": [
      "n_users =  1000 , n_movies =  1000\n",
      "Nombre moyen de ratings par utilisateur :  598.095\n",
      "Nombre moyen de ratings par film :  598.095\n",
      "Nombre max de ratings pour un film : 914\n",
      "Nombre min de ratings pour un film : 192\n",
      "Nombre max de ratings pour un utilisateur : 901\n",
      "Nombre min de ratings pour un utilisateur : 497\n"
     ]
    }
   ],
   "source": [
    "N_USERS = train_df['newUserId'].nunique()\n",
    "N_MOVIES = train_df['newMovieId'].nunique()\n",
    "\n",
    "print(\"n_users = \", N_USERS, \", n_movies = \", N_MOVIES)\n",
    "\n",
    "#Nombre moyen de ratings par utilisateur/par film\n",
    "print(\"Nombre moyen de ratings par utilisateur : \", train_df.groupby('newUserId')[\"rating\"].count().mean())\n",
    "print(\"Nombre moyen de ratings par film : \", train_df.groupby('newMovieId')[\"rating\"].count().mean())\n",
    "\n",
    "print(\"Nombre max de ratings pour un film :\", train_df.groupby('newMovieId')[\"rating\"].count().max())\n",
    "print(\"Nombre min de ratings pour un film :\", train_df.groupby('newMovieId')[\"rating\"].count().min())\n",
    "\n",
    "ratings_per_user = train_df.groupby('newUserId')[\"rating\"].count()\n",
    "print(\"Nombre max de ratings pour un utilisateur :\", ratings_per_user.max())\n",
    "print(\"Nombre min de ratings pour un utilisateur :\", ratings_per_user.min())"
   ]
  },
  {
   "cell_type": "markdown",
   "metadata": {},
   "source": [
    "**1d (facultatif).** Le but ici est de mieux étudier la distribution des *ratings* par utilisateur, dont vous venez de calculer les valeurs moyenne, minimale et maximale.\n",
    "\n",
    "Veuillez afficher (côte à côte si possible) les histogrammes du nombre de *ratings* par utilisateur dans `train_df` et dans `valid_df`.  Pensez à bien écrire les légendes des axes. Qu'observe-t-on en comparant `train_df` et dans `valid_df`?\n",
    "\n",
    "Même question pour le nombre de *ratings* par film."
   ]
  },
  {
   "cell_type": "code",
   "execution_count": 116,
   "metadata": {},
   "outputs": [
    {
     "data": {
      "image/png": "[encoded data removed]",
      "text/plain": [
       "<Figure size 640x480 with 1 Axes>"
      ]
     },
     "metadata": {},
     "output_type": "display_data"
    },
    {
     "data": {
      "image/png": "[encoded data removed]",
      "text/plain": [
       "<Figure size 640x480 with 1 Axes>"
      ]
     },
     "metadata": {},
     "output_type": "display_data"
    },
    {
     "name": "stdout",
     "output_type": "stream",
     "text": [
      "598095 33227\n"
     ]
    }
   ],
   "source": [
    "import matplotlib.pyplot as plt\n",
    "\n",
    "ratings_per_user_val = valid_df.groupby('newUserId')[\"rating\"].count()\n",
    "\n",
    "ratings_per_user.hist(bins=30)\n",
    "ratings_per_user_val.hist(bins=30)\n",
    "plt.xlabel(\"Nombre d'évaluations par utilisateur\")\n",
    "plt.ylabel(\"Nombre d'utilisateur\")\n",
    "plt.show()\n",
    "\n",
    "train_df.groupby('newMovieId')[\"rating\"].count().hist(bins=30)\n",
    "valid_df.groupby('newMovieId')[\"rating\"].count().hist(bins=30)\n",
    "plt.xlabel(\"Nombre d'évaluations par film\")\n",
    "plt.ylabel(\"Nombre de films\")\n",
    "plt.show()\n",
    "\n",
    "print(len(train_df), len(valid_df))\n"
   ]
  },
  {
   "cell_type": "markdown",
   "metadata": {},
   "source": [
    "*Réponse :* Au niveau du nombre de ratings par utilisateur, on observe qu'il y en a beaucoup moins dans les données de validation que les données d'entraînement. On obtient le même résultat pour les films. On peut donc en conclure qu'il y a en général moins d'évaluations dans les données de validation."
   ]
  },
  {
   "cell_type": "markdown",
   "metadata": {},
   "source": [
    "**1e.** Veuillez générer les matrices *utilisateurs x films* qui contiennent dans chaque cellule \\[i, j\\] le *rating* de l'utilisateur *i* pour le film *j*.  Si ce *rating* n'existe pas, la cellule vaut zéro.  Veuillez générer :\n",
    "- la matrice `train_matrix` à partir de `train_df`\n",
    "- la matrice `valid_matrix` à partir de `valid_df`\n",
    "\n",
    "Quel est le taux de remplissage (cellules non nulles) de chaque matrice ?  On peut le calculer soit à partir des *dataframes*, soit directement sur les matrices.  Que pouvez-vous observer en comparant ces deux valeurs ?"
   ]
  },
  {
   "cell_type": "code",
   "execution_count": 117,
   "metadata": {},
   "outputs": [],
   "source": [
    "def generate_matrix(df):    \n",
    "    matrix = np.zeros((N_USERS, N_MOVIES))\n",
    "    for _, row in df.iterrows():\n",
    "        user = row['newUserId']\n",
    "        movie = row['newMovieId']\n",
    "        matrix[user, movie] = row['rating']\n",
    "    return matrix\n",
    "\n",
    "# Ajustement pour que les \"newId\" commencent à 0 et pas à 1\n",
    "train_df['newUserId'] -= 1\n",
    "train_df['newMovieId'] -= 1\n",
    "valid_df['newUserId'] -= 1\n",
    "valid_df['newMovieId'] -= 1\n",
    "\n",
    "# Génération des matrices\n",
    "train_matrix = generate_matrix(train_df)\n",
    "valid_matrix = generate_matrix(valid_df)"
   ]
  },
  {
   "cell_type": "code",
   "execution_count": 118,
   "metadata": {},
   "outputs": [
    {
     "name": "stdout",
     "output_type": "stream",
     "text": [
      "Taux de remplissage de la matrice d'entraînement : 0.598095\n",
      "Taux de remplissage de la matrice de validation : 0.033227\n"
     ]
    }
   ],
   "source": [
    "MATRIX_SIZE = N_USERS * N_MOVIES\n",
    "\n",
    "print(\"Taux de remplissage de la matrice d'entraînement :\", np.count_nonzero(train_matrix) / MATRIX_SIZE)\n",
    "print(\"Taux de remplissage de la matrice de validation :\", np.count_nonzero(valid_matrix) / MATRIX_SIZE)"
   ]
  },
  {
   "cell_type": "markdown",
   "metadata": {},
   "source": [
    "*Réponse :* La matrice de validation est beaucoup plus creuse que la matrice d'entraînement."
   ]
  },
  {
   "cell_type": "markdown",
   "metadata": {},
   "source": [
    "## 2. Évaluation des systèmes \"baseline\"\n",
    "\n",
    "Dans cette section, vous allez créer plusieurs systèmes *baseline* pour la comparaison, calculer leurs scores sur `valid_matrix` et les afficher.  Le calcul des scores vous est montré au point 2a.  Ces systèmes sont :\n",
    "- **2a.** Prédiction des *ratings* comme valeurs aléatoires entre 1 et 10 (**code fourni**).\n",
    "- **2b.** Prédiction des *ratings* par la moyenne de tous les *ratings* fournis dans `train_matrix`.\n",
    "- **2c.** Prédiction des *ratings* d'un utilisateur par la moyenne de ses *ratings* fournis dans `train_matrix`.\n",
    "- **2d.** Prédiction des *ratings* d'un film par la moyenne de ses *ratings* fournis dans `train_matrix`.\n",
    "- **2e.** Prédiction de votre choix, par une combinaison des éléments de (b), (c) et (d)."
   ]
  },
  {
   "cell_type": "code",
   "execution_count": 119,
   "metadata": {},
   "outputs": [
    {
     "name": "stdout",
     "output_type": "stream",
     "text": [
      "RMSE en faisant des prédictions aléatoires entre 1 et 11 : 3.7868\n"
     ]
    }
   ],
   "source": [
    "from sklearn.metrics import root_mean_squared_error\n",
    "\n",
    "# 2a. Voici comment calculer la Root Mean Squared Error (RMSE) des prédictions par rapport aux ratings de valid_matrix.\n",
    "valid_vector = valid_matrix[valid_matrix.nonzero()] # suite des ratings non-nuls de valid_matrix\n",
    "\n",
    "predict_2a = np.random.randint(1, 11, (len(valid_vector), 1)) # ratings aléatoires pour les utilisateurs x films \n",
    "\n",
    "rmse_2a = root_mean_squared_error(valid_vector, predict_2a)\n",
    "\n",
    "print(f'RMSE en faisant des prédictions aléatoires entre 1 et 11 : {round(rmse_2a, 4)}')"
   ]
  },
  {
   "cell_type": "code",
   "execution_count": 120,
   "metadata": {},
   "outputs": [
    {
     "name": "stdout",
     "output_type": "stream",
     "text": [
      "RMSE en faisant la moyenne des ratings : 2.0228\n"
     ]
    }
   ],
   "source": [
    "# 2b -- veuillez écrire votre code ici et afficher le score RMSE\n",
    "\n",
    "mean_rating = train_df['rating'].mean()\n",
    "predict_2b = np.full((len(valid_vector), 1), mean_rating)\n",
    "rmse_2b = root_mean_squared_error(valid_vector, predict_2b)\n",
    "print(f'RMSE en faisant la moyenne des ratings : {round(rmse_2b, 4)}')\n"
   ]
  },
  {
   "cell_type": "code",
   "execution_count": 121,
   "metadata": {},
   "outputs": [
    {
     "name": "stdout",
     "output_type": "stream",
     "text": [
      "RMSE en faisant la moyenne des ratings par utilisateur : 1.8535\n"
     ]
    }
   ],
   "source": [
    "# 2c -- veuillez écrire votre code ici et afficher le score RMSE\n",
    "mean_user_ratings = train_df.groupby('newUserId')['rating'].mean()\n",
    "\n",
    "predict_2c = np.array([mean_user_ratings[user] for user in valid_df['newUserId']]).reshape(-1,1)\n",
    "rmse_2c = root_mean_squared_error(valid_df['rating'], predict_2c)\n",
    "print(f'RMSE en faisant la moyenne des ratings par utilisateur : {round(rmse_2c, 4)}')\n"
   ]
  },
  {
   "cell_type": "code",
   "execution_count": 122,
   "metadata": {},
   "outputs": [
    {
     "name": "stdout",
     "output_type": "stream",
     "text": [
      "RMSE en faisant la moyenne des ratings par film : 1.7767\n"
     ]
    }
   ],
   "source": [
    "# 2d -- veuillez écrire votre code ici et afficher le score RMSE\n",
    "mean_movie_ratings = train_df.groupby('newMovieId')['rating'].mean()\n",
    "predict_2d = np.array([mean_movie_ratings[movie] for movie in valid_df['newMovieId']]).reshape(-1,1)\n",
    "rmse_2d = root_mean_squared_error(valid_df['rating'], predict_2d)\n",
    "print(f'RMSE en faisant la moyenne des ratings par film : {round(rmse_2d, 4)}')\n"
   ]
  },
  {
   "cell_type": "code",
   "execution_count": 123,
   "metadata": {},
   "outputs": [
    {
     "name": "stdout",
     "output_type": "stream",
     "text": [
      "RMSE en faisant la moyenne des deux derniers tableaux de prédiction : 1.7061\n"
     ]
    }
   ],
   "source": [
    "# 2e -- veuillez écrire votre code ici et afficher le score RMSE\n",
    "\n",
    "predict_2e = np.add(predict_2c, predict_2d) / 2\n",
    "rmse_2e = root_mean_squared_error(valid_df['rating'], predict_2e)\n",
    "print(f'RMSE en faisant la moyenne des deux derniers tableaux de prédiction : {round(rmse_2e, 4)}')\n"
   ]
  },
  {
   "cell_type": "markdown",
   "metadata": {},
   "source": [
    "**2f.** Veuillez recopier ici les scores obtenus et commenter leurs différences."
   ]
  },
  {
   "cell_type": "code",
   "execution_count": 124,
   "metadata": {},
   "outputs": [
    {
     "name": "stdout",
     "output_type": "stream",
     "text": [
      "RMSE en faisant des prédictions aléatoires entre 1 et 11 : 3.7868\n",
      "RMSE en faisant la moyenne des ratings : 2.0228\n",
      "RMSE en faisant la moyenne des ratings par utilisateur : 1.8535\n",
      "RMSE en faisant la moyenne des ratings par film : 1.7767\n",
      "RMSE en faisant la moyenne des deux derniers tableaux de prédiction : 1.7061\n"
     ]
    }
   ],
   "source": [
    "print(f'RMSE en faisant des prédictions aléatoires entre 1 et 11 : {round(rmse_2a, 4)}')\n",
    "print(f'RMSE en faisant la moyenne des ratings : {round(rmse_2b, 4)}')\n",
    "print(f'RMSE en faisant la moyenne des ratings par utilisateur : {round(rmse_2c, 4)}')\n",
    "print(f'RMSE en faisant la moyenne des ratings par film : {round(rmse_2d, 4)}')\n",
    "print(f'RMSE en faisant la moyenne des deux derniers tableaux de prédiction : {round(rmse_2e, 4)}')"
   ]
  },
  {
   "cell_type": "markdown",
   "metadata": {},
   "source": [
    "*Réponse :* La meilleure approche parmis les propositions était la moyenne par film. Nous pensons que ce résultat est logique car il y a probablement moins de variance dans la note donnée à un film en général que dans les notes données par un utilisateur sur tous les films qu'il a vu. Cependant, nous avons obtenu les meilleurs résultats avec notre approche consistant à prendre en compte la moyenne par film et de la moyenne par utilisateur (en moyennant les deux vecteurs, par élément)."
   ]
  },
  {
   "cell_type": "markdown",
   "metadata": {},
   "source": [
    "## 3. Filtrage collaboratif basé sur les exemples : modèle utilisateur-utilisateur\n",
    "\n",
    "Dans cette partie, vous allez implémenter et tester les modèles de filtrage collaboratif *\"memory-based\"* qui calculent les *ratings* prédits pour chaque utilisateur selon les films les plus appréciés par les utilisateurs semblables.  Les formules pour ce modèle ont été données en cours.  Il faudra faire attention aux sous-ensembles sur lesquels sont calculées les différentes sommes.\n",
    "\n",
    "**3a.** Veuillez calculer les *ratings* moyens de chaque utilisateur et les stocker dans un tableau nommé `mean_user_ratings`.\n",
    "\n",
    "Attention, il ne faut pas inclure les valeurs nulles dans le calcul de ces moyennes.  Les zéros ne sont pas de vrais scores (*ratings*) mais indiquent l'absence de score.  Si on les incluait, les moyennes seraient toutes très basses."
   ]
  },
  {
   "cell_type": "markdown",
   "metadata": {},
   "source": [
    "**3b.** *Memory-based collaborative filtering: user-user model.*  Veuillez implémenter la formule vue en cours pour calculer la matrice `sim`.  Il s'agit d'un coefficient de similarité entre deux utilisateurs, sur la base des *ratings* qu'ils ont formulés pour les films qu'ils ont jugés en commun.  On utilise la corrélation de Pearson, mais restreinte aux films communs, c'est-à-dire ceux avec des *ratings* non nuls des deux utilisateurs.  Pour cette raison, on ne peut pas appliquer directement la fonction `numpy.corrcoef()` sur `train_matrix`, mais on doit effectuer le calcul explicitement."
   ]
  },
  {
   "cell_type": "code",
   "execution_count": 125,
   "metadata": {},
   "outputs": [
    {
     "name": "stderr",
     "output_type": "stream",
     "text": [
      "100%|██████████| 1000/1000 [00:26<00:00, 37.38it/s]\n"
     ]
    }
   ],
   "source": [
    "# Initialisation de la matrice des similarités entre utilisateurs :\n",
    "# sim[i, j] mesure la similarité entre les utilisateurs i et j.\n",
    "# La matrice sera symétrique car sim[i, j] = sim[j, i], et elle peut\n",
    "# avoir la diagonale nulle, car le modèle n'utilisera pas sim[i, i].\n",
    "\n",
    "sim = np.zeros((N_USERS, N_USERS)) \n",
    "\n",
    "# Parcourir les ratings des utilisateurs i et j (avec i<j), c'est-à-dire \n",
    "# train_matrix[i] et train_matrix[j], retenir seulement les positions où\n",
    "# les deux ratings sont >0, puis calculer le coefficient de corrélation.\n",
    "\n",
    "for i in tqdm(range(N_USERS)):\n",
    "    for j in range(i+1, N_USERS):\n",
    "        ratings_user_i = train_matrix[i,:]\n",
    "        ratings_user_j = train_matrix[j,:]\n",
    "\n",
    "        common_mask = (ratings_user_i > 0) & (ratings_user_j > 0)\n",
    "        if np.sum(common_mask) >= 2:\n",
    "            common_ratings_i = ratings_user_i[common_mask]\n",
    "            common_ratings_j = ratings_user_j[common_mask]\n",
    "\n",
    "            corr = abs(np.corrcoef(common_ratings_i, common_ratings_j)[0,1])\n",
    "            sim[i,j] = corr\n",
    "            sim[j,i] = corr\n",
    "            "
   ]
  },
  {
   "cell_type": "code",
   "execution_count": 126,
   "metadata": {},
   "outputs": [],
   "source": [
    "# Une fonction auxiliaire utile.  Elle retourne une copie du vecteur \n",
    "# qui garde ses n plus grandes valeurs et met les autres à zéro.\n",
    "def highest(array, n):\n",
    "    if n >= len(array) or n < 0:\n",
    "        return array.copy()\n",
    "    else:\n",
    "        threshold = sorted(array, reverse=True)[n-1]\n",
    "        result = array.copy()\n",
    "        result[result<threshold]=0\n",
    "        return result"
   ]
  },
  {
   "cell_type": "code",
   "execution_count": 127,
   "metadata": {},
   "outputs": [
    {
     "name": "stdout",
     "output_type": "stream",
     "text": [
      "[1 2 5 0 9 7] [0 0 0 0 9 7] [3 0 2 0 0 7]\n",
      "[1 2 5 0 9 7] [0 0 5 0 0 7] [3 0 2 0 0 7]\n"
     ]
    }
   ],
   "source": [
    "# Test de la fonction : retourne une copie de arr1 qui garde seulement\n",
    "# ses 2 plus grands éléments, puis la même chose mais en gardant les\n",
    "# deux plus grands éléments qui se trouvent à des emplacements non nuls\n",
    "# de arr2 (cet exemple servira au 3c).\n",
    "arr1 = np.array([1, 2, 5, 0, 9, 7])\n",
    "arr2 = np.array([3, 0, 2, 0, 0, 7])\n",
    "print(arr1, highest(arr1, 2), arr2)\n",
    "print(arr1, highest(arr1 * np.where(arr2 > 0, 1, 0), 2), arr2)"
   ]
  },
  {
   "cell_type": "markdown",
   "metadata": {},
   "source": [
    "**3c.** Veuillez calculer les *ratings* prédits par le système pour tous les utilisateurs et les items (comme au 2c et 2d mais chaque cellule doit être calculée avec la formule vue en cours).  Essayez d'optimiser le nombre d'utilisateurs semblables que vous retenez dans la formule."
   ]
  },
  {
   "cell_type": "code",
   "execution_count": 128,
   "metadata": {},
   "outputs": [
    {
     "name": "stdout",
     "output_type": "stream",
     "text": [
      "1000\n"
     ]
    },
    {
     "name": "stderr",
     "output_type": "stream",
     "text": [
      "33227it [00:13, 2505.38it/s]\n"
     ]
    }
   ],
   "source": [
    "N_BEST_USERS = 100\n",
    "preds = []\n",
    "\n",
    "print(len(mean_user_ratings))\n",
    "\n",
    "for _, row in tqdm(valid_df.iterrows()):\n",
    "    u = row['newUserId']\n",
    "    m = row['newMovieId']\n",
    "\n",
    "    mean_for_u = mean_user_ratings[u]\n",
    "    sim_u = sim[u,:]\n",
    "\n",
    "    r_i = train_matrix[:,m]\n",
    "    sim_u = highest(sim_u * np.where(r_i > 0, 1, 0), N_BEST_USERS)\n",
    "\n",
    "    sumOfSimTimesRatings = np.sum(sim_u * (r_i - mean_user_ratings))    \n",
    "    prediction = mean_for_u + sumOfSimTimesRatings / np.sum(sim_u)\n",
    "\n",
    "    preds.append(prediction)\n",
    "\n",
    "    # Uncomment to see evolution of rmse in real time\n",
    "    #if _ % 1000 == 0 and _ > 1:\n",
    "    #    rmse = root_mean_squared_error(valid_vector[:_], preds[:_])\n",
    "    #    print(rmse)"
   ]
  },
  {
   "cell_type": "markdown",
   "metadata": {},
   "source": [
    "**3d.** Veuillez évaluer les *ratings* prédits en les comparant avec les *ratings* fournis par `valid_vector` calculé plus haut.  Comment se compare le résultat avec les scores du 2f ?"
   ]
  },
  {
   "cell_type": "code",
   "execution_count": 129,
   "metadata": {},
   "outputs": [
    {
     "name": "stdout",
     "output_type": "stream",
     "text": [
      "2.5113416968946716\n"
     ]
    }
   ],
   "source": [
    "rmse_user_similarity = root_mean_squared_error(valid_vector, preds)\n",
    "print(rmse_user_similarity)"
   ]
  },
  {
   "cell_type": "markdown",
   "metadata": {},
   "source": [
    "*Réponse :* Malheureusement, les résultats sont beaucoup moins bons que les méthodes précédentes. Nous pensons que notre implémentation doit contenir des bugs mais nous n'avons malheureusement pas réussi à en trouver la source."
   ]
  },
  {
   "cell_type": "markdown",
   "metadata": {},
   "source": [
    "## 4. Filtrage collaboratif basé sur les exemples : modèle film-film\n",
    "\n",
    "Dans cette partie, vous allez implémenter et tester les modèles de filtrage collaboratif *\"memory-based\"* qui calculent les *ratings* prédits pour un film selon les utilisateurs qui ont le plus apprécié les films semblables (modèle réciproque du précédent).  Les formules pour ce modèle ont été données en cours.  Il faudra faire attention aux sous-ensembles sur lesquels sont calculées les différentes sommes.\n",
    "\n",
    "**4a.** Veuillez calculer les *ratings* moyens de chaque film et les stocker dans un tableau nommé `mean_movie_ratings`.  \n",
    "\n",
    "Attention, il ne faut pas inclure les valeurs nulles dans le calcul de ces moyennes.  Les zéros ne sont pas de vrais scores (*ratings*) mais indiquent l'absence de score."
   ]
  },
  {
   "cell_type": "code",
   "execution_count": 130,
   "metadata": {},
   "outputs": [],
   "source": [
    "mean_item_ratings = train_df.groupby('newMovieId')['rating'].mean()"
   ]
  },
  {
   "cell_type": "markdown",
   "metadata": {},
   "source": [
    "**4b.** *Memory-based collaborative filtering: item-item model.*  Veuillez implémenter la formule vue en cours pour calculer la matrice `sim_item`.  Il s'agit d'un coefficient de similarité entre deux films (items), sur la base des *ratings* qu'ils ont reçus des utilisateurs qui se sont exprimés sur les deux films.  On utilise la corrélation de Pearson, mais restreinte aux utilisateurs communs, c'est-à-dire ceux avec des *ratings* non nuls des deux films.  Pour cette raison, on ne peut pas appliquer directement la fonction `numpy.corrcoef()` sur `train_matrix`, mais on doit effectuer le calcul explicitement.  Le code est très similaire au point 3b."
   ]
  },
  {
   "cell_type": "code",
   "execution_count": 131,
   "metadata": {},
   "outputs": [
    {
     "name": "stderr",
     "output_type": "stream",
     "text": [
      "100%|██████████| 1000/1000 [00:31<00:00, 31.76it/s]\n"
     ]
    }
   ],
   "source": [
    "# Initialisation de la matrice des similarités entre films :\n",
    "# sim_item[i, j] mesure la similarité entre les films i et j.\n",
    "# La matrice sera symétrique car sim[i, j] = sim[j, i], et elle peut\n",
    "# avoir la diagonale nulle, car le modèle n'utilisera pas sim[i, i].\n",
    "sim_item = np.zeros((N_MOVIES, N_MOVIES)) \n",
    "\n",
    "# Parcourir les ratings des films i et j (avec i<j), c'est-à-dire \n",
    "# train_matrix[:,i] et train_matrix[:,j], retenir seulement les positions où\n",
    "# les deux ratings sont >0, puis calculer le coefficient de corrélation.\n",
    "\n",
    "for i in tqdm(range(N_MOVIES)):\n",
    "    for j in range(i+1, N_MOVIES):\n",
    "        movie_i = train_matrix[:,i]\n",
    "        movie_j = train_matrix[:,j]\n",
    "\n",
    "        common_mask = (movie_i > 0) & (movie_j > 0)\n",
    "        if np.sum(common_mask) >= 2: # au moins deux éléments trouvés\n",
    "            common_ratings_i = movie_i[common_mask]\n",
    "            common_ratings_j = movie_j[common_mask]\n",
    "\n",
    "            corr = np.corrcoef(common_ratings_i, common_ratings_j)[0,1]\n",
    "            sim_item[i,j] = corr\n",
    "            sim_item[j,i] = corr\n"
   ]
  },
  {
   "cell_type": "markdown",
   "metadata": {},
   "source": [
    "**4c.** Veuillez calculer les *ratings* prédits par le système pour tous les utilisateurs et les items (analogue au 3c).  Essayez d'optimiser le nombre d'films semblables que vous utilisez dans la formule."
   ]
  },
  {
   "cell_type": "code",
   "execution_count": 141,
   "metadata": {},
   "outputs": [
    {
     "name": "stderr",
     "output_type": "stream",
     "text": [
      "33227it [00:11, 2891.57it/s]\n"
     ]
    }
   ],
   "source": [
    "N_BEST_MOVIES = 100\n",
    "preds = []\n",
    "\n",
    "for _, row in tqdm(valid_df.iterrows()):\n",
    "    u = row['newUserId'] - 1\n",
    "    m = row['newMovieId'] - 1\n",
    "\n",
    "    sim_m = sim_item[m,:]\n",
    "\n",
    "    r_u = train_matrix[u,:]\n",
    "\n",
    "    sim_m = highest(sim_m * np.where(r_u > 0, 1, 0), N_BEST_MOVIES)\n",
    "    \n",
    "    prediction = sum(sim_u * r_i) / np.sum(sim_m)\n",
    "\n",
    "    preds.append(prediction)\n"
   ]
  },
  {
   "cell_type": "markdown",
   "metadata": {},
   "source": [
    "**4d.** Veuillez évaluer les *ratings* prédits en les comparant avec les *ratings* fournis par `valid_vector` calculé plus haut.  Comment se compare le résultat avec les scores du 2f et ceux du 3d ?"
   ]
  },
  {
   "cell_type": "code",
   "execution_count": 142,
   "metadata": {},
   "outputs": [
    {
     "name": "stdout",
     "output_type": "stream",
     "text": [
      "2.9344317692699686\n"
     ]
    }
   ],
   "source": [
    "rmse_user_similarity = root_mean_squared_error(valid_vector, preds)\n",
    "print(rmse_user_similarity)"
   ]
  },
  {
   "cell_type": "markdown",
   "metadata": {},
   "source": [
    "*Analyse :* De nouveau, c'est un très mauvais résultat (moins bon que les modèles baseline). Il doit sûrement y avoir un problème avec notre implémentation."
   ]
  },
  {
   "cell_type": "markdown",
   "metadata": {},
   "source": [
    "## 5. Filtrage collaboratif par factorisation de matrices\n",
    "\n",
    "Dans cette section, vous allez mettre en place un modèle de prédiction des *ratings* utilisant la factorisation de matrices, comme vu en cours.  Vous calculerez deux matrices U et V, telles que R = U.T x V où R est la matrice des *ratings* (U.T désigne la transposée de U).  Le calcul direct d'une SVD ne fonctionne pas, car la matrice R (ici, `train_matrix`) contient beaucoup de 0 qui signifient en réalité des *ratings* inconnus.  Vous utiliserez comme données d'entraînement directement celles de `train_df`. \n",
    "\n",
    "L'hyperparamètre à régler est la dimension réduite de U et de V, notée `n_latent_factors`.\n",
    "\n",
    "Vous utiliserez une approche par descente de gradient, implémentée en Keras, qui utilisera seulement les *ratings* connus (non nuls) pour s'entraîner.  Après avoir calculé U et V, vous pourrez estimer toutes les valeurs inconnues de R, puisque R = U.T x V -- il suffira pour cela d'utiliser le modèle en mode prédiction.\n",
    "\n",
    "Vous évaluerez le résultat en comparant ces estimations avec les *ratings* connus de `valid_df`. "
   ]
  },
  {
   "cell_type": "code",
   "execution_count": 143,
   "metadata": {},
   "outputs": [],
   "source": [
    "import keras\n",
    "from tensorflow.keras.layers import Input, Embedding, Flatten, dot\n",
    "from tensorflow.keras.models import Model\n",
    "from tensorflow.keras.metrics import RootMeanSquaredError"
   ]
  },
  {
   "cell_type": "markdown",
   "metadata": {},
   "source": [
    "**5a.** Veuillez définir le modèle Keras qui prend en entrée l'index de l'utilisateur et l'index du film, et produit en sortie le *rating* estimé comme le produit scalaire des embeddings des entrées (*voir le cours*).  Finir par la compilation du modèle selon la ligne de code fournie."
   ]
  },
  {
   "cell_type": "code",
   "execution_count": 144,
   "metadata": {},
   "outputs": [],
   "source": [
    "# Définition du modèle\n",
    "n_latent_factors = 40\n",
    " \n",
    "user_input = Input(shape=[1], name='user')\n",
    "user_embedding = Embedding(input_dim=N_USERS + 1, output_dim=n_latent_factors, name='user_embedding')(user_input)\n",
    "user_vec = Flatten(name='flatten_users')(user_embedding)\n",
    " \n",
    "movie_input = Input(shape=[1], name='movie')\n",
    "movie_embedding = Embedding(input_dim=N_MOVIES + 1, output_dim=n_latent_factors, name='movie_embedding')(movie_input)\n",
    "movie_vec = Flatten(name='flatten_movies')(movie_embedding)\n",
    " \n",
    "product = dot([movie_vec, user_vec], axes=1)"
   ]
  },
  {
   "cell_type": "markdown",
   "metadata": {},
   "source": [
    "**5b.** Veuillez entraîner le modèle pendant un certain nombre d'époques et sauvegarder l'historique des scores."
   ]
  },
  {
   "cell_type": "code",
   "execution_count": 145,
   "metadata": {},
   "outputs": [
    {
     "name": "stdout",
     "output_type": "stream",
     "text": [
      "Epoch 1/15\n",
      "\u001b[1m4673/4673\u001b[0m \u001b[32m━━━━━━━━━━━━━━━━━━━━\u001b[0m\u001b[37m\u001b[0m \u001b[1m13s\u001b[0m 3ms/step - loss: 25.2398 - root_mean_squared_error: 4.8453 - val_loss: 2.6096 - val_root_mean_squared_error: 1.6154\n",
      "Epoch 2/15\n",
      "\u001b[1m4673/4673\u001b[0m \u001b[32m━━━━━━━━━━━━━━━━━━━━\u001b[0m\u001b[37m\u001b[0m \u001b[1m14s\u001b[0m 3ms/step - loss: 2.6116 - root_mean_squared_error: 1.6160 - val_loss: 2.5887 - val_root_mean_squared_error: 1.6090\n",
      "Epoch 3/15\n",
      "\u001b[1m4673/4673\u001b[0m \u001b[32m━━━━━━━━━━━━━━━━━━━━\u001b[0m\u001b[37m\u001b[0m \u001b[1m14s\u001b[0m 3ms/step - loss: 2.5578 - root_mean_squared_error: 1.5993 - val_loss: 2.4651 - val_root_mean_squared_error: 1.5701\n",
      "Epoch 4/15\n",
      "\u001b[1m4673/4673\u001b[0m \u001b[32m━━━━━━━━━━━━━━━━━━━━\u001b[0m\u001b[37m\u001b[0m \u001b[1m14s\u001b[0m 3ms/step - loss: 2.4281 - root_mean_squared_error: 1.5582 - val_loss: 2.3843 - val_root_mean_squared_error: 1.5441\n",
      "Epoch 5/15\n",
      "\u001b[1m4673/4673\u001b[0m \u001b[32m━━━━━━━━━━━━━━━━━━━━\u001b[0m\u001b[37m\u001b[0m \u001b[1m14s\u001b[0m 3ms/step - loss: 2.3556 - root_mean_squared_error: 1.5348 - val_loss: 2.3324 - val_root_mean_squared_error: 1.5272\n",
      "Epoch 6/15\n",
      "\u001b[1m4673/4673\u001b[0m \u001b[32m━━━━━━━━━━━━━━━━━━━━\u001b[0m\u001b[37m\u001b[0m \u001b[1m14s\u001b[0m 3ms/step - loss: 2.2874 - root_mean_squared_error: 1.5124 - val_loss: 2.2892 - val_root_mean_squared_error: 1.5130\n",
      "Epoch 7/15\n",
      "\u001b[1m4673/4673\u001b[0m \u001b[32m━━━━━━━━━━━━━━━━━━━━\u001b[0m\u001b[37m\u001b[0m \u001b[1m13s\u001b[0m 3ms/step - loss: 2.2269 - root_mean_squared_error: 1.4923 - val_loss: 2.2341 - val_root_mean_squared_error: 1.4947\n",
      "Epoch 8/15\n",
      "\u001b[1m4673/4673\u001b[0m \u001b[32m━━━━━━━━━━━━━━━━━━━━\u001b[0m\u001b[37m\u001b[0m \u001b[1m14s\u001b[0m 3ms/step - loss: 2.1499 - root_mean_squared_error: 1.4663 - val_loss: 2.1723 - val_root_mean_squared_error: 1.4739\n",
      "Epoch 9/15\n",
      "\u001b[1m4673/4673\u001b[0m \u001b[32m━━━━━━━━━━━━━━━━━━━━\u001b[0m\u001b[37m\u001b[0m \u001b[1m14s\u001b[0m 3ms/step - loss: 2.0580 - root_mean_squared_error: 1.4346 - val_loss: 2.1208 - val_root_mean_squared_error: 1.4563\n",
      "Epoch 10/15\n",
      "\u001b[1m4673/4673\u001b[0m \u001b[32m━━━━━━━━━━━━━━━━━━━━\u001b[0m\u001b[37m\u001b[0m \u001b[1m13s\u001b[0m 3ms/step - loss: 1.9727 - root_mean_squared_error: 1.4045 - val_loss: 2.0844 - val_root_mean_squared_error: 1.4437\n",
      "Epoch 11/15\n",
      "\u001b[1m4673/4673\u001b[0m \u001b[32m━━━━━━━━━━━━━━━━━━━━\u001b[0m\u001b[37m\u001b[0m \u001b[1m13s\u001b[0m 3ms/step - loss: 1.9065 - root_mean_squared_error: 1.3807 - val_loss: 2.0619 - val_root_mean_squared_error: 1.4359\n",
      "Epoch 12/15\n",
      "\u001b[1m4673/4673\u001b[0m \u001b[32m━━━━━━━━━━━━━━━━━━━━\u001b[0m\u001b[37m\u001b[0m \u001b[1m13s\u001b[0m 3ms/step - loss: 1.8431 - root_mean_squared_error: 1.3576 - val_loss: 2.0544 - val_root_mean_squared_error: 1.4333\n",
      "Epoch 13/15\n",
      "\u001b[1m4673/4673\u001b[0m \u001b[32m━━━━━━━━━━━━━━━━━━━━\u001b[0m\u001b[37m\u001b[0m \u001b[1m14s\u001b[0m 3ms/step - loss: 1.7893 - root_mean_squared_error: 1.3377 - val_loss: 2.0440 - val_root_mean_squared_error: 1.4297\n",
      "Epoch 14/15\n",
      "\u001b[1m4673/4673\u001b[0m \u001b[32m━━━━━━━━━━━━━━━━━━━━\u001b[0m\u001b[37m\u001b[0m \u001b[1m14s\u001b[0m 3ms/step - loss: 1.7323 - root_mean_squared_error: 1.3162 - val_loss: 2.0429 - val_root_mean_squared_error: 1.4293\n",
      "Epoch 15/15\n",
      "\u001b[1m4673/4673\u001b[0m \u001b[32m━━━━━━━━━━━━━━━━━━━━\u001b[0m\u001b[37m\u001b[0m \u001b[1m14s\u001b[0m 3ms/step - loss: 1.6937 - root_mean_squared_error: 1.3014 - val_loss: 2.0556 - val_root_mean_squared_error: 1.4337\n"
     ]
    }
   ],
   "source": [
    "model = Model(inputs=[user_input, movie_input], outputs=product)\n",
    "model.compile(optimizer='adam', loss='mean_squared_error', metrics=[RootMeanSquaredError()])\n",
    " \n",
    "nbrEpochs = 15\n",
    " \n",
    "# Entraînement du modèle\n",
    "history = model.fit(x=[train_df['newUserId'], train_df['newMovieId']], y=train_df['rating'],\n",
    "                    batch_size=128, epochs=nbrEpochs, verbose=1,\n",
    "                    validation_data=([valid_df['newUserId'], valid_df['newMovieId']], valid_df['rating']))"
   ]
  },
  {
   "cell_type": "markdown",
   "metadata": {},
   "source": [
    "**5c.** Veuillez afficher sur un graphique l'évolution de la RMSE sur les données de validation (`valid_df`) au cours de l'entraînement.  Veuillez afficher aussi séparément la meilleure valeur de RMSE.  Après plusieurs expériences, veuillez laisser un graphique qui montre que l'apprentissage est satisfaisant et expliquer pourquoi. "
   ]
  },
  {
   "cell_type": "code",
   "execution_count": 146,
   "metadata": {},
   "outputs": [
    {
     "data": {
      "image/png": "[encoded data removed]",
      "text/plain": [
       "<Figure size 640x480 with 1 Axes>"
      ]
     },
     "metadata": {},
     "output_type": "display_data"
    },
    {
     "name": "stdout",
     "output_type": "stream",
     "text": [
      "Best RMSE on validation :  1.4293062686920166  at epoch 14\n"
     ]
    }
   ],
   "source": [
    "plt.plot(history.history['root_mean_squared_error'], label='train')\n",
    "plt.plot(history.history['val_root_mean_squared_error'], label='validation')\n",
    "plt.xlabel('Epochs')\n",
    "plt.ylabel('RMSE')\n",
    "plt.title('RMSE avec un n_latent_factors de ' + str(n_latent_factors))\n",
    "plt.legend()\n",
    "plt.show()\n",
    " \n",
    "print(\"Best RMSE on validation : \", min(history.history['val_root_mean_squared_error']), \" at epoch\", np.argmin(history.history['val_root_mean_squared_error'])+1)"
   ]
  },
  {
   "cell_type": "markdown",
   "metadata": {},
   "source": [
    "*Analyse :* Après avoir fait plusieurs tests, nous avons remarqué que, au delà de 10 epochs, la RMSE sur la validation arrêtait d'augmenter."
   ]
  },
  {
   "cell_type": "markdown",
   "metadata": {},
   "source": [
    "**5d.** Effectuez plusieurs expériences et décrivez-les brièvement ici, pour déterminer votre meilleur modèle -- c'est à dire les valeurs optimales de `n_latent_factors` et du nombre d'époques.  Utilisez comme critère la RMSE sur les données de validation.  Si ce modèle est meilleur que ceux du (3) ou du (4), veuillez le sauvegarder à l'aide de la fonction [save](https://keras.io/guides/serialization_and_saving/) de Keras pour le soumettre à la compétition."
   ]
  },
  {
   "cell_type": "code",
   "execution_count": 147,
   "metadata": {},
   "outputs": [
    {
     "name": "stderr",
     "output_type": "stream",
     "text": [
      "WARNING:absl:You are saving your model as an HDF5 file via `model.save()` or `keras.saving.save_model(model)`. This file format is considered legacy. We recommend using instead the native Keras format, e.g. `model.save('my_model.keras')` or `keras.saving.save_model(model, 'my_model.keras')`. \n"
     ]
    }
   ],
   "source": [
    "model.save('model_AncayCharbonnier.h5')"
   ]
  },
  {
   "cell_type": "markdown",
   "metadata": {},
   "source": [
    "*Analyse :* Nous avons effectué des tests avec différentes valeurs de `n_latent_factors` et du nombre d'epochs. Nous avons trouvé que les meilleurs résultats étaient obtenus avec **40 facteurs latents** et **~13 époques**. Nous avons obtenu une RMSE de **1.4250** sur les données de validation.\n",
    "Ce modèle est meilleur que ceux du (3) et du (4)."
   ]
  },
  {
   "cell_type": "markdown",
   "metadata": {},
   "source": [
    "**Fin du Labo 8.**  Veuillez nettoyer ce notebook, afficher les résultats et les commentaires demandés, l'enregistrer, et le soumettre comme devoir sur Cyberlearn.  \n",
    "\n",
    "Ne pas oublier de soumettre également votre meilleur système avec le code nécessaire pour l'évaluer sur des données de test similaires à celles de validation."
   ]
  }
 ],
 "metadata": {
  "kernelspec": {
   "display_name": "data-science",
   "language": "python",
   "name": "python3"
  },
  "language_info": {
   "codemirror_mode": {
    "name": "ipython",
    "version": 3
   },
   "file_extension": ".py",
   "mimetype": "text/x-python",
   "name": "python",
   "nbconvert_exporter": "python",
   "pygments_lexer": "ipython3",
   "version": "3.12.7"
  }
 },
 "nbformat": 4,
 "nbformat_minor": 1
}

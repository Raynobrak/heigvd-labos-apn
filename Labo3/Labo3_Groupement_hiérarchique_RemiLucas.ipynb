{
 "cells": [
  {
   "cell_type": "markdown",
   "id": "7a867c73",
   "metadata": {},
   "source": [
    "<img src=\"https://heig-vd.ch/docs/default-source/doc-global-newsletter/2020-slim.svg\" alt=\"Logo HEIG-VD\" style=\"width: 80px;\" align=\"right\"/>\n",
    "\n",
    "# Cours APN - Labo 3 : Groupement hiérarchique de documents\n",
    "\n",
    "## Résumé\n",
    "Le but de ce laboratoire est d'appliquer un algorithme de groupement hiérarchique à des résumés de films.  Vous afficherez les résultats et observerez quels paramètres permettent d'obtenir un groupement convenable, car il n'y a pas de vérité-terrain dans ces données.\n",
    "\n",
    "Les étapes proposées sont les suivantes :\n",
    "  1. Préparation des documents : pré-traitement des textes des résumés\n",
    "  2. Création des représentations vectorielles de chaque résumé\n",
    "  3. Groupement hiérarchique, affichage du dendrogramme, et discussion"
   ]
  },
  {
   "cell_type": "markdown",
   "id": "ace0bfa2",
   "metadata": {},
   "source": [
    "## 1. Préparation des documents\n",
    "\n",
    "Dans ce labo, vous utiliserez les titres et résumés des 100 films classiques (*référence anonymisée*) qui vous sont fournis sur Cyberlearn dans le fichier `movie_data.csv` sur deux colonnes : titres et résumés.\n",
    "\n",
    "Dans cette première partie, vous allez transformer les textes des résumés pour réduire la diversité du vocabulaire.  Un ensemble de fonctions de préparation vous est fourni dans la librairie `utils.py` (également sur Cyberlearn) et il est conseillé de les lire et de les utiliser."
   ]
  },
  {
   "cell_type": "code",
   "execution_count": null,
   "id": "d78ab77e",
   "metadata": {},
   "outputs": [],
   "source": [
    "import pandas as pd\n",
    "import utils # librairie avec des fonctions de pré-traitement des textes\n",
    "# elle fait appel à la librairie NLTK (ce qui affiche plusieurs messages)"
   ]
  },
  {
   "cell_type": "markdown",
   "id": "8774e7ed",
   "metadata": {},
   "source": [
    "a. Veuillez charger les données des films depuis le fichier `movie_data.csv` dans une _DataFrame_ intitulée `movie_data`.  Combien de lignes et colonnes a-t-elle et quels sont les intitulés des colonnes ?"
   ]
  },
  {
   "cell_type": "code",
   "execution_count": null,
   "id": "45dd2bed",
   "metadata": {},
   "outputs": [],
   "source": []
  },
  {
   "cell_type": "markdown",
   "id": "a931118e",
   "metadata": {},
   "source": [
    "b. Veuillez normaliser le texte de chaque résumé en appliquant plusieurs des fonctions fournies dans `utils.py` (pour cela, vous devez examiner ce fichier).  Veuillez stocker les textes normalisés dans une nouvelle colonne de la _DataFrame_.   Il n'est pas nécessaire de tokeniser les textes normalisés, car le _vectorizer_ de sklearn le fera plus loin. "
   ]
  },
  {
   "cell_type": "code",
   "execution_count": null,
   "id": "4c08d5f1",
   "metadata": {},
   "outputs": [],
   "source": []
  },
  {
   "cell_type": "markdown",
   "id": "65d63ce5",
   "metadata": {},
   "source": [
    "c. Veuillez analyser la longueur des résumés, avant et après le pré-traitement, grâce au _5-number summary_ de chaque distribution.  Veuillez commenter brièvement l'évolution de la distribution suite au pré-traitement."
   ]
  },
  {
   "cell_type": "code",
   "execution_count": null,
   "id": "19105c2c",
   "metadata": {},
   "outputs": [],
   "source": []
  },
  {
   "cell_type": "code",
   "execution_count": null,
   "id": "52aa917e",
   "metadata": {},
   "outputs": [],
   "source": []
  },
  {
   "cell_type": "markdown",
   "id": "34ded57b",
   "metadata": {},
   "source": [
    "d. Veuillez afficher un extrait du résumé d'un film *avant* et *après* le pré-traitement et commenter brièvement le résultat."
   ]
  },
  {
   "cell_type": "code",
   "execution_count": null,
   "id": "0d6e48b8",
   "metadata": {},
   "outputs": [],
   "source": []
  },
  {
   "cell_type": "markdown",
   "id": "188af344",
   "metadata": {},
   "source": [
    "## 2. Création des représentations vectorielles\n",
    "\n",
    "Dans cette partie, vous allez créer pour chaque film une représentation vectorielle avec les coefficients TF-IDF, comme vous l'avez appris en PCD, en utilisant `TfidfVectorizer`.  Veuillez justifier brièvement votre choix de paramètres.\n",
    "\n",
    "a. Veuillez créer les vecteurs dans un tableau appelé `feature_matrix`, avec autant de lignes que de films."
   ]
  },
  {
   "cell_type": "code",
   "execution_count": null,
   "id": "28ebfddd",
   "metadata": {},
   "outputs": [],
   "source": [
    "from sklearn.feature_extraction.text import TfidfVectorizer"
   ]
  },
  {
   "cell_type": "code",
   "execution_count": null,
   "id": "6fd9b771",
   "metadata": {},
   "outputs": [],
   "source": []
  },
  {
   "cell_type": "markdown",
   "id": "021fa8d8",
   "metadata": {},
   "source": [
    "b. Quel est le nombre de colonnes du tableau `feature_matrix`. Pourquoi ?"
   ]
  },
  {
   "cell_type": "code",
   "execution_count": null,
   "id": "415e06d6",
   "metadata": {},
   "outputs": [],
   "source": []
  },
  {
   "cell_type": "markdown",
   "id": "fb9b05bc",
   "metadata": {},
   "source": [
    "c. Veuillez afficher les mots correspondant aux 20 premières dimensions de `feature_matrix`.  (Note : les dimensions sont classées par ordre alphabétique des mots.)"
   ]
  },
  {
   "cell_type": "code",
   "execution_count": null,
   "id": "69415666",
   "metadata": {},
   "outputs": [],
   "source": []
  },
  {
   "cell_type": "markdown",
   "id": "baa470da",
   "metadata": {},
   "source": [
    "## 3. Groupement hiérarchique\n",
    "Dans cette section, vous utiliserez un algorithme de groupement hiérarchique et vous afficherez les résultats sous forme de dendrogramme.  Les fonctions utilisées proviendront de `scipy`, comme recommandé par sklearn sous [Plot Hierarchical Clustering Dendrogram](https://scikit-learn.org/stable/auto_examples/cluster/plot_agglomerative_dendrogram.html).  Merci de suivre les indications et répondre aux questions suivantes."
   ]
  },
  {
   "cell_type": "code",
   "execution_count": null,
   "id": "4da48978",
   "metadata": {},
   "outputs": [],
   "source": [
    "from sklearn.metrics.pairwise import cosine_similarity\n",
    "from scipy.cluster.hierarchy import single, complete, average, ward\n",
    "from scipy.cluster.hierarchy import dendrogram, cut_tree\n",
    "import matplotlib.pyplot as plt\n",
    "%matplotlib inline"
   ]
  },
  {
   "cell_type": "markdown",
   "id": "f6bc100e",
   "metadata": {},
   "source": [
    "a. Générer une matrice des distances entre paires de résumés, en utilisant les représentations vectorielles obtenues ci-dessus et la métrique [sklearn.metrics.pairwise.cosine_similarity](https://scikit-learn.org/stable/modules/generated/sklearn.metrics.pairwise.cosine_similarity.html).  Attention, le cosinus étant une similarité, prendre _1-cosinus_ pour obtenir des distances. "
   ]
  },
  {
   "cell_type": "code",
   "execution_count": null,
   "id": "638e5049",
   "metadata": {},
   "outputs": [],
   "source": []
  },
  {
   "cell_type": "markdown",
   "id": "5f5f946e",
   "metadata": {},
   "source": [
    "b. Veuillez utiliser la méthode **ward** de [scipy.cluster.hierarchy](https://docs.scipy.org/doc/scipy/reference/cluster.hierarchy.html) qui effectue le groupement hiérarchique à partir d'une matrice des distances.  Quel est le résultat retourné par la méthode ?"
   ]
  },
  {
   "cell_type": "code",
   "execution_count": null,
   "id": "ce6aceac",
   "metadata": {},
   "outputs": [],
   "source": []
  },
  {
   "cell_type": "markdown",
   "id": "b461b752",
   "metadata": {},
   "source": [
    "c. Afficher le dendrogramme avec la fonction [scipy.cluster.hierarchy.dendrogram](https://docs.scipy.org/doc/scipy/reference/generated/scipy.cluster.hierarchy.dendrogram.html) qui utilise la matrice de liens.  Utiliser l'exemple donné en bas de la page [dendrogram](https://docs.scipy.org/doc/scipy/reference/generated/scipy.cluster.hierarchy.dendrogram.html).  Veuillez afficher un dendrogramme aussi lisible que possible, et en particulier veuillez étiqueter chaque feuille avec le nom du film correspondant."
   ]
  },
  {
   "cell_type": "code",
   "execution_count": null,
   "id": "34e767e2",
   "metadata": {},
   "outputs": [],
   "source": []
  },
  {
   "cell_type": "markdown",
   "id": "a84be2c0",
   "metadata": {},
   "source": [
    "d. Veuillez essayer une deuxième méthode de groupement hiérarchique et afficher son dendrogramme.  Comment se compare-t-il au précédent ?  Le trouvez-vous meilleur, moins bon, ou similaire ? "
   ]
  },
  {
   "cell_type": "code",
   "execution_count": null,
   "id": "98ec5b46",
   "metadata": {},
   "outputs": [],
   "source": []
  },
  {
   "cell_type": "code",
   "execution_count": null,
   "id": "ccd14579",
   "metadata": {},
   "outputs": [],
   "source": []
  },
  {
   "cell_type": "markdown",
   "id": "ec6419ba",
   "metadata": {},
   "source": [
    "e. Quel est le nombre de groupes qui vous semble optimal, pour la méthode de votre choix ?  Pourquoi ?"
   ]
  },
  {
   "cell_type": "code",
   "execution_count": null,
   "id": "6d49b307",
   "metadata": {},
   "outputs": [],
   "source": []
  },
  {
   "cell_type": "markdown",
   "id": "f1dee5e5",
   "metadata": {},
   "source": [
    "## 4. Affichage des groupes et de leurs mots-clés\n",
    "\n",
    "Dans cette section, vous utiliserez la méthode de groupement et le nombre de groupes choisis dans la section précédente.  Pour obtenir un nombre de groupe fixé à l'avance à partir de la matrice *linkage* obtenue au 3b ou 3d, vous pouvez utiliser la fonction `cut_tree`de Scipy. \n",
    "\n",
    "a. Pour chaque groupe, veuillez afficher :\n",
    "* le numéro du groupe (commençant par 1)\n",
    "* les titres des films du groupe\n",
    "* le nombre de films dans le groupe"
   ]
  },
  {
   "cell_type": "code",
   "execution_count": null,
   "id": "e59d1e74",
   "metadata": {},
   "outputs": [],
   "source": []
  },
  {
   "cell_type": "markdown",
   "id": "8616bceb",
   "metadata": {},
   "source": [
    "b. Pour chacun des groupes précédents, veuillez afficher les six meilleurs mots-clés qui le caractérisent.  On définit les mots-clés comme les mots (donc les dimensions résultant du `TfidfVectorizer`) qui ont les plus grands coefficients dans le centre de gravité du groupe."
   ]
  },
  {
   "cell_type": "code",
   "execution_count": null,
   "id": "47bcad8a",
   "metadata": {},
   "outputs": [],
   "source": []
  },
  {
   "cell_type": "markdown",
   "id": "0da57cbd",
   "metadata": {},
   "source": [
    "c. D'après les titres des films (et vos connaissances), les mots-clés obtenus sont-ils représentatifs des groupes ?"
   ]
  },
  {
   "cell_type": "code",
   "execution_count": null,
   "id": "deeebac9",
   "metadata": {},
   "outputs": [],
   "source": []
  },
  {
   "cell_type": "markdown",
   "id": "2b161c17",
   "metadata": {},
   "source": [
    "**Fin du Labo 3.**  Veuillez nettoyer ce notebook, afficher les résultats et les commentaires demandés, l'enregistrer, et le soumettre comme devoir sur Cyberlearn."
   ]
  }
 ],
 "metadata": {
  "kernelspec": {
   "display_name": "conda_apn",
   "language": "python",
   "name": "conda_apn"
  },
  "language_info": {
   "codemirror_mode": {
    "name": "ipython",
    "version": 3
   },
   "file_extension": ".py",
   "mimetype": "text/x-python",
   "name": "python",
   "nbconvert_exporter": "python",
   "pygments_lexer": "ipython3",
   "version": "3.11.5"
  }
 },
 "nbformat": 4,
 "nbformat_minor": 5
}

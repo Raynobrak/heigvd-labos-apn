{
 "cells": [
  {
   "cell_type": "markdown",
   "id": "spanish-grass",
   "metadata": {},
   "source": [
    "<img src=\"https://heig-vd.ch/docs/default-source/doc-global-newsletter/2020-slim.svg\" alt=\"Logo HEIG-VD\" style=\"width: 80px;\" align=\"right\"/>\n",
    "\n",
    "# Labo 4 : exemple d'utilisation de plotly\n",
    "On esquisse ici une façon d'utiliser `plotly`, d'abord pour afficher un seul point, puis un ensemble de trois points (avec la même couleur, forme et légende pour les trois).  Veuillez vous inspirer de cet exemple pour les affichages demandés dans la consigne principale."
   ]
  },
  {
   "cell_type": "code",
   "execution_count": null,
   "id": "colored-forwarding",
   "metadata": {},
   "outputs": [],
   "source": [
    "import plotly\n",
    "import plotly.graph_objs as go\n",
    "import numpy as np"
   ]
  },
  {
   "cell_type": "code",
   "execution_count": null,
   "id": "introductory-region",
   "metadata": {},
   "outputs": [],
   "source": [
    "one_point = [3, 3, 3] \n",
    "one_label = ['Point X']\n",
    "three_points = np.array([[1, 2, 3], [3, 2, 1], [2, 3, 1]])\n",
    "three_labels = ['A', 'B', 'C']"
   ]
  },
  {
   "cell_type": "code",
   "execution_count": null,
   "id": "cordless-benefit",
   "metadata": {},
   "outputs": [],
   "source": [
    "plot_data_1 = go.Scatter3d( # pour afficher en 2D, enlever '3d' et la ligne 'z=...' \n",
    "                    x = [one_point[0]], \n",
    "                    y = [one_point[1]],  \n",
    "                    z = [one_point[2]],\n",
    "                    text = one_label,\n",
    "                    name = 'First point',\n",
    "                    textposition = \"top center\",\n",
    "                    textfont_size = 10,\n",
    "                    mode = 'markers+text',\n",
    "                    marker = {'size': 8, 'opacity': 1, 'color': 1})"
   ]
  },
  {
   "cell_type": "code",
   "execution_count": null,
   "id": "individual-connection",
   "metadata": {},
   "outputs": [],
   "source": [
    "plot_data_2 = go.Scatter3d(\n",
    "                    x = three_points[:,0], \n",
    "                    y = three_points[:,1],  \n",
    "                    z = three_points[:,2],\n",
    "                    text = three_labels,\n",
    "                    name = 'Example points',\n",
    "                    textposition = \"top center\",\n",
    "                    textfont_size = 10,\n",
    "                    mode = 'markers+text',\n",
    "                    marker = {'size': 5, 'opacity': .8, 'color': 2})"
   ]
  },
  {
   "cell_type": "code",
   "execution_count": null,
   "id": "promising-tobacco",
   "metadata": {},
   "outputs": [],
   "source": [
    "layout = go.Layout(\n",
    "        margin = {'l': 0, 'r': 0, 'b': 0, 't': 0},\n",
    "        width = 800, height = 600,\n",
    "        font = {'family' : 'Arial', 'size' : 10}, # propriétés des caractères\n",
    "        showlegend = True,\n",
    "        legend = {'x' : 1, 'y' : 0.5, 'font' : {'color' : 'black'}}) # position et font de la légende"
   ]
  },
  {
   "cell_type": "code",
   "execution_count": null,
   "id": "incorrect-aurora",
   "metadata": {},
   "outputs": [],
   "source": [
    "plot_figure = go.Figure(data = [plot_data_1, plot_data_2], layout = layout)\n",
    "plot_figure.show()"
   ]
  }
 ],
 "metadata": {
  "kernelspec": {
   "display_name": "cours",
   "language": "python",
   "name": "cours"
  },
  "language_info": {
   "codemirror_mode": {
    "name": "ipython",
    "version": 3
   },
   "file_extension": ".py",
   "mimetype": "text/x-python",
   "name": "python",
   "nbconvert_exporter": "python",
   "pygments_lexer": "ipython3",
   "version": "3.8.5"
  }
 },
 "nbformat": 4,
 "nbformat_minor": 5
}

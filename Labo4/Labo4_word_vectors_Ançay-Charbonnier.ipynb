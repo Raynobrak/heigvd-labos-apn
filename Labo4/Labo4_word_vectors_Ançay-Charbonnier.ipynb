{
 "cells": [
  {
   "cell_type": "markdown",
   "id": "ac5975ff",
   "metadata": {},
   "source": [
    "<img src=\"https://heig-vd.ch/docs/default-source/doc-global-newsletter/2020-slim.svg\" alt=\"Logo HEIG-VD\" style=\"width: 80px;\" align=\"right\"/>\n",
    "\n",
    "# Cours APN - Labo 4 : Visualisation de vecteurs de mots\n",
    "\n",
    "## Résumé\n",
    "Le but de ce laboratoire est de visualiser des vecteurs de mots grâce à des méthodes de réduction de dimensionnalité.  La visualisation permettra de deviner plus facilement le \"mot du jour\" dans le jeu en ligne [Cémantix](https://cemantix.certitudes.org/)."
   ]
  },
  {
   "cell_type": "markdown",
   "id": "b142169f",
   "metadata": {},
   "source": [
    "## 1. Prise en main de word2vec\n",
    "\n",
    "Le modèle Word2vec contient des _embeddings_ des mots qui sont appris automatiquement à partir de textes.  Chaque mot est donc représenté par un vecteur dans un espace avec plusieurs centaines de dimensions (p.ex. 300 ou 500).  Dans cet espace, les mots de sens ou d'usage proches ont des vecteurs proches (les _embeddings_ capturent la similarité entre mots).  Mais la dimensionnalité de l'espace fait qu'il est difficile de visualiser les vecteurs de mots.\n",
    "\n",
    "La librairie [Gensim](https://radimrehurek.com/gensim/index.html) permet de charger un modèle Word2vec existant (avec la fonction `load_word2vec_format(...)`) et de manipuler les vecteurs de mots (instances de la classe `KeyedVectors`).  On peut notamment utiliser la fonction `similarity(w1, w2)` qui retourne le cosinus des vecteurs correspondant aux mots `w1` et `w2`, à condition que ceux-ci soient connus du modèle.  On peut aussi utiliser la fonction `most_similar([w])` qui retourne les mots voisins d'un ou plusieurs mots.  La [documentation de KeyedVectors](https://radimrehurek.com/gensim/models/keyedvectors.html) fournit des exemples utiles.\n",
    "\n",
    "Veuillez télécharger l'_un des deux_ modèles word2vec suivants, déjà entraînés, mis à disposition par [J.-Ph. Fauconnier](https://fauconnier.github.io/#data):\n",
    "- [frWac_no_postag_no_phrase_500_cbow_cut100.bin](https://embeddings.net/embeddings/frWac_no_postag_no_phrase_500_cbow_cut100.bin) - plus petit (229 Mo), mais pas identique au modèle utilisé pour Cémantix ;\n",
    "- [frWac_no_postag_phrase_500_cbow_cut10.bin](https://embeddings.net/embeddings/frWac_no_postag_phrase_500_cbow_cut10.bin) - bien plus grand (2 Go) donc assez gourmand en mémoire, mais qui est exactement celui utilisé pour Cémantix.\n",
    "Veuillez placer le modèle choisi dans le dossier `gensim-data` de votre dossier utilisateur."
   ]
  },
  {
   "cell_type": "code",
   "execution_count": 7,
   "id": "d1ec9fe2",
   "metadata": {},
   "outputs": [],
   "source": [
    "# Téléchargement, si nécessaire.\n",
    "# import wget\n",
    "# url = 'https://embeddings.net/embeddings/frWac_no_postag_no_phrase_500_cbow_cut100.bin'\n",
    "# wget.download(url, path_to_model)"
   ]
  },
  {
   "cell_type": "code",
   "execution_count": 8,
   "id": "e84d558a",
   "metadata": {},
   "outputs": [],
   "source": [
    "from gensim.models import KeyedVectors"
   ]
  },
  {
   "cell_type": "code",
   "execution_count": 9,
   "id": "3711012d",
   "metadata": {},
   "outputs": [],
   "source": [
    "path_to_model = \"C:\\\\Users\\\\lcsch\\\\gensim-data\\\\frWac_no_postag_phrase_500_cbow_cut10.bin\""
   ]
  },
  {
   "cell_type": "code",
   "execution_count": 10,
   "id": "114bdda7",
   "metadata": {},
   "outputs": [],
   "source": [
    "model = KeyedVectors.load_word2vec_format(path_to_model, binary=True, unicode_errors=\"ignore\")"
   ]
  },
  {
   "cell_type": "markdown",
   "id": "86c45ba9",
   "metadata": {},
   "source": [
    "a. Choisissez deux mots de sens proches `w1` et `w2`, et un autre plus différent noté `w3`. Affichez la similarité selon word2vec (cosinus) entre chaque paire de mots.  Ces valeurs correspondent-elles à vos intuitions ?"
   ]
  },
  {
   "cell_type": "code",
   "execution_count": 19,
   "id": "a7170b8a",
   "metadata": {},
   "outputs": [
    {
     "name": "stdout",
     "output_type": "stream",
     "text": [
      "w1-w2: 0.48375186\n",
      "w2-w3: 0.057056237\n",
      "w1-w3: -0.019678146\n"
     ]
    }
   ],
   "source": [
    "from gensim.similarities import Similarity\n",
    "\n",
    "w1 = 'dauphin'\n",
    "w2 = 'requin'\n",
    "w3 = 'goudron'\n",
    "\n",
    "print('w1-w2:', model.similarity(w1,w2))\n",
    "print('w2-w3:', model.similarity(w2,w3))\n",
    "print('w1-w3:', model.similarity(w1,w3))\n"
   ]
  },
  {
   "cell_type": "markdown",
   "id": "b9ac52e3",
   "metadata": {},
   "source": [
    "b. Affichez les 10 mots les plus proches de `w1` selon word2vec avec pour chacun sa similarité avec `w1`. "
   ]
  },
  {
   "cell_type": "code",
   "execution_count": 29,
   "id": "0919678c",
   "metadata": {},
   "outputs": [
    {
     "data": {
      "text/plain": [
       "[('cétacé', 0.5253106355667114),\n",
       " ('dauphins', 0.5124589204788208),\n",
       " ('mammifère_marin', 0.49912703037261963),\n",
       " ('sattaya', 0.4936593770980835),\n",
       " ('rorqual', 0.48457515239715576),\n",
       " ('lion_poisson_clown', 0.4841044545173645),\n",
       " ('requin', 0.4837518632411957),\n",
       " ('delphinarium', 0.4817071557044983),\n",
       " ('globicéphale', 0.4806098937988281),\n",
       " ('tucuxi', 0.4790893793106079)]"
      ]
     },
     "execution_count": 29,
     "metadata": {},
     "output_type": "execute_result"
    }
   ],
   "source": [
    "model.most_similar(w1)"
   ]
  },
  {
   "cell_type": "markdown",
   "id": "e763f4aa",
   "metadata": {},
   "source": [
    "c. Quels sont les 15 premiers coefficients du vecteur (_embedding_) du mot `w1` ? Quelle est la dimension de ce vecteur ?  Quelle est la taille du vocabulaire connu du modèle ?  Vous pouvez simplement écrire les commandes répondant à ces questions."
   ]
  },
  {
   "cell_type": "code",
   "execution_count": 28,
   "id": "a373edde",
   "metadata": {},
   "outputs": [
    {
     "name": "stdout",
     "output_type": "stream",
     "text": [
      "15 premiers coefficients : [-0.13417305  0.81857145  1.2199419  -0.18103984 -0.27053598  1.004049\n",
      " -2.296227    0.48258477 -0.6281404  -2.0846758   1.8269727  -1.7335479\n",
      "  0.6532203   0.5872189  -0.8560664 ]\n",
      "Dimension : (500,)\n",
      "Taille du vocabulaire connu : 1081995\n"
     ]
    }
   ],
   "source": [
    "vec = model.get_vector(w1)\n",
    "print('15 premiers coefficients :', vec[:15])\n",
    "print('Dimension :', vec.shape)\n",
    "\n",
    "print('Taille du vocabulaire connu :', len(model.vectors))"
   ]
  },
  {
   "cell_type": "markdown",
   "id": "136d3ca3",
   "metadata": {},
   "source": [
    "d. Veuillez écrire une fonction appelée `neighbors` selon les spécifications suivantes.  Cette fonction servira plus loin pour l'affichage.\n",
    "* input : modèle, liste de mots, nombre de voisins (`topn`) ;\n",
    "* output : liste de mots voisins de chacun des mots de l'input, représentés par un dictionnaire expliqué ci-après ;\n",
    "* fonctionnement : pour _chacun_ des mots donnés en input, la fonction teste si le mot est dans le vocabulaire du modèle word2vec (sinon elle ne le considère pas), puis demande au modèle la liste des `topn` mots voisins ; pour chacun de ces mots, la fonction construit un `dict` à 4 champs : \n",
    "  - mot voisin\n",
    "  - similarité\n",
    "  - mot de départ\n",
    "  - code de couleur associé au mot de départ : 1, 2, etc.\n",
    "\n",
    "**Exemple** : si on appelle la fonction avec \\['école'\\], le début du résultat sera :\n",
    "```\n",
    "[{'neighbor': 'scolaire',\n",
    "  'similarity': 0.7114928364753723,\n",
    "  'ref_word': 'école',\n",
    "  'color_code': 1}, ...\n",
    "```"
   ]
  },
  {
   "cell_type": "code",
   "execution_count": 34,
   "id": "60b01480",
   "metadata": {},
   "outputs": [],
   "source": [
    "def neighbors(model, word_list, topn = 5):\n",
    "    result = list()\n",
    "    for index, word in enumerate(word_list):\n",
    "        # Si le mot existe...\n",
    "        if word in model.key_to_index:\n",
    "            n_neighbors = model.most_similar(word, topn=topn)\n",
    "            for neighbor, distance in n_neighbors:\n",
    "                info = {\n",
    "                    'neighbor':neighbor,\n",
    "                    'similarity':distance,\n",
    "                    'ref_word':word,\n",
    "                    'color_code': index}\n",
    "                result.append(info)\n",
    "    return result"
   ]
  },
  {
   "cell_type": "code",
   "execution_count": 35,
   "id": "28cd119b",
   "metadata": {},
   "outputs": [
    {
     "name": "stdout",
     "output_type": "stream",
     "text": [
      "[{'neighbor': 'minou', 'similarity': 0.6334686875343323, 'ref_word': 'chat', 'color_code': 0}, {'neighbor': 'matou', 'similarity': 0.626587450504303, 'ref_word': 'chat', 'color_code': 0}, {'neighbor': 'petit_chatte', 'similarity': 0.6141418218612671, 'ref_word': 'chat', 'color_code': 0}, {'neighbor': 'étude', 'similarity': 0.6593688726425171, 'ref_word': 'étudier', 'color_code': 1}, {'neighbor': 'analyser', 'similarity': 0.6340749263763428, 'ref_word': 'étudier', 'color_code': 1}, {'neighbor': 'approfondir', 'similarity': 0.5609511733055115, 'ref_word': 'étudier', 'color_code': 1}]\n"
     ]
    }
   ],
   "source": [
    "# Tester avec cet appel :\n",
    "print(neighbors(model, ['chat', 'étudier'], 3))"
   ]
  },
  {
   "cell_type": "markdown",
   "id": "11d19cd5",
   "metadata": {},
   "source": [
    "## 2. Affichage simple des voisins d'un mot\n",
    "\n",
    "Pour commencer, veuillez étudier et exécuter le code fourni en exemple : `Labo4_plotly.ipynb`.  Cela vous montrera comment utiliser l'affichage 2D/3D avec `plotly.js`, et vous permettra de traiter les questions suivantes.\n",
    "\n",
    "Veuillez écrire et exécuter une fonction qui effectue les opérations suivantes, étant donné un mot en entrée :\n",
    "* obtenir les vecteurs word2vec du mot et de ses `topn` plus proches voisins ;\n",
    "* transformer ces vecteurs en 2D par l'ACP ;\n",
    "* afficher en 2D chaque points correspondant à un mot, avec comme étiquette le mot lui-même.\n",
    "\n",
    "**Notes:** cette fonction sert de version préliminaire à une fonction plus générique demandée ci-dessous.  Il n'est pas demandé de distinguer le mot entré des mots voisins, dans l'affichage (même type de points).  Il n'est pas nécessaire pour l'instant d'utiliser la fonction `neighbors`."
   ]
  },
  {
   "cell_type": "code",
   "execution_count": 49,
   "id": "c35a4625",
   "metadata": {},
   "outputs": [],
   "source": [
    "import plotly\n",
    "import numpy as np\n",
    "import plotly.graph_objs as go\n",
    "from sklearn.decomposition import PCA"
   ]
  },
  {
   "cell_type": "code",
   "execution_count": 63,
   "id": "0cd4156a",
   "metadata": {},
   "outputs": [],
   "source": [
    "import pandas as pd\n",
    "\n",
    "def display_PCA_2D_neighbors(model, word, topn = 5):\n",
    "    word_vec = model.get_vector(word)\n",
    "\n",
    "    neighbors = [neighbor_word for neighbor_word, distance in model.most_similar(word, topn=topn)]\n",
    "    vectors = [model.get_vector(neighbor) for neighbor in neighbors]\n",
    "    vectors.append(word_vec)\n",
    "    neighbors.append(word)\n",
    "\n",
    "    pca = PCA(n_components=2)\n",
    "    pca_data = pca.fit_transform(vectors)\n",
    "\n",
    "    plot_data_2 = go.Scatter(\n",
    "                    x = pca_data[:,0], \n",
    "                    y = pca_data[:,1],  \n",
    "                    text = neighbors,\n",
    "                    name = 'Mots',\n",
    "                    textposition = \"top center\",\n",
    "                    textfont_size = 10,\n",
    "                    mode = 'markers+text',\n",
    "                    marker = {'size': 5, 'opacity': .8, 'color': 2})\n",
    "    \n",
    "    layout = go.Layout(\n",
    "        margin = {'l': 0, 'r': 0, 'b': 0, 't': 0},\n",
    "        width = 800, height = 600,\n",
    "        font = {'family' : 'Arial', 'size' : 10}, # propriétés des caractères\n",
    "        showlegend = True,\n",
    "        legend = {'x' : 1, 'y' : 0.5, 'font' : {'color' : 'black'}}) # position et font de la légende\n",
    "    \n",
    "    plot_figure = go.Figure(data = plot_data_2, layout = layout)\n",
    "    plot_figure.show()\n"
   ]
  },
  {
   "cell_type": "code",
   "execution_count": 66,
   "id": "ba143b79",
   "metadata": {},
   "outputs": [
    {
     "data": {
      "application/vnd.plotly.v1+json": {
       "config": {
        "plotlyServerURL": "https://plot.ly"
       },
       "data": [
        {
         "marker": {
          "color": 2,
          "opacity": 0.8,
          "size": 5
         },
         "mode": "markers+text",
         "name": "Mots",
         "text": [
          "précision",
          "exact",
          "pertinent",
          "précisément",
          "préciser",
          "détailler",
          "clair",
          "possible",
          "déterminer",
          "indication",
          "expliciter",
          "définir",
          "exhaustif",
          "imprécis",
          "définition",
          "suffisamment_précis",
          "différent",
          "adéquat",
          "clairement_définir",
          "convenir",
          "précis"
         ],
         "textfont": {
          "size": 10
         },
         "textposition": "top center",
         "type": "scatter",
         "x": [
          7.165646108281165,
          6.325501143027673,
          -0.7608521682993434,
          -2.524007661539031,
          -0.5227129428701489,
          5.635277145727831,
          3.31485458676736,
          -1.2513533948420221,
          -7.065551373591488,
          6.386892960423651,
          -2.8098638359001735,
          -10.384272036328783,
          6.835132430847547,
          6.669260568974961,
          -6.055503089684147,
          1.939198032798662,
          -4.967024548880437,
          -3.749492878833906,
          -4.226655369850729,
          -2.9083019002146773,
          2.9538282239860396
         ],
         "y": [
          -2.712645070555828,
          -7.183007053275324,
          5.634157039391815,
          -3.0527431010286863,
          -2.27650393399076,
          9.069695398878359,
          -2.268370278241282,
          -2.125507447598013,
          -3.0950432823184935,
          -0.7466386861539189,
          3.083211832338025,
          0.7286101713514749,
          11.94953029809322,
          -6.421958019561859,
          2.6860533224572443,
          -2.5372863382353326,
          4.483991254061319,
          -1.2465304323347732,
          -0.2288120286380538,
          -3.951257562841832,
          0.21105391820271002
         ]
        }
       ],
       "layout": {
        "font": {
         "family": "Arial",
         "size": 10
        },
        "height": 600,
        "legend": {
         "font": {
          "color": "black"
         },
         "x": 1,
         "y": 0.5
        },
        "margin": {
         "b": 0,
         "l": 0,
         "r": 0,
         "t": 0
        },
        "showlegend": true,
        "template": {
         "data": {
          "bar": [
           {
            "error_x": {
             "color": "#2a3f5f"
            },
            "error_y": {
             "color": "#2a3f5f"
            },
            "marker": {
             "line": {
              "color": "#E5ECF6",
              "width": 0.5
             },
             "pattern": {
              "fillmode": "overlay",
              "size": 10,
              "solidity": 0.2
             }
            },
            "type": "bar"
           }
          ],
          "barpolar": [
           {
            "marker": {
             "line": {
              "color": "#E5ECF6",
              "width": 0.5
             },
             "pattern": {
              "fillmode": "overlay",
              "size": 10,
              "solidity": 0.2
             }
            },
            "type": "barpolar"
           }
          ],
          "carpet": [
           {
            "aaxis": {
             "endlinecolor": "#2a3f5f",
             "gridcolor": "white",
             "linecolor": "white",
             "minorgridcolor": "white",
             "startlinecolor": "#2a3f5f"
            },
            "baxis": {
             "endlinecolor": "#2a3f5f",
             "gridcolor": "white",
             "linecolor": "white",
             "minorgridcolor": "white",
             "startlinecolor": "#2a3f5f"
            },
            "type": "carpet"
           }
          ],
          "choropleth": [
           {
            "colorbar": {
             "outlinewidth": 0,
             "ticks": ""
            },
            "type": "choropleth"
           }
          ],
          "contour": [
           {
            "colorbar": {
             "outlinewidth": 0,
             "ticks": ""
            },
            "colorscale": [
             [
              0,
              "#0d0887"
             ],
             [
              0.1111111111111111,
              "#46039f"
             ],
             [
              0.2222222222222222,
              "#7201a8"
             ],
             [
              0.3333333333333333,
              "#9c179e"
             ],
             [
              0.4444444444444444,
              "#bd3786"
             ],
             [
              0.5555555555555556,
              "#d8576b"
             ],
             [
              0.6666666666666666,
              "#ed7953"
             ],
             [
              0.7777777777777778,
              "#fb9f3a"
             ],
             [
              0.8888888888888888,
              "#fdca26"
             ],
             [
              1,
              "#f0f921"
             ]
            ],
            "type": "contour"
           }
          ],
          "contourcarpet": [
           {
            "colorbar": {
             "outlinewidth": 0,
             "ticks": ""
            },
            "type": "contourcarpet"
           }
          ],
          "heatmap": [
           {
            "colorbar": {
             "outlinewidth": 0,
             "ticks": ""
            },
            "colorscale": [
             [
              0,
              "#0d0887"
             ],
             [
              0.1111111111111111,
              "#46039f"
             ],
             [
              0.2222222222222222,
              "#7201a8"
             ],
             [
              0.3333333333333333,
              "#9c179e"
             ],
             [
              0.4444444444444444,
              "#bd3786"
             ],
             [
              0.5555555555555556,
              "#d8576b"
             ],
             [
              0.6666666666666666,
              "#ed7953"
             ],
             [
              0.7777777777777778,
              "#fb9f3a"
             ],
             [
              0.8888888888888888,
              "#fdca26"
             ],
             [
              1,
              "#f0f921"
             ]
            ],
            "type": "heatmap"
           }
          ],
          "heatmapgl": [
           {
            "colorbar": {
             "outlinewidth": 0,
             "ticks": ""
            },
            "colorscale": [
             [
              0,
              "#0d0887"
             ],
             [
              0.1111111111111111,
              "#46039f"
             ],
             [
              0.2222222222222222,
              "#7201a8"
             ],
             [
              0.3333333333333333,
              "#9c179e"
             ],
             [
              0.4444444444444444,
              "#bd3786"
             ],
             [
              0.5555555555555556,
              "#d8576b"
             ],
             [
              0.6666666666666666,
              "#ed7953"
             ],
             [
              0.7777777777777778,
              "#fb9f3a"
             ],
             [
              0.8888888888888888,
              "#fdca26"
             ],
             [
              1,
              "#f0f921"
             ]
            ],
            "type": "heatmapgl"
           }
          ],
          "histogram": [
           {
            "marker": {
             "pattern": {
              "fillmode": "overlay",
              "size": 10,
              "solidity": 0.2
             }
            },
            "type": "histogram"
           }
          ],
          "histogram2d": [
           {
            "colorbar": {
             "outlinewidth": 0,
             "ticks": ""
            },
            "colorscale": [
             [
              0,
              "#0d0887"
             ],
             [
              0.1111111111111111,
              "#46039f"
             ],
             [
              0.2222222222222222,
              "#7201a8"
             ],
             [
              0.3333333333333333,
              "#9c179e"
             ],
             [
              0.4444444444444444,
              "#bd3786"
             ],
             [
              0.5555555555555556,
              "#d8576b"
             ],
             [
              0.6666666666666666,
              "#ed7953"
             ],
             [
              0.7777777777777778,
              "#fb9f3a"
             ],
             [
              0.8888888888888888,
              "#fdca26"
             ],
             [
              1,
              "#f0f921"
             ]
            ],
            "type": "histogram2d"
           }
          ],
          "histogram2dcontour": [
           {
            "colorbar": {
             "outlinewidth": 0,
             "ticks": ""
            },
            "colorscale": [
             [
              0,
              "#0d0887"
             ],
             [
              0.1111111111111111,
              "#46039f"
             ],
             [
              0.2222222222222222,
              "#7201a8"
             ],
             [
              0.3333333333333333,
              "#9c179e"
             ],
             [
              0.4444444444444444,
              "#bd3786"
             ],
             [
              0.5555555555555556,
              "#d8576b"
             ],
             [
              0.6666666666666666,
              "#ed7953"
             ],
             [
              0.7777777777777778,
              "#fb9f3a"
             ],
             [
              0.8888888888888888,
              "#fdca26"
             ],
             [
              1,
              "#f0f921"
             ]
            ],
            "type": "histogram2dcontour"
           }
          ],
          "mesh3d": [
           {
            "colorbar": {
             "outlinewidth": 0,
             "ticks": ""
            },
            "type": "mesh3d"
           }
          ],
          "parcoords": [
           {
            "line": {
             "colorbar": {
              "outlinewidth": 0,
              "ticks": ""
             }
            },
            "type": "parcoords"
           }
          ],
          "pie": [
           {
            "automargin": true,
            "type": "pie"
           }
          ],
          "scatter": [
           {
            "fillpattern": {
             "fillmode": "overlay",
             "size": 10,
             "solidity": 0.2
            },
            "type": "scatter"
           }
          ],
          "scatter3d": [
           {
            "line": {
             "colorbar": {
              "outlinewidth": 0,
              "ticks": ""
             }
            },
            "marker": {
             "colorbar": {
              "outlinewidth": 0,
              "ticks": ""
             }
            },
            "type": "scatter3d"
           }
          ],
          "scattercarpet": [
           {
            "marker": {
             "colorbar": {
              "outlinewidth": 0,
              "ticks": ""
             }
            },
            "type": "scattercarpet"
           }
          ],
          "scattergeo": [
           {
            "marker": {
             "colorbar": {
              "outlinewidth": 0,
              "ticks": ""
             }
            },
            "type": "scattergeo"
           }
          ],
          "scattergl": [
           {
            "marker": {
             "colorbar": {
              "outlinewidth": 0,
              "ticks": ""
             }
            },
            "type": "scattergl"
           }
          ],
          "scattermapbox": [
           {
            "marker": {
             "colorbar": {
              "outlinewidth": 0,
              "ticks": ""
             }
            },
            "type": "scattermapbox"
           }
          ],
          "scatterpolar": [
           {
            "marker": {
             "colorbar": {
              "outlinewidth": 0,
              "ticks": ""
             }
            },
            "type": "scatterpolar"
           }
          ],
          "scatterpolargl": [
           {
            "marker": {
             "colorbar": {
              "outlinewidth": 0,
              "ticks": ""
             }
            },
            "type": "scatterpolargl"
           }
          ],
          "scatterternary": [
           {
            "marker": {
             "colorbar": {
              "outlinewidth": 0,
              "ticks": ""
             }
            },
            "type": "scatterternary"
           }
          ],
          "surface": [
           {
            "colorbar": {
             "outlinewidth": 0,
             "ticks": ""
            },
            "colorscale": [
             [
              0,
              "#0d0887"
             ],
             [
              0.1111111111111111,
              "#46039f"
             ],
             [
              0.2222222222222222,
              "#7201a8"
             ],
             [
              0.3333333333333333,
              "#9c179e"
             ],
             [
              0.4444444444444444,
              "#bd3786"
             ],
             [
              0.5555555555555556,
              "#d8576b"
             ],
             [
              0.6666666666666666,
              "#ed7953"
             ],
             [
              0.7777777777777778,
              "#fb9f3a"
             ],
             [
              0.8888888888888888,
              "#fdca26"
             ],
             [
              1,
              "#f0f921"
             ]
            ],
            "type": "surface"
           }
          ],
          "table": [
           {
            "cells": {
             "fill": {
              "color": "#EBF0F8"
             },
             "line": {
              "color": "white"
             }
            },
            "header": {
             "fill": {
              "color": "#C8D4E3"
             },
             "line": {
              "color": "white"
             }
            },
            "type": "table"
           }
          ]
         },
         "layout": {
          "annotationdefaults": {
           "arrowcolor": "#2a3f5f",
           "arrowhead": 0,
           "arrowwidth": 1
          },
          "autotypenumbers": "strict",
          "coloraxis": {
           "colorbar": {
            "outlinewidth": 0,
            "ticks": ""
           }
          },
          "colorscale": {
           "diverging": [
            [
             0,
             "#8e0152"
            ],
            [
             0.1,
             "#c51b7d"
            ],
            [
             0.2,
             "#de77ae"
            ],
            [
             0.3,
             "#f1b6da"
            ],
            [
             0.4,
             "#fde0ef"
            ],
            [
             0.5,
             "#f7f7f7"
            ],
            [
             0.6,
             "#e6f5d0"
            ],
            [
             0.7,
             "#b8e186"
            ],
            [
             0.8,
             "#7fbc41"
            ],
            [
             0.9,
             "#4d9221"
            ],
            [
             1,
             "#276419"
            ]
           ],
           "sequential": [
            [
             0,
             "#0d0887"
            ],
            [
             0.1111111111111111,
             "#46039f"
            ],
            [
             0.2222222222222222,
             "#7201a8"
            ],
            [
             0.3333333333333333,
             "#9c179e"
            ],
            [
             0.4444444444444444,
             "#bd3786"
            ],
            [
             0.5555555555555556,
             "#d8576b"
            ],
            [
             0.6666666666666666,
             "#ed7953"
            ],
            [
             0.7777777777777778,
             "#fb9f3a"
            ],
            [
             0.8888888888888888,
             "#fdca26"
            ],
            [
             1,
             "#f0f921"
            ]
           ],
           "sequentialminus": [
            [
             0,
             "#0d0887"
            ],
            [
             0.1111111111111111,
             "#46039f"
            ],
            [
             0.2222222222222222,
             "#7201a8"
            ],
            [
             0.3333333333333333,
             "#9c179e"
            ],
            [
             0.4444444444444444,
             "#bd3786"
            ],
            [
             0.5555555555555556,
             "#d8576b"
            ],
            [
             0.6666666666666666,
             "#ed7953"
            ],
            [
             0.7777777777777778,
             "#fb9f3a"
            ],
            [
             0.8888888888888888,
             "#fdca26"
            ],
            [
             1,
             "#f0f921"
            ]
           ]
          },
          "colorway": [
           "#636efa",
           "#EF553B",
           "#00cc96",
           "#ab63fa",
           "#FFA15A",
           "#19d3f3",
           "#FF6692",
           "#B6E880",
           "#FF97FF",
           "#FECB52"
          ],
          "font": {
           "color": "#2a3f5f"
          },
          "geo": {
           "bgcolor": "white",
           "lakecolor": "white",
           "landcolor": "#E5ECF6",
           "showlakes": true,
           "showland": true,
           "subunitcolor": "white"
          },
          "hoverlabel": {
           "align": "left"
          },
          "hovermode": "closest",
          "mapbox": {
           "style": "light"
          },
          "paper_bgcolor": "white",
          "plot_bgcolor": "#E5ECF6",
          "polar": {
           "angularaxis": {
            "gridcolor": "white",
            "linecolor": "white",
            "ticks": ""
           },
           "bgcolor": "#E5ECF6",
           "radialaxis": {
            "gridcolor": "white",
            "linecolor": "white",
            "ticks": ""
           }
          },
          "scene": {
           "xaxis": {
            "backgroundcolor": "#E5ECF6",
            "gridcolor": "white",
            "gridwidth": 2,
            "linecolor": "white",
            "showbackground": true,
            "ticks": "",
            "zerolinecolor": "white"
           },
           "yaxis": {
            "backgroundcolor": "#E5ECF6",
            "gridcolor": "white",
            "gridwidth": 2,
            "linecolor": "white",
            "showbackground": true,
            "ticks": "",
            "zerolinecolor": "white"
           },
           "zaxis": {
            "backgroundcolor": "#E5ECF6",
            "gridcolor": "white",
            "gridwidth": 2,
            "linecolor": "white",
            "showbackground": true,
            "ticks": "",
            "zerolinecolor": "white"
           }
          },
          "shapedefaults": {
           "line": {
            "color": "#2a3f5f"
           }
          },
          "ternary": {
           "aaxis": {
            "gridcolor": "white",
            "linecolor": "white",
            "ticks": ""
           },
           "baxis": {
            "gridcolor": "white",
            "linecolor": "white",
            "ticks": ""
           },
           "bgcolor": "#E5ECF6",
           "caxis": {
            "gridcolor": "white",
            "linecolor": "white",
            "ticks": ""
           }
          },
          "title": {
           "x": 0.05
          },
          "xaxis": {
           "automargin": true,
           "gridcolor": "white",
           "linecolor": "white",
           "ticks": "",
           "title": {
            "standoff": 15
           },
           "zerolinecolor": "white",
           "zerolinewidth": 2
          },
          "yaxis": {
           "automargin": true,
           "gridcolor": "white",
           "linecolor": "white",
           "ticks": "",
           "title": {
            "standoff": 15
           },
           "zerolinecolor": "white",
           "zerolinewidth": 2
          }
         }
        },
        "width": 800
       }
      }
     },
     "metadata": {},
     "output_type": "display_data"
    }
   ],
   "source": [
    "# Afficher le mot 'chat' et ses 20 plus proches voisins\n",
    "# projetés en deux dimensions avec PCA (test de la fonction).\n",
    "display_PCA_2D_neighbors(model, 'précis', 20)"
   ]
  },
  {
   "cell_type": "markdown",
   "id": "82f594e0",
   "metadata": {},
   "source": [
    "## 3. Affichage configurable des voisins de plusieurs mots\n",
    "\n",
    "Le but maintenant est d'écrire une fonction `display_dimred_neighbors` qui affiche sur un seul graphique les mots voisins de chaque mot d'une liste de mots donnés.  Vous utiliserez ici la fonction auxiliaire `neighbors` définie plus haut  Les paramètres suivants seront passés à la fonction `display_dimred_neighbors` :\n",
    "\n",
    "* `model` - le nom du modèle word2vec\n",
    "* `word_list` - liste de mots dont on veut afficher les voisins (s'ils existent dans `model`)\n",
    "* `n_components` - dimensionnalité de l'affichage, 2 ou 3\n",
    "* `topn` - nombre de voisins à afficher pour chaque mot \n",
    "* `method` - **méthode de réduction de dimensionnalité : pca, mds, isomap, tsne, ou umap**\n",
    "* `n_neighbors`- nombre de voisins considérés par la méthode (applicable à isomap, umap, et tsne (appelé alors `perplexity`)).\n",
    "\n",
    "Trois tests sont demandés à la question 4, mais vous pouvez en exécuter d'autres et les inclure ici."
   ]
  },
  {
   "cell_type": "code",
   "execution_count": null,
   "id": "9fcd5af4",
   "metadata": {},
   "outputs": [],
   "source": [
    "from sklearn.decomposition import PCA\n",
    "from sklearn.manifold import MDS\n",
    "from sklearn.manifold import Isomap\n",
    "from sklearn.manifold import TSNE\n",
    "from umap import UMAP # Attention, installer le module nommé 'umap-learn' (avec conda install)."
   ]
  },
  {
   "cell_type": "code",
   "execution_count": null,
   "id": "84c9d33f",
   "metadata": {},
   "outputs": [],
   "source": [
    "def display_dimred_neighbors(model, word_list, n_components = 3, topn = 5, method = 'pca', n_neighbors = 5):\n",
    "    neighbors_data = pd.DataFrame.from_dict(neighbors(model, word_list, topn))\n",
    "\n",
    "    vectors = [model.get_vector(n) for n in neighbors_data['neighbor']]\n",
    "\n",
    "    dimred_data = None\n",
    "    if method == 'pca':\n",
    "        pca = PCA(n_components=n_components)\n",
    "        dimred_data = pca.fit_transform(vectors)\n",
    "\n",
    "    classes = neighbors_data['ref_word'].value_counts().items()\n",
    "    plots = []\n",
    "    for ref_word, _ in classes:\n",
    "        plot = go.Scatter(\n",
    "                        x = dimred_data[:,0], \n",
    "                        y = dimred_data[:,1],  \n",
    "                        text = neighbors_data['neighbor'],\n",
    "                        name = ref_word,\n",
    "                        textposition = \"top center\",\n",
    "                        textfont_size = 10,\n",
    "                        mode = 'markers+text',\n",
    "\n",
    "                        # todo : fix cette ligne parce que ça marche pas wesh\n",
    "                            \n",
    "                        marker = {'size': 5, 'opacity': .8, 'color': neighbors_data[neighbors_data['ref_word'] == ref_word]['color_code'].iloc[0]})\n",
    "        plots.append(plot)\n",
    "\n",
    "    layout = go.Layout(\n",
    "        margin = {'l': 0, 'r': 0, 'b': 0, 't': 0},\n",
    "        width = 800, height = 600,\n",
    "        font = {'family' : 'Arial', 'size' : 10}, # propriétés des caractères\n",
    "        showlegend = True,\n",
    "        legend = {'x' : 1, 'y' : 0.5, 'font' : {'color' : 'black'}}) # position et font de la légende\n",
    "    \n",
    "    plot_figure = go.Figure(data = plots, layout = layout)\n",
    "    plot_figure.show()"
   ]
  },
  {
   "cell_type": "code",
   "execution_count": 90,
   "id": "b44095e6",
   "metadata": {},
   "outputs": [
    {
     "data": {
      "application/vnd.plotly.v1+json": {
       "config": {
        "plotlyServerURL": "https://plot.ly"
       },
       "data": [
        {
         "marker": {
          "color": 0,
          "opacity": 0.8,
          "size": 5
         },
         "mode": "markers+text",
         "name": "précis",
         "text": [
          "précision",
          "exact",
          "pertinent",
          "précisément",
          "préciser",
          "bitume",
          "goudronner",
          "bitumer",
          "bitumeux",
          "asphalte"
         ],
         "textfont": {
          "size": 10
         },
         "textposition": "top center",
         "type": "scatter",
         "x": [
          -9.816259907293603,
          -10.563726606755196,
          -12.042278446430585,
          -7.942387755756306,
          -9.63407617751333,
          16.068009948481055,
          10.34297354052491,
          7.400451200611748,
          2.2981040727765554,
          13.889190131354743
         ],
         "y": [
          -2.19249325963615,
          1.070785626881021,
          -5.199286218443333,
          -0.20644615472629654,
          2.48289741073811,
          -6.53054420231039,
          10.582794046173161,
          6.012349758736888,
          1.3757292604457054,
          -7.395786267858721
         ]
        },
        {
         "marker": {
          "color": 1,
          "opacity": 0.8,
          "size": 5
         },
         "mode": "markers+text",
         "name": "goudron",
         "text": [
          "précision",
          "exact",
          "pertinent",
          "précisément",
          "préciser",
          "bitume",
          "goudronner",
          "bitumer",
          "bitumeux",
          "asphalte"
         ],
         "textfont": {
          "size": 10
         },
         "textposition": "top center",
         "type": "scatter",
         "x": [
          -9.816259907293603,
          -10.563726606755196,
          -12.042278446430585,
          -7.942387755756306,
          -9.63407617751333,
          16.068009948481055,
          10.34297354052491,
          7.400451200611748,
          2.2981040727765554,
          13.889190131354743
         ],
         "y": [
          -2.19249325963615,
          1.070785626881021,
          -5.199286218443333,
          -0.20644615472629654,
          2.48289741073811,
          -6.53054420231039,
          10.582794046173161,
          6.012349758736888,
          1.3757292604457054,
          -7.395786267858721
         ]
        }
       ],
       "layout": {
        "font": {
         "family": "Arial",
         "size": 10
        },
        "height": 600,
        "legend": {
         "font": {
          "color": "black"
         },
         "x": 1,
         "y": 0.5
        },
        "margin": {
         "b": 0,
         "l": 0,
         "r": 0,
         "t": 0
        },
        "showlegend": true,
        "template": {
         "data": {
          "bar": [
           {
            "error_x": {
             "color": "#2a3f5f"
            },
            "error_y": {
             "color": "#2a3f5f"
            },
            "marker": {
             "line": {
              "color": "#E5ECF6",
              "width": 0.5
             },
             "pattern": {
              "fillmode": "overlay",
              "size": 10,
              "solidity": 0.2
             }
            },
            "type": "bar"
           }
          ],
          "barpolar": [
           {
            "marker": {
             "line": {
              "color": "#E5ECF6",
              "width": 0.5
             },
             "pattern": {
              "fillmode": "overlay",
              "size": 10,
              "solidity": 0.2
             }
            },
            "type": "barpolar"
           }
          ],
          "carpet": [
           {
            "aaxis": {
             "endlinecolor": "#2a3f5f",
             "gridcolor": "white",
             "linecolor": "white",
             "minorgridcolor": "white",
             "startlinecolor": "#2a3f5f"
            },
            "baxis": {
             "endlinecolor": "#2a3f5f",
             "gridcolor": "white",
             "linecolor": "white",
             "minorgridcolor": "white",
             "startlinecolor": "#2a3f5f"
            },
            "type": "carpet"
           }
          ],
          "choropleth": [
           {
            "colorbar": {
             "outlinewidth": 0,
             "ticks": ""
            },
            "type": "choropleth"
           }
          ],
          "contour": [
           {
            "colorbar": {
             "outlinewidth": 0,
             "ticks": ""
            },
            "colorscale": [
             [
              0,
              "#0d0887"
             ],
             [
              0.1111111111111111,
              "#46039f"
             ],
             [
              0.2222222222222222,
              "#7201a8"
             ],
             [
              0.3333333333333333,
              "#9c179e"
             ],
             [
              0.4444444444444444,
              "#bd3786"
             ],
             [
              0.5555555555555556,
              "#d8576b"
             ],
             [
              0.6666666666666666,
              "#ed7953"
             ],
             [
              0.7777777777777778,
              "#fb9f3a"
             ],
             [
              0.8888888888888888,
              "#fdca26"
             ],
             [
              1,
              "#f0f921"
             ]
            ],
            "type": "contour"
           }
          ],
          "contourcarpet": [
           {
            "colorbar": {
             "outlinewidth": 0,
             "ticks": ""
            },
            "type": "contourcarpet"
           }
          ],
          "heatmap": [
           {
            "colorbar": {
             "outlinewidth": 0,
             "ticks": ""
            },
            "colorscale": [
             [
              0,
              "#0d0887"
             ],
             [
              0.1111111111111111,
              "#46039f"
             ],
             [
              0.2222222222222222,
              "#7201a8"
             ],
             [
              0.3333333333333333,
              "#9c179e"
             ],
             [
              0.4444444444444444,
              "#bd3786"
             ],
             [
              0.5555555555555556,
              "#d8576b"
             ],
             [
              0.6666666666666666,
              "#ed7953"
             ],
             [
              0.7777777777777778,
              "#fb9f3a"
             ],
             [
              0.8888888888888888,
              "#fdca26"
             ],
             [
              1,
              "#f0f921"
             ]
            ],
            "type": "heatmap"
           }
          ],
          "heatmapgl": [
           {
            "colorbar": {
             "outlinewidth": 0,
             "ticks": ""
            },
            "colorscale": [
             [
              0,
              "#0d0887"
             ],
             [
              0.1111111111111111,
              "#46039f"
             ],
             [
              0.2222222222222222,
              "#7201a8"
             ],
             [
              0.3333333333333333,
              "#9c179e"
             ],
             [
              0.4444444444444444,
              "#bd3786"
             ],
             [
              0.5555555555555556,
              "#d8576b"
             ],
             [
              0.6666666666666666,
              "#ed7953"
             ],
             [
              0.7777777777777778,
              "#fb9f3a"
             ],
             [
              0.8888888888888888,
              "#fdca26"
             ],
             [
              1,
              "#f0f921"
             ]
            ],
            "type": "heatmapgl"
           }
          ],
          "histogram": [
           {
            "marker": {
             "pattern": {
              "fillmode": "overlay",
              "size": 10,
              "solidity": 0.2
             }
            },
            "type": "histogram"
           }
          ],
          "histogram2d": [
           {
            "colorbar": {
             "outlinewidth": 0,
             "ticks": ""
            },
            "colorscale": [
             [
              0,
              "#0d0887"
             ],
             [
              0.1111111111111111,
              "#46039f"
             ],
             [
              0.2222222222222222,
              "#7201a8"
             ],
             [
              0.3333333333333333,
              "#9c179e"
             ],
             [
              0.4444444444444444,
              "#bd3786"
             ],
             [
              0.5555555555555556,
              "#d8576b"
             ],
             [
              0.6666666666666666,
              "#ed7953"
             ],
             [
              0.7777777777777778,
              "#fb9f3a"
             ],
             [
              0.8888888888888888,
              "#fdca26"
             ],
             [
              1,
              "#f0f921"
             ]
            ],
            "type": "histogram2d"
           }
          ],
          "histogram2dcontour": [
           {
            "colorbar": {
             "outlinewidth": 0,
             "ticks": ""
            },
            "colorscale": [
             [
              0,
              "#0d0887"
             ],
             [
              0.1111111111111111,
              "#46039f"
             ],
             [
              0.2222222222222222,
              "#7201a8"
             ],
             [
              0.3333333333333333,
              "#9c179e"
             ],
             [
              0.4444444444444444,
              "#bd3786"
             ],
             [
              0.5555555555555556,
              "#d8576b"
             ],
             [
              0.6666666666666666,
              "#ed7953"
             ],
             [
              0.7777777777777778,
              "#fb9f3a"
             ],
             [
              0.8888888888888888,
              "#fdca26"
             ],
             [
              1,
              "#f0f921"
             ]
            ],
            "type": "histogram2dcontour"
           }
          ],
          "mesh3d": [
           {
            "colorbar": {
             "outlinewidth": 0,
             "ticks": ""
            },
            "type": "mesh3d"
           }
          ],
          "parcoords": [
           {
            "line": {
             "colorbar": {
              "outlinewidth": 0,
              "ticks": ""
             }
            },
            "type": "parcoords"
           }
          ],
          "pie": [
           {
            "automargin": true,
            "type": "pie"
           }
          ],
          "scatter": [
           {
            "fillpattern": {
             "fillmode": "overlay",
             "size": 10,
             "solidity": 0.2
            },
            "type": "scatter"
           }
          ],
          "scatter3d": [
           {
            "line": {
             "colorbar": {
              "outlinewidth": 0,
              "ticks": ""
             }
            },
            "marker": {
             "colorbar": {
              "outlinewidth": 0,
              "ticks": ""
             }
            },
            "type": "scatter3d"
           }
          ],
          "scattercarpet": [
           {
            "marker": {
             "colorbar": {
              "outlinewidth": 0,
              "ticks": ""
             }
            },
            "type": "scattercarpet"
           }
          ],
          "scattergeo": [
           {
            "marker": {
             "colorbar": {
              "outlinewidth": 0,
              "ticks": ""
             }
            },
            "type": "scattergeo"
           }
          ],
          "scattergl": [
           {
            "marker": {
             "colorbar": {
              "outlinewidth": 0,
              "ticks": ""
             }
            },
            "type": "scattergl"
           }
          ],
          "scattermapbox": [
           {
            "marker": {
             "colorbar": {
              "outlinewidth": 0,
              "ticks": ""
             }
            },
            "type": "scattermapbox"
           }
          ],
          "scatterpolar": [
           {
            "marker": {
             "colorbar": {
              "outlinewidth": 0,
              "ticks": ""
             }
            },
            "type": "scatterpolar"
           }
          ],
          "scatterpolargl": [
           {
            "marker": {
             "colorbar": {
              "outlinewidth": 0,
              "ticks": ""
             }
            },
            "type": "scatterpolargl"
           }
          ],
          "scatterternary": [
           {
            "marker": {
             "colorbar": {
              "outlinewidth": 0,
              "ticks": ""
             }
            },
            "type": "scatterternary"
           }
          ],
          "surface": [
           {
            "colorbar": {
             "outlinewidth": 0,
             "ticks": ""
            },
            "colorscale": [
             [
              0,
              "#0d0887"
             ],
             [
              0.1111111111111111,
              "#46039f"
             ],
             [
              0.2222222222222222,
              "#7201a8"
             ],
             [
              0.3333333333333333,
              "#9c179e"
             ],
             [
              0.4444444444444444,
              "#bd3786"
             ],
             [
              0.5555555555555556,
              "#d8576b"
             ],
             [
              0.6666666666666666,
              "#ed7953"
             ],
             [
              0.7777777777777778,
              "#fb9f3a"
             ],
             [
              0.8888888888888888,
              "#fdca26"
             ],
             [
              1,
              "#f0f921"
             ]
            ],
            "type": "surface"
           }
          ],
          "table": [
           {
            "cells": {
             "fill": {
              "color": "#EBF0F8"
             },
             "line": {
              "color": "white"
             }
            },
            "header": {
             "fill": {
              "color": "#C8D4E3"
             },
             "line": {
              "color": "white"
             }
            },
            "type": "table"
           }
          ]
         },
         "layout": {
          "annotationdefaults": {
           "arrowcolor": "#2a3f5f",
           "arrowhead": 0,
           "arrowwidth": 1
          },
          "autotypenumbers": "strict",
          "coloraxis": {
           "colorbar": {
            "outlinewidth": 0,
            "ticks": ""
           }
          },
          "colorscale": {
           "diverging": [
            [
             0,
             "#8e0152"
            ],
            [
             0.1,
             "#c51b7d"
            ],
            [
             0.2,
             "#de77ae"
            ],
            [
             0.3,
             "#f1b6da"
            ],
            [
             0.4,
             "#fde0ef"
            ],
            [
             0.5,
             "#f7f7f7"
            ],
            [
             0.6,
             "#e6f5d0"
            ],
            [
             0.7,
             "#b8e186"
            ],
            [
             0.8,
             "#7fbc41"
            ],
            [
             0.9,
             "#4d9221"
            ],
            [
             1,
             "#276419"
            ]
           ],
           "sequential": [
            [
             0,
             "#0d0887"
            ],
            [
             0.1111111111111111,
             "#46039f"
            ],
            [
             0.2222222222222222,
             "#7201a8"
            ],
            [
             0.3333333333333333,
             "#9c179e"
            ],
            [
             0.4444444444444444,
             "#bd3786"
            ],
            [
             0.5555555555555556,
             "#d8576b"
            ],
            [
             0.6666666666666666,
             "#ed7953"
            ],
            [
             0.7777777777777778,
             "#fb9f3a"
            ],
            [
             0.8888888888888888,
             "#fdca26"
            ],
            [
             1,
             "#f0f921"
            ]
           ],
           "sequentialminus": [
            [
             0,
             "#0d0887"
            ],
            [
             0.1111111111111111,
             "#46039f"
            ],
            [
             0.2222222222222222,
             "#7201a8"
            ],
            [
             0.3333333333333333,
             "#9c179e"
            ],
            [
             0.4444444444444444,
             "#bd3786"
            ],
            [
             0.5555555555555556,
             "#d8576b"
            ],
            [
             0.6666666666666666,
             "#ed7953"
            ],
            [
             0.7777777777777778,
             "#fb9f3a"
            ],
            [
             0.8888888888888888,
             "#fdca26"
            ],
            [
             1,
             "#f0f921"
            ]
           ]
          },
          "colorway": [
           "#636efa",
           "#EF553B",
           "#00cc96",
           "#ab63fa",
           "#FFA15A",
           "#19d3f3",
           "#FF6692",
           "#B6E880",
           "#FF97FF",
           "#FECB52"
          ],
          "font": {
           "color": "#2a3f5f"
          },
          "geo": {
           "bgcolor": "white",
           "lakecolor": "white",
           "landcolor": "#E5ECF6",
           "showlakes": true,
           "showland": true,
           "subunitcolor": "white"
          },
          "hoverlabel": {
           "align": "left"
          },
          "hovermode": "closest",
          "mapbox": {
           "style": "light"
          },
          "paper_bgcolor": "white",
          "plot_bgcolor": "#E5ECF6",
          "polar": {
           "angularaxis": {
            "gridcolor": "white",
            "linecolor": "white",
            "ticks": ""
           },
           "bgcolor": "#E5ECF6",
           "radialaxis": {
            "gridcolor": "white",
            "linecolor": "white",
            "ticks": ""
           }
          },
          "scene": {
           "xaxis": {
            "backgroundcolor": "#E5ECF6",
            "gridcolor": "white",
            "gridwidth": 2,
            "linecolor": "white",
            "showbackground": true,
            "ticks": "",
            "zerolinecolor": "white"
           },
           "yaxis": {
            "backgroundcolor": "#E5ECF6",
            "gridcolor": "white",
            "gridwidth": 2,
            "linecolor": "white",
            "showbackground": true,
            "ticks": "",
            "zerolinecolor": "white"
           },
           "zaxis": {
            "backgroundcolor": "#E5ECF6",
            "gridcolor": "white",
            "gridwidth": 2,
            "linecolor": "white",
            "showbackground": true,
            "ticks": "",
            "zerolinecolor": "white"
           }
          },
          "shapedefaults": {
           "line": {
            "color": "#2a3f5f"
           }
          },
          "ternary": {
           "aaxis": {
            "gridcolor": "white",
            "linecolor": "white",
            "ticks": ""
           },
           "baxis": {
            "gridcolor": "white",
            "linecolor": "white",
            "ticks": ""
           },
           "bgcolor": "#E5ECF6",
           "caxis": {
            "gridcolor": "white",
            "linecolor": "white",
            "ticks": ""
           }
          },
          "title": {
           "x": 0.05
          },
          "xaxis": {
           "automargin": true,
           "gridcolor": "white",
           "linecolor": "white",
           "ticks": "",
           "title": {
            "standoff": 15
           },
           "zerolinecolor": "white",
           "zerolinewidth": 2
          },
          "yaxis": {
           "automargin": true,
           "gridcolor": "white",
           "linecolor": "white",
           "ticks": "",
           "title": {
            "standoff": 15
           },
           "zerolinecolor": "white",
           "zerolinewidth": 2
          }
         }
        },
        "width": 800
       }
      }
     },
     "metadata": {},
     "output_type": "display_data"
    }
   ],
   "source": [
    "display_dimred_neighbors(model, ['précis', 'goudron'], n_components=2, topn=5, method='pca')"
   ]
  },
  {
   "cell_type": "markdown",
   "id": "85bab949",
   "metadata": {},
   "source": [
    "## 4. Application à l'étude des mots voisins dans word2vec\n",
    "\n",
    "Veuillez choisir quatre mots (`word_list = [m1, m2, m3, m4]`) de façon à ce que m1 et m2 soient très proches par leur sens ou leur usage, m3 un peu plus éloigné, et m4 très éloigné.  L'objectif de cette question est d'étudier la distribution des mots voisins de ces quatre mots (entre 10 et 50) par une visualisation en 2D ou en 3D des vecteurs de mots.  \n",
    "\n",
    "En expérimentant avec plusieurs configurations (méthode de réduction de dimensionnalité, valeur de `n_neighbors`, nombre de voisins `topn`), veuillez répondre aux questions suivantes, à l'aide d'un ou plusieurs graphiques par question :\n",
    "\n",
    "**a.** si on utilise une méthode de réduction de dimensionnalité linéaire (PCA ou MDS métrique), les quatre groupes de mots sont-ils clairement séparés dans word2vec ?\n",
    "\n",
    "**b.** si on utilise une méthode de réduction de dimensionnalité non-linéaire (Isomap, t-SNE ou UMAP), peut-on mieux mettre en évidence les quatre groupes de mots ?  Quels sont les meilleurs paramètres que vous avez trouvés permettant de bien identifier les quatre ensembles ?\n",
    "\n",
    "**c.** inversement, trouvez-vous des paramètres qui aboutissent à cinq clusters ? ou à trois ?"
   ]
  },
  {
   "cell_type": "code",
   "execution_count": null,
   "id": "e1ad49f1",
   "metadata": {},
   "outputs": [],
   "source": [
    "# Insérer ici la liste de mots.\n"
   ]
  },
  {
   "cell_type": "code",
   "execution_count": null,
   "id": "f6879e09",
   "metadata": {},
   "outputs": [],
   "source": [
    "# Question 4a\n"
   ]
  },
  {
   "cell_type": "code",
   "execution_count": null,
   "id": "328fd322",
   "metadata": {},
   "outputs": [],
   "source": [
    "# Question 4b\n"
   ]
  },
  {
   "cell_type": "code",
   "execution_count": null,
   "id": "ff07e3ab",
   "metadata": {},
   "outputs": [],
   "source": [
    "# Question 4c\n"
   ]
  },
  {
   "cell_type": "markdown",
   "id": "6b7f9433",
   "metadata": {},
   "source": [
    "## 5. Outil d'assistance pour le jeu Cémantix\n",
    "\n",
    "Le jeu en ligne [Cémantix](https://cemantix.certitudes.org/) (aussi proposé sur le site [Dictaly](https://www.dictaly.com/semantiques/))  demande de deviner le *mot du jour* en l'approchant peu à peu par des mots candidats.  Pour chacun, le système indique pour sa similarité word2vec avec le *mot du jour*, ce qui permet de se rapprocher graduellement de la solution.  Expérimentez d'abord un court instant avec le jeu 😀.\n",
    "\n",
    "L'objectif de cette question est de visualiser les voisinages de mots, pour vous aider à proposer des mots candidats et trouver plus vite la solution.  La procédure est la suivante :\n",
    "* essayez trois mots au hasard dans Cémantix\n",
    "* affichez 20-30 mots voisins de ces trois mots grâce à la fonction `display_dimred_neighbors`\n",
    "* à l'aide des mots affichés, essayez des mots candidats dans Cémantix\n",
    "* changez l'affichage en remplaçant les trois mots par de meilleurs mots\n",
    "* continuez jusqu'à trouver le *mot du jour*\n",
    "\n",
    "**Notes**\n",
    "* si vous le souhaitez, vous pouvez utiliser le modèle word2vec identique à celui de Cémantix, qui est frWac_no_postag_phrase_500_cbow_cut10.bin fourni par [J.-Ph. Fauconnier](https://fauconnier.github.io/#data)\n",
    "* ce modèle fait environ 2.3 Go et contient aussi des expressions de plusieurs mots (séparés par '_')\n",
    "* vous pouvez choisir d'utiliser le petit ou le grand modèle, sachant qu'avec le premier, les suggestions sont moins pertinentes\n",
    "* Cémantix ignore les expressions de plusieurs mots présentes dans le grand modèle -- vous pouvez choisir de le faire ou non."
   ]
  },
  {
   "cell_type": "code",
   "execution_count": null,
   "id": "0acf3589",
   "metadata": {
    "scrolled": false
   },
   "outputs": [],
   "source": [
    "# candidate_words = ['homme', 'rouge', 'étudier']\n",
    "candidate_words = ['rendement', 'rentabilité']\n",
    "display_dimred_neighbors(model, candidate_words, n_components = 3, topn = 30, method = 'tsne')"
   ]
  },
  {
   "cell_type": "markdown",
   "id": "ee8813d7",
   "metadata": {},
   "source": [
    "Veuillez noter ici vos observations sur la procédure, et coller un extrait montrant votre meilleure performance au jeu."
   ]
  },
  {
   "cell_type": "code",
   "execution_count": null,
   "id": "c88ea035",
   "metadata": {},
   "outputs": [],
   "source": []
  },
  {
   "cell_type": "markdown",
   "id": "1539000b",
   "metadata": {},
   "source": [
    "**Fin du Labo.**  Veuillez nettoyer ce notebook en gardant seulement les résultats désirés, l'enregistrer, et le soumettre comme devoir sur Cyberlearn."
   ]
  }
 ],
 "metadata": {
  "kernelspec": {
   "display_name": "data-science",
   "language": "python",
   "name": "python3"
  },
  "language_info": {
   "codemirror_mode": {
    "name": "ipython",
    "version": 3
   },
   "file_extension": ".py",
   "mimetype": "text/x-python",
   "name": "python",
   "nbconvert_exporter": "python",
   "pygments_lexer": "ipython3",
   "version": "3.12.7"
  }
 },
 "nbformat": 4,
 "nbformat_minor": 5
}

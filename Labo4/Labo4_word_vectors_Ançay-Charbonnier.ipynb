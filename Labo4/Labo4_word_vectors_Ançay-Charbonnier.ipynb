{
 "cells": [
  {
   "cell_type": "markdown",
   "id": "ac5975ff",
   "metadata": {},
   "source": [
    "<img src=\"https://heig-vd.ch/docs/default-source/doc-global-newsletter/2020-slim.svg\" alt=\"Logo HEIG-VD\" style=\"width: 80px;\" align=\"right\"/>\n",
    "\n",
    "# Cours APN - Labo 4 : Visualisation de vecteurs de mots\n",
    "\n",
    "## Résumé\n",
    "Le but de ce laboratoire est de visualiser des vecteurs de mots grâce à des méthodes de réduction de dimensionnalité.  La visualisation permettra de deviner plus facilement le \"mot du jour\" dans le jeu en ligne [Cémantix](https://cemantix.certitudes.org/)."
   ]
  },
  {
   "cell_type": "markdown",
   "id": "b142169f",
   "metadata": {},
   "source": [
    "## 1. Prise en main de word2vec\n",
    "\n",
    "Le modèle Word2vec contient des _embeddings_ des mots qui sont appris automatiquement à partir de textes.  Chaque mot est donc représenté par un vecteur dans un espace avec plusieurs centaines de dimensions (p.ex. 300 ou 500).  Dans cet espace, les mots de sens ou d'usage proches ont des vecteurs proches (les _embeddings_ capturent la similarité entre mots).  Mais la dimensionnalité de l'espace fait qu'il est difficile de visualiser les vecteurs de mots.\n",
    "\n",
    "La librairie [Gensim](https://radimrehurek.com/gensim/index.html) permet de charger un modèle Word2vec existant (avec la fonction `load_word2vec_format(...)`) et de manipuler les vecteurs de mots (instances de la classe `KeyedVectors`).  On peut notamment utiliser la fonction `similarity(w1, w2)` qui retourne le cosinus des vecteurs correspondant aux mots `w1` et `w2`, à condition que ceux-ci soient connus du modèle.  On peut aussi utiliser la fonction `most_similar([w])` qui retourne les mots voisins d'un ou plusieurs mots.  La [documentation de KeyedVectors](https://radimrehurek.com/gensim/models/keyedvectors.html) fournit des exemples utiles.\n",
    "\n",
    "Veuillez télécharger l'_un des deux_ modèles word2vec suivants, déjà entraînés, mis à disposition par [J.-Ph. Fauconnier](https://fauconnier.github.io/#data):\n",
    "- [frWac_no_postag_no_phrase_500_cbow_cut100.bin](https://embeddings.net/embeddings/frWac_no_postag_no_phrase_500_cbow_cut100.bin) - plus petit (229 Mo), mais pas identique au modèle utilisé pour Cémantix ;\n",
    "- [frWac_no_postag_phrase_500_cbow_cut10.bin](https://embeddings.net/embeddings/frWac_no_postag_phrase_500_cbow_cut10.bin) - bien plus grand (2 Go) donc assez gourmand en mémoire, mais qui est exactement celui utilisé pour Cémantix.\n",
    "Veuillez placer le modèle choisi dans le dossier `gensim-data` de votre dossier utilisateur."
   ]
  },
  {
   "cell_type": "code",
   "execution_count": 132,
   "id": "d1ec9fe2",
   "metadata": {},
   "outputs": [],
   "source": [
    "# Téléchargement, si nécessaire.\n",
    "# import wget\n",
    "# url = 'https://embeddings.net/embeddings/frWac_no_postag_no_phrase_500_cbow_cut100.bin'\n",
    "# wget.download(url, path_to_model)"
   ]
  },
  {
   "cell_type": "code",
   "execution_count": 133,
   "id": "e84d558a",
   "metadata": {},
   "outputs": [],
   "source": [
    "from gensim.models import KeyedVectors"
   ]
  },
  {
   "cell_type": "code",
   "execution_count": 134,
   "id": "3711012d",
   "metadata": {},
   "outputs": [],
   "source": [
    "path_to_model = \"C:\\\\Users\\\\lcsch\\\\gensim-data\\\\frWac_no_postag_phrase_500_cbow_cut10.bin\""
   ]
  },
  {
   "cell_type": "code",
   "execution_count": 135,
   "id": "114bdda7",
   "metadata": {},
   "outputs": [],
   "source": [
    "model = KeyedVectors.load_word2vec_format(path_to_model, binary=True, unicode_errors=\"ignore\")"
   ]
  },
  {
   "cell_type": "markdown",
   "id": "86c45ba9",
   "metadata": {},
   "source": [
    "a. Choisissez deux mots de sens proches `w1` et `w2`, et un autre plus différent noté `w3`. Affichez la similarité selon word2vec (cosinus) entre chaque paire de mots.  Ces valeurs correspondent-elles à vos intuitions ?"
   ]
  },
  {
   "cell_type": "code",
   "execution_count": 136,
   "id": "a7170b8a",
   "metadata": {},
   "outputs": [
    {
     "name": "stdout",
     "output_type": "stream",
     "text": [
      "w1-w2: 0.48375186\n",
      "w2-w3: 0.057056237\n",
      "w1-w3: -0.019678146\n"
     ]
    }
   ],
   "source": [
    "from gensim.similarities import Similarity\n",
    "\n",
    "w1 = 'dauphin'\n",
    "w2 = 'requin'\n",
    "w3 = 'goudron'\n",
    "\n",
    "print('w1-w2:', model.similarity(w1,w2))\n",
    "print('w2-w3:', model.similarity(w2,w3))\n",
    "print('w1-w3:', model.similarity(w1,w3))\n"
   ]
  },
  {
   "cell_type": "markdown",
   "id": "b9ac52e3",
   "metadata": {},
   "source": [
    "b. Affichez les 10 mots les plus proches de `w1` selon word2vec avec pour chacun sa similarité avec `w1`. "
   ]
  },
  {
   "cell_type": "code",
   "execution_count": 137,
   "id": "0919678c",
   "metadata": {},
   "outputs": [
    {
     "data": {
      "text/plain": [
       "[('cétacé', 0.5253106355667114),\n",
       " ('dauphins', 0.5124589204788208),\n",
       " ('mammifère_marin', 0.49912703037261963),\n",
       " ('sattaya', 0.4936593770980835),\n",
       " ('rorqual', 0.48457515239715576),\n",
       " ('lion_poisson_clown', 0.4841044545173645),\n",
       " ('requin', 0.4837518632411957),\n",
       " ('delphinarium', 0.4817071557044983),\n",
       " ('globicéphale', 0.4806098937988281),\n",
       " ('tucuxi', 0.4790893793106079)]"
      ]
     },
     "execution_count": 137,
     "metadata": {},
     "output_type": "execute_result"
    }
   ],
   "source": [
    "model.most_similar(w1)"
   ]
  },
  {
   "cell_type": "markdown",
   "id": "e763f4aa",
   "metadata": {},
   "source": [
    "c. Quels sont les 15 premiers coefficients du vecteur (_embedding_) du mot `w1` ? Quelle est la dimension de ce vecteur ?  Quelle est la taille du vocabulaire connu du modèle ?  Vous pouvez simplement écrire les commandes répondant à ces questions."
   ]
  },
  {
   "cell_type": "code",
   "execution_count": 138,
   "id": "a373edde",
   "metadata": {},
   "outputs": [
    {
     "name": "stdout",
     "output_type": "stream",
     "text": [
      "15 premiers coefficients : [-0.13417305  0.81857145  1.2199419  -0.18103984 -0.27053598  1.004049\n",
      " -2.296227    0.48258477 -0.6281404  -2.0846758   1.8269727  -1.7335479\n",
      "  0.6532203   0.5872189  -0.8560664 ]\n",
      "Dimension : (500,)\n",
      "Taille du vocabulaire connu : 1081995\n"
     ]
    }
   ],
   "source": [
    "vec = model.get_vector(w1)\n",
    "print('15 premiers coefficients :', vec[:15])\n",
    "print('Dimension :', vec.shape)\n",
    "\n",
    "print('Taille du vocabulaire connu :', len(model.vectors))"
   ]
  },
  {
   "cell_type": "markdown",
   "id": "136d3ca3",
   "metadata": {},
   "source": [
    "d. Veuillez écrire une fonction appelée `neighbors` selon les spécifications suivantes.  Cette fonction servira plus loin pour l'affichage.\n",
    "* input : modèle, liste de mots, nombre de voisins (`topn`) ;\n",
    "* output : liste de mots voisins de chacun des mots de l'input, représentés par un dictionnaire expliqué ci-après ;\n",
    "* fonctionnement : pour _chacun_ des mots donnés en input, la fonction teste si le mot est dans le vocabulaire du modèle word2vec (sinon elle ne le considère pas), puis demande au modèle la liste des `topn` mots voisins ; pour chacun de ces mots, la fonction construit un `dict` à 4 champs : \n",
    "  - mot voisin\n",
    "  - similarité\n",
    "  - mot de départ\n",
    "  - code de couleur associé au mot de départ : 1, 2, etc.\n",
    "\n",
    "**Exemple** : si on appelle la fonction avec \\['école'\\], le début du résultat sera :\n",
    "```\n",
    "[{'neighbor': 'scolaire',\n",
    "  'similarity': 0.7114928364753723,\n",
    "  'ref_word': 'école',\n",
    "  'color_code': 1}, ...\n",
    "```"
   ]
  },
  {
   "cell_type": "code",
   "execution_count": 139,
   "id": "60b01480",
   "metadata": {},
   "outputs": [],
   "source": [
    "def neighbors(model, word_list, topn = 5):\n",
    "    result = list()\n",
    "    for index, word in enumerate(word_list):\n",
    "        # Si le mot existe...\n",
    "        if word in model.key_to_index:\n",
    "            n_neighbors = model.most_similar(word, topn=topn)\n",
    "            for neighbor, distance in n_neighbors:\n",
    "                info = {\n",
    "                    'neighbor':neighbor,\n",
    "                    'similarity':distance,\n",
    "                    'ref_word':word,\n",
    "                    'color_code': index}\n",
    "                result.append(info)\n",
    "    return result"
   ]
  },
  {
   "cell_type": "code",
   "execution_count": 140,
   "id": "28cd119b",
   "metadata": {},
   "outputs": [
    {
     "name": "stdout",
     "output_type": "stream",
     "text": [
      "[{'neighbor': 'minou', 'similarity': 0.6334686875343323, 'ref_word': 'chat', 'color_code': 0}, {'neighbor': 'matou', 'similarity': 0.626587450504303, 'ref_word': 'chat', 'color_code': 0}, {'neighbor': 'petit_chatte', 'similarity': 0.6141418218612671, 'ref_word': 'chat', 'color_code': 0}, {'neighbor': 'étude', 'similarity': 0.6593688726425171, 'ref_word': 'étudier', 'color_code': 1}, {'neighbor': 'analyser', 'similarity': 0.6340749263763428, 'ref_word': 'étudier', 'color_code': 1}, {'neighbor': 'approfondir', 'similarity': 0.5609511733055115, 'ref_word': 'étudier', 'color_code': 1}]\n"
     ]
    }
   ],
   "source": [
    "# Tester avec cet appel :\n",
    "print(neighbors(model, ['chat', 'étudier'], 3))"
   ]
  },
  {
   "cell_type": "markdown",
   "id": "11d19cd5",
   "metadata": {},
   "source": [
    "## 2. Affichage simple des voisins d'un mot\n",
    "\n",
    "Pour commencer, veuillez étudier et exécuter le code fourni en exemple : `Labo4_plotly.ipynb`.  Cela vous montrera comment utiliser l'affichage 2D/3D avec `plotly.js`, et vous permettra de traiter les questions suivantes.\n",
    "\n",
    "Veuillez écrire et exécuter une fonction qui effectue les opérations suivantes, étant donné un mot en entrée :\n",
    "* obtenir les vecteurs word2vec du mot et de ses `topn` plus proches voisins ;\n",
    "* transformer ces vecteurs en 2D par l'ACP ;\n",
    "* afficher en 2D chaque points correspondant à un mot, avec comme étiquette le mot lui-même.\n",
    "\n",
    "**Notes:** cette fonction sert de version préliminaire à une fonction plus générique demandée ci-dessous.  Il n'est pas demandé de distinguer le mot entré des mots voisins, dans l'affichage (même type de points).  Il n'est pas nécessaire pour l'instant d'utiliser la fonction `neighbors`."
   ]
  },
  {
   "cell_type": "code",
   "execution_count": 141,
   "id": "c35a4625",
   "metadata": {},
   "outputs": [],
   "source": [
    "import plotly\n",
    "import numpy as np\n",
    "import plotly.graph_objs as go\n",
    "from sklearn.decomposition import PCA"
   ]
  },
  {
   "cell_type": "code",
   "execution_count": 142,
   "id": "0cd4156a",
   "metadata": {},
   "outputs": [],
   "source": [
    "import pandas as pd\n",
    "\n",
    "def display_PCA_2D_neighbors(model, word, topn = 5):\n",
    "    word_vec = model.get_vector(word)\n",
    "\n",
    "    neighbors = [neighbor_word for neighbor_word, distance in model.most_similar(word, topn=topn)]\n",
    "    vectors = [model.get_vector(neighbor) for neighbor in neighbors]\n",
    "    vectors.append(word_vec)\n",
    "    neighbors.append(word)\n",
    "\n",
    "    pca = PCA(n_components=2)\n",
    "    pca_data = pca.fit_transform(vectors)\n",
    "\n",
    "    plot_data_2 = go.Scatter(\n",
    "                    x = pca_data[:,0], \n",
    "                    y = pca_data[:,1],  \n",
    "                    text = neighbors,\n",
    "                    name = 'Mots',\n",
    "                    textposition = \"top center\",\n",
    "                    textfont_size = 10,\n",
    "                    mode = 'markers+text',\n",
    "                    marker = {'size': 5, 'opacity': .8, 'color': 2})\n",
    "    \n",
    "    layout = go.Layout(\n",
    "        margin = {'l': 0, 'r': 0, 'b': 0, 't': 0},\n",
    "        width = 800, height = 600,\n",
    "        font = {'family' : 'Arial', 'size' : 10}, # propriétés des caractères\n",
    "        showlegend = True,\n",
    "        legend = {'x' : 1, 'y' : 0.5, 'font' : {'color' : 'black'}}) # position et font de la légende\n",
    "    \n",
    "    plot_figure = go.Figure(data = plot_data_2, layout = layout)\n",
    "    plot_figure.show()\n"
   ]
  },
  {
   "cell_type": "code",
   "execution_count": 143,
   "id": "ba143b79",
   "metadata": {},
   "outputs": [
    {
     "data": {
      "application/vnd.plotly.v1+json": {
       "config": {
        "plotlyServerURL": "https://plot.ly"
       },
       "data": [
        {
         "marker": {
          "color": 2,
          "opacity": 0.8,
          "size": 5
         },
         "mode": "markers+text",
         "name": "Mots",
         "text": [
          "précision",
          "exact",
          "pertinent",
          "précisément",
          "préciser",
          "détailler",
          "clair",
          "possible",
          "déterminer",
          "indication",
          "expliciter",
          "définir",
          "exhaustif",
          "imprécis",
          "définition",
          "suffisamment_précis",
          "différent",
          "adéquat",
          "clairement_définir",
          "convenir",
          "précis"
         ],
         "textfont": {
          "size": 10
         },
         "textposition": "top center",
         "type": "scatter",
         "x": [
          7.165646108281165,
          6.325501143027673,
          -0.7608521682993434,
          -2.524007661539031,
          -0.5227129428701489,
          5.635277145727831,
          3.31485458676736,
          -1.2513533948420221,
          -7.065551373591488,
          6.386892960423651,
          -2.8098638359001735,
          -10.384272036328783,
          6.835132430847547,
          6.669260568974961,
          -6.055503089684147,
          1.939198032798662,
          -4.967024548880437,
          -3.749492878833906,
          -4.226655369850729,
          -2.9083019002146773,
          2.9538282239860396
         ],
         "y": [
          -2.712645070555828,
          -7.183007053275324,
          5.634157039391815,
          -3.0527431010286863,
          -2.27650393399076,
          9.069695398878359,
          -2.268370278241282,
          -2.125507447598013,
          -3.0950432823184935,
          -0.7466386861539189,
          3.083211832338025,
          0.7286101713514749,
          11.94953029809322,
          -6.421958019561859,
          2.6860533224572443,
          -2.5372863382353326,
          4.483991254061319,
          -1.2465304323347732,
          -0.2288120286380538,
          -3.951257562841832,
          0.21105391820271002
         ]
        }
       ],
       "layout": {
        "font": {
         "family": "Arial",
         "size": 10
        },
        "height": 600,
        "legend": {
         "font": {
          "color": "black"
         },
         "x": 1,
         "y": 0.5
        },
        "margin": {
         "b": 0,
         "l": 0,
         "r": 0,
         "t": 0
        },
        "showlegend": true,
        "template": {
         "data": {
          "bar": [
           {
            "error_x": {
             "color": "#2a3f5f"
            },
            "error_y": {
             "color": "#2a3f5f"
            },
            "marker": {
             "line": {
              "color": "#E5ECF6",
              "width": 0.5
             },
             "pattern": {
              "fillmode": "overlay",
              "size": 10,
              "solidity": 0.2
             }
            },
            "type": "bar"
           }
          ],
          "barpolar": [
           {
            "marker": {
             "line": {
              "color": "#E5ECF6",
              "width": 0.5
             },
             "pattern": {
              "fillmode": "overlay",
              "size": 10,
              "solidity": 0.2
             }
            },
            "type": "barpolar"
           }
          ],
          "carpet": [
           {
            "aaxis": {
             "endlinecolor": "#2a3f5f",
             "gridcolor": "white",
             "linecolor": "white",
             "minorgridcolor": "white",
             "startlinecolor": "#2a3f5f"
            },
            "baxis": {
             "endlinecolor": "#2a3f5f",
             "gridcolor": "white",
             "linecolor": "white",
             "minorgridcolor": "white",
             "startlinecolor": "#2a3f5f"
            },
            "type": "carpet"
           }
          ],
          "choropleth": [
           {
            "colorbar": {
             "outlinewidth": 0,
             "ticks": ""
            },
            "type": "choropleth"
           }
          ],
          "contour": [
           {
            "colorbar": {
             "outlinewidth": 0,
             "ticks": ""
            },
            "colorscale": [
             [
              0,
              "#0d0887"
             ],
             [
              0.1111111111111111,
              "#46039f"
             ],
             [
              0.2222222222222222,
              "#7201a8"
             ],
             [
              0.3333333333333333,
              "#9c179e"
             ],
             [
              0.4444444444444444,
              "#bd3786"
             ],
             [
              0.5555555555555556,
              "#d8576b"
             ],
             [
              0.6666666666666666,
              "#ed7953"
             ],
             [
              0.7777777777777778,
              "#fb9f3a"
             ],
             [
              0.8888888888888888,
              "#fdca26"
             ],
             [
              1,
              "#f0f921"
             ]
            ],
            "type": "contour"
           }
          ],
          "contourcarpet": [
           {
            "colorbar": {
             "outlinewidth": 0,
             "ticks": ""
            },
            "type": "contourcarpet"
           }
          ],
          "heatmap": [
           {
            "colorbar": {
             "outlinewidth": 0,
             "ticks": ""
            },
            "colorscale": [
             [
              0,
              "#0d0887"
             ],
             [
              0.1111111111111111,
              "#46039f"
             ],
             [
              0.2222222222222222,
              "#7201a8"
             ],
             [
              0.3333333333333333,
              "#9c179e"
             ],
             [
              0.4444444444444444,
              "#bd3786"
             ],
             [
              0.5555555555555556,
              "#d8576b"
             ],
             [
              0.6666666666666666,
              "#ed7953"
             ],
             [
              0.7777777777777778,
              "#fb9f3a"
             ],
             [
              0.8888888888888888,
              "#fdca26"
             ],
             [
              1,
              "#f0f921"
             ]
            ],
            "type": "heatmap"
           }
          ],
          "heatmapgl": [
           {
            "colorbar": {
             "outlinewidth": 0,
             "ticks": ""
            },
            "colorscale": [
             [
              0,
              "#0d0887"
             ],
             [
              0.1111111111111111,
              "#46039f"
             ],
             [
              0.2222222222222222,
              "#7201a8"
             ],
             [
              0.3333333333333333,
              "#9c179e"
             ],
             [
              0.4444444444444444,
              "#bd3786"
             ],
             [
              0.5555555555555556,
              "#d8576b"
             ],
             [
              0.6666666666666666,
              "#ed7953"
             ],
             [
              0.7777777777777778,
              "#fb9f3a"
             ],
             [
              0.8888888888888888,
              "#fdca26"
             ],
             [
              1,
              "#f0f921"
             ]
            ],
            "type": "heatmapgl"
           }
          ],
          "histogram": [
           {
            "marker": {
             "pattern": {
              "fillmode": "overlay",
              "size": 10,
              "solidity": 0.2
             }
            },
            "type": "histogram"
           }
          ],
          "histogram2d": [
           {
            "colorbar": {
             "outlinewidth": 0,
             "ticks": ""
            },
            "colorscale": [
             [
              0,
              "#0d0887"
             ],
             [
              0.1111111111111111,
              "#46039f"
             ],
             [
              0.2222222222222222,
              "#7201a8"
             ],
             [
              0.3333333333333333,
              "#9c179e"
             ],
             [
              0.4444444444444444,
              "#bd3786"
             ],
             [
              0.5555555555555556,
              "#d8576b"
             ],
             [
              0.6666666666666666,
              "#ed7953"
             ],
             [
              0.7777777777777778,
              "#fb9f3a"
             ],
             [
              0.8888888888888888,
              "#fdca26"
             ],
             [
              1,
              "#f0f921"
             ]
            ],
            "type": "histogram2d"
           }
          ],
          "histogram2dcontour": [
           {
            "colorbar": {
             "outlinewidth": 0,
             "ticks": ""
            },
            "colorscale": [
             [
              0,
              "#0d0887"
             ],
             [
              0.1111111111111111,
              "#46039f"
             ],
             [
              0.2222222222222222,
              "#7201a8"
             ],
             [
              0.3333333333333333,
              "#9c179e"
             ],
             [
              0.4444444444444444,
              "#bd3786"
             ],
             [
              0.5555555555555556,
              "#d8576b"
             ],
             [
              0.6666666666666666,
              "#ed7953"
             ],
             [
              0.7777777777777778,
              "#fb9f3a"
             ],
             [
              0.8888888888888888,
              "#fdca26"
             ],
             [
              1,
              "#f0f921"
             ]
            ],
            "type": "histogram2dcontour"
           }
          ],
          "mesh3d": [
           {
            "colorbar": {
             "outlinewidth": 0,
             "ticks": ""
            },
            "type": "mesh3d"
           }
          ],
          "parcoords": [
           {
            "line": {
             "colorbar": {
              "outlinewidth": 0,
              "ticks": ""
             }
            },
            "type": "parcoords"
           }
          ],
          "pie": [
           {
            "automargin": true,
            "type": "pie"
           }
          ],
          "scatter": [
           {
            "fillpattern": {
             "fillmode": "overlay",
             "size": 10,
             "solidity": 0.2
            },
            "type": "scatter"
           }
          ],
          "scatter3d": [
           {
            "line": {
             "colorbar": {
              "outlinewidth": 0,
              "ticks": ""
             }
            },
            "marker": {
             "colorbar": {
              "outlinewidth": 0,
              "ticks": ""
             }
            },
            "type": "scatter3d"
           }
          ],
          "scattercarpet": [
           {
            "marker": {
             "colorbar": {
              "outlinewidth": 0,
              "ticks": ""
             }
            },
            "type": "scattercarpet"
           }
          ],
          "scattergeo": [
           {
            "marker": {
             "colorbar": {
              "outlinewidth": 0,
              "ticks": ""
             }
            },
            "type": "scattergeo"
           }
          ],
          "scattergl": [
           {
            "marker": {
             "colorbar": {
              "outlinewidth": 0,
              "ticks": ""
             }
            },
            "type": "scattergl"
           }
          ],
          "scattermapbox": [
           {
            "marker": {
             "colorbar": {
              "outlinewidth": 0,
              "ticks": ""
             }
            },
            "type": "scattermapbox"
           }
          ],
          "scatterpolar": [
           {
            "marker": {
             "colorbar": {
              "outlinewidth": 0,
              "ticks": ""
             }
            },
            "type": "scatterpolar"
           }
          ],
          "scatterpolargl": [
           {
            "marker": {
             "colorbar": {
              "outlinewidth": 0,
              "ticks": ""
             }
            },
            "type": "scatterpolargl"
           }
          ],
          "scatterternary": [
           {
            "marker": {
             "colorbar": {
              "outlinewidth": 0,
              "ticks": ""
             }
            },
            "type": "scatterternary"
           }
          ],
          "surface": [
           {
            "colorbar": {
             "outlinewidth": 0,
             "ticks": ""
            },
            "colorscale": [
             [
              0,
              "#0d0887"
             ],
             [
              0.1111111111111111,
              "#46039f"
             ],
             [
              0.2222222222222222,
              "#7201a8"
             ],
             [
              0.3333333333333333,
              "#9c179e"
             ],
             [
              0.4444444444444444,
              "#bd3786"
             ],
             [
              0.5555555555555556,
              "#d8576b"
             ],
             [
              0.6666666666666666,
              "#ed7953"
             ],
             [
              0.7777777777777778,
              "#fb9f3a"
             ],
             [
              0.8888888888888888,
              "#fdca26"
             ],
             [
              1,
              "#f0f921"
             ]
            ],
            "type": "surface"
           }
          ],
          "table": [
           {
            "cells": {
             "fill": {
              "color": "#EBF0F8"
             },
             "line": {
              "color": "white"
             }
            },
            "header": {
             "fill": {
              "color": "#C8D4E3"
             },
             "line": {
              "color": "white"
             }
            },
            "type": "table"
           }
          ]
         },
         "layout": {
          "annotationdefaults": {
           "arrowcolor": "#2a3f5f",
           "arrowhead": 0,
           "arrowwidth": 1
          },
          "autotypenumbers": "strict",
          "coloraxis": {
           "colorbar": {
            "outlinewidth": 0,
            "ticks": ""
           }
          },
          "colorscale": {
           "diverging": [
            [
             0,
             "#8e0152"
            ],
            [
             0.1,
             "#c51b7d"
            ],
            [
             0.2,
             "#de77ae"
            ],
            [
             0.3,
             "#f1b6da"
            ],
            [
             0.4,
             "#fde0ef"
            ],
            [
             0.5,
             "#f7f7f7"
            ],
            [
             0.6,
             "#e6f5d0"
            ],
            [
             0.7,
             "#b8e186"
            ],
            [
             0.8,
             "#7fbc41"
            ],
            [
             0.9,
             "#4d9221"
            ],
            [
             1,
             "#276419"
            ]
           ],
           "sequential": [
            [
             0,
             "#0d0887"
            ],
            [
             0.1111111111111111,
             "#46039f"
            ],
            [
             0.2222222222222222,
             "#7201a8"
            ],
            [
             0.3333333333333333,
             "#9c179e"
            ],
            [
             0.4444444444444444,
             "#bd3786"
            ],
            [
             0.5555555555555556,
             "#d8576b"
            ],
            [
             0.6666666666666666,
             "#ed7953"
            ],
            [
             0.7777777777777778,
             "#fb9f3a"
            ],
            [
             0.8888888888888888,
             "#fdca26"
            ],
            [
             1,
             "#f0f921"
            ]
           ],
           "sequentialminus": [
            [
             0,
             "#0d0887"
            ],
            [
             0.1111111111111111,
             "#46039f"
            ],
            [
             0.2222222222222222,
             "#7201a8"
            ],
            [
             0.3333333333333333,
             "#9c179e"
            ],
            [
             0.4444444444444444,
             "#bd3786"
            ],
            [
             0.5555555555555556,
             "#d8576b"
            ],
            [
             0.6666666666666666,
             "#ed7953"
            ],
            [
             0.7777777777777778,
             "#fb9f3a"
            ],
            [
             0.8888888888888888,
             "#fdca26"
            ],
            [
             1,
             "#f0f921"
            ]
           ]
          },
          "colorway": [
           "#636efa",
           "#EF553B",
           "#00cc96",
           "#ab63fa",
           "#FFA15A",
           "#19d3f3",
           "#FF6692",
           "#B6E880",
           "#FF97FF",
           "#FECB52"
          ],
          "font": {
           "color": "#2a3f5f"
          },
          "geo": {
           "bgcolor": "white",
           "lakecolor": "white",
           "landcolor": "#E5ECF6",
           "showlakes": true,
           "showland": true,
           "subunitcolor": "white"
          },
          "hoverlabel": {
           "align": "left"
          },
          "hovermode": "closest",
          "mapbox": {
           "style": "light"
          },
          "paper_bgcolor": "white",
          "plot_bgcolor": "#E5ECF6",
          "polar": {
           "angularaxis": {
            "gridcolor": "white",
            "linecolor": "white",
            "ticks": ""
           },
           "bgcolor": "#E5ECF6",
           "radialaxis": {
            "gridcolor": "white",
            "linecolor": "white",
            "ticks": ""
           }
          },
          "scene": {
           "xaxis": {
            "backgroundcolor": "#E5ECF6",
            "gridcolor": "white",
            "gridwidth": 2,
            "linecolor": "white",
            "showbackground": true,
            "ticks": "",
            "zerolinecolor": "white"
           },
           "yaxis": {
            "backgroundcolor": "#E5ECF6",
            "gridcolor": "white",
            "gridwidth": 2,
            "linecolor": "white",
            "showbackground": true,
            "ticks": "",
            "zerolinecolor": "white"
           },
           "zaxis": {
            "backgroundcolor": "#E5ECF6",
            "gridcolor": "white",
            "gridwidth": 2,
            "linecolor": "white",
            "showbackground": true,
            "ticks": "",
            "zerolinecolor": "white"
           }
          },
          "shapedefaults": {
           "line": {
            "color": "#2a3f5f"
           }
          },
          "ternary": {
           "aaxis": {
            "gridcolor": "white",
            "linecolor": "white",
            "ticks": ""
           },
           "baxis": {
            "gridcolor": "white",
            "linecolor": "white",
            "ticks": ""
           },
           "bgcolor": "#E5ECF6",
           "caxis": {
            "gridcolor": "white",
            "linecolor": "white",
            "ticks": ""
           }
          },
          "title": {
           "x": 0.05
          },
          "xaxis": {
           "automargin": true,
           "gridcolor": "white",
           "linecolor": "white",
           "ticks": "",
           "title": {
            "standoff": 15
           },
           "zerolinecolor": "white",
           "zerolinewidth": 2
          },
          "yaxis": {
           "automargin": true,
           "gridcolor": "white",
           "linecolor": "white",
           "ticks": "",
           "title": {
            "standoff": 15
           },
           "zerolinecolor": "white",
           "zerolinewidth": 2
          }
         }
        },
        "width": 800
       }
      }
     },
     "metadata": {},
     "output_type": "display_data"
    }
   ],
   "source": [
    "# Afficher le mot 'chat' et ses 20 plus proches voisins\n",
    "# projetés en deux dimensions avec PCA (test de la fonction).\n",
    "display_PCA_2D_neighbors(model, 'précis', 20)"
   ]
  },
  {
   "cell_type": "markdown",
   "id": "82f594e0",
   "metadata": {},
   "source": [
    "## 3. Affichage configurable des voisins de plusieurs mots\n",
    "\n",
    "Le but maintenant est d'écrire une fonction `display_dimred_neighbors` qui affiche sur un seul graphique les mots voisins de chaque mot d'une liste de mots donnés.  Vous utiliserez ici la fonction auxiliaire `neighbors` définie plus haut  Les paramètres suivants seront passés à la fonction `display_dimred_neighbors` :\n",
    "\n",
    "* `model` - le nom du modèle word2vec\n",
    "* `word_list` - liste de mots dont on veut afficher les voisins (s'ils existent dans `model`)\n",
    "* `n_components` - dimensionnalité de l'affichage, 2 ou 3\n",
    "* `topn` - nombre de voisins à afficher pour chaque mot \n",
    "* `method` - **méthode de réduction de dimensionnalité : pca, mds, isomap, tsne, ou umap**\n",
    "* `n_neighbors`- nombre de voisins considérés par la méthode (applicable à isomap, umap, et tsne (appelé alors `perplexity`)).\n",
    "\n",
    "Trois tests sont demandés à la question 4, mais vous pouvez en exécuter d'autres et les inclure ici."
   ]
  },
  {
   "cell_type": "code",
   "execution_count": 144,
   "id": "9fcd5af4",
   "metadata": {},
   "outputs": [],
   "source": [
    "from sklearn.decomposition import PCA\n",
    "from sklearn.manifold import MDS\n",
    "from sklearn.manifold import Isomap\n",
    "from sklearn.manifold import TSNE\n",
    "from umap import UMAP # Attention, installer le module nommé 'umap-learn' (avec conda install)."
   ]
  },
  {
   "cell_type": "code",
   "execution_count": 145,
   "id": "84c9d33f",
   "metadata": {},
   "outputs": [],
   "source": [
    "def reduce_dimension(neighbors_data, method, n_components, n_neighbors):\n",
    "    vectors = np.array([model.get_vector(n) for n in neighbors_data['neighbor']])\n",
    "\n",
    "    if method == 'pca':\n",
    "        pca = PCA(n_components=n_components)\n",
    "        return pca.fit_transform(vectors)\n",
    "    elif method == 'mds':\n",
    "        mds = MDS(n_components=n_components)\n",
    "        return mds.fit_transform(vectors)\n",
    "    elif method == 'isomap':\n",
    "        isomap = Isomap(n_neighbors=n_neighbors, n_components=n_components)\n",
    "        return isomap.fit_transform(vectors)\n",
    "    elif method == 'tsne':\n",
    "        tsne = TSNE(perplexity=float(n_neighbors), n_components=n_components)\n",
    "        return tsne.fit_transform(vectors)\n",
    "    elif method == 'umap':\n",
    "        umap = UMAP(n_neighbors=n_neighbors, n_components=n_components)\n",
    "        return umap.fit_transform(vectors)\n",
    "    else:\n",
    "        raise 'unrecognized method'\n",
    "\n",
    "def display_dimred_neighbors(model, word_list, n_components = 3, topn = 5, method = 'pca', n_neighbors = 5):\n",
    "    neighbors_raw = neighbors(model, word_list, topn)\n",
    "    for i, word in enumerate(word_list):\n",
    "        neighbors_raw.append({'neighbor': word, 'similarity': 1, 'ref_word':word, 'color_code':len(word_list) + i})\n",
    "    neighbors_data = pd.DataFrame.from_dict(neighbors_raw)\n",
    "\n",
    "    dimred_data = reduce_dimension(neighbors_data, method, n_components, n_neighbors)\n",
    "\n",
    "    classes = neighbors_data['ref_word'].value_counts().items()\n",
    "\n",
    "    plots = []\n",
    "    for ref_word, _ in classes:\n",
    "        color = neighbors_data[neighbors_data['ref_word'] == ref_word]['color_code'].iloc[0]\n",
    "        indices = neighbors_data['ref_word'] == ref_word\n",
    "        \n",
    "        plot = None\n",
    "        if n_components == 2:\n",
    "            plot = go.Scatter(\n",
    "                            x = dimred_data[:,0][indices], \n",
    "                            y = dimred_data[:,1][indices],  \n",
    "                            text = neighbors_data['neighbor'][indices],\n",
    "                            name = ref_word,\n",
    "                            textposition = \"top center\",\n",
    "                            textfont_size = 10,\n",
    "                            mode = 'markers+text',                            \n",
    "                            marker = {'size': 10, 'opacity': .8, 'color': color})\n",
    "        elif n_components == 3:\n",
    "            plot = go.Scatter3d(\n",
    "                            x = dimred_data[:,0][indices], \n",
    "                            y = dimred_data[:,1][indices],\n",
    "                            z = dimred_data[:,2][indices],\n",
    "                            text = neighbors_data['neighbor'][indices],\n",
    "                            name = ref_word,\n",
    "                            textposition = \"top center\",\n",
    "                            textfont_size = 10,\n",
    "                            mode = 'markers+text',                            \n",
    "                            marker = {'size': 10, 'opacity': .8, 'color': color})\n",
    "        else:\n",
    "            raise 'too many or too little dimensions specified'\n",
    "        plots.append(plot)\n",
    "\n",
    "    layout = go.Layout(\n",
    "        margin = {'l': 0, 'r': 0, 'b': 0, 't': 0},\n",
    "        width = 800, height = 600,\n",
    "        font = {'family' : 'Arial', 'size' : 10}, # propriétés des caractères\n",
    "        showlegend = True,\n",
    "        legend = {'x' : 1, 'y' : 0.5, 'font' : {'color' : 'black'}}) # position et font de la légende\n",
    "    \n",
    "    plot_figure = go.Figure(data = plots, layout = layout)\n",
    "    plot_figure.show()"
   ]
  },
  {
   "cell_type": "code",
   "execution_count": 146,
   "id": "b44095e6",
   "metadata": {},
   "outputs": [
    {
     "data": {
      "application/vnd.plotly.v1+json": {
       "config": {
        "plotlyServerURL": "https://plot.ly"
       },
       "data": [
        {
         "marker": {
          "color": 0,
          "opacity": 0.8,
          "size": 10
         },
         "mode": "markers+text",
         "name": "précis",
         "text": [
          "précision",
          "exact",
          "pertinent",
          "précisément",
          "préciser",
          "détailler",
          "clair",
          "possible",
          "déterminer",
          "indication",
          "expliciter",
          "définir",
          "exhaustif",
          "imprécis",
          "définition",
          "suffisamment_précis",
          "différent",
          "adéquat",
          "clairement_définir",
          "convenir",
          "extrêmement_précis",
          "simple",
          "explicite",
          "correspondre",
          "manière",
          "utile",
          "concis",
          "fournir",
          "succinct",
          "nécessaire",
          "approprier",
          "élément",
          "clairement",
          "permettre",
          "fiable",
          "cohérent",
          "se_agir",
          "chaque",
          "rigoureux",
          "décrire",
          "formulation",
          "donner",
          "compréhensible",
          "indiquer",
          "approximatif",
          "vérifiable",
          "identifier",
          "ce",
          "établir",
          "factuel",
          "façon",
          "essentiel",
          "cerner",
          "indication_précis",
          "éventuellement",
          "concret",
          "nécessairement",
          "suffisamment",
          "énoncer",
          "certain",
          "généralement",
          "repérer",
          "préalablement_définir",
          "spécifique",
          "pouvoir",
          "tenir_compte",
          "lequel",
          "formuler",
          "proprement_dire",
          "vérifier",
          "analyser",
          "rigoureusement",
          "formaliser",
          "affiner",
          "circonstancier",
          "type",
          "critère",
          "comporter",
          "souhaitable",
          "manière_exhaustif",
          "préétablir",
          "préalable",
          "bien_entendre",
          "celui-ci",
          "concerner",
          "se_référer",
          "un",
          "clairement_identifier",
          "choix",
          "documenter",
          "élaborer",
          "structurer",
          "devoir",
          "supposer",
          "imprécision",
          "cas",
          "caractéristique",
          "adéquation",
          "clarifier",
          "hiérarchiser",
          "précis"
         ],
         "textfont": {
          "size": 10
         },
         "textposition": "top center",
         "type": "scatter3d",
         "x": [
          48.651702880859375,
          52.37213134765625,
          15.689587593078613,
          245.3940887451172,
          32.75358963012695,
          55.24411392211914,
          1.6983873844146729,
          33.59859848022461,
          78.92540740966797,
          38.86960983276367,
          55.067726135253906,
          91.52375793457031,
          34.90031051635742,
          21.78157615661621,
          95.65068817138672,
          -8.237261772155762,
          58.9772834777832,
          63.77263259887695,
          63.57872772216797,
          58.81486129760742,
          8.485749244689941,
          8.210060119628906,
          54.144168853759766,
          61.874664306640625,
          27.307069778442383,
          13.880169868469238,
          61.337154388427734,
          32.426170349121094,
          47.18678665161133,
          54.08348083496094,
          74.50923156738281,
          60.66823196411133,
          20.974435806274414,
          46.13367462158203,
          37.37098693847656,
          97.1853256225586,
          34.42306137084961,
          44.28749465942383,
          -3.25064754486084,
          19.463520050048828,
          79.44992065429688,
          9.25149917602539,
          -13.686805725097656,
          35.75625228881836,
          35.15583038330078,
          -35.119667053222656,
          84.14198303222656,
          22.5371150970459,
          86.44596099853516,
          -21.648103713989258,
          15.002090454101562,
          65.49176025390625,
          21.500253677368164,
          14.70602798461914,
          25.917312622070312,
          75.73330688476562,
          43.1279296875,
          18.12702178955078,
          56.75526428222656,
          15.620044708251953,
          -8.516162872314453,
          91.8218765258789,
          102.52886962890625,
          64.46414184570312,
          34.283935546875,
          74.20199584960938,
          36.882938385009766,
          82.73654174804688,
          25.74269676208496,
          15.097038269042969,
          66.78437042236328,
          -10.22640609741211,
          109.83847045898438,
          -8.377729415893555,
          -4.402335166931152,
          63.77931213378906,
          89.83641815185547,
          42.54802322387695,
          50.09235382080078,
          39.79408645629883,
          23.353357315063477,
          47.3151741027832,
          6.0300774574279785,
          35.3591423034668,
          34.31771469116211,
          48.92304611206055,
          27.753293991088867,
          41.564483642578125,
          41.56956100463867,
          32.0916633605957,
          89.80426025390625,
          105.3017349243164,
          48.9356689453125,
          48.8309440612793,
          26.046661376953125,
          7.280043601989746,
          68.90167999267578,
          75.47705078125,
          25.794349670410156,
          113.6544189453125,
          -63.41322326660156
         ],
         "y": [
          -51.55905532836914,
          9.22571849822998,
          -97.86701202392578,
          -10.237424850463867,
          1.925214171409607,
          66.84048461914062,
          0.8466361165046692,
          -49.6965446472168,
          -6.332347393035889,
          31.608688354492188,
          41.743282318115234,
          3.9057295322418213,
          88.46286010742188,
          -16.49555778503418,
          17.591991424560547,
          -55.76123809814453,
          -10.11329460144043,
          -54.16548538208008,
          6.938795566558838,
          -52.214874267578125,
          79.32882690429688,
          -27.12371253967285,
          57.1306266784668,
          16.06730842590332,
          -11.950126647949219,
          -74.61109924316406,
          62.28007888793945,
          -37.636962890625,
          80.11377716064453,
          -56.71538162231445,
          -44.968528747558594,
          46.45241928100586,
          11.38551139831543,
          -32.77065658569336,
          -58.78810501098633,
          -20.029029846191406,
          -13.250208854675293,
          -9.621673583984375,
          -7.309127330780029,
          72.17298889160156,
          41.32707595825195,
          -21.753698348999023,
          -14.035655975341797,
          11.715144157409668,
          14.160866737365723,
          8.5523681640625,
          -1.2423624992370605,
          -35.69331359863281,
          41.288780212402344,
          34.98800277709961,
          -22.905750274658203,
          -15.920254707336426,
          57.15681838989258,
          -24.526140213012695,
          -56.043941497802734,
          -17.7968692779541,
          -34.17697525024414,
          -52.46507263183594,
          20.104196548461914,
          -47.96282958984375,
          -47.83266830444336,
          -3.4588022232055664,
          17.70699691772461,
          -18.077260971069336,
          -32.025875091552734,
          -32.02934265136719,
          -6.364785194396973,
          25.67271614074707,
          45.527931213378906,
          -72.20555114746094,
          10.691766738891602,
          -28.38980484008789,
          -12.807592391967773,
          -94.5901870727539,
          57.792083740234375,
          5.021552085876465,
          -59.72122573852539,
          34.59358596801758,
          -74.53950500488281,
          76.73296356201172,
          44.36293029785156,
          -77.45654296875,
          -49.67828369140625,
          25.141687393188477,
          13.64089584350586,
          3.3557229042053223,
          -21.043851852416992,
          18.640043258666992,
          -62.33953857421875,
          58.56050491333008,
          -16.78566551208496,
          -20.97187042236328,
          -32.494449615478516,
          -35.443111419677734,
          -35.00367736816406,
          -73.09587097167969,
          24.709320068359375,
          -41.305816650390625,
          32.6119384765625,
          -32.84072494506836,
          -37.71955871582031
         ],
         "z": [
          -73.17308807373047,
          -81.31602478027344,
          7.200981616973877,
          -64.94941711425781,
          -17.73419761657715,
          -14.511567115783691,
          45.567726135253906,
          18.431446075439453,
          15.184925079345703,
          -39.42430114746094,
          53.22150802612305,
          6.655191898345947,
          0.7387886047363281,
          -68.33162689208984,
          19.945024490356445,
          0.8971699476242065,
          -5.2774553298950195,
          -21.19062614440918,
          40.372249603271484,
          28.140851974487305,
          -51.29417419433594,
          12.53993034362793,
          59.49540710449219,
          5.431514263153076,
          73.70588684082031,
          16.375381469726562,
          -48.34601593017578,
          -27.526554107666016,
          -26.753128051757812,
          0.37421470880508423,
          -10.378491401672363,
          15.980467796325684,
          55.737266540527344,
          -0.6839554309844971,
          -41.032020568847656,
          46.92302703857422,
          -94.92693328857422,
          14.417402267456055,
          94.03272247314453,
          44.42992401123047,
          47.15861511230469,
          39.454185485839844,
          44.30843734741211,
          -31.55831527709961,
          -73.13465118408203,
          95.06024932861328,
          -44.2286376953125,
          33.914920806884766,
          -2.023878812789917,
          89.3681869506836,
          68.67278289794922,
          49.29060363769531,
          -27.751869201660156,
          -16.487823486328125,
          -4.833203315734863,
          70.77851104736328,
          89.62957000732422,
          78.62425994873047,
          70.39868927001953,
          52.812957763671875,
          58.38144302368164,
          -61.79655838012695,
          -14.152188301086426,
          -25.91698455810547,
          49.475494384765625,
          18.842910766601562,
          44.27309799194336,
          64.12218475341797,
          11.02784538269043,
          -19.903104782104492,
          -51.408939361572266,
          86.3050308227539,
          -13.786357879638672,
          -26.912172317504883,
          76.00960540771484,
          -17.99418830871582,
          21.376953125,
          -8.004073143005371,
          20.413898468017578,
          18.153310775756836,
          70.73270416259766,
          -8.705660820007324,
          29.897077560424805,
          90.84282684326172,
          0.38857901096343994,
          96.77041625976562,
          23.897939682006836,
          26.59808349609375,
          49.638118743896484,
          -64.60526275634766,
          -11.123648643493652,
          28.165189743041992,
          33.094078063964844,
          69.43682098388672,
          -72.74537658691406,
          49.45048522949219,
          -22.711502075195312,
          -40.397918701171875,
          43.955482482910156,
          13.669312477111816,
          58.03055953979492
         ]
        },
        {
         "marker": {
          "color": 1,
          "opacity": 0.8,
          "size": 10
         },
         "mode": "markers+text",
         "name": "goudron",
         "text": [
          "bitume",
          "goudronner",
          "bitumer",
          "bitumeux",
          "asphalte",
          "gravillon",
          "caillasse",
          "boueux",
          "pierraille",
          "odeur_tenace",
          "bitumineux",
          "bitumes",
          "sable_gravier",
          "whit_spirit",
          "odeur_nauséabond",
          "goudrons",
          "empierrer",
          "détremper",
          "rouler",
          "calciner",
          "craqueler",
          "badigeonnage",
          "bouillasse",
          "noirâtre",
          "naphte",
          "chauler",
          "suie",
          "sentier_étroit",
          "crasse",
          "fiente",
          "matière_bitumineux",
          "mazout",
          "flaque",
          "chiffon_imbiber",
          "brai",
          "mélange_bitumineux",
          "odeur_pestilentiel",
          "maculer",
          "suinter",
          "chemin_boueux",
          "érafler",
          "épais_couche",
          "gravier",
          "macadam",
          "revêtement_imperméable",
          "pentu",
          "raviner",
          "gravillonner",
          "asphalter",
          "sol_sablonneux",
          "sable_mou",
          "détritus",
          "cloaque",
          "poussière",
          "cahot",
          "sciure",
          "gadoue",
          "non_goudronner",
          "trottoir_défoncer",
          "pouzzolane",
          "boue",
          "roussir",
          "grisâtre",
          "pulvérulent",
          "terreux",
          "odeur",
          "sang_sécher",
          "térébenthine",
          "vitrifier",
          "empester",
          "rouiller",
          "poteau_électrique",
          "fritte",
          "huileux",
          "graisseux",
          "bétonner",
          "herbe_sec",
          "eau_ruisseler",
          "bosseler",
          "joncher",
          "route",
          "odeur_piquant",
          "schlinguer",
          "pierreux",
          "détachant",
          "crisser",
          "malodorant",
          "mégot",
          "fibrociment",
          "lodeur",
          "imperméabiliser",
          "décrasser",
          "white-spirit",
          "lentisque",
          "rocailleux",
          "route_goudronner",
          "créosote",
          "âcre",
          "lessiver",
          "verdatre",
          "goudron"
         ],
         "textfont": {
          "size": 10
         },
         "textposition": "top center",
         "type": "scatter3d",
         "x": [
          -93.2528076171875,
          -60.38686752319336,
          -56.227874755859375,
          -39.18684005737305,
          -94.54692077636719,
          -29.281707763671875,
          -82.7301025390625,
          -81.86486053466797,
          -44.36946105957031,
          -13.463212013244629,
          -14.423736572265625,
          -18.280038833618164,
          -17.835296630859375,
          -35.476646423339844,
          -66.86136627197266,
          0.516219973564148,
          -61.706233978271484,
          -59.18476104736328,
          -86.38483428955078,
          -3.9235754013061523,
          -51.64925765991211,
          4.093721389770508,
          -16.313873291015625,
          -84.14389038085938,
          -6.406398296356201,
          -19.49825096130371,
          -35.26991271972656,
          -40.803253173828125,
          -51.67021560668945,
          -67.7508773803711,
          -35.549888610839844,
          -1.1044347286224365,
          -80.43408966064453,
          -27.75788116455078,
          2.816992998123169,
          2.1906700134277344,
          -55.281280517578125,
          -77.72179412841797,
          -95.70704650878906,
          -56.91301345825195,
          -66.2579116821289,
          -12.698952674865723,
          -25.008573532104492,
          -45.06727600097656,
          14.804851531982422,
          -54.4426155090332,
          -65.29924011230469,
          -38.61036682128906,
          -38.412593841552734,
          -36.68192672729492,
          -40.087371826171875,
          -60.296714782714844,
          -77.05992889404297,
          -50.439605712890625,
          -79.25724029541016,
          6.513256072998047,
          -46.010982513427734,
          -34.955692291259766,
          -24.10031509399414,
          -21.076513290405273,
          -53.25953674316406,
          -18.020301818847656,
          -97.33485412597656,
          -40.32229232788086,
          -68.57540893554688,
          -90.33707427978516,
          -69.96287536621094,
          -8.879497528076172,
          1.2497986555099487,
          -48.16359329223633,
          -67.80723571777344,
          -15.589221000671387,
          -2.776341199874878,
          -8.271565437316895,
          -33.30835723876953,
          -32.87834930419922,
          -23.097898483276367,
          -34.881534576416016,
          -56.2713737487793,
          -105.19073486328125,
          -31.678829193115234,
          -74.84699249267578,
          -40.074981689453125,
          -68.06648254394531,
          -15.11092758178711,
          -101.36802673339844,
          -67.81184387207031,
          -34.56764602661133,
          -24.905920028686523,
          -3.672239303588867,
          -1.646101713180542,
          -39.94512939453125,
          -18.434101104736328,
          -30.85169219970703,
          -46.960811614990234,
          -52.55690002441406,
          -2.260404348373413,
          -87.84103393554688,
          9.776171684265137,
          -13.851726531982422,
          -54.023746490478516
         ],
         "y": [
          22.365705490112305,
          25.37921142578125,
          11.431061744689941,
          -9.908904075622559,
          39.54169845581055,
          14.900481224060059,
          32.77391052246094,
          61.27744674682617,
          51.88313674926758,
          -5.396645545959473,
          -7.030856132507324,
          1.463808536529541,
          20.88052749633789,
          -31.13190269470215,
          -56.72221755981445,
          -30.185924530029297,
          39.70363235473633,
          23.326499938964844,
          -10.295104026794434,
          69.1700439453125,
          -16.430639266967773,
          12.550576210021973,
          6.89962911605835,
          20.939804077148438,
          42.48910903930664,
          17.893924713134766,
          -65.77681732177734,
          44.41804504394531,
          -38.620872497558594,
          -54.65205383300781,
          3.668300151824951,
          101.77837371826172,
          -10.302977561950684,
          -37.44755935668945,
          27.456872940063477,
          10.450959205627441,
          -37.400760650634766,
          -23.681093215942383,
          -10.102726936340332,
          28.417367935180664,
          -8.359411239624023,
          49.95600891113281,
          38.599239349365234,
          -24.340452194213867,
          -10.103659629821777,
          61.590110778808594,
          47.457115173339844,
          8.305975914001465,
          28.393766403198242,
          39.096893310546875,
          15.629002571105957,
          -79.01780700683594,
          -25.554931640625,
          -39.61399459838867,
          2.7769298553466797,
          16.176774978637695,
          61.2364616394043,
          34.41949462890625,
          -17.00028419494629,
          22.71271514892578,
          28.487838745117188,
          73.667236328125,
          41.3626594543457,
          -21.12177848815918,
          38.52090072631836,
          -56.89026641845703,
          2.6317694187164307,
          -47.2576904296875,
          -68.99532318115234,
          -56.501644134521484,
          3.789963960647583,
          16.093297958374023,
          41.33936309814453,
          -44.92947769165039,
          -61.167659759521484,
          1.0318478345870972,
          60.08652877807617,
          27.2893123626709,
          67.66271209716797,
          17.74352264404297,
          56.123958587646484,
          -40.431949615478516,
          -2.1522700786590576,
          71.2603530883789,
          -25.892297744750977,
          -12.346288681030273,
          -69.94999694824219,
          -75.56783294677734,
          -29.85292625427246,
          19.18309783935547,
          0.1598561406135559,
          -55.40677261352539,
          -18.075176239013672,
          84.42420959472656,
          74.61211395263672,
          52.15472412109375,
          0.34134024381637573,
          26.698184967041016,
          38.53789138793945,
          40.667694091796875,
          -12.099654197692871
         ],
         "z": [
          49.873634338378906,
          67.4599838256836,
          46.655181884765625,
          5.660934925079346,
          44.37864685058594,
          -94.8379898071289,
          11.772488594055176,
          14.270452499389648,
          -18.87248992919922,
          6.435451984405518,
          -58.92218780517578,
          -15.312257766723633,
          -2.890357494354248,
          -23.544893264770508,
          -16.58669662475586,
          -51.31996536254883,
          39.484344482421875,
          -19.376113891601562,
          47.56082534790039,
          -5.097548961639404,
          -39.0421028137207,
          10.002540588378906,
          -224.56483459472656,
          -56.5239372253418,
          -14.34709644317627,
          -36.854061126708984,
          -57.26838684082031,
          6.623318195343018,
          25.811494827270508,
          -46.73202896118164,
          -40.79347229003906,
          -0.14441131055355072,
          -70.97924041748047,
          -45.568756103515625,
          -33.23207092285156,
          -12.911718368530273,
          -5.66347074508667,
          -40.32361602783203,
          -24.292354583740234,
          15.085043907165527,
          -18.5435791015625,
          -54.98069381713867,
          -87.51227569580078,
          76.23614501953125,
          -38.16279983520508,
          26.69499397277832,
          -5.986006259918213,
          25.461410522460938,
          52.85337829589844,
          -41.68606185913086,
          2.339393138885498,
          -21.94194984436035,
          -2.5073418617248535,
          -75.20803833007812,
          24.543094635009766,
          -56.40380096435547,
          -70.98155975341797,
          29.35504150390625,
          -85.65946960449219,
          -67.52215576171875,
          -67.98048400878906,
          21.196857452392578,
          -51.4331169128418,
          -65.94302368164062,
          -41.004600524902344,
          -13.394739151000977,
          -42.31753921508789,
          -30.919157028198242,
          -57.8952522277832,
          9.913146018981934,
          1.330104112625122,
          28.16240692138672,
          35.09101867675781,
          -77.72090148925781,
          -20.71977996826172,
          58.63795471191406,
          -32.05846405029297,
          -19.61595916748047,
          -41.467193603515625,
          -0.33216798305511475,
          48.91767120361328,
          16.22848129272461,
          -17.386240005493164,
          -14.049912452697754,
          -10.753585815429688,
          16.638896942138672,
          6.32019567489624,
          14.044529914855957,
          17.980329513549805,
          68.37910461425781,
          -86.08333587646484,
          44.09950256347656,
          -33.607852935791016,
          -24.469100952148438,
          -0.5498571395874023,
          65.1816177368164,
          -33.32402801513672,
          -24.62869644165039,
          -86.89928436279297,
          10.185375213623047,
          37.17026138305664
         ]
        }
       ],
       "layout": {
        "font": {
         "family": "Arial",
         "size": 10
        },
        "height": 600,
        "legend": {
         "font": {
          "color": "black"
         },
         "x": 1,
         "y": 0.5
        },
        "margin": {
         "b": 0,
         "l": 0,
         "r": 0,
         "t": 0
        },
        "showlegend": true,
        "template": {
         "data": {
          "bar": [
           {
            "error_x": {
             "color": "#2a3f5f"
            },
            "error_y": {
             "color": "#2a3f5f"
            },
            "marker": {
             "line": {
              "color": "#E5ECF6",
              "width": 0.5
             },
             "pattern": {
              "fillmode": "overlay",
              "size": 10,
              "solidity": 0.2
             }
            },
            "type": "bar"
           }
          ],
          "barpolar": [
           {
            "marker": {
             "line": {
              "color": "#E5ECF6",
              "width": 0.5
             },
             "pattern": {
              "fillmode": "overlay",
              "size": 10,
              "solidity": 0.2
             }
            },
            "type": "barpolar"
           }
          ],
          "carpet": [
           {
            "aaxis": {
             "endlinecolor": "#2a3f5f",
             "gridcolor": "white",
             "linecolor": "white",
             "minorgridcolor": "white",
             "startlinecolor": "#2a3f5f"
            },
            "baxis": {
             "endlinecolor": "#2a3f5f",
             "gridcolor": "white",
             "linecolor": "white",
             "minorgridcolor": "white",
             "startlinecolor": "#2a3f5f"
            },
            "type": "carpet"
           }
          ],
          "choropleth": [
           {
            "colorbar": {
             "outlinewidth": 0,
             "ticks": ""
            },
            "type": "choropleth"
           }
          ],
          "contour": [
           {
            "colorbar": {
             "outlinewidth": 0,
             "ticks": ""
            },
            "colorscale": [
             [
              0,
              "#0d0887"
             ],
             [
              0.1111111111111111,
              "#46039f"
             ],
             [
              0.2222222222222222,
              "#7201a8"
             ],
             [
              0.3333333333333333,
              "#9c179e"
             ],
             [
              0.4444444444444444,
              "#bd3786"
             ],
             [
              0.5555555555555556,
              "#d8576b"
             ],
             [
              0.6666666666666666,
              "#ed7953"
             ],
             [
              0.7777777777777778,
              "#fb9f3a"
             ],
             [
              0.8888888888888888,
              "#fdca26"
             ],
             [
              1,
              "#f0f921"
             ]
            ],
            "type": "contour"
           }
          ],
          "contourcarpet": [
           {
            "colorbar": {
             "outlinewidth": 0,
             "ticks": ""
            },
            "type": "contourcarpet"
           }
          ],
          "heatmap": [
           {
            "colorbar": {
             "outlinewidth": 0,
             "ticks": ""
            },
            "colorscale": [
             [
              0,
              "#0d0887"
             ],
             [
              0.1111111111111111,
              "#46039f"
             ],
             [
              0.2222222222222222,
              "#7201a8"
             ],
             [
              0.3333333333333333,
              "#9c179e"
             ],
             [
              0.4444444444444444,
              "#bd3786"
             ],
             [
              0.5555555555555556,
              "#d8576b"
             ],
             [
              0.6666666666666666,
              "#ed7953"
             ],
             [
              0.7777777777777778,
              "#fb9f3a"
             ],
             [
              0.8888888888888888,
              "#fdca26"
             ],
             [
              1,
              "#f0f921"
             ]
            ],
            "type": "heatmap"
           }
          ],
          "heatmapgl": [
           {
            "colorbar": {
             "outlinewidth": 0,
             "ticks": ""
            },
            "colorscale": [
             [
              0,
              "#0d0887"
             ],
             [
              0.1111111111111111,
              "#46039f"
             ],
             [
              0.2222222222222222,
              "#7201a8"
             ],
             [
              0.3333333333333333,
              "#9c179e"
             ],
             [
              0.4444444444444444,
              "#bd3786"
             ],
             [
              0.5555555555555556,
              "#d8576b"
             ],
             [
              0.6666666666666666,
              "#ed7953"
             ],
             [
              0.7777777777777778,
              "#fb9f3a"
             ],
             [
              0.8888888888888888,
              "#fdca26"
             ],
             [
              1,
              "#f0f921"
             ]
            ],
            "type": "heatmapgl"
           }
          ],
          "histogram": [
           {
            "marker": {
             "pattern": {
              "fillmode": "overlay",
              "size": 10,
              "solidity": 0.2
             }
            },
            "type": "histogram"
           }
          ],
          "histogram2d": [
           {
            "colorbar": {
             "outlinewidth": 0,
             "ticks": ""
            },
            "colorscale": [
             [
              0,
              "#0d0887"
             ],
             [
              0.1111111111111111,
              "#46039f"
             ],
             [
              0.2222222222222222,
              "#7201a8"
             ],
             [
              0.3333333333333333,
              "#9c179e"
             ],
             [
              0.4444444444444444,
              "#bd3786"
             ],
             [
              0.5555555555555556,
              "#d8576b"
             ],
             [
              0.6666666666666666,
              "#ed7953"
             ],
             [
              0.7777777777777778,
              "#fb9f3a"
             ],
             [
              0.8888888888888888,
              "#fdca26"
             ],
             [
              1,
              "#f0f921"
             ]
            ],
            "type": "histogram2d"
           }
          ],
          "histogram2dcontour": [
           {
            "colorbar": {
             "outlinewidth": 0,
             "ticks": ""
            },
            "colorscale": [
             [
              0,
              "#0d0887"
             ],
             [
              0.1111111111111111,
              "#46039f"
             ],
             [
              0.2222222222222222,
              "#7201a8"
             ],
             [
              0.3333333333333333,
              "#9c179e"
             ],
             [
              0.4444444444444444,
              "#bd3786"
             ],
             [
              0.5555555555555556,
              "#d8576b"
             ],
             [
              0.6666666666666666,
              "#ed7953"
             ],
             [
              0.7777777777777778,
              "#fb9f3a"
             ],
             [
              0.8888888888888888,
              "#fdca26"
             ],
             [
              1,
              "#f0f921"
             ]
            ],
            "type": "histogram2dcontour"
           }
          ],
          "mesh3d": [
           {
            "colorbar": {
             "outlinewidth": 0,
             "ticks": ""
            },
            "type": "mesh3d"
           }
          ],
          "parcoords": [
           {
            "line": {
             "colorbar": {
              "outlinewidth": 0,
              "ticks": ""
             }
            },
            "type": "parcoords"
           }
          ],
          "pie": [
           {
            "automargin": true,
            "type": "pie"
           }
          ],
          "scatter": [
           {
            "fillpattern": {
             "fillmode": "overlay",
             "size": 10,
             "solidity": 0.2
            },
            "type": "scatter"
           }
          ],
          "scatter3d": [
           {
            "line": {
             "colorbar": {
              "outlinewidth": 0,
              "ticks": ""
             }
            },
            "marker": {
             "colorbar": {
              "outlinewidth": 0,
              "ticks": ""
             }
            },
            "type": "scatter3d"
           }
          ],
          "scattercarpet": [
           {
            "marker": {
             "colorbar": {
              "outlinewidth": 0,
              "ticks": ""
             }
            },
            "type": "scattercarpet"
           }
          ],
          "scattergeo": [
           {
            "marker": {
             "colorbar": {
              "outlinewidth": 0,
              "ticks": ""
             }
            },
            "type": "scattergeo"
           }
          ],
          "scattergl": [
           {
            "marker": {
             "colorbar": {
              "outlinewidth": 0,
              "ticks": ""
             }
            },
            "type": "scattergl"
           }
          ],
          "scattermapbox": [
           {
            "marker": {
             "colorbar": {
              "outlinewidth": 0,
              "ticks": ""
             }
            },
            "type": "scattermapbox"
           }
          ],
          "scatterpolar": [
           {
            "marker": {
             "colorbar": {
              "outlinewidth": 0,
              "ticks": ""
             }
            },
            "type": "scatterpolar"
           }
          ],
          "scatterpolargl": [
           {
            "marker": {
             "colorbar": {
              "outlinewidth": 0,
              "ticks": ""
             }
            },
            "type": "scatterpolargl"
           }
          ],
          "scatterternary": [
           {
            "marker": {
             "colorbar": {
              "outlinewidth": 0,
              "ticks": ""
             }
            },
            "type": "scatterternary"
           }
          ],
          "surface": [
           {
            "colorbar": {
             "outlinewidth": 0,
             "ticks": ""
            },
            "colorscale": [
             [
              0,
              "#0d0887"
             ],
             [
              0.1111111111111111,
              "#46039f"
             ],
             [
              0.2222222222222222,
              "#7201a8"
             ],
             [
              0.3333333333333333,
              "#9c179e"
             ],
             [
              0.4444444444444444,
              "#bd3786"
             ],
             [
              0.5555555555555556,
              "#d8576b"
             ],
             [
              0.6666666666666666,
              "#ed7953"
             ],
             [
              0.7777777777777778,
              "#fb9f3a"
             ],
             [
              0.8888888888888888,
              "#fdca26"
             ],
             [
              1,
              "#f0f921"
             ]
            ],
            "type": "surface"
           }
          ],
          "table": [
           {
            "cells": {
             "fill": {
              "color": "#EBF0F8"
             },
             "line": {
              "color": "white"
             }
            },
            "header": {
             "fill": {
              "color": "#C8D4E3"
             },
             "line": {
              "color": "white"
             }
            },
            "type": "table"
           }
          ]
         },
         "layout": {
          "annotationdefaults": {
           "arrowcolor": "#2a3f5f",
           "arrowhead": 0,
           "arrowwidth": 1
          },
          "autotypenumbers": "strict",
          "coloraxis": {
           "colorbar": {
            "outlinewidth": 0,
            "ticks": ""
           }
          },
          "colorscale": {
           "diverging": [
            [
             0,
             "#8e0152"
            ],
            [
             0.1,
             "#c51b7d"
            ],
            [
             0.2,
             "#de77ae"
            ],
            [
             0.3,
             "#f1b6da"
            ],
            [
             0.4,
             "#fde0ef"
            ],
            [
             0.5,
             "#f7f7f7"
            ],
            [
             0.6,
             "#e6f5d0"
            ],
            [
             0.7,
             "#b8e186"
            ],
            [
             0.8,
             "#7fbc41"
            ],
            [
             0.9,
             "#4d9221"
            ],
            [
             1,
             "#276419"
            ]
           ],
           "sequential": [
            [
             0,
             "#0d0887"
            ],
            [
             0.1111111111111111,
             "#46039f"
            ],
            [
             0.2222222222222222,
             "#7201a8"
            ],
            [
             0.3333333333333333,
             "#9c179e"
            ],
            [
             0.4444444444444444,
             "#bd3786"
            ],
            [
             0.5555555555555556,
             "#d8576b"
            ],
            [
             0.6666666666666666,
             "#ed7953"
            ],
            [
             0.7777777777777778,
             "#fb9f3a"
            ],
            [
             0.8888888888888888,
             "#fdca26"
            ],
            [
             1,
             "#f0f921"
            ]
           ],
           "sequentialminus": [
            [
             0,
             "#0d0887"
            ],
            [
             0.1111111111111111,
             "#46039f"
            ],
            [
             0.2222222222222222,
             "#7201a8"
            ],
            [
             0.3333333333333333,
             "#9c179e"
            ],
            [
             0.4444444444444444,
             "#bd3786"
            ],
            [
             0.5555555555555556,
             "#d8576b"
            ],
            [
             0.6666666666666666,
             "#ed7953"
            ],
            [
             0.7777777777777778,
             "#fb9f3a"
            ],
            [
             0.8888888888888888,
             "#fdca26"
            ],
            [
             1,
             "#f0f921"
            ]
           ]
          },
          "colorway": [
           "#636efa",
           "#EF553B",
           "#00cc96",
           "#ab63fa",
           "#FFA15A",
           "#19d3f3",
           "#FF6692",
           "#B6E880",
           "#FF97FF",
           "#FECB52"
          ],
          "font": {
           "color": "#2a3f5f"
          },
          "geo": {
           "bgcolor": "white",
           "lakecolor": "white",
           "landcolor": "#E5ECF6",
           "showlakes": true,
           "showland": true,
           "subunitcolor": "white"
          },
          "hoverlabel": {
           "align": "left"
          },
          "hovermode": "closest",
          "mapbox": {
           "style": "light"
          },
          "paper_bgcolor": "white",
          "plot_bgcolor": "#E5ECF6",
          "polar": {
           "angularaxis": {
            "gridcolor": "white",
            "linecolor": "white",
            "ticks": ""
           },
           "bgcolor": "#E5ECF6",
           "radialaxis": {
            "gridcolor": "white",
            "linecolor": "white",
            "ticks": ""
           }
          },
          "scene": {
           "xaxis": {
            "backgroundcolor": "#E5ECF6",
            "gridcolor": "white",
            "gridwidth": 2,
            "linecolor": "white",
            "showbackground": true,
            "ticks": "",
            "zerolinecolor": "white"
           },
           "yaxis": {
            "backgroundcolor": "#E5ECF6",
            "gridcolor": "white",
            "gridwidth": 2,
            "linecolor": "white",
            "showbackground": true,
            "ticks": "",
            "zerolinecolor": "white"
           },
           "zaxis": {
            "backgroundcolor": "#E5ECF6",
            "gridcolor": "white",
            "gridwidth": 2,
            "linecolor": "white",
            "showbackground": true,
            "ticks": "",
            "zerolinecolor": "white"
           }
          },
          "shapedefaults": {
           "line": {
            "color": "#2a3f5f"
           }
          },
          "ternary": {
           "aaxis": {
            "gridcolor": "white",
            "linecolor": "white",
            "ticks": ""
           },
           "baxis": {
            "gridcolor": "white",
            "linecolor": "white",
            "ticks": ""
           },
           "bgcolor": "#E5ECF6",
           "caxis": {
            "gridcolor": "white",
            "linecolor": "white",
            "ticks": ""
           }
          },
          "title": {
           "x": 0.05
          },
          "xaxis": {
           "automargin": true,
           "gridcolor": "white",
           "linecolor": "white",
           "ticks": "",
           "title": {
            "standoff": 15
           },
           "zerolinecolor": "white",
           "zerolinewidth": 2
          },
          "yaxis": {
           "automargin": true,
           "gridcolor": "white",
           "linecolor": "white",
           "ticks": "",
           "title": {
            "standoff": 15
           },
           "zerolinecolor": "white",
           "zerolinewidth": 2
          }
         }
        },
        "width": 800
       }
      }
     },
     "metadata": {},
     "output_type": "display_data"
    }
   ],
   "source": [
    "display_dimred_neighbors(model, ['précis', 'goudron'], n_components=3, topn=100, method='tsne', n_neighbors=30)"
   ]
  },
  {
   "cell_type": "markdown",
   "id": "85bab949",
   "metadata": {},
   "source": [
    "## 4. Application à l'étude des mots voisins dans word2vec\n",
    "\n",
    "Veuillez choisir quatre mots (`word_list = [m1, m2, m3, m4]`) de façon à ce que m1 et m2 soient très proches par leur sens ou leur usage, m3 un peu plus éloigné, et m4 très éloigné.  L'objectif de cette question est d'étudier la distribution des mots voisins de ces quatre mots (entre 10 et 50) par une visualisation en 2D ou en 3D des vecteurs de mots.  \n",
    "\n",
    "En expérimentant avec plusieurs configurations (méthode de réduction de dimensionnalité, valeur de `n_neighbors`, nombre de voisins `topn`), veuillez répondre aux questions suivantes, à l'aide d'un ou plusieurs graphiques par question :\n",
    "\n",
    "**a.** si on utilise une méthode de réduction de dimensionnalité linéaire (PCA ou MDS métrique), les quatre groupes de mots sont-ils clairement séparés dans word2vec ?\n",
    "\n",
    "**b.** si on utilise une méthode de réduction de dimensionnalité non-linéaire (Isomap, t-SNE ou UMAP), peut-on mieux mettre en évidence les quatre groupes de mots ?  Quels sont les meilleurs paramètres que vous avez trouvés permettant de bien identifier les quatre ensembles ?\n",
    "\n",
    "**c.** inversement, trouvez-vous des paramètres qui aboutissent à cinq clusters ? ou à trois ?"
   ]
  },
  {
   "cell_type": "code",
   "execution_count": 147,
   "id": "e1ad49f1",
   "metadata": {},
   "outputs": [],
   "source": [
    "# Insérer ici la liste de mots.\n",
    "word_list = ['baleine', 'poisson', 'lion', 'festival']\n",
    "\n",
    "topn = 50\n"
   ]
  },
  {
   "cell_type": "code",
   "execution_count": 148,
   "id": "f6879e09",
   "metadata": {},
   "outputs": [
    {
     "data": {
      "application/vnd.plotly.v1+json": {
       "config": {
        "plotlyServerURL": "https://plot.ly"
       },
       "data": [
        {
         "marker": {
          "color": 0,
          "opacity": 0.8,
          "size": 10
         },
         "mode": "markers+text",
         "name": "baleine",
         "text": [
          "rorqual",
          "phoque",
          "petit_rorqual",
          "rorqual_commun",
          "cachalot",
          "mégaptère",
          "cétacé",
          "baleine_bleu",
          "baleinier",
          "béluga",
          "baleine_franc",
          "mammifère_marin",
          "baleine_gris",
          "chasse_baleinier",
          "commission_baleinier",
          "requin",
          "cétacés",
          "épaulard",
          "baleineau",
          "steve_irwin",
          "minke",
          "sanctuaire_baleinier",
          "otarie",
          "cachalots",
          "baleinier_japonais",
          "bébé_phoque",
          "nokosa",
          "dauphin",
          "cetace",
          "golfe_saint-laurent",
          "moby_dick",
          "krill",
          "lamantin",
          "flotte_baleinier_japonais",
          "sea_shepherd",
          "ours_polaire",
          "requin_blanc",
          "paul_watson",
          "calmar_géant",
          "requin_marteau",
          "pieuvre_géant",
          "mer_austral",
          "mégaptère_baleine",
          "dugong",
          "requin_baleine",
          "flotte_baleinier",
          "pinnipède",
          "oceanic_viking",
          "oiseau_marin",
          "raie_mantas",
          "baleine"
         ],
         "textfont": {
          "size": 10
         },
         "textposition": "top center",
         "type": "scatter",
         "x": [
          -5.1104607582092285,
          -10.035994529724121,
          -2.620004415512085,
          -5.571834087371826,
          -6.1573262214660645,
          -2.4485089778900146,
          -10.277009963989258,
          -3.6670825481414795,
          -6.396600246429443,
          -5.5937724113464355,
          -1.2000946998596191,
          -8.352639198303223,
          -1.3539307117462158,
          -0.9326167106628418,
          -0.542336642742157,
          -9.516087532043457,
          -2.7669544219970703,
          -5.157581806182861,
          -2.4320828914642334,
          -3.428138017654419,
          -0.18379217386245728,
          -0.5485070943832397,
          -7.021324157714844,
          0.5705657005310059,
          -2.818451166152954,
          -2.936699628829956,
          -1.2081564664840698,
          -6.733058929443359,
          0.30833613872528076,
          -0.42222368717193604,
          -1.2846269607543945,
          -5.774298191070557,
          -5.537006855010986,
          -1.0200982093811035,
          -6.837743282318115,
          -5.4905924797058105,
          -6.524336338043213,
          -0.13111388683319092,
          -1.705433964729309,
          -2.9475276470184326,
          -1.8463208675384521,
          -1.352459192276001,
          0.4478123188018799,
          -2.262317180633545,
          -2.5670595169067383,
          -0.29341596364974976,
          -1.8718078136444092,
          -0.5487463474273682,
          -8.164496421813965,
          -0.20454244315624237,
          -10.053915977478027
         ],
         "y": [
          1.3349311351776123,
          -0.9587671160697937,
          0.8776121139526367,
          1.8842729330062866,
          0.6282766461372375,
          0.1869213879108429,
          2.2443480491638184,
          0.1553083211183548,
          1.3452973365783691,
          1.1634265184402466,
          0.6114894151687622,
          2.4861531257629395,
          0.6712024807929993,
          1.167851209640503,
          0.7319576740264893,
          -2.024747133255005,
          1.3763929605484009,
          -0.0904296487569809,
          0.06456348299980164,
          -0.7026567459106445,
          1.4505242109298706,
          0.833537757396698,
          -3.2578511238098145,
          0.5595566034317017,
          0.5453788638114929,
          -1.4145084619522095,
          -0.2317931056022644,
          -1.909346580505371,
          0.7788079380989075,
          0.8193947672843933,
          -1.7804510593414307,
          3.1925816535949707,
          -1.3625710010528564,
          0.8310214877128601,
          0.2645888328552246,
          -2.435507297515869,
          -1.1833432912826538,
          0.06443772464990616,
          0.04758165776729584,
          0.8798083662986755,
          -0.2001560926437378,
          0.8932508826255798,
          0.7387318015098572,
          -0.4879000186920166,
          1.5240159034729004,
          0.41938549280166626,
          0.8936516642570496,
          0.8693900108337402,
          2.0629382133483887,
          0.29577553272247314,
          -1.188768744468689
         ]
        },
        {
         "marker": {
          "color": 1,
          "opacity": 0.8,
          "size": 10
         },
         "mode": "markers+text",
         "name": "poisson",
         "text": [
          "pêcher",
          "poisson-chat",
          "parfait_imbécile_heureux",
          "chinchard",
          "fraie",
          "poisson_pêcher",
          "poisson_carnivore",
          "poisson_pélagique",
          "crustacé",
          "omble",
          "tilapia",
          "saumon_truite",
          "poisson_prédateur",
          "vairon",
          "bonite",
          "omble_chevalier",
          "nageoire",
          "dorade_royal",
          "alevin",
          "carangue",
          "dorade_coryphèn",
          "baudroie",
          "rascasse",
          "tacaud",
          "truite",
          "thon_albacore",
          "éperlan",
          "truite_arc-en-ciel",
          "cyprinidé",
          "corégone",
          "crevette",
          "chevesne",
          "serran",
          "koï",
          "sardine_maquereau",
          "animal_aquatique",
          "barbillon",
          "carassin",
          "poisson_tropical",
          "vivaneal",
          "thazard",
          "dorade",
          "krill",
          "proie_vivant",
          "hotu",
          "poisson_carnassier",
          "poissonneux",
          "salmonidé",
          "vessie_natatoire",
          "flétan",
          "poisson"
         ],
         "textfont": {
          "size": 10
         },
         "textposition": "top center",
         "type": "scatter",
         "x": [
          -8.555638313293457,
          -4.836299419403076,
          -1.2177685499191284,
          -3.212580919265747,
          -2.3378255367279053,
          -4.8138861656188965,
          -1.9945018291473389,
          -5.308159828186035,
          -7.975026607513428,
          -3.8655645847320557,
          -3.5297584533691406,
          -0.8537260890007019,
          -1.6236906051635742,
          -4.474687099456787,
          -4.43928861618042,
          -3.196385622024536,
          -11.418720245361328,
          -0.6504446268081665,
          -9.315618515014648,
          -5.384620189666748,
          -1.9143095016479492,
          -3.238865613937378,
          -5.0428900718688965,
          -0.7908867001533508,
          -5.877725601196289,
          -2.5407485961914062,
          -0.7939964532852173,
          -4.146261215209961,
          -3.084129571914673,
          -4.121747016906738,
          -6.745929718017578,
          -2.8430826663970947,
          -0.9929945468902588,
          -1.7007687091827393,
          -0.27808380126953125,
          -4.338942050933838,
          -4.019641399383545,
          -1.9520388841629028,
          -3.2426247596740723,
          -0.00620626425370574,
          -0.8390101194381714,
          -4.762715816497803,
          -5.774297714233398,
          -2.857041120529175,
          -1.574487328529358,
          -0.6983405947685242,
          -3.3152594566345215,
          -5.8157196044921875,
          -2.368978977203369,
          -3.492032051086426,
          -11.10265827178955
         ],
         "y": [
          6.437569618225098,
          1.1753817796707153,
          1.2191669940948486,
          3.79268217086792,
          3.236541748046875,
          4.155298233032227,
          1.0056313276290894,
          4.353582859039307,
          6.612645626068115,
          2.5942881107330322,
          2.8527345657348633,
          2.4047372341156006,
          1.3916329145431519,
          3.7735939025878906,
          3.9434940814971924,
          3.8476786613464355,
          1.6590784788131714,
          1.8475700616836548,
          8.813093185424805,
          2.145693063735962,
          1.9745069742202759,
          2.0681536197662354,
          1.8390733003616333,
          1.8172743320465088,
          8.437006950378418,
          2.3422470092773438,
          2.120978355407715,
          4.632253170013428,
          3.610200881958008,
          4.075665473937988,
          5.793621063232422,
          3.348349094390869,
          1.176953911781311,
          2.073014259338379,
          1.7944955825805664,
          0.8156459331512451,
          2.1708641052246094,
          2.35714054107666,
          2.0887539386749268,
          1.356132984161377,
          1.602866768836975,
          4.017141819000244,
          3.1925811767578125,
          1.5442001819610596,
          2.278813123703003,
          1.7293838262557983,
          3.1905715465545654,
          7.643956184387207,
          1.8728960752487183,
          3.1353700160980225,
          5.6396565437316895
         ]
        },
        {
         "marker": {
          "color": 2,
          "opacity": 0.8,
          "size": 10
         },
         "mode": "markers+text",
         "name": "lion",
         "text": [
          "attaque_shinji_takahashi_genin",
          "bunke_pv_chakra_atk",
          "richard_csur",
          "lionceau",
          "suukou_byakugan_multiplicateur",
          "def_vivre_tsuji",
          "tigre",
          "françois_grether_yves",
          "combat_pv_chakra",
          "androclès",
          "sullias",
          "léopard",
          "rdv_anpe_rue",
          "armoire_magique",
          "aigle",
          "hyène",
          "lions",
          "mouton_ben_gourion",
          "sandro_esperanto",
          "chrimogen_promotion_citoyen",
          "epopée_européenne",
          "antilope",
          "eléphants",
          "dompteur",
          "narnia_chapitre",
          "éléphant",
          "rosenau_innovation_avec",
          "rugissement",
          "bélier_ascendant",
          "lion_rugir",
          "hyènes",
          "lion_affamer",
          "oryx",
          "web_association_maili",
          "congrès_atria",
          "animal_fétiche",
          "fauves",
          "rugir",
          "troyes_yvain",
          "tisa_terre",
          "alain_ruscio_affaire_redeker",
          "tigresse",
          "éléphant_girafe",
          "gueules_brocher",
          "dragon",
          "crocodile",
          "bête_sauvage",
          "serpent",
          "belier",
          "membré",
          "lion"
         ],
         "textfont": {
          "size": 10
         },
         "textposition": "top center",
         "type": "scatter",
         "x": [
          1.2439520359039307,
          1.0397682189941406,
          1.2925224304199219,
          -1.183058261871338,
          1.1783140897750854,
          1.0987801551818848,
          -3.9599709510803223,
          1.7910335063934326,
          1.057579517364502,
          1.2152756452560425,
          1.2350122928619385,
          -4.488680839538574,
          1.4627711772918701,
          0.4548433721065521,
          -2.741060733795166,
          -4.445352077484131,
          2.170506238937378,
          1.159303069114685,
          1.1591843366622925,
          1.5293993949890137,
          1.03078293800354,
          -6.42720890045166,
          0.5490394830703735,
          0.008893231861293316,
          1.5057967901229858,
          -4.974499702453613,
          1.649040699005127,
          -3.1571781635284424,
          1.102186679840088,
          0.4878866672515869,
          1.1867624521255493,
          0.5012822151184082,
          -2.6230645179748535,
          0.843800961971283,
          1.7825212478637695,
          0.5934073328971863,
          -1.1842390298843384,
          -0.8323546648025513,
          1.2033028602600098,
          0.7509710788726807,
          1.079541802406311,
          -2.2008469104766846,
          0.5155501365661621,
          1.0768918991088867,
          -2.56300950050354,
          -6.223264694213867,
          -2.934784412384033,
          -5.254188060760498,
          -0.304770290851593,
          -0.15325403213500977,
          -1.7414629459381104
         ],
         "y": [
          0.06891802698373795,
          -0.47737857699394226,
          -0.7622949481010437,
          -7.8793745040893555,
          -0.3621429204940796,
          -0.4356395900249481,
          -12.041433334350586,
          -0.8310713768005371,
          -0.39723336696624756,
          -0.7311620712280273,
          -0.11640722304582596,
          -9.517687797546387,
          -0.4290318787097931,
          -3.7729673385620117,
          -10.721782684326172,
          -9.172663688659668,
          -9.75475788116455,
          -4.950923919677734,
          -0.95270174741745,
          -0.6583803296089172,
          -0.21677666902542114,
          -8.7586030960083,
          -2.6246280670166016,
          -7.379908561706543,
          -2.734278440475464,
          -11.33143138885498,
          -0.6279166340827942,
          -9.482939720153809,
          -0.32631123065948486,
          -2.001648187637329,
          -1.2814459800720215,
          -0.7204799652099609,
          -3.967566728591919,
          -1.2655712366104126,
          -0.6749974489212036,
          -1.2461200952529907,
          -8.330286979675293,
          -10.255537033081055,
          -0.6606335043907166,
          -1.3091822862625122,
          -2.065110683441162,
          -6.016101360321045,
          -0.6485098004341125,
          -0.5207881331443787,
          -9.86882495880127,
          -8.626108169555664,
          -8.264883041381836,
          -10.19637680053711,
          -3.020509958267212,
          -0.7273060083389282,
          -14.715497970581055
         ]
        },
        {
         "marker": {
          "color": 3,
          "opacity": 0.8,
          "size": 10
         },
         "mode": "markers+text",
         "name": "festival",
         "text": [
          "festival_international",
          "festival_itinérant",
          "festival_off",
          "festivals",
          "festivalier",
          "vieille_charrues",
          "festival_jazz",
          "jazz_festival",
          "francofolies",
          "concert",
          "festival_internationnal",
          "programmation_éclectique",
          "tremplin_musical",
          "dixième_édition",
          "francofffonies",
          "ciné-concert",
          "festival_estival",
          "picardie_mouv",
          "festi",
          "sixième_édition",
          "espace_miramar",
          "long_métrage_fiction",
          "onzième_édition",
          "musicalarue",
          "vieilles_charrues",
          "saint-chartier",
          "mimos",
          "transmusicale",
          "festiv",
          "festival_oenovidéo",
          "ososphère",
          "estivales",
          "court_métrage",
          "biennale",
          "courts-métrage",
          "eurockéennes",
          "nuits_vertes",
          "jeunes_talents",
          "cinémas",
          "centre_wallonie-bruxelles",
          "spectacle",
          "sous_chapiteau",
          "calvi_jazz",
          "francofolie",
          "avignon_off",
          "francofffonie",
          "cinéville",
          "jeunes_talent",
          "transmusicales",
          "manifestation_culturel",
          "festival"
         ],
         "textfont": {
          "size": 10
         },
         "textposition": "top center",
         "type": "scatter",
         "x": [
          15.840243339538574,
          7.036357879638672,
          9.679190635681152,
          12.188589096069336,
          10.02851390838623,
          8.20252799987793,
          10.327028274536133,
          9.918692588806152,
          6.143655776977539,
          13.01700210571289,
          3.8382270336151123,
          7.953497409820557,
          7.083678722381592,
          7.898896217346191,
          4.242038726806641,
          10.969877243041992,
          4.371191024780273,
          6.311824321746826,
          6.262387752532959,
          9.172554016113281,
          4.33919095993042,
          3.067108154296875,
          6.4086503982543945,
          3.4612770080566406,
          3.271975517272949,
          3.9733755588531494,
          3.737067461013794,
          9.940370559692383,
          8.873888969421387,
          6.91521692276001,
          3.430635929107666,
          6.082381725311279,
          10.85309886932373,
          12.723284721374512,
          10.465303421020508,
          8.101691246032715,
          5.759943008422852,
          4.698592662811279,
          10.777104377746582,
          4.755234241485596,
          10.115671157836914,
          9.335083961486816,
          2.1215310096740723,
          10.497153282165527,
          3.1424484252929688,
          8.082752227783203,
          5.643965721130371,
          5.95265007019043,
          4.6981000900268555,
          12.197122573852539,
          18.329532623291016
         ],
         "y": [
          -1.1636765003204346,
          0.7686632871627808,
          0.6771666407585144,
          1.8916577100753784,
          0.6686831116676331,
          1.284646987915039,
          2.775402784347534,
          0.05246548727154732,
          1.0923449993133545,
          1.74326491355896,
          -0.13771376013755798,
          0.7250514626502991,
          1.3804575204849243,
          0.9858196973800659,
          0.6354409456253052,
          -0.17338250577449799,
          0.6264268159866333,
          1.0195345878601074,
          0.4359988868236542,
          1.9204611778259277,
          0.5941566824913025,
          0.691950261592865,
          1.2788082361221313,
          0.694429874420166,
          1.062300682067871,
          0.9822018146514893,
          1.033565640449524,
          1.249551773071289,
          0.910926342010498,
          1.22646164894104,
          0.5762339234352112,
          1.3796173334121704,
          0.16750332713127136,
          -0.7831659913063049,
          0.07797864079475403,
          -0.6578367352485657,
          1.092529535293579,
          0.995613694190979,
          -0.2764040529727936,
          0.5941177010536194,
          -0.9138776063919067,
          0.2054334282875061,
          0.6719942688941956,
          1.4054232835769653,
          0.29305747151374817,
          -0.2759025990962982,
          1.0104445219039917,
          0.565230131149292,
          1.3014758825302124,
          4.804847240447998,
          -0.07244382798671722
         ]
        }
       ],
       "layout": {
        "font": {
         "family": "Arial",
         "size": 10
        },
        "height": 600,
        "legend": {
         "font": {
          "color": "black"
         },
         "x": 1,
         "y": 0.5
        },
        "margin": {
         "b": 0,
         "l": 0,
         "r": 0,
         "t": 0
        },
        "showlegend": true,
        "template": {
         "data": {
          "bar": [
           {
            "error_x": {
             "color": "#2a3f5f"
            },
            "error_y": {
             "color": "#2a3f5f"
            },
            "marker": {
             "line": {
              "color": "#E5ECF6",
              "width": 0.5
             },
             "pattern": {
              "fillmode": "overlay",
              "size": 10,
              "solidity": 0.2
             }
            },
            "type": "bar"
           }
          ],
          "barpolar": [
           {
            "marker": {
             "line": {
              "color": "#E5ECF6",
              "width": 0.5
             },
             "pattern": {
              "fillmode": "overlay",
              "size": 10,
              "solidity": 0.2
             }
            },
            "type": "barpolar"
           }
          ],
          "carpet": [
           {
            "aaxis": {
             "endlinecolor": "#2a3f5f",
             "gridcolor": "white",
             "linecolor": "white",
             "minorgridcolor": "white",
             "startlinecolor": "#2a3f5f"
            },
            "baxis": {
             "endlinecolor": "#2a3f5f",
             "gridcolor": "white",
             "linecolor": "white",
             "minorgridcolor": "white",
             "startlinecolor": "#2a3f5f"
            },
            "type": "carpet"
           }
          ],
          "choropleth": [
           {
            "colorbar": {
             "outlinewidth": 0,
             "ticks": ""
            },
            "type": "choropleth"
           }
          ],
          "contour": [
           {
            "colorbar": {
             "outlinewidth": 0,
             "ticks": ""
            },
            "colorscale": [
             [
              0,
              "#0d0887"
             ],
             [
              0.1111111111111111,
              "#46039f"
             ],
             [
              0.2222222222222222,
              "#7201a8"
             ],
             [
              0.3333333333333333,
              "#9c179e"
             ],
             [
              0.4444444444444444,
              "#bd3786"
             ],
             [
              0.5555555555555556,
              "#d8576b"
             ],
             [
              0.6666666666666666,
              "#ed7953"
             ],
             [
              0.7777777777777778,
              "#fb9f3a"
             ],
             [
              0.8888888888888888,
              "#fdca26"
             ],
             [
              1,
              "#f0f921"
             ]
            ],
            "type": "contour"
           }
          ],
          "contourcarpet": [
           {
            "colorbar": {
             "outlinewidth": 0,
             "ticks": ""
            },
            "type": "contourcarpet"
           }
          ],
          "heatmap": [
           {
            "colorbar": {
             "outlinewidth": 0,
             "ticks": ""
            },
            "colorscale": [
             [
              0,
              "#0d0887"
             ],
             [
              0.1111111111111111,
              "#46039f"
             ],
             [
              0.2222222222222222,
              "#7201a8"
             ],
             [
              0.3333333333333333,
              "#9c179e"
             ],
             [
              0.4444444444444444,
              "#bd3786"
             ],
             [
              0.5555555555555556,
              "#d8576b"
             ],
             [
              0.6666666666666666,
              "#ed7953"
             ],
             [
              0.7777777777777778,
              "#fb9f3a"
             ],
             [
              0.8888888888888888,
              "#fdca26"
             ],
             [
              1,
              "#f0f921"
             ]
            ],
            "type": "heatmap"
           }
          ],
          "heatmapgl": [
           {
            "colorbar": {
             "outlinewidth": 0,
             "ticks": ""
            },
            "colorscale": [
             [
              0,
              "#0d0887"
             ],
             [
              0.1111111111111111,
              "#46039f"
             ],
             [
              0.2222222222222222,
              "#7201a8"
             ],
             [
              0.3333333333333333,
              "#9c179e"
             ],
             [
              0.4444444444444444,
              "#bd3786"
             ],
             [
              0.5555555555555556,
              "#d8576b"
             ],
             [
              0.6666666666666666,
              "#ed7953"
             ],
             [
              0.7777777777777778,
              "#fb9f3a"
             ],
             [
              0.8888888888888888,
              "#fdca26"
             ],
             [
              1,
              "#f0f921"
             ]
            ],
            "type": "heatmapgl"
           }
          ],
          "histogram": [
           {
            "marker": {
             "pattern": {
              "fillmode": "overlay",
              "size": 10,
              "solidity": 0.2
             }
            },
            "type": "histogram"
           }
          ],
          "histogram2d": [
           {
            "colorbar": {
             "outlinewidth": 0,
             "ticks": ""
            },
            "colorscale": [
             [
              0,
              "#0d0887"
             ],
             [
              0.1111111111111111,
              "#46039f"
             ],
             [
              0.2222222222222222,
              "#7201a8"
             ],
             [
              0.3333333333333333,
              "#9c179e"
             ],
             [
              0.4444444444444444,
              "#bd3786"
             ],
             [
              0.5555555555555556,
              "#d8576b"
             ],
             [
              0.6666666666666666,
              "#ed7953"
             ],
             [
              0.7777777777777778,
              "#fb9f3a"
             ],
             [
              0.8888888888888888,
              "#fdca26"
             ],
             [
              1,
              "#f0f921"
             ]
            ],
            "type": "histogram2d"
           }
          ],
          "histogram2dcontour": [
           {
            "colorbar": {
             "outlinewidth": 0,
             "ticks": ""
            },
            "colorscale": [
             [
              0,
              "#0d0887"
             ],
             [
              0.1111111111111111,
              "#46039f"
             ],
             [
              0.2222222222222222,
              "#7201a8"
             ],
             [
              0.3333333333333333,
              "#9c179e"
             ],
             [
              0.4444444444444444,
              "#bd3786"
             ],
             [
              0.5555555555555556,
              "#d8576b"
             ],
             [
              0.6666666666666666,
              "#ed7953"
             ],
             [
              0.7777777777777778,
              "#fb9f3a"
             ],
             [
              0.8888888888888888,
              "#fdca26"
             ],
             [
              1,
              "#f0f921"
             ]
            ],
            "type": "histogram2dcontour"
           }
          ],
          "mesh3d": [
           {
            "colorbar": {
             "outlinewidth": 0,
             "ticks": ""
            },
            "type": "mesh3d"
           }
          ],
          "parcoords": [
           {
            "line": {
             "colorbar": {
              "outlinewidth": 0,
              "ticks": ""
             }
            },
            "type": "parcoords"
           }
          ],
          "pie": [
           {
            "automargin": true,
            "type": "pie"
           }
          ],
          "scatter": [
           {
            "fillpattern": {
             "fillmode": "overlay",
             "size": 10,
             "solidity": 0.2
            },
            "type": "scatter"
           }
          ],
          "scatter3d": [
           {
            "line": {
             "colorbar": {
              "outlinewidth": 0,
              "ticks": ""
             }
            },
            "marker": {
             "colorbar": {
              "outlinewidth": 0,
              "ticks": ""
             }
            },
            "type": "scatter3d"
           }
          ],
          "scattercarpet": [
           {
            "marker": {
             "colorbar": {
              "outlinewidth": 0,
              "ticks": ""
             }
            },
            "type": "scattercarpet"
           }
          ],
          "scattergeo": [
           {
            "marker": {
             "colorbar": {
              "outlinewidth": 0,
              "ticks": ""
             }
            },
            "type": "scattergeo"
           }
          ],
          "scattergl": [
           {
            "marker": {
             "colorbar": {
              "outlinewidth": 0,
              "ticks": ""
             }
            },
            "type": "scattergl"
           }
          ],
          "scattermapbox": [
           {
            "marker": {
             "colorbar": {
              "outlinewidth": 0,
              "ticks": ""
             }
            },
            "type": "scattermapbox"
           }
          ],
          "scatterpolar": [
           {
            "marker": {
             "colorbar": {
              "outlinewidth": 0,
              "ticks": ""
             }
            },
            "type": "scatterpolar"
           }
          ],
          "scatterpolargl": [
           {
            "marker": {
             "colorbar": {
              "outlinewidth": 0,
              "ticks": ""
             }
            },
            "type": "scatterpolargl"
           }
          ],
          "scatterternary": [
           {
            "marker": {
             "colorbar": {
              "outlinewidth": 0,
              "ticks": ""
             }
            },
            "type": "scatterternary"
           }
          ],
          "surface": [
           {
            "colorbar": {
             "outlinewidth": 0,
             "ticks": ""
            },
            "colorscale": [
             [
              0,
              "#0d0887"
             ],
             [
              0.1111111111111111,
              "#46039f"
             ],
             [
              0.2222222222222222,
              "#7201a8"
             ],
             [
              0.3333333333333333,
              "#9c179e"
             ],
             [
              0.4444444444444444,
              "#bd3786"
             ],
             [
              0.5555555555555556,
              "#d8576b"
             ],
             [
              0.6666666666666666,
              "#ed7953"
             ],
             [
              0.7777777777777778,
              "#fb9f3a"
             ],
             [
              0.8888888888888888,
              "#fdca26"
             ],
             [
              1,
              "#f0f921"
             ]
            ],
            "type": "surface"
           }
          ],
          "table": [
           {
            "cells": {
             "fill": {
              "color": "#EBF0F8"
             },
             "line": {
              "color": "white"
             }
            },
            "header": {
             "fill": {
              "color": "#C8D4E3"
             },
             "line": {
              "color": "white"
             }
            },
            "type": "table"
           }
          ]
         },
         "layout": {
          "annotationdefaults": {
           "arrowcolor": "#2a3f5f",
           "arrowhead": 0,
           "arrowwidth": 1
          },
          "autotypenumbers": "strict",
          "coloraxis": {
           "colorbar": {
            "outlinewidth": 0,
            "ticks": ""
           }
          },
          "colorscale": {
           "diverging": [
            [
             0,
             "#8e0152"
            ],
            [
             0.1,
             "#c51b7d"
            ],
            [
             0.2,
             "#de77ae"
            ],
            [
             0.3,
             "#f1b6da"
            ],
            [
             0.4,
             "#fde0ef"
            ],
            [
             0.5,
             "#f7f7f7"
            ],
            [
             0.6,
             "#e6f5d0"
            ],
            [
             0.7,
             "#b8e186"
            ],
            [
             0.8,
             "#7fbc41"
            ],
            [
             0.9,
             "#4d9221"
            ],
            [
             1,
             "#276419"
            ]
           ],
           "sequential": [
            [
             0,
             "#0d0887"
            ],
            [
             0.1111111111111111,
             "#46039f"
            ],
            [
             0.2222222222222222,
             "#7201a8"
            ],
            [
             0.3333333333333333,
             "#9c179e"
            ],
            [
             0.4444444444444444,
             "#bd3786"
            ],
            [
             0.5555555555555556,
             "#d8576b"
            ],
            [
             0.6666666666666666,
             "#ed7953"
            ],
            [
             0.7777777777777778,
             "#fb9f3a"
            ],
            [
             0.8888888888888888,
             "#fdca26"
            ],
            [
             1,
             "#f0f921"
            ]
           ],
           "sequentialminus": [
            [
             0,
             "#0d0887"
            ],
            [
             0.1111111111111111,
             "#46039f"
            ],
            [
             0.2222222222222222,
             "#7201a8"
            ],
            [
             0.3333333333333333,
             "#9c179e"
            ],
            [
             0.4444444444444444,
             "#bd3786"
            ],
            [
             0.5555555555555556,
             "#d8576b"
            ],
            [
             0.6666666666666666,
             "#ed7953"
            ],
            [
             0.7777777777777778,
             "#fb9f3a"
            ],
            [
             0.8888888888888888,
             "#fdca26"
            ],
            [
             1,
             "#f0f921"
            ]
           ]
          },
          "colorway": [
           "#636efa",
           "#EF553B",
           "#00cc96",
           "#ab63fa",
           "#FFA15A",
           "#19d3f3",
           "#FF6692",
           "#B6E880",
           "#FF97FF",
           "#FECB52"
          ],
          "font": {
           "color": "#2a3f5f"
          },
          "geo": {
           "bgcolor": "white",
           "lakecolor": "white",
           "landcolor": "#E5ECF6",
           "showlakes": true,
           "showland": true,
           "subunitcolor": "white"
          },
          "hoverlabel": {
           "align": "left"
          },
          "hovermode": "closest",
          "mapbox": {
           "style": "light"
          },
          "paper_bgcolor": "white",
          "plot_bgcolor": "#E5ECF6",
          "polar": {
           "angularaxis": {
            "gridcolor": "white",
            "linecolor": "white",
            "ticks": ""
           },
           "bgcolor": "#E5ECF6",
           "radialaxis": {
            "gridcolor": "white",
            "linecolor": "white",
            "ticks": ""
           }
          },
          "scene": {
           "xaxis": {
            "backgroundcolor": "#E5ECF6",
            "gridcolor": "white",
            "gridwidth": 2,
            "linecolor": "white",
            "showbackground": true,
            "ticks": "",
            "zerolinecolor": "white"
           },
           "yaxis": {
            "backgroundcolor": "#E5ECF6",
            "gridcolor": "white",
            "gridwidth": 2,
            "linecolor": "white",
            "showbackground": true,
            "ticks": "",
            "zerolinecolor": "white"
           },
           "zaxis": {
            "backgroundcolor": "#E5ECF6",
            "gridcolor": "white",
            "gridwidth": 2,
            "linecolor": "white",
            "showbackground": true,
            "ticks": "",
            "zerolinecolor": "white"
           }
          },
          "shapedefaults": {
           "line": {
            "color": "#2a3f5f"
           }
          },
          "ternary": {
           "aaxis": {
            "gridcolor": "white",
            "linecolor": "white",
            "ticks": ""
           },
           "baxis": {
            "gridcolor": "white",
            "linecolor": "white",
            "ticks": ""
           },
           "bgcolor": "#E5ECF6",
           "caxis": {
            "gridcolor": "white",
            "linecolor": "white",
            "ticks": ""
           }
          },
          "title": {
           "x": 0.05
          },
          "xaxis": {
           "automargin": true,
           "gridcolor": "white",
           "linecolor": "white",
           "ticks": "",
           "title": {
            "standoff": 15
           },
           "zerolinecolor": "white",
           "zerolinewidth": 2
          },
          "yaxis": {
           "automargin": true,
           "gridcolor": "white",
           "linecolor": "white",
           "ticks": "",
           "title": {
            "standoff": 15
           },
           "zerolinecolor": "white",
           "zerolinewidth": 2
          }
         }
        },
        "width": 800
       }
      }
     },
     "metadata": {},
     "output_type": "display_data"
    },
    {
     "data": {
      "application/vnd.plotly.v1+json": {
       "config": {
        "plotlyServerURL": "https://plot.ly"
       },
       "data": [
        {
         "marker": {
          "color": 0,
          "opacity": 0.8,
          "size": 10
         },
         "mode": "markers+text",
         "name": "baleine",
         "text": [
          "rorqual",
          "phoque",
          "petit_rorqual",
          "rorqual_commun",
          "cachalot",
          "mégaptère",
          "cétacé",
          "baleine_bleu",
          "baleinier",
          "béluga",
          "baleine_franc",
          "mammifère_marin",
          "baleine_gris",
          "chasse_baleinier",
          "commission_baleinier",
          "requin",
          "cétacés",
          "épaulard",
          "baleineau",
          "steve_irwin",
          "minke",
          "sanctuaire_baleinier",
          "otarie",
          "cachalots",
          "baleinier_japonais",
          "bébé_phoque",
          "nokosa",
          "dauphin",
          "cetace",
          "golfe_saint-laurent",
          "moby_dick",
          "krill",
          "lamantin",
          "flotte_baleinier_japonais",
          "sea_shepherd",
          "ours_polaire",
          "requin_blanc",
          "paul_watson",
          "calmar_géant",
          "requin_marteau",
          "pieuvre_géant",
          "mer_austral",
          "mégaptère_baleine",
          "dugong",
          "requin_baleine",
          "flotte_baleinier",
          "pinnipède",
          "oceanic_viking",
          "oiseau_marin",
          "raie_mantas",
          "baleine"
         ],
         "textfont": {
          "size": 10
         },
         "textposition": "top center",
         "type": "scatter",
         "x": [
          -7.43766255755705,
          -18.29387567745807,
          -3.905811683881862,
          -9.269556432952713,
          -14.197696524038248,
          -4.077613950672639,
          -23.17265124653355,
          -6.519790416309544,
          -9.35942121820704,
          -10.274631633101066,
          -1.3527298280991629,
          -19.646095206804155,
          -1.6115994296301874,
          -0.8248267776886286,
          -0.03408703337807502,
          -19.221801516056946,
          -4.56695348364606,
          -8.454115012194816,
          -3.151043070798306,
          -5.135709367310745,
          -0.1303401761679236,
          0.2513476954091577,
          -14.174737899565288,
          0.9800639921774086,
          -2.755491644427071,
          -3.117810389290429,
          -0.6499262552150996,
          -13.359015324171086,
          0.6473549354519189,
          -0.526073686317625,
          -0.09035366365417938,
          -11.975006429868428,
          -7.581045948997542,
          -0.43057514304348,
          -11.639527668296148,
          -9.590194433110772,
          -11.378295628706919,
          0.5855761331653585,
          -2.2524295086896715,
          -5.884023727079166,
          -2.2954656901120374,
          -0.9421954093445096,
          0.995984312711063,
          -2.1342804042021326,
          -4.930782492873303,
          0.6801139642975847,
          -2.559503570606698,
          0.1879889109643589,
          -17.09508649774353,
          -0.2942250478257391,
          -20.14874892024997
         ],
         "y": [
          -4.225664175458973,
          -12.900633333733861,
          -3.526767840985503,
          -3.9476214143410835,
          -6.57947382420174,
          -5.753498554697395,
          -6.747462654054896,
          -6.362065828717229,
          14.88035478003855,
          -5.282466499630148,
          -1.7537721318886093,
          5.691307242847092,
          -1.6755296918621503,
          -2.79551623144882,
          2.5570217572387794,
          -7.86838608195441,
          -2.1901214242192037,
          -8.523059863542398,
          -4.370204576803334,
          -11.522842268265368,
          0.16413660630827526,
          -3.9195270147006886,
          -13.593746212249478,
          0.256138461936789,
          -8.12361729157444,
          -9.857984022512861,
          8.314874959573423,
          -14.95777472151994,
          0.0075546590864794365,
          0.9520659561894882,
          -12.844813752247958,
          1.1441804413468641,
          -7.997114147373181,
          -3.8212260823923665,
          21.124984665532168,
          17.73762374229283,
          -8.646495340805279,
          5.603140171819491,
          -4.431503313570046,
          -2.0906836312009527,
          -2.9592956474493937,
          -4.9219282604043295,
          0.7076456226505657,
          -5.085163878135221,
          -1.0071320224066547,
          2.789843248983411,
          -1.3435895124782886,
          3.538300827876903,
          -3.3529201852344768,
          -0.5774135168274273,
          -11.567566765479926
         ]
        },
        {
         "marker": {
          "color": 1,
          "opacity": 0.8,
          "size": 10
         },
         "mode": "markers+text",
         "name": "poisson",
         "text": [
          "pêcher",
          "poisson-chat",
          "parfait_imbécile_heureux",
          "chinchard",
          "fraie",
          "poisson_pêcher",
          "poisson_carnivore",
          "poisson_pélagique",
          "crustacé",
          "omble",
          "tilapia",
          "saumon_truite",
          "poisson_prédateur",
          "vairon",
          "bonite",
          "omble_chevalier",
          "nageoire",
          "dorade_royal",
          "alevin",
          "carangue",
          "dorade_coryphèn",
          "baudroie",
          "rascasse",
          "tacaud",
          "truite",
          "thon_albacore",
          "éperlan",
          "truite_arc-en-ciel",
          "cyprinidé",
          "corégone",
          "crevette",
          "chevesne",
          "serran",
          "koï",
          "sardine_maquereau",
          "animal_aquatique",
          "barbillon",
          "carassin",
          "poisson_tropical",
          "vivaneal",
          "thazard",
          "dorade",
          "krill",
          "proie_vivant",
          "hotu",
          "poisson_carnassier",
          "poissonneux",
          "salmonidé",
          "vessie_natatoire",
          "flétan",
          "poisson"
         ],
         "textfont": {
          "size": 10
         },
         "textposition": "top center",
         "type": "scatter",
         "x": [
          -20.775118253405747,
          -8.952890338541815,
          -1.8844494647900238,
          -5.407576832976148,
          -3.9282457576639858,
          -10.343560454507067,
          -2.626750774267243,
          -9.610022092556596,
          -16.29062888469525,
          -6.993755373596155,
          -8.235168834074235,
          -1.2923469371564023,
          -1.952944955400208,
          -8.71045313923482,
          -8.276152352928348,
          -5.462459571203157,
          -21.187971851457238,
          -1.0622792782220296,
          -22.35356353516555,
          -10.024418799351084,
          -3.077832908729582,
          -7.543458867043123,
          -12.390678995324146,
          -1.0554251096537315,
          -15.615465477772258,
          -3.877945407917287,
          -1.232470435865112,
          -7.155328536854616,
          -5.4431249022047545,
          -8.603024586893547,
          -18.06276706824503,
          -4.380860470411402,
          -1.313492086610489,
          -2.0505713845502984,
          -0.0001314692876697862,
          -7.868173190287561,
          -7.477143675252706,
          -2.6997360048140755,
          -4.216670497500103,
          0.3261010981333312,
          -1.1910879977471398,
          -8.437110965583107,
          -11.975006429906268,
          -5.778694178494945,
          -2.3202674219933312,
          -0.8890846182770129,
          -4.878710889328467,
          -13.025098895791086,
          -4.024803302014994,
          -4.882632537845449,
          -18.96367200053176
         ],
         "y": [
          4.8406914536976835,
          -0.8626464461405106,
          1.494904578679423,
          2.558921377800236,
          4.1342182961756855,
          4.25313666371584,
          0.08357229068143196,
          1.6973042255617217,
          13.207808017264117,
          3.512978903703077,
          2.6076648890390755,
          2.900316938999435,
          -0.012217431279585095,
          8.360185171823925,
          5.857294094829762,
          6.560704794871832,
          -1.9819798744408148,
          1.745093553436415,
          8.460843232457453,
          -1.315613778399223,
          1.3752745681767307,
          1.8372399430191129,
          -0.49746211037137716,
          1.2704099452301376,
          15.017236248556438,
          1.6280799983368346,
          2.420111628747171,
          8.053766733004622,
          4.817374413276065,
          5.137357624777225,
          10.053886226991908,
          6.063628904202408,
          0.15852157281156018,
          6.276567618285242,
          1.586916374622772,
          -2.6601031822113708,
          4.588599997422333,
          4.84229769854021,
          7.519542172300654,
          0.7577194998548027,
          0.7645697290240759,
          11.609446229166618,
          1.1441804396564985,
          0.41621640086154177,
          4.070980350400013,
          2.1300636303071605,
          9.908617558220568,
          9.874544161673361,
          0.556639346157591,
          8.132752446747574,
          2.6048270636679365
         ]
        },
        {
         "marker": {
          "color": 2,
          "opacity": 0.8,
          "size": 10
         },
         "mode": "markers+text",
         "name": "lion",
         "text": [
          "attaque_shinji_takahashi_genin",
          "bunke_pv_chakra_atk",
          "richard_csur",
          "lionceau",
          "suukou_byakugan_multiplicateur",
          "def_vivre_tsuji",
          "tigre",
          "françois_grether_yves",
          "combat_pv_chakra",
          "androclès",
          "sullias",
          "léopard",
          "rdv_anpe_rue",
          "armoire_magique",
          "aigle",
          "hyène",
          "lions",
          "mouton_ben_gourion",
          "sandro_esperanto",
          "chrimogen_promotion_citoyen",
          "epopée_européenne",
          "antilope",
          "eléphants",
          "dompteur",
          "narnia_chapitre",
          "éléphant",
          "rosenau_innovation_avec",
          "rugissement",
          "bélier_ascendant",
          "lion_rugir",
          "hyènes",
          "lion_affamer",
          "oryx",
          "web_association_maili",
          "congrès_atria",
          "animal_fétiche",
          "fauves",
          "rugir",
          "troyes_yvain",
          "tisa_terre",
          "alain_ruscio_affaire_redeker",
          "tigresse",
          "éléphant_girafe",
          "gueules_brocher",
          "dragon",
          "crocodile",
          "bête_sauvage",
          "serpent",
          "belier",
          "membré",
          "lion"
         ],
         "textfont": {
          "size": 10
         },
         "textposition": "top center",
         "type": "scatter",
         "x": [
          1.8335151743505729,
          1.8451184613775835,
          2.7149010961287297,
          6.349668854996761,
          2.0016027909005922,
          1.9275976161551152,
          5.331932979098583,
          3.2098758730968138,
          1.9003557062730099,
          2.488255078335997,
          2.015409801940207,
          -0.3230077127570716,
          2.811026710227775,
          4.9958875013685065,
          4.322783417179417,
          -3.723209077974454,
          17.276387100843642,
          11.960620616571653,
          3.0714106315232357,
          3.6752370523664526,
          1.9843380970007216,
          -9.741407142892365,
          2.9373918699326222,
          8.417852897812308,
          5.017472381504466,
          -4.901677785646893,
          3.711287220603509,
          4.850045319620799,
          2.281674512619882,
          2.2555533146938473,
          2.5484299636711376,
          1.261435286934385,
          -0.4776628720846656,
          3.145672707526387,
          3.8024321900648577,
          1.8172477735049124,
          10.029017022036344,
          12.348876105496062,
          2.8417114586722354,
          3.0915920403870008,
          5.468909126645438,
          2.937098365005799,
          1.012875825170937,
          2.1466723836213224,
          -1.7344596195374968,
          -8.593821262882704,
          1.3152661545758746,
          -5.6676736081232155,
          0.42124344275403386,
          0.9904566407784531,
          9.56180136430508
         ],
         "y": [
          0.26528024919701454,
          -0.2640561439290961,
          -0.9303759778548354,
          -13.385931631757888,
          -0.004778575086754706,
          -0.2227573387446736,
          -21.259292990176636,
          -0.5035070115334512,
          -0.12767448829961303,
          -1.0968098913715916,
          0.44608239688410417,
          -20.73809599441045,
          -0.07073249623459171,
          -7.245336964588021,
          -22.658253138583515,
          -17.630721945067094,
          -16.497942114732638,
          -10.5158317694972,
          -1.938748808937149,
          -1.1667361465148394,
          -0.6926977817481005,
          -18.404639316178617,
          -4.912003001435234,
          -11.639181846451347,
          -5.273138965620586,
          -21.80439993911836,
          -1.0062416881680913,
          -17.761423141636026,
          -0.18611895790976732,
          -3.597861649217248,
          -1.9840206104629445,
          -1.2393924962545229,
          -8.840690211341101,
          -3.074748927866692,
          -1.559336301313218,
          -2.6538898078177815,
          -15.898411803071333,
          -17.124417844003755,
          -1.5539077135802684,
          -3.2590063507536273,
          -4.864273746442187,
          -12.165382854487907,
          -1.269109106553294,
          -1.7758846786378903,
          -21.809303758846436,
          -19.748469641780577,
          -16.872357812097228,
          21.69071883291423,
          10.41395705267628,
          -2.6009654846076193,
          -19.658010441634577
         ]
        },
        {
         "marker": {
          "color": 3,
          "opacity": 0.8,
          "size": 10
         },
         "mode": "markers+text",
         "name": "festival",
         "text": [
          "festival_international",
          "festival_itinérant",
          "festival_off",
          "festivals",
          "festivalier",
          "vieille_charrues",
          "festival_jazz",
          "jazz_festival",
          "francofolies",
          "concert",
          "festival_internationnal",
          "programmation_éclectique",
          "tremplin_musical",
          "dixième_édition",
          "francofffonies",
          "ciné-concert",
          "festival_estival",
          "picardie_mouv",
          "festi",
          "sixième_édition",
          "espace_miramar",
          "long_métrage_fiction",
          "onzième_édition",
          "musicalarue",
          "vieilles_charrues",
          "saint-chartier",
          "mimos",
          "transmusicale",
          "festiv",
          "festival_oenovidéo",
          "ososphère",
          "estivales",
          "court_métrage",
          "biennale",
          "courts-métrage",
          "eurockéennes",
          "nuits_vertes",
          "jeunes_talents",
          "cinémas",
          "centre_wallonie-bruxelles",
          "spectacle",
          "sous_chapiteau",
          "calvi_jazz",
          "francofolie",
          "avignon_off",
          "francofffonie",
          "cinéville",
          "jeunes_talent",
          "transmusicales",
          "manifestation_culturel",
          "festival"
         ],
         "textfont": {
          "size": 10
         },
         "textposition": "top center",
         "type": "scatter",
         "x": [
          28.36638846449325,
          8.606546326100226,
          14.479843444110188,
          19.28328150528424,
          10.254663804622588,
          7.634844571551588,
          11.593880667350158,
          10.818050764976185,
          6.563360852774464,
          16.10925180484452,
          5.081982035118882,
          9.204718102723888,
          8.33070921012938,
          11.955097588067382,
          5.54110602181309,
          17.82670348028917,
          4.803000263546902,
          7.3704770093592185,
          10.048145206028048,
          13.644895288645262,
          5.987403659311452,
          3.1936544424320834,
          9.22708069172791,
          3.710653661789621,
          3.147137804775702,
          3.9980064591834057,
          3.509346661246064,
          14.369015658801585,
          15.223621982717647,
          11.565801855278341,
          3.8169791119991032,
          5.0392768367884555,
          24.065524904097835,
          15.219462386603903,
          21.958680053709255,
          15.189958644702257,
          5.627849580612896,
          5.938096032754783,
          20.965789718183277,
          6.963404770119307,
          7.596785145999557,
          18.409672362598705,
          2.3562228167995487,
          19.350852955864212,
          4.1644880347572695,
          5.3989480658096225,
          9.197452841712122,
          9.117732615562131,
          4.5829064569995275,
          6.73854111986171,
          23.677189787089414
         ],
         "y": [
          3.1147189134452637,
          4.040357732193674,
          5.723159668591993,
          6.782725326521263,
          18.430565779459588,
          12.329574993086247,
          12.323577399411473,
          12.927381660199538,
          6.981478575242963,
          16.189688770911467,
          0.34878886538459225,
          8.369531980025414,
          5.977176725650142,
          3.3767172781759953,
          2.312007179567488,
          1.2899738807210575,
          3.718335481010613,
          4.360852302069898,
          1.187871868936432,
          8.102582622352575,
          1.1866555273980979,
          1.7198008415158892,
          2.658661314010523,
          2.3551051584123868,
          2.6779629757498604,
          3.942664128871432,
          3.883048606246993,
          10.6582518200135,
          2.5792739859607168,
          -1.6818819025695386,
          1.52978224189437,
          8.580149658059495,
          -7.132875756407084,
          21.859726570274255,
          -6.515685636478298,
          -3.6917387375729707,
          7.9075520430125446,
          2.6944235068699047,
          -2.445529004769056,
          0.3130483592808922,
          19.61150470863938,
          -0.5736509030644069,
          1.1093302809182835,
          14.59384349147548,
          1.0254391340579314,
          16.10071458827145,
          -0.5251715535499978,
          -1.2501671779126584,
          5.77053839446682,
          22.876343491523237,
          9.059068003841157
         ]
        }
       ],
       "layout": {
        "font": {
         "family": "Arial",
         "size": 10
        },
        "height": 600,
        "legend": {
         "font": {
          "color": "black"
         },
         "x": 1,
         "y": 0.5
        },
        "margin": {
         "b": 0,
         "l": 0,
         "r": 0,
         "t": 0
        },
        "showlegend": true,
        "template": {
         "data": {
          "bar": [
           {
            "error_x": {
             "color": "#2a3f5f"
            },
            "error_y": {
             "color": "#2a3f5f"
            },
            "marker": {
             "line": {
              "color": "#E5ECF6",
              "width": 0.5
             },
             "pattern": {
              "fillmode": "overlay",
              "size": 10,
              "solidity": 0.2
             }
            },
            "type": "bar"
           }
          ],
          "barpolar": [
           {
            "marker": {
             "line": {
              "color": "#E5ECF6",
              "width": 0.5
             },
             "pattern": {
              "fillmode": "overlay",
              "size": 10,
              "solidity": 0.2
             }
            },
            "type": "barpolar"
           }
          ],
          "carpet": [
           {
            "aaxis": {
             "endlinecolor": "#2a3f5f",
             "gridcolor": "white",
             "linecolor": "white",
             "minorgridcolor": "white",
             "startlinecolor": "#2a3f5f"
            },
            "baxis": {
             "endlinecolor": "#2a3f5f",
             "gridcolor": "white",
             "linecolor": "white",
             "minorgridcolor": "white",
             "startlinecolor": "#2a3f5f"
            },
            "type": "carpet"
           }
          ],
          "choropleth": [
           {
            "colorbar": {
             "outlinewidth": 0,
             "ticks": ""
            },
            "type": "choropleth"
           }
          ],
          "contour": [
           {
            "colorbar": {
             "outlinewidth": 0,
             "ticks": ""
            },
            "colorscale": [
             [
              0,
              "#0d0887"
             ],
             [
              0.1111111111111111,
              "#46039f"
             ],
             [
              0.2222222222222222,
              "#7201a8"
             ],
             [
              0.3333333333333333,
              "#9c179e"
             ],
             [
              0.4444444444444444,
              "#bd3786"
             ],
             [
              0.5555555555555556,
              "#d8576b"
             ],
             [
              0.6666666666666666,
              "#ed7953"
             ],
             [
              0.7777777777777778,
              "#fb9f3a"
             ],
             [
              0.8888888888888888,
              "#fdca26"
             ],
             [
              1,
              "#f0f921"
             ]
            ],
            "type": "contour"
           }
          ],
          "contourcarpet": [
           {
            "colorbar": {
             "outlinewidth": 0,
             "ticks": ""
            },
            "type": "contourcarpet"
           }
          ],
          "heatmap": [
           {
            "colorbar": {
             "outlinewidth": 0,
             "ticks": ""
            },
            "colorscale": [
             [
              0,
              "#0d0887"
             ],
             [
              0.1111111111111111,
              "#46039f"
             ],
             [
              0.2222222222222222,
              "#7201a8"
             ],
             [
              0.3333333333333333,
              "#9c179e"
             ],
             [
              0.4444444444444444,
              "#bd3786"
             ],
             [
              0.5555555555555556,
              "#d8576b"
             ],
             [
              0.6666666666666666,
              "#ed7953"
             ],
             [
              0.7777777777777778,
              "#fb9f3a"
             ],
             [
              0.8888888888888888,
              "#fdca26"
             ],
             [
              1,
              "#f0f921"
             ]
            ],
            "type": "heatmap"
           }
          ],
          "heatmapgl": [
           {
            "colorbar": {
             "outlinewidth": 0,
             "ticks": ""
            },
            "colorscale": [
             [
              0,
              "#0d0887"
             ],
             [
              0.1111111111111111,
              "#46039f"
             ],
             [
              0.2222222222222222,
              "#7201a8"
             ],
             [
              0.3333333333333333,
              "#9c179e"
             ],
             [
              0.4444444444444444,
              "#bd3786"
             ],
             [
              0.5555555555555556,
              "#d8576b"
             ],
             [
              0.6666666666666666,
              "#ed7953"
             ],
             [
              0.7777777777777778,
              "#fb9f3a"
             ],
             [
              0.8888888888888888,
              "#fdca26"
             ],
             [
              1,
              "#f0f921"
             ]
            ],
            "type": "heatmapgl"
           }
          ],
          "histogram": [
           {
            "marker": {
             "pattern": {
              "fillmode": "overlay",
              "size": 10,
              "solidity": 0.2
             }
            },
            "type": "histogram"
           }
          ],
          "histogram2d": [
           {
            "colorbar": {
             "outlinewidth": 0,
             "ticks": ""
            },
            "colorscale": [
             [
              0,
              "#0d0887"
             ],
             [
              0.1111111111111111,
              "#46039f"
             ],
             [
              0.2222222222222222,
              "#7201a8"
             ],
             [
              0.3333333333333333,
              "#9c179e"
             ],
             [
              0.4444444444444444,
              "#bd3786"
             ],
             [
              0.5555555555555556,
              "#d8576b"
             ],
             [
              0.6666666666666666,
              "#ed7953"
             ],
             [
              0.7777777777777778,
              "#fb9f3a"
             ],
             [
              0.8888888888888888,
              "#fdca26"
             ],
             [
              1,
              "#f0f921"
             ]
            ],
            "type": "histogram2d"
           }
          ],
          "histogram2dcontour": [
           {
            "colorbar": {
             "outlinewidth": 0,
             "ticks": ""
            },
            "colorscale": [
             [
              0,
              "#0d0887"
             ],
             [
              0.1111111111111111,
              "#46039f"
             ],
             [
              0.2222222222222222,
              "#7201a8"
             ],
             [
              0.3333333333333333,
              "#9c179e"
             ],
             [
              0.4444444444444444,
              "#bd3786"
             ],
             [
              0.5555555555555556,
              "#d8576b"
             ],
             [
              0.6666666666666666,
              "#ed7953"
             ],
             [
              0.7777777777777778,
              "#fb9f3a"
             ],
             [
              0.8888888888888888,
              "#fdca26"
             ],
             [
              1,
              "#f0f921"
             ]
            ],
            "type": "histogram2dcontour"
           }
          ],
          "mesh3d": [
           {
            "colorbar": {
             "outlinewidth": 0,
             "ticks": ""
            },
            "type": "mesh3d"
           }
          ],
          "parcoords": [
           {
            "line": {
             "colorbar": {
              "outlinewidth": 0,
              "ticks": ""
             }
            },
            "type": "parcoords"
           }
          ],
          "pie": [
           {
            "automargin": true,
            "type": "pie"
           }
          ],
          "scatter": [
           {
            "fillpattern": {
             "fillmode": "overlay",
             "size": 10,
             "solidity": 0.2
            },
            "type": "scatter"
           }
          ],
          "scatter3d": [
           {
            "line": {
             "colorbar": {
              "outlinewidth": 0,
              "ticks": ""
             }
            },
            "marker": {
             "colorbar": {
              "outlinewidth": 0,
              "ticks": ""
             }
            },
            "type": "scatter3d"
           }
          ],
          "scattercarpet": [
           {
            "marker": {
             "colorbar": {
              "outlinewidth": 0,
              "ticks": ""
             }
            },
            "type": "scattercarpet"
           }
          ],
          "scattergeo": [
           {
            "marker": {
             "colorbar": {
              "outlinewidth": 0,
              "ticks": ""
             }
            },
            "type": "scattergeo"
           }
          ],
          "scattergl": [
           {
            "marker": {
             "colorbar": {
              "outlinewidth": 0,
              "ticks": ""
             }
            },
            "type": "scattergl"
           }
          ],
          "scattermapbox": [
           {
            "marker": {
             "colorbar": {
              "outlinewidth": 0,
              "ticks": ""
             }
            },
            "type": "scattermapbox"
           }
          ],
          "scatterpolar": [
           {
            "marker": {
             "colorbar": {
              "outlinewidth": 0,
              "ticks": ""
             }
            },
            "type": "scatterpolar"
           }
          ],
          "scatterpolargl": [
           {
            "marker": {
             "colorbar": {
              "outlinewidth": 0,
              "ticks": ""
             }
            },
            "type": "scatterpolargl"
           }
          ],
          "scatterternary": [
           {
            "marker": {
             "colorbar": {
              "outlinewidth": 0,
              "ticks": ""
             }
            },
            "type": "scatterternary"
           }
          ],
          "surface": [
           {
            "colorbar": {
             "outlinewidth": 0,
             "ticks": ""
            },
            "colorscale": [
             [
              0,
              "#0d0887"
             ],
             [
              0.1111111111111111,
              "#46039f"
             ],
             [
              0.2222222222222222,
              "#7201a8"
             ],
             [
              0.3333333333333333,
              "#9c179e"
             ],
             [
              0.4444444444444444,
              "#bd3786"
             ],
             [
              0.5555555555555556,
              "#d8576b"
             ],
             [
              0.6666666666666666,
              "#ed7953"
             ],
             [
              0.7777777777777778,
              "#fb9f3a"
             ],
             [
              0.8888888888888888,
              "#fdca26"
             ],
             [
              1,
              "#f0f921"
             ]
            ],
            "type": "surface"
           }
          ],
          "table": [
           {
            "cells": {
             "fill": {
              "color": "#EBF0F8"
             },
             "line": {
              "color": "white"
             }
            },
            "header": {
             "fill": {
              "color": "#C8D4E3"
             },
             "line": {
              "color": "white"
             }
            },
            "type": "table"
           }
          ]
         },
         "layout": {
          "annotationdefaults": {
           "arrowcolor": "#2a3f5f",
           "arrowhead": 0,
           "arrowwidth": 1
          },
          "autotypenumbers": "strict",
          "coloraxis": {
           "colorbar": {
            "outlinewidth": 0,
            "ticks": ""
           }
          },
          "colorscale": {
           "diverging": [
            [
             0,
             "#8e0152"
            ],
            [
             0.1,
             "#c51b7d"
            ],
            [
             0.2,
             "#de77ae"
            ],
            [
             0.3,
             "#f1b6da"
            ],
            [
             0.4,
             "#fde0ef"
            ],
            [
             0.5,
             "#f7f7f7"
            ],
            [
             0.6,
             "#e6f5d0"
            ],
            [
             0.7,
             "#b8e186"
            ],
            [
             0.8,
             "#7fbc41"
            ],
            [
             0.9,
             "#4d9221"
            ],
            [
             1,
             "#276419"
            ]
           ],
           "sequential": [
            [
             0,
             "#0d0887"
            ],
            [
             0.1111111111111111,
             "#46039f"
            ],
            [
             0.2222222222222222,
             "#7201a8"
            ],
            [
             0.3333333333333333,
             "#9c179e"
            ],
            [
             0.4444444444444444,
             "#bd3786"
            ],
            [
             0.5555555555555556,
             "#d8576b"
            ],
            [
             0.6666666666666666,
             "#ed7953"
            ],
            [
             0.7777777777777778,
             "#fb9f3a"
            ],
            [
             0.8888888888888888,
             "#fdca26"
            ],
            [
             1,
             "#f0f921"
            ]
           ],
           "sequentialminus": [
            [
             0,
             "#0d0887"
            ],
            [
             0.1111111111111111,
             "#46039f"
            ],
            [
             0.2222222222222222,
             "#7201a8"
            ],
            [
             0.3333333333333333,
             "#9c179e"
            ],
            [
             0.4444444444444444,
             "#bd3786"
            ],
            [
             0.5555555555555556,
             "#d8576b"
            ],
            [
             0.6666666666666666,
             "#ed7953"
            ],
            [
             0.7777777777777778,
             "#fb9f3a"
            ],
            [
             0.8888888888888888,
             "#fdca26"
            ],
            [
             1,
             "#f0f921"
            ]
           ]
          },
          "colorway": [
           "#636efa",
           "#EF553B",
           "#00cc96",
           "#ab63fa",
           "#FFA15A",
           "#19d3f3",
           "#FF6692",
           "#B6E880",
           "#FF97FF",
           "#FECB52"
          ],
          "font": {
           "color": "#2a3f5f"
          },
          "geo": {
           "bgcolor": "white",
           "lakecolor": "white",
           "landcolor": "#E5ECF6",
           "showlakes": true,
           "showland": true,
           "subunitcolor": "white"
          },
          "hoverlabel": {
           "align": "left"
          },
          "hovermode": "closest",
          "mapbox": {
           "style": "light"
          },
          "paper_bgcolor": "white",
          "plot_bgcolor": "#E5ECF6",
          "polar": {
           "angularaxis": {
            "gridcolor": "white",
            "linecolor": "white",
            "ticks": ""
           },
           "bgcolor": "#E5ECF6",
           "radialaxis": {
            "gridcolor": "white",
            "linecolor": "white",
            "ticks": ""
           }
          },
          "scene": {
           "xaxis": {
            "backgroundcolor": "#E5ECF6",
            "gridcolor": "white",
            "gridwidth": 2,
            "linecolor": "white",
            "showbackground": true,
            "ticks": "",
            "zerolinecolor": "white"
           },
           "yaxis": {
            "backgroundcolor": "#E5ECF6",
            "gridcolor": "white",
            "gridwidth": 2,
            "linecolor": "white",
            "showbackground": true,
            "ticks": "",
            "zerolinecolor": "white"
           },
           "zaxis": {
            "backgroundcolor": "#E5ECF6",
            "gridcolor": "white",
            "gridwidth": 2,
            "linecolor": "white",
            "showbackground": true,
            "ticks": "",
            "zerolinecolor": "white"
           }
          },
          "shapedefaults": {
           "line": {
            "color": "#2a3f5f"
           }
          },
          "ternary": {
           "aaxis": {
            "gridcolor": "white",
            "linecolor": "white",
            "ticks": ""
           },
           "baxis": {
            "gridcolor": "white",
            "linecolor": "white",
            "ticks": ""
           },
           "bgcolor": "#E5ECF6",
           "caxis": {
            "gridcolor": "white",
            "linecolor": "white",
            "ticks": ""
           }
          },
          "title": {
           "x": 0.05
          },
          "xaxis": {
           "automargin": true,
           "gridcolor": "white",
           "linecolor": "white",
           "ticks": "",
           "title": {
            "standoff": 15
           },
           "zerolinecolor": "white",
           "zerolinewidth": 2
          },
          "yaxis": {
           "automargin": true,
           "gridcolor": "white",
           "linecolor": "white",
           "ticks": "",
           "title": {
            "standoff": 15
           },
           "zerolinecolor": "white",
           "zerolinewidth": 2
          }
         }
        },
        "width": 800
       }
      }
     },
     "metadata": {},
     "output_type": "display_data"
    }
   ],
   "source": [
    "# Question 4a\n",
    "display_dimred_neighbors(model, word_list, topn=topn, n_components=2, method='pca')\n",
    "display_dimred_neighbors(model, word_list, topn=topn, n_components=2, method='mds')\n"
   ]
  },
  {
   "cell_type": "markdown",
   "id": "6b658bbc",
   "metadata": {},
   "source": [
    "Pour répondre à la question, on ne peut pas dire que les groupes sont très bien séparés. Si on enlèvait les couleurs, on ne pourrait pas facilement visualiser les groupes."
   ]
  },
  {
   "cell_type": "code",
   "execution_count": 149,
   "id": "328fd322",
   "metadata": {},
   "outputs": [
    {
     "data": {
      "application/vnd.plotly.v1+json": {
       "config": {
        "plotlyServerURL": "https://plot.ly"
       },
       "data": [
        {
         "marker": {
          "color": 0,
          "opacity": 0.8,
          "size": 10
         },
         "mode": "markers+text",
         "name": "baleine",
         "text": [
          "rorqual",
          "phoque",
          "petit_rorqual",
          "rorqual_commun",
          "cachalot",
          "mégaptère",
          "cétacé",
          "baleine_bleu",
          "baleinier",
          "béluga",
          "baleine_franc",
          "mammifère_marin",
          "baleine_gris",
          "chasse_baleinier",
          "commission_baleinier",
          "requin",
          "cétacés",
          "épaulard",
          "baleineau",
          "steve_irwin",
          "minke",
          "sanctuaire_baleinier",
          "otarie",
          "cachalots",
          "baleinier_japonais",
          "bébé_phoque",
          "nokosa",
          "dauphin",
          "cetace",
          "golfe_saint-laurent",
          "moby_dick",
          "krill",
          "lamantin",
          "flotte_baleinier_japonais",
          "sea_shepherd",
          "ours_polaire",
          "requin_blanc",
          "paul_watson",
          "calmar_géant",
          "requin_marteau",
          "pieuvre_géant",
          "mer_austral",
          "mégaptère_baleine",
          "dugong",
          "requin_baleine",
          "flotte_baleinier",
          "pinnipède",
          "oceanic_viking",
          "oiseau_marin",
          "raie_mantas",
          "baleine"
         ],
         "textfont": {
          "size": 10
         },
         "textposition": "top center",
         "type": "scatter",
         "x": [
          -8.617528915405273,
          -13.371537208557129,
          -5.896602630615234,
          -9.563841819763184,
          -10.553766250610352,
          -5.6623101234436035,
          -15.490211486816406,
          -7.748289108276367,
          -8.525408744812012,
          -8.81886100769043,
          -3.828510284423828,
          -13.2427396774292,
          -3.8684091567993164,
          -2.854167938232422,
          -2.301042079925537,
          -11.6780424118042,
          -6.84646463394165,
          -6.868759632110596,
          -6.366145133972168,
          -3.976759910583496,
          -0.24909846484661102,
          -2.1699864864349365,
          -10.233798027038574,
          0.8154301643371582,
          -2.677748203277588,
          -4.307947635650635,
          -2.228116035461426,
          -8.9611177444458,
          0.23002688586711884,
          -0.6840555667877197,
          -2.02241587638855,
          -10.374210357666016,
          -8.561670303344727,
          -2.563563108444214,
          -6.819149017333984,
          -6.971070289611816,
          -9.060571670532227,
          -1.884569525718689,
          -5.896186351776123,
          -7.081884860992432,
          -5.426253795623779,
          -3.897984266281128,
          0.8767644762992859,
          -5.4238481521606445,
          -6.02595853805542,
          -1.5409870147705078,
          -4.967597007751465,
          -1.8098198175430298,
          -10.959919929504395,
          0.08102679997682571,
          -14.81919002532959
         ],
         "y": [
          -3.094421148300171,
          -1.7637650966644287,
          -0.03369084373116493,
          -3.847691774368286,
          -3.452190637588501,
          1.873930811882019,
          -3.634864330291748,
          -0.27170300483703613,
          0.9081159234046936,
          -3.3429839611053467,
          1.7574937343597412,
          -3.0249321460723877,
          1.4872865676879883,
          0.2146093100309372,
          1.7673428058624268,
          -5.607004165649414,
          -1.2288529872894287,
          -0.04633487015962601,
          3.5295968055725098,
          3.3290297985076904,
          -0.9071685671806335,
          1.629151701927185,
          0.718104898929596,
          0.7571777701377869,
          3.032876491546631,
          3.7168033123016357,
          2.6797235012054443,
          0.2644089162349701,
          0.6861677169799805,
          0.14444738626480103,
          3.106355905532837,
          -8.006775856018066,
          2.3797733783721924,
          1.5368913412094116,
          4.979829788208008,
          2.852285385131836,
          -2.0201504230499268,
          1.6391198635101318,
          3.195467472076416,
          -1.3029956817626953,
          2.604684829711914,
          0.013395640067756176,
          1.0948203802108765,
          5.037415981292725,
          -2.337738513946533,
          3.124976396560669,
          1.4312134981155396,
          1.7731460332870483,
          -3.2105722427368164,
          0.2557961046695709,
          -2.375927448272705
         ]
        },
        {
         "marker": {
          "color": 1,
          "opacity": 0.8,
          "size": 10
         },
         "mode": "markers+text",
         "name": "poisson",
         "text": [
          "pêcher",
          "poisson-chat",
          "parfait_imbécile_heureux",
          "chinchard",
          "fraie",
          "poisson_pêcher",
          "poisson_carnivore",
          "poisson_pélagique",
          "crustacé",
          "omble",
          "tilapia",
          "saumon_truite",
          "poisson_prédateur",
          "vairon",
          "bonite",
          "omble_chevalier",
          "nageoire",
          "dorade_royal",
          "alevin",
          "carangue",
          "dorade_coryphèn",
          "baudroie",
          "rascasse",
          "tacaud",
          "truite",
          "thon_albacore",
          "éperlan",
          "truite_arc-en-ciel",
          "cyprinidé",
          "corégone",
          "crevette",
          "chevesne",
          "serran",
          "koï",
          "sardine_maquereau",
          "animal_aquatique",
          "barbillon",
          "carassin",
          "poisson_tropical",
          "vivaneal",
          "thazard",
          "dorade",
          "krill",
          "proie_vivant",
          "hotu",
          "poisson_carnassier",
          "poissonneux",
          "salmonidé",
          "vessie_natatoire",
          "flétan",
          "poisson"
         ],
         "textfont": {
          "size": 10
         },
         "textposition": "top center",
         "type": "scatter",
         "x": [
          -11.238774299621582,
          -9.513259887695312,
          -3.837409019470215,
          -6.410830497741699,
          -5.085127353668213,
          -7.621293067932129,
          -4.886065483093262,
          -8.935977935791016,
          -10.90986156463623,
          -6.937897682189941,
          -6.190677642822266,
          -2.6578493118286133,
          -3.8468730449676514,
          -5.609344482421875,
          -7.407834053039551,
          -4.868373394012451,
          -12.749580383300781,
          -1.5342657566070557,
          -13.103349685668945,
          -8.61913776397705,
          -5.420363426208496,
          -5.952791213989258,
          -7.126675128936768,
          -2.069035053253174,
          -10.87562370300293,
          -5.495001316070557,
          -1.7929296493530273,
          -5.828405380249023,
          -5.6571221351623535,
          -5.987347602844238,
          -9.813063621520996,
          -4.687962532043457,
          -2.2433788776397705,
          -4.140801906585693,
          -0.4817879796028137,
          -8.055086135864258,
          -5.4957122802734375,
          -3.857513427734375,
          -6.391305923461914,
          0.13640540838241577,
          -2.4070937633514404,
          -6.494584560394287,
          -10.374208450317383,
          -6.117096900939941,
          -4.035257339477539,
          -1.8386279344558716,
          -6.020634651184082,
          -8.961772918701172,
          -5.1751790046691895,
          -5.5471062660217285,
          -13.592116355895996
         ],
         "y": [
          -11.763754844665527,
          -3.1236560344696045,
          1.5149798393249512,
          -5.820185661315918,
          -5.276939868927002,
          -6.897308349609375,
          1.906951904296875,
          -7.818751335144043,
          -8.932202339172363,
          -6.614936828613281,
          -4.596117973327637,
          -2.037403106689453,
          1.37881600856781,
          -6.307053565979004,
          -7.496920108795166,
          -6.327950477600098,
          -8.325508117675781,
          0.1616307944059372,
          -12.068319320678711,
          -6.963037490844727,
          0.5421903133392334,
          -5.032193660736084,
          -7.184496879577637,
          0.19714634120464325,
          -13.0466890335083,
          -2.57232666015625,
          -0.6362782120704651,
          -6.65437650680542,
          -6.0575995445251465,
          -6.82600736618042,
          -8.822443008422852,
          -5.762417316436768,
          0.6909033060073853,
          -3.3834896087646484,
          -0.46788260340690613,
          -2.8393948078155518,
          -4.499138832092285,
          -4.0477824211120605,
          -4.653932571411133,
          0.3294888734817505,
          0.652170717716217,
          -7.066574573516846,
          -8.006775856018066,
          -1.6351977586746216,
          -2.703545331954956,
          0.40287572145462036,
          -6.362032413482666,
          -9.847304344177246,
          -3.26973032951355,
          -5.407063961029053,
          -13.737196922302246
         ]
        },
        {
         "marker": {
          "color": 2,
          "opacity": 0.8,
          "size": 10
         },
         "mode": "markers+text",
         "name": "lion",
         "text": [
          "attaque_shinji_takahashi_genin",
          "bunke_pv_chakra_atk",
          "richard_csur",
          "lionceau",
          "suukou_byakugan_multiplicateur",
          "def_vivre_tsuji",
          "tigre",
          "françois_grether_yves",
          "combat_pv_chakra",
          "androclès",
          "sullias",
          "léopard",
          "rdv_anpe_rue",
          "armoire_magique",
          "aigle",
          "hyène",
          "lions",
          "mouton_ben_gourion",
          "sandro_esperanto",
          "chrimogen_promotion_citoyen",
          "epopée_européenne",
          "antilope",
          "eléphants",
          "dompteur",
          "narnia_chapitre",
          "éléphant",
          "rosenau_innovation_avec",
          "rugissement",
          "bélier_ascendant",
          "lion_rugir",
          "hyènes",
          "lion_affamer",
          "oryx",
          "web_association_maili",
          "congrès_atria",
          "animal_fétiche",
          "fauves",
          "rugir",
          "troyes_yvain",
          "tisa_terre",
          "alain_ruscio_affaire_redeker",
          "tigresse",
          "éléphant_girafe",
          "gueules_brocher",
          "dragon",
          "crocodile",
          "bête_sauvage",
          "serpent",
          "belier",
          "membré",
          "lion"
         ],
         "textfont": {
          "size": 10
         },
         "textposition": "top center",
         "type": "scatter",
         "x": [
          1.8032479286193848,
          1.7943904399871826,
          2.6474063396453857,
          -0.5512778759002686,
          1.9173996448516846,
          1.833143711090088,
          -2.4966933727264404,
          3.2152152061462402,
          1.861234188079834,
          2.44732666015625,
          2.04473614692688,
          -4.07359504699707,
          2.8409061431884766,
          0.6015575528144836,
          -1.8467814922332764,
          -3.899921178817749,
          1.3195024728775024,
          1.0928435325622559,
          2.4161834716796875,
          3.7027111053466797,
          1.9419314861297607,
          -6.7848005294799805,
          0.5925680994987488,
          -0.3808104395866394,
          1.8888236284255981,
          -4.7922892570495605,
          3.754056453704834,
          -2.083655834197998,
          2.15381121635437,
          1.6721584796905518,
          2.6817638874053955,
          1.2273890972137451,
          -4.072668552398682,
          1.741280198097229,
          3.8215689659118652,
          1.9338452816009521,
          -0.5074886679649353,
          -1.0050883293151855,
          2.6844868659973145,
          1.6244490146636963,
          1.0728529691696167,
          -1.5591238737106323,
          1.508794903755188,
          2.6529078483581543,
          -2.5253818035125732,
          -6.309847831726074,
          -2.3688268661499023,
          -5.377345085144043,
          0.3201877474784851,
          -0.801861584186554,
          -0.7003240585327148
         ],
         "y": [
          1.715708613395691,
          2.4348061084747314,
          3.217714786529541,
          13.073967933654785,
          2.3505795001983643,
          2.427915334701538,
          14.545401573181152,
          3.271996259689331,
          2.453120231628418,
          3.293337821960449,
          2.001013994216919,
          11.735552787780762,
          3.0809969902038574,
          10.963628768920898,
          11.48016357421875,
          9.933035850524902,
          11.5372953414917,
          6.809297561645508,
          4.3289265632629395,
          3.8484442234039307,
          2.5508127212524414,
          12.186803817749023,
          8.805333137512207,
          12.192959785461426,
          8.550671577453613,
          14.63032054901123,
          3.819202423095703,
          10.09310245513916,
          2.67653489112854,
          5.761458873748779,
          3.949176788330078,
          2.5942375659942627,
          11.635997772216797,
          6.033557415008545,
          3.7605066299438477,
          3.812551975250244,
          7.47843599319458,
          9.936653137207031,
          3.6081433296203613,
          6.282829284667969,
          5.950563430786133,
          13.202106475830078,
          2.178558826446533,
          2.540515661239624,
          11.6368408203125,
          6.205175876617432,
          7.810760498046875,
          11.264695167541504,
          6.474615573883057,
          3.8512933254241943,
          18.376508712768555
         ]
        },
        {
         "marker": {
          "color": 3,
          "opacity": 0.8,
          "size": 10
         },
         "mode": "markers+text",
         "name": "festival",
         "text": [
          "festival_international",
          "festival_itinérant",
          "festival_off",
          "festivals",
          "festivalier",
          "vieille_charrues",
          "festival_jazz",
          "jazz_festival",
          "francofolies",
          "concert",
          "festival_internationnal",
          "programmation_éclectique",
          "tremplin_musical",
          "dixième_édition",
          "francofffonies",
          "ciné-concert",
          "festival_estival",
          "picardie_mouv",
          "festi",
          "sixième_édition",
          "espace_miramar",
          "long_métrage_fiction",
          "onzième_édition",
          "musicalarue",
          "vieilles_charrues",
          "saint-chartier",
          "mimos",
          "transmusicale",
          "festiv",
          "festival_oenovidéo",
          "ososphère",
          "estivales",
          "court_métrage",
          "biennale",
          "courts-métrage",
          "eurockéennes",
          "nuits_vertes",
          "jeunes_talents",
          "cinémas",
          "centre_wallonie-bruxelles",
          "spectacle",
          "sous_chapiteau",
          "calvi_jazz",
          "francofolie",
          "avignon_off",
          "francofffonie",
          "cinéville",
          "jeunes_talent",
          "transmusicales",
          "manifestation_culturel",
          "festival"
         ],
         "textfont": {
          "size": 10
         },
         "textposition": "top center",
         "type": "scatter",
         "x": [
          26.255367279052734,
          11.417134284973145,
          16.02021026611328,
          17.544612884521484,
          14.406805992126465,
          12.662461280822754,
          14.987622261047363,
          14.459362983703613,
          10.839945793151855,
          18.65766716003418,
          6.351402759552002,
          13.600071907043457,
          11.390694618225098,
          13.311304092407227,
          7.5963640213012695,
          16.231966018676758,
          7.500061511993408,
          9.916242599487305,
          11.15213680267334,
          11.336346626281738,
          7.5101237297058105,
          4.604315757751465,
          10.801963806152344,
          5.612759113311768,
          5.414071559906006,
          6.986125946044922,
          6.694756031036377,
          14.605786323547363,
          11.745720863342285,
          10.340439796447754,
          5.0252180099487305,
          10.604493141174316,
          16.498546600341797,
          17.632434844970703,
          15.62732982635498,
          10.993515968322754,
          10.57068920135498,
          7.751377105712891,
          14.603528022766113,
          8.311184883117676,
          13.881997108459473,
          12.552584648132324,
          2.696444034576416,
          17.574087142944336,
          5.441294193267822,
          10.485214233398438,
          9.9708251953125,
          10.169389724731445,
          8.70530891418457,
          15.245160102844238,
          28.490711212158203
         ],
         "y": [
          -6.895872592926025,
          -2.9714670181274414,
          -4.075655460357666,
          -4.802982807159424,
          -4.759034156799316,
          -3.185272455215454,
          -4.847160816192627,
          -3.6361358165740967,
          -2.8479838371276855,
          -4.578871726989746,
          1.6955338716506958,
          -4.030480861663818,
          -2.8482773303985596,
          -3.7802350521087646,
          -1.1448943614959717,
          -3.0324196815490723,
          -0.8674152493476868,
          -2.2257485389709473,
          -3.043402910232544,
          -2.795872449874878,
          -0.7343538403511047,
          1.0177305936813354,
          -2.8520219326019287,
          0.42857515811920166,
          0.30961400270462036,
          -0.8708813190460205,
          -0.251377135515213,
          -3.822402238845825,
          -2.345914363861084,
          -2.287257194519043,
          0.6737748384475708,
          -3.167785167694092,
          -2.848726987838745,
          -2.744337558746338,
          -2.455838441848755,
          -1.4755080938339233,
          -2.980485200881958,
          -1.3863492012023926,
          -2.804915189743042,
          -1.4685581922531128,
          -2.324446201324463,
          -2.8674440383911133,
          1.1359564065933228,
          -5.435952186584473,
          1.8371524810791016,
          -0.9842401146888733,
          -2.4608724117279053,
          -2.0582895278930664,
          -2.183744192123413,
          -4.537347316741943,
          -8.630797386169434
         ]
        }
       ],
       "layout": {
        "font": {
         "family": "Arial",
         "size": 10
        },
        "height": 600,
        "legend": {
         "font": {
          "color": "black"
         },
         "x": 1,
         "y": 0.5
        },
        "margin": {
         "b": 0,
         "l": 0,
         "r": 0,
         "t": 0
        },
        "showlegend": true,
        "template": {
         "data": {
          "bar": [
           {
            "error_x": {
             "color": "#2a3f5f"
            },
            "error_y": {
             "color": "#2a3f5f"
            },
            "marker": {
             "line": {
              "color": "#E5ECF6",
              "width": 0.5
             },
             "pattern": {
              "fillmode": "overlay",
              "size": 10,
              "solidity": 0.2
             }
            },
            "type": "bar"
           }
          ],
          "barpolar": [
           {
            "marker": {
             "line": {
              "color": "#E5ECF6",
              "width": 0.5
             },
             "pattern": {
              "fillmode": "overlay",
              "size": 10,
              "solidity": 0.2
             }
            },
            "type": "barpolar"
           }
          ],
          "carpet": [
           {
            "aaxis": {
             "endlinecolor": "#2a3f5f",
             "gridcolor": "white",
             "linecolor": "white",
             "minorgridcolor": "white",
             "startlinecolor": "#2a3f5f"
            },
            "baxis": {
             "endlinecolor": "#2a3f5f",
             "gridcolor": "white",
             "linecolor": "white",
             "minorgridcolor": "white",
             "startlinecolor": "#2a3f5f"
            },
            "type": "carpet"
           }
          ],
          "choropleth": [
           {
            "colorbar": {
             "outlinewidth": 0,
             "ticks": ""
            },
            "type": "choropleth"
           }
          ],
          "contour": [
           {
            "colorbar": {
             "outlinewidth": 0,
             "ticks": ""
            },
            "colorscale": [
             [
              0,
              "#0d0887"
             ],
             [
              0.1111111111111111,
              "#46039f"
             ],
             [
              0.2222222222222222,
              "#7201a8"
             ],
             [
              0.3333333333333333,
              "#9c179e"
             ],
             [
              0.4444444444444444,
              "#bd3786"
             ],
             [
              0.5555555555555556,
              "#d8576b"
             ],
             [
              0.6666666666666666,
              "#ed7953"
             ],
             [
              0.7777777777777778,
              "#fb9f3a"
             ],
             [
              0.8888888888888888,
              "#fdca26"
             ],
             [
              1,
              "#f0f921"
             ]
            ],
            "type": "contour"
           }
          ],
          "contourcarpet": [
           {
            "colorbar": {
             "outlinewidth": 0,
             "ticks": ""
            },
            "type": "contourcarpet"
           }
          ],
          "heatmap": [
           {
            "colorbar": {
             "outlinewidth": 0,
             "ticks": ""
            },
            "colorscale": [
             [
              0,
              "#0d0887"
             ],
             [
              0.1111111111111111,
              "#46039f"
             ],
             [
              0.2222222222222222,
              "#7201a8"
             ],
             [
              0.3333333333333333,
              "#9c179e"
             ],
             [
              0.4444444444444444,
              "#bd3786"
             ],
             [
              0.5555555555555556,
              "#d8576b"
             ],
             [
              0.6666666666666666,
              "#ed7953"
             ],
             [
              0.7777777777777778,
              "#fb9f3a"
             ],
             [
              0.8888888888888888,
              "#fdca26"
             ],
             [
              1,
              "#f0f921"
             ]
            ],
            "type": "heatmap"
           }
          ],
          "heatmapgl": [
           {
            "colorbar": {
             "outlinewidth": 0,
             "ticks": ""
            },
            "colorscale": [
             [
              0,
              "#0d0887"
             ],
             [
              0.1111111111111111,
              "#46039f"
             ],
             [
              0.2222222222222222,
              "#7201a8"
             ],
             [
              0.3333333333333333,
              "#9c179e"
             ],
             [
              0.4444444444444444,
              "#bd3786"
             ],
             [
              0.5555555555555556,
              "#d8576b"
             ],
             [
              0.6666666666666666,
              "#ed7953"
             ],
             [
              0.7777777777777778,
              "#fb9f3a"
             ],
             [
              0.8888888888888888,
              "#fdca26"
             ],
             [
              1,
              "#f0f921"
             ]
            ],
            "type": "heatmapgl"
           }
          ],
          "histogram": [
           {
            "marker": {
             "pattern": {
              "fillmode": "overlay",
              "size": 10,
              "solidity": 0.2
             }
            },
            "type": "histogram"
           }
          ],
          "histogram2d": [
           {
            "colorbar": {
             "outlinewidth": 0,
             "ticks": ""
            },
            "colorscale": [
             [
              0,
              "#0d0887"
             ],
             [
              0.1111111111111111,
              "#46039f"
             ],
             [
              0.2222222222222222,
              "#7201a8"
             ],
             [
              0.3333333333333333,
              "#9c179e"
             ],
             [
              0.4444444444444444,
              "#bd3786"
             ],
             [
              0.5555555555555556,
              "#d8576b"
             ],
             [
              0.6666666666666666,
              "#ed7953"
             ],
             [
              0.7777777777777778,
              "#fb9f3a"
             ],
             [
              0.8888888888888888,
              "#fdca26"
             ],
             [
              1,
              "#f0f921"
             ]
            ],
            "type": "histogram2d"
           }
          ],
          "histogram2dcontour": [
           {
            "colorbar": {
             "outlinewidth": 0,
             "ticks": ""
            },
            "colorscale": [
             [
              0,
              "#0d0887"
             ],
             [
              0.1111111111111111,
              "#46039f"
             ],
             [
              0.2222222222222222,
              "#7201a8"
             ],
             [
              0.3333333333333333,
              "#9c179e"
             ],
             [
              0.4444444444444444,
              "#bd3786"
             ],
             [
              0.5555555555555556,
              "#d8576b"
             ],
             [
              0.6666666666666666,
              "#ed7953"
             ],
             [
              0.7777777777777778,
              "#fb9f3a"
             ],
             [
              0.8888888888888888,
              "#fdca26"
             ],
             [
              1,
              "#f0f921"
             ]
            ],
            "type": "histogram2dcontour"
           }
          ],
          "mesh3d": [
           {
            "colorbar": {
             "outlinewidth": 0,
             "ticks": ""
            },
            "type": "mesh3d"
           }
          ],
          "parcoords": [
           {
            "line": {
             "colorbar": {
              "outlinewidth": 0,
              "ticks": ""
             }
            },
            "type": "parcoords"
           }
          ],
          "pie": [
           {
            "automargin": true,
            "type": "pie"
           }
          ],
          "scatter": [
           {
            "fillpattern": {
             "fillmode": "overlay",
             "size": 10,
             "solidity": 0.2
            },
            "type": "scatter"
           }
          ],
          "scatter3d": [
           {
            "line": {
             "colorbar": {
              "outlinewidth": 0,
              "ticks": ""
             }
            },
            "marker": {
             "colorbar": {
              "outlinewidth": 0,
              "ticks": ""
             }
            },
            "type": "scatter3d"
           }
          ],
          "scattercarpet": [
           {
            "marker": {
             "colorbar": {
              "outlinewidth": 0,
              "ticks": ""
             }
            },
            "type": "scattercarpet"
           }
          ],
          "scattergeo": [
           {
            "marker": {
             "colorbar": {
              "outlinewidth": 0,
              "ticks": ""
             }
            },
            "type": "scattergeo"
           }
          ],
          "scattergl": [
           {
            "marker": {
             "colorbar": {
              "outlinewidth": 0,
              "ticks": ""
             }
            },
            "type": "scattergl"
           }
          ],
          "scattermapbox": [
           {
            "marker": {
             "colorbar": {
              "outlinewidth": 0,
              "ticks": ""
             }
            },
            "type": "scattermapbox"
           }
          ],
          "scatterpolar": [
           {
            "marker": {
             "colorbar": {
              "outlinewidth": 0,
              "ticks": ""
             }
            },
            "type": "scatterpolar"
           }
          ],
          "scatterpolargl": [
           {
            "marker": {
             "colorbar": {
              "outlinewidth": 0,
              "ticks": ""
             }
            },
            "type": "scatterpolargl"
           }
          ],
          "scatterternary": [
           {
            "marker": {
             "colorbar": {
              "outlinewidth": 0,
              "ticks": ""
             }
            },
            "type": "scatterternary"
           }
          ],
          "surface": [
           {
            "colorbar": {
             "outlinewidth": 0,
             "ticks": ""
            },
            "colorscale": [
             [
              0,
              "#0d0887"
             ],
             [
              0.1111111111111111,
              "#46039f"
             ],
             [
              0.2222222222222222,
              "#7201a8"
             ],
             [
              0.3333333333333333,
              "#9c179e"
             ],
             [
              0.4444444444444444,
              "#bd3786"
             ],
             [
              0.5555555555555556,
              "#d8576b"
             ],
             [
              0.6666666666666666,
              "#ed7953"
             ],
             [
              0.7777777777777778,
              "#fb9f3a"
             ],
             [
              0.8888888888888888,
              "#fdca26"
             ],
             [
              1,
              "#f0f921"
             ]
            ],
            "type": "surface"
           }
          ],
          "table": [
           {
            "cells": {
             "fill": {
              "color": "#EBF0F8"
             },
             "line": {
              "color": "white"
             }
            },
            "header": {
             "fill": {
              "color": "#C8D4E3"
             },
             "line": {
              "color": "white"
             }
            },
            "type": "table"
           }
          ]
         },
         "layout": {
          "annotationdefaults": {
           "arrowcolor": "#2a3f5f",
           "arrowhead": 0,
           "arrowwidth": 1
          },
          "autotypenumbers": "strict",
          "coloraxis": {
           "colorbar": {
            "outlinewidth": 0,
            "ticks": ""
           }
          },
          "colorscale": {
           "diverging": [
            [
             0,
             "#8e0152"
            ],
            [
             0.1,
             "#c51b7d"
            ],
            [
             0.2,
             "#de77ae"
            ],
            [
             0.3,
             "#f1b6da"
            ],
            [
             0.4,
             "#fde0ef"
            ],
            [
             0.5,
             "#f7f7f7"
            ],
            [
             0.6,
             "#e6f5d0"
            ],
            [
             0.7,
             "#b8e186"
            ],
            [
             0.8,
             "#7fbc41"
            ],
            [
             0.9,
             "#4d9221"
            ],
            [
             1,
             "#276419"
            ]
           ],
           "sequential": [
            [
             0,
             "#0d0887"
            ],
            [
             0.1111111111111111,
             "#46039f"
            ],
            [
             0.2222222222222222,
             "#7201a8"
            ],
            [
             0.3333333333333333,
             "#9c179e"
            ],
            [
             0.4444444444444444,
             "#bd3786"
            ],
            [
             0.5555555555555556,
             "#d8576b"
            ],
            [
             0.6666666666666666,
             "#ed7953"
            ],
            [
             0.7777777777777778,
             "#fb9f3a"
            ],
            [
             0.8888888888888888,
             "#fdca26"
            ],
            [
             1,
             "#f0f921"
            ]
           ],
           "sequentialminus": [
            [
             0,
             "#0d0887"
            ],
            [
             0.1111111111111111,
             "#46039f"
            ],
            [
             0.2222222222222222,
             "#7201a8"
            ],
            [
             0.3333333333333333,
             "#9c179e"
            ],
            [
             0.4444444444444444,
             "#bd3786"
            ],
            [
             0.5555555555555556,
             "#d8576b"
            ],
            [
             0.6666666666666666,
             "#ed7953"
            ],
            [
             0.7777777777777778,
             "#fb9f3a"
            ],
            [
             0.8888888888888888,
             "#fdca26"
            ],
            [
             1,
             "#f0f921"
            ]
           ]
          },
          "colorway": [
           "#636efa",
           "#EF553B",
           "#00cc96",
           "#ab63fa",
           "#FFA15A",
           "#19d3f3",
           "#FF6692",
           "#B6E880",
           "#FF97FF",
           "#FECB52"
          ],
          "font": {
           "color": "#2a3f5f"
          },
          "geo": {
           "bgcolor": "white",
           "lakecolor": "white",
           "landcolor": "#E5ECF6",
           "showlakes": true,
           "showland": true,
           "subunitcolor": "white"
          },
          "hoverlabel": {
           "align": "left"
          },
          "hovermode": "closest",
          "mapbox": {
           "style": "light"
          },
          "paper_bgcolor": "white",
          "plot_bgcolor": "#E5ECF6",
          "polar": {
           "angularaxis": {
            "gridcolor": "white",
            "linecolor": "white",
            "ticks": ""
           },
           "bgcolor": "#E5ECF6",
           "radialaxis": {
            "gridcolor": "white",
            "linecolor": "white",
            "ticks": ""
           }
          },
          "scene": {
           "xaxis": {
            "backgroundcolor": "#E5ECF6",
            "gridcolor": "white",
            "gridwidth": 2,
            "linecolor": "white",
            "showbackground": true,
            "ticks": "",
            "zerolinecolor": "white"
           },
           "yaxis": {
            "backgroundcolor": "#E5ECF6",
            "gridcolor": "white",
            "gridwidth": 2,
            "linecolor": "white",
            "showbackground": true,
            "ticks": "",
            "zerolinecolor": "white"
           },
           "zaxis": {
            "backgroundcolor": "#E5ECF6",
            "gridcolor": "white",
            "gridwidth": 2,
            "linecolor": "white",
            "showbackground": true,
            "ticks": "",
            "zerolinecolor": "white"
           }
          },
          "shapedefaults": {
           "line": {
            "color": "#2a3f5f"
           }
          },
          "ternary": {
           "aaxis": {
            "gridcolor": "white",
            "linecolor": "white",
            "ticks": ""
           },
           "baxis": {
            "gridcolor": "white",
            "linecolor": "white",
            "ticks": ""
           },
           "bgcolor": "#E5ECF6",
           "caxis": {
            "gridcolor": "white",
            "linecolor": "white",
            "ticks": ""
           }
          },
          "title": {
           "x": 0.05
          },
          "xaxis": {
           "automargin": true,
           "gridcolor": "white",
           "linecolor": "white",
           "ticks": "",
           "title": {
            "standoff": 15
           },
           "zerolinecolor": "white",
           "zerolinewidth": 2
          },
          "yaxis": {
           "automargin": true,
           "gridcolor": "white",
           "linecolor": "white",
           "ticks": "",
           "title": {
            "standoff": 15
           },
           "zerolinecolor": "white",
           "zerolinewidth": 2
          }
         }
        },
        "width": 800
       }
      }
     },
     "metadata": {},
     "output_type": "display_data"
    },
    {
     "data": {
      "application/vnd.plotly.v1+json": {
       "config": {
        "plotlyServerURL": "https://plot.ly"
       },
       "data": [
        {
         "marker": {
          "color": 0,
          "opacity": 0.8,
          "size": 10
         },
         "mode": "markers+text",
         "name": "baleine",
         "text": [
          "rorqual",
          "phoque",
          "petit_rorqual",
          "rorqual_commun",
          "cachalot",
          "mégaptère",
          "cétacé",
          "baleine_bleu",
          "baleinier",
          "béluga",
          "baleine_franc",
          "mammifère_marin",
          "baleine_gris",
          "chasse_baleinier",
          "commission_baleinier",
          "requin",
          "cétacés",
          "épaulard",
          "baleineau",
          "steve_irwin",
          "minke",
          "sanctuaire_baleinier",
          "otarie",
          "cachalots",
          "baleinier_japonais",
          "bébé_phoque",
          "nokosa",
          "dauphin",
          "cetace",
          "golfe_saint-laurent",
          "moby_dick",
          "krill",
          "lamantin",
          "flotte_baleinier_japonais",
          "sea_shepherd",
          "ours_polaire",
          "requin_blanc",
          "paul_watson",
          "calmar_géant",
          "requin_marteau",
          "pieuvre_géant",
          "mer_austral",
          "mégaptère_baleine",
          "dugong",
          "requin_baleine",
          "flotte_baleinier",
          "pinnipède",
          "oceanic_viking",
          "oiseau_marin",
          "raie_mantas",
          "baleine"
         ],
         "textfont": {
          "size": 10
         },
         "textposition": "top center",
         "type": "scatter",
         "x": [
          -2.610414981842041,
          -2.953179359436035,
          -1.6164628267288208,
          -2.7737975120544434,
          -2.8206536769866943,
          -1.9379011392593384,
          -3.571200370788574,
          -2.4328787326812744,
          -1.8956491947174072,
          -2.5113542079925537,
          -0.8989676833152771,
          -3.5006613731384277,
          -0.8047401905059814,
          -0.6714500188827515,
          -0.5891942977905273,
          -2.9961774349212646,
          -1.9897466897964478,
          -2.282472848892212,
          -1.3869441747665405,
          0.3988834321498871,
          -0.2638135552406311,
          -0.6345767378807068,
          -2.565354824066162,
          0.08477390557527542,
          -1.1648164987564087,
          -1.5024183988571167,
          -1.66357421875,
          -2.57956600189209,
          -0.015079016797244549,
          -0.5300379395484924,
          0.6208108067512512,
          -3.429882526397705,
          0.19437526166439056,
          -0.6653529405593872,
          -1.5911500453948975,
          -2.4235823154449463,
          -2.7204370498657227,
          -0.7748299241065979,
          -1.2734384536743164,
          -2.0628769397735596,
          -0.9033175110816956,
          -1.0565226078033447,
          0.11274705082178116,
          -1.320483684539795,
          -1.7944411039352417,
          -0.36723747849464417,
          -1.072685718536377,
          -0.49332648515701294,
          -3.159482479095459,
          -0.32993119955062866,
          -3.0123839378356934
         ],
         "y": [
          0.6197832226753235,
          1.3279410600662231,
          0.9440049529075623,
          0.6163374185562134,
          0.4824807047843933,
          1.1885837316513062,
          0.6857545375823975,
          0.7477909922599792,
          1.921695351600647,
          1.1427255868911743,
          0.5289406180381775,
          0.6386726498603821,
          0.5232314467430115,
          0.9157832264900208,
          0.8357248306274414,
          -0.4980672597885132,
          0.28331422805786133,
          1.2113131284713745,
          0.7346365451812744,
          -0.6412132978439331,
          0.4100450277328491,
          1.1039202213287354,
          0.00832764245569706,
          0.445771187543869,
          1.7242354154586792,
          1.5735793113708496,
          1.5319863557815552,
          0.2525828182697296,
          0.432047039270401,
          0.4387817978858948,
          -0.93369060754776,
          -1.1257942914962769,
          -1.6143673658370972,
          1.06282639503479,
          2.217946767807007,
          1.6374003887176514,
          -0.3811054527759552,
          1.4777783155441284,
          0.41301655769348145,
          -0.35728660225868225,
          0.24920864403247833,
          0.8529111742973328,
          0.4207233190536499,
          0.3122282922267914,
          -0.3062218129634857,
          0.9790720343589783,
          0.13137884438037872,
          1.0030778646469116,
          0.12639829516410828,
          0.17958132922649384,
          1.2139592170715332
         ]
        },
        {
         "marker": {
          "color": 1,
          "opacity": 0.8,
          "size": 10
         },
         "mode": "markers+text",
         "name": "poisson",
         "text": [
          "pêcher",
          "poisson-chat",
          "parfait_imbécile_heureux",
          "chinchard",
          "fraie",
          "poisson_pêcher",
          "poisson_carnivore",
          "poisson_pélagique",
          "crustacé",
          "omble",
          "tilapia",
          "saumon_truite",
          "poisson_prédateur",
          "vairon",
          "bonite",
          "omble_chevalier",
          "nageoire",
          "dorade_royal",
          "alevin",
          "carangue",
          "dorade_coryphèn",
          "baudroie",
          "rascasse",
          "tacaud",
          "truite",
          "thon_albacore",
          "éperlan",
          "truite_arc-en-ciel",
          "cyprinidé",
          "corégone",
          "crevette",
          "chevesne",
          "serran",
          "koï",
          "sardine_maquereau",
          "animal_aquatique",
          "barbillon",
          "carassin",
          "poisson_tropical",
          "vivaneal",
          "thazard",
          "dorade",
          "krill",
          "proie_vivant",
          "hotu",
          "poisson_carnassier",
          "poissonneux",
          "salmonidé",
          "vessie_natatoire",
          "flétan",
          "poisson"
         ],
         "textfont": {
          "size": 10
         },
         "textposition": "top center",
         "type": "scatter",
         "x": [
          -1.5275696516036987,
          -1.2256343364715576,
          -0.21866841614246368,
          -1.5093075037002563,
          -0.6652429699897766,
          -1.5464128255844116,
          -0.6806319952011108,
          -2.0385289192199707,
          -2.4216296672821045,
          -0.9027320742607117,
          -1.1498867273330688,
          -0.5060572028160095,
          -0.7178511619567871,
          -0.5295112133026123,
          -1.9009623527526855,
          -0.9052066802978516,
          -2.7810819149017334,
          -0.4657247066497803,
          -0.9112369418144226,
          -2.255478858947754,
          -1.0639568567276,
          -1.925376296043396,
          -2.1405112743377686,
          -0.4626765847206116,
          -0.7067089080810547,
          -1.1600573062896729,
          -0.47572076320648193,
          -0.7935879826545715,
          -0.6795968413352966,
          -0.7451388835906982,
          -2.391575574874878,
          -0.6244481205940247,
          -0.5613002777099609,
          -0.13568170368671417,
          -0.16879737377166748,
          -1.6830252408981323,
          -0.7918118238449097,
          -0.4586748480796814,
          -1.6540553569793701,
          -0.07444886863231659,
          -0.4421873688697815,
          -2.16589617729187,
          -3.429882526397705,
          -0.9267352819442749,
          -0.4896579086780548,
          -0.341483473777771,
          -1.215836763381958,
          -0.7078332901000977,
          -0.7749018669128418,
          -1.903977394104004,
          -1.7730975151062012
         ],
         "y": [
          -2.723207950592041,
          -1.4158097505569458,
          -0.25319352746009827,
          -1.349149227142334,
          -1.4660133123397827,
          -1.2176111936569214,
          -0.480773001909256,
          -1.2097448110580444,
          -2.2447104454040527,
          -2.086322069168091,
          -1.1664561033248901,
          -0.5516738295555115,
          -0.3113626539707184,
          -2.340644121170044,
          -1.6160308122634888,
          -2.1549570560455322,
          -1.3006733655929565,
          -0.3820023536682129,
          -2.8599798679351807,
          -0.8507112264633179,
          -0.679938554763794,
          -1.7353038787841797,
          -1.891513466835022,
          -0.2942781448364258,
          -2.830678939819336,
          -0.8381735682487488,
          -0.5032675862312317,
          -2.3974220752716064,
          -1.7908493280410767,
          -2.281313180923462,
          -1.8324203491210938,
          -1.8793203830718994,
          -0.22497710585594177,
          -1.0022969245910645,
          -0.06705258041620255,
          -0.4283736050128937,
          -1.5360708236694336,
          -1.2462352514266968,
          -0.4774574339389801,
          0.10911625623703003,
          -0.22938255965709686,
          -2.093012571334839,
          -1.1257942914962769,
          -0.8002519011497498,
          -1.1999714374542236,
          -0.4141920804977417,
          -1.6550567150115967,
          -2.7096853256225586,
          -0.5779008865356445,
          -1.7769156694412231,
          -2.4857184886932373
         ]
        },
        {
         "marker": {
          "color": 2,
          "opacity": 0.8,
          "size": 10
         },
         "mode": "markers+text",
         "name": "lion",
         "text": [
          "attaque_shinji_takahashi_genin",
          "bunke_pv_chakra_atk",
          "richard_csur",
          "lionceau",
          "suukou_byakugan_multiplicateur",
          "def_vivre_tsuji",
          "tigre",
          "françois_grether_yves",
          "combat_pv_chakra",
          "androclès",
          "sullias",
          "léopard",
          "rdv_anpe_rue",
          "armoire_magique",
          "aigle",
          "hyène",
          "lions",
          "mouton_ben_gourion",
          "sandro_esperanto",
          "chrimogen_promotion_citoyen",
          "epopée_européenne",
          "antilope",
          "eléphants",
          "dompteur",
          "narnia_chapitre",
          "éléphant",
          "rosenau_innovation_avec",
          "rugissement",
          "bélier_ascendant",
          "lion_rugir",
          "hyènes",
          "lion_affamer",
          "oryx",
          "web_association_maili",
          "congrès_atria",
          "animal_fétiche",
          "fauves",
          "rugir",
          "troyes_yvain",
          "tisa_terre",
          "alain_ruscio_affaire_redeker",
          "tigresse",
          "éléphant_girafe",
          "gueules_brocher",
          "dragon",
          "crocodile",
          "bête_sauvage",
          "serpent",
          "belier",
          "membré",
          "lion"
         ],
         "textfont": {
          "size": 10
         },
         "textposition": "top center",
         "type": "scatter",
         "x": [
          0.4705730676651001,
          0.48344966769218445,
          0.65505450963974,
          0.9064455032348633,
          0.519546389579773,
          0.4984166622161865,
          0.09526607394218445,
          0.815142810344696,
          0.490152508020401,
          0.6012541651725769,
          0.547271192073822,
          1.2984765768051147,
          0.7037226557731628,
          0.8178385496139526,
          1.233676552772522,
          -0.8321888446807861,
          1.3569157123565674,
          1.056406021118164,
          0.6520035862922668,
          0.8459489941596985,
          0.5144135355949402,
          1.1347707509994507,
          1.011587142944336,
          0.2536329925060272,
          0.8368706703186035,
          1.3350876569747925,
          0.8685581684112549,
          -0.29427334666252136,
          0.5526774525642395,
          0.2940446734428406,
          0.6216366291046143,
          0.30270129442214966,
          1.0229980945587158,
          0.5915824174880981,
          0.9209170937538147,
          0.3443440794944763,
          0.040221069008111954,
          -0.31264135241508484,
          0.670540452003479,
          0.5870212316513062,
          0.8856666684150696,
          -0.026951536536216736,
          0.3243776261806488,
          0.6761536598205566,
          0.7465780973434448,
          0.694243848323822,
          -0.27990540862083435,
          -1.1681236028671265,
          0.6925218105316162,
          0.4201355278491974,
          1.0275797843933105
         ],
         "y": [
          0.5449485778808594,
          0.6140241622924805,
          0.7483349442481995,
          2.2138028144836426,
          0.6023478507995605,
          0.6153149008750916,
          2.8317790031433105,
          0.7627199292182922,
          0.604781448841095,
          0.7691248059272766,
          0.5629878640174866,
          -1.6214005947113037,
          0.6237874627113342,
          2.6617543697357178,
          -0.9161095023155212,
          2.6083226203918457,
          -0.5464145541191101,
          1.8754686117172241,
          0.8393873572349548,
          0.8316112160682678,
          0.6027817726135254,
          -2.0104925632476807,
          -0.18348626792430878,
          2.054931163787842,
          2.482060194015503,
          -1.725124478340149,
          0.8297622799873352,
          3.3437371253967285,
          0.6085729598999023,
          1.5239099264144897,
          0.8527306318283081,
          0.6326678395271301,
          -1.534781575202942,
          1.176025152206421,
          0.7357159852981567,
          1.0765902996063232,
          2.2034671306610107,
          3.4810729026794434,
          0.7305906414985657,
          1.2043014764785767,
          1.6400842666625977,
          2.3553688526153564,
          0.46451446413993835,
          0.33665603399276733,
          3.1056506633758545,
          -2.128113031387329,
          2.2091755867004395,
          2.887539863586426,
          1.8568252325057983,
          0.1761292964220047,
          2.7303178310394287
         ]
        },
        {
         "marker": {
          "color": 3,
          "opacity": 0.8,
          "size": 10
         },
         "mode": "markers+text",
         "name": "festival",
         "text": [
          "festival_international",
          "festival_itinérant",
          "festival_off",
          "festivals",
          "festivalier",
          "vieille_charrues",
          "festival_jazz",
          "jazz_festival",
          "francofolies",
          "concert",
          "festival_internationnal",
          "programmation_éclectique",
          "tremplin_musical",
          "dixième_édition",
          "francofffonies",
          "ciné-concert",
          "festival_estival",
          "picardie_mouv",
          "festi",
          "sixième_édition",
          "espace_miramar",
          "long_métrage_fiction",
          "onzième_édition",
          "musicalarue",
          "vieilles_charrues",
          "saint-chartier",
          "mimos",
          "transmusicale",
          "festiv",
          "festival_oenovidéo",
          "ososphère",
          "estivales",
          "court_métrage",
          "biennale",
          "courts-métrage",
          "eurockéennes",
          "nuits_vertes",
          "jeunes_talents",
          "cinémas",
          "centre_wallonie-bruxelles",
          "spectacle",
          "sous_chapiteau",
          "calvi_jazz",
          "francofolie",
          "avignon_off",
          "francofffonie",
          "cinéville",
          "jeunes_talent",
          "transmusicales",
          "manifestation_culturel",
          "festival"
         ],
         "textfont": {
          "size": 10
         },
         "textposition": "top center",
         "type": "scatter",
         "x": [
          4.223533630371094,
          3.063483476638794,
          3.462576389312744,
          3.5014734268188477,
          3.7792065143585205,
          2.9514646530151367,
          3.3809096813201904,
          3.388256311416626,
          2.831702709197998,
          3.642958879470825,
          1.7995390892028809,
          3.3541054725646973,
          2.863614797592163,
          2.954393148422241,
          2.081956148147583,
          3.057973623275757,
          2.232497453689575,
          2.5620663166046143,
          2.786304235458374,
          3.0121426582336426,
          2.1348156929016113,
          1.4178004264831543,
          2.6520538330078125,
          1.779058575630188,
          1.6750043630599976,
          1.9969372749328613,
          1.9084888696670532,
          2.8402187824249268,
          2.7485196590423584,
          2.141641855239868,
          1.541679859161377,
          2.8922042846679688,
          3.071103096008301,
          3.200172185897827,
          3.069690465927124,
          2.60200572013855,
          2.440915107727051,
          2.1448628902435303,
          2.6460533142089844,
          2.150148630142212,
          4.045701026916504,
          3.860325336456299,
          0.870216965675354,
          3.10229754447937,
          1.523447036743164,
          2.1884450912475586,
          2.5322020053863525,
          2.4005448818206787,
          2.4036917686462402,
          3.37895131111145,
          4.11492395401001
         ],
         "y": [
          1.4937374591827393,
          0.7833622097969055,
          0.8436878323554993,
          1.281299114227295,
          0.7383684515953064,
          -0.4171326458454132,
          -0.08001146465539932,
          -0.10616537928581238,
          -0.32488083839416504,
          -0.2737159729003906,
          0.7634103298187256,
          0.5244276523590088,
          0.36559444665908813,
          1.443763017654419,
          1.213519811630249,
          1.9479933977127075,
          0.3789636492729187,
          0.6239566206932068,
          0.5320227742195129,
          1.623955249786377,
          0.8079347610473633,
          0.6902465224266052,
          1.295209527015686,
          0.534699559211731,
          0.49139124155044556,
          0.435362309217453,
          0.5877110362052917,
          -0.607872486114502,
          0.31615540385246277,
          1.693269968032837,
          0.614417314529419,
          0.46217501163482666,
          3.047393321990967,
          1.7420357465744019,
          3.0208699703216553,
          -0.5639026165008545,
          0.0192869920283556,
          0.806673526763916,
          2.1958816051483154,
          1.1285815238952637,
          0.26463955640792847,
          0.3167054057121277,
          0.5297671556472778,
          -0.8692290782928467,
          0.7349429726600647,
          1.8869404792785645,
          1.790946364402771,
          1.0607976913452148,
          -0.015180875547230244,
          0.9022274017333984,
          1.3121685981750488
         ]
        }
       ],
       "layout": {
        "font": {
         "family": "Arial",
         "size": 10
        },
        "height": 600,
        "legend": {
         "font": {
          "color": "black"
         },
         "x": 1,
         "y": 0.5
        },
        "margin": {
         "b": 0,
         "l": 0,
         "r": 0,
         "t": 0
        },
        "showlegend": true,
        "template": {
         "data": {
          "bar": [
           {
            "error_x": {
             "color": "#2a3f5f"
            },
            "error_y": {
             "color": "#2a3f5f"
            },
            "marker": {
             "line": {
              "color": "#E5ECF6",
              "width": 0.5
             },
             "pattern": {
              "fillmode": "overlay",
              "size": 10,
              "solidity": 0.2
             }
            },
            "type": "bar"
           }
          ],
          "barpolar": [
           {
            "marker": {
             "line": {
              "color": "#E5ECF6",
              "width": 0.5
             },
             "pattern": {
              "fillmode": "overlay",
              "size": 10,
              "solidity": 0.2
             }
            },
            "type": "barpolar"
           }
          ],
          "carpet": [
           {
            "aaxis": {
             "endlinecolor": "#2a3f5f",
             "gridcolor": "white",
             "linecolor": "white",
             "minorgridcolor": "white",
             "startlinecolor": "#2a3f5f"
            },
            "baxis": {
             "endlinecolor": "#2a3f5f",
             "gridcolor": "white",
             "linecolor": "white",
             "minorgridcolor": "white",
             "startlinecolor": "#2a3f5f"
            },
            "type": "carpet"
           }
          ],
          "choropleth": [
           {
            "colorbar": {
             "outlinewidth": 0,
             "ticks": ""
            },
            "type": "choropleth"
           }
          ],
          "contour": [
           {
            "colorbar": {
             "outlinewidth": 0,
             "ticks": ""
            },
            "colorscale": [
             [
              0,
              "#0d0887"
             ],
             [
              0.1111111111111111,
              "#46039f"
             ],
             [
              0.2222222222222222,
              "#7201a8"
             ],
             [
              0.3333333333333333,
              "#9c179e"
             ],
             [
              0.4444444444444444,
              "#bd3786"
             ],
             [
              0.5555555555555556,
              "#d8576b"
             ],
             [
              0.6666666666666666,
              "#ed7953"
             ],
             [
              0.7777777777777778,
              "#fb9f3a"
             ],
             [
              0.8888888888888888,
              "#fdca26"
             ],
             [
              1,
              "#f0f921"
             ]
            ],
            "type": "contour"
           }
          ],
          "contourcarpet": [
           {
            "colorbar": {
             "outlinewidth": 0,
             "ticks": ""
            },
            "type": "contourcarpet"
           }
          ],
          "heatmap": [
           {
            "colorbar": {
             "outlinewidth": 0,
             "ticks": ""
            },
            "colorscale": [
             [
              0,
              "#0d0887"
             ],
             [
              0.1111111111111111,
              "#46039f"
             ],
             [
              0.2222222222222222,
              "#7201a8"
             ],
             [
              0.3333333333333333,
              "#9c179e"
             ],
             [
              0.4444444444444444,
              "#bd3786"
             ],
             [
              0.5555555555555556,
              "#d8576b"
             ],
             [
              0.6666666666666666,
              "#ed7953"
             ],
             [
              0.7777777777777778,
              "#fb9f3a"
             ],
             [
              0.8888888888888888,
              "#fdca26"
             ],
             [
              1,
              "#f0f921"
             ]
            ],
            "type": "heatmap"
           }
          ],
          "heatmapgl": [
           {
            "colorbar": {
             "outlinewidth": 0,
             "ticks": ""
            },
            "colorscale": [
             [
              0,
              "#0d0887"
             ],
             [
              0.1111111111111111,
              "#46039f"
             ],
             [
              0.2222222222222222,
              "#7201a8"
             ],
             [
              0.3333333333333333,
              "#9c179e"
             ],
             [
              0.4444444444444444,
              "#bd3786"
             ],
             [
              0.5555555555555556,
              "#d8576b"
             ],
             [
              0.6666666666666666,
              "#ed7953"
             ],
             [
              0.7777777777777778,
              "#fb9f3a"
             ],
             [
              0.8888888888888888,
              "#fdca26"
             ],
             [
              1,
              "#f0f921"
             ]
            ],
            "type": "heatmapgl"
           }
          ],
          "histogram": [
           {
            "marker": {
             "pattern": {
              "fillmode": "overlay",
              "size": 10,
              "solidity": 0.2
             }
            },
            "type": "histogram"
           }
          ],
          "histogram2d": [
           {
            "colorbar": {
             "outlinewidth": 0,
             "ticks": ""
            },
            "colorscale": [
             [
              0,
              "#0d0887"
             ],
             [
              0.1111111111111111,
              "#46039f"
             ],
             [
              0.2222222222222222,
              "#7201a8"
             ],
             [
              0.3333333333333333,
              "#9c179e"
             ],
             [
              0.4444444444444444,
              "#bd3786"
             ],
             [
              0.5555555555555556,
              "#d8576b"
             ],
             [
              0.6666666666666666,
              "#ed7953"
             ],
             [
              0.7777777777777778,
              "#fb9f3a"
             ],
             [
              0.8888888888888888,
              "#fdca26"
             ],
             [
              1,
              "#f0f921"
             ]
            ],
            "type": "histogram2d"
           }
          ],
          "histogram2dcontour": [
           {
            "colorbar": {
             "outlinewidth": 0,
             "ticks": ""
            },
            "colorscale": [
             [
              0,
              "#0d0887"
             ],
             [
              0.1111111111111111,
              "#46039f"
             ],
             [
              0.2222222222222222,
              "#7201a8"
             ],
             [
              0.3333333333333333,
              "#9c179e"
             ],
             [
              0.4444444444444444,
              "#bd3786"
             ],
             [
              0.5555555555555556,
              "#d8576b"
             ],
             [
              0.6666666666666666,
              "#ed7953"
             ],
             [
              0.7777777777777778,
              "#fb9f3a"
             ],
             [
              0.8888888888888888,
              "#fdca26"
             ],
             [
              1,
              "#f0f921"
             ]
            ],
            "type": "histogram2dcontour"
           }
          ],
          "mesh3d": [
           {
            "colorbar": {
             "outlinewidth": 0,
             "ticks": ""
            },
            "type": "mesh3d"
           }
          ],
          "parcoords": [
           {
            "line": {
             "colorbar": {
              "outlinewidth": 0,
              "ticks": ""
             }
            },
            "type": "parcoords"
           }
          ],
          "pie": [
           {
            "automargin": true,
            "type": "pie"
           }
          ],
          "scatter": [
           {
            "fillpattern": {
             "fillmode": "overlay",
             "size": 10,
             "solidity": 0.2
            },
            "type": "scatter"
           }
          ],
          "scatter3d": [
           {
            "line": {
             "colorbar": {
              "outlinewidth": 0,
              "ticks": ""
             }
            },
            "marker": {
             "colorbar": {
              "outlinewidth": 0,
              "ticks": ""
             }
            },
            "type": "scatter3d"
           }
          ],
          "scattercarpet": [
           {
            "marker": {
             "colorbar": {
              "outlinewidth": 0,
              "ticks": ""
             }
            },
            "type": "scattercarpet"
           }
          ],
          "scattergeo": [
           {
            "marker": {
             "colorbar": {
              "outlinewidth": 0,
              "ticks": ""
             }
            },
            "type": "scattergeo"
           }
          ],
          "scattergl": [
           {
            "marker": {
             "colorbar": {
              "outlinewidth": 0,
              "ticks": ""
             }
            },
            "type": "scattergl"
           }
          ],
          "scattermapbox": [
           {
            "marker": {
             "colorbar": {
              "outlinewidth": 0,
              "ticks": ""
             }
            },
            "type": "scattermapbox"
           }
          ],
          "scatterpolar": [
           {
            "marker": {
             "colorbar": {
              "outlinewidth": 0,
              "ticks": ""
             }
            },
            "type": "scatterpolar"
           }
          ],
          "scatterpolargl": [
           {
            "marker": {
             "colorbar": {
              "outlinewidth": 0,
              "ticks": ""
             }
            },
            "type": "scatterpolargl"
           }
          ],
          "scatterternary": [
           {
            "marker": {
             "colorbar": {
              "outlinewidth": 0,
              "ticks": ""
             }
            },
            "type": "scatterternary"
           }
          ],
          "surface": [
           {
            "colorbar": {
             "outlinewidth": 0,
             "ticks": ""
            },
            "colorscale": [
             [
              0,
              "#0d0887"
             ],
             [
              0.1111111111111111,
              "#46039f"
             ],
             [
              0.2222222222222222,
              "#7201a8"
             ],
             [
              0.3333333333333333,
              "#9c179e"
             ],
             [
              0.4444444444444444,
              "#bd3786"
             ],
             [
              0.5555555555555556,
              "#d8576b"
             ],
             [
              0.6666666666666666,
              "#ed7953"
             ],
             [
              0.7777777777777778,
              "#fb9f3a"
             ],
             [
              0.8888888888888888,
              "#fdca26"
             ],
             [
              1,
              "#f0f921"
             ]
            ],
            "type": "surface"
           }
          ],
          "table": [
           {
            "cells": {
             "fill": {
              "color": "#EBF0F8"
             },
             "line": {
              "color": "white"
             }
            },
            "header": {
             "fill": {
              "color": "#C8D4E3"
             },
             "line": {
              "color": "white"
             }
            },
            "type": "table"
           }
          ]
         },
         "layout": {
          "annotationdefaults": {
           "arrowcolor": "#2a3f5f",
           "arrowhead": 0,
           "arrowwidth": 1
          },
          "autotypenumbers": "strict",
          "coloraxis": {
           "colorbar": {
            "outlinewidth": 0,
            "ticks": ""
           }
          },
          "colorscale": {
           "diverging": [
            [
             0,
             "#8e0152"
            ],
            [
             0.1,
             "#c51b7d"
            ],
            [
             0.2,
             "#de77ae"
            ],
            [
             0.3,
             "#f1b6da"
            ],
            [
             0.4,
             "#fde0ef"
            ],
            [
             0.5,
             "#f7f7f7"
            ],
            [
             0.6,
             "#e6f5d0"
            ],
            [
             0.7,
             "#b8e186"
            ],
            [
             0.8,
             "#7fbc41"
            ],
            [
             0.9,
             "#4d9221"
            ],
            [
             1,
             "#276419"
            ]
           ],
           "sequential": [
            [
             0,
             "#0d0887"
            ],
            [
             0.1111111111111111,
             "#46039f"
            ],
            [
             0.2222222222222222,
             "#7201a8"
            ],
            [
             0.3333333333333333,
             "#9c179e"
            ],
            [
             0.4444444444444444,
             "#bd3786"
            ],
            [
             0.5555555555555556,
             "#d8576b"
            ],
            [
             0.6666666666666666,
             "#ed7953"
            ],
            [
             0.7777777777777778,
             "#fb9f3a"
            ],
            [
             0.8888888888888888,
             "#fdca26"
            ],
            [
             1,
             "#f0f921"
            ]
           ],
           "sequentialminus": [
            [
             0,
             "#0d0887"
            ],
            [
             0.1111111111111111,
             "#46039f"
            ],
            [
             0.2222222222222222,
             "#7201a8"
            ],
            [
             0.3333333333333333,
             "#9c179e"
            ],
            [
             0.4444444444444444,
             "#bd3786"
            ],
            [
             0.5555555555555556,
             "#d8576b"
            ],
            [
             0.6666666666666666,
             "#ed7953"
            ],
            [
             0.7777777777777778,
             "#fb9f3a"
            ],
            [
             0.8888888888888888,
             "#fdca26"
            ],
            [
             1,
             "#f0f921"
            ]
           ]
          },
          "colorway": [
           "#636efa",
           "#EF553B",
           "#00cc96",
           "#ab63fa",
           "#FFA15A",
           "#19d3f3",
           "#FF6692",
           "#B6E880",
           "#FF97FF",
           "#FECB52"
          ],
          "font": {
           "color": "#2a3f5f"
          },
          "geo": {
           "bgcolor": "white",
           "lakecolor": "white",
           "landcolor": "#E5ECF6",
           "showlakes": true,
           "showland": true,
           "subunitcolor": "white"
          },
          "hoverlabel": {
           "align": "left"
          },
          "hovermode": "closest",
          "mapbox": {
           "style": "light"
          },
          "paper_bgcolor": "white",
          "plot_bgcolor": "#E5ECF6",
          "polar": {
           "angularaxis": {
            "gridcolor": "white",
            "linecolor": "white",
            "ticks": ""
           },
           "bgcolor": "#E5ECF6",
           "radialaxis": {
            "gridcolor": "white",
            "linecolor": "white",
            "ticks": ""
           }
          },
          "scene": {
           "xaxis": {
            "backgroundcolor": "#E5ECF6",
            "gridcolor": "white",
            "gridwidth": 2,
            "linecolor": "white",
            "showbackground": true,
            "ticks": "",
            "zerolinecolor": "white"
           },
           "yaxis": {
            "backgroundcolor": "#E5ECF6",
            "gridcolor": "white",
            "gridwidth": 2,
            "linecolor": "white",
            "showbackground": true,
            "ticks": "",
            "zerolinecolor": "white"
           },
           "zaxis": {
            "backgroundcolor": "#E5ECF6",
            "gridcolor": "white",
            "gridwidth": 2,
            "linecolor": "white",
            "showbackground": true,
            "ticks": "",
            "zerolinecolor": "white"
           }
          },
          "shapedefaults": {
           "line": {
            "color": "#2a3f5f"
           }
          },
          "ternary": {
           "aaxis": {
            "gridcolor": "white",
            "linecolor": "white",
            "ticks": ""
           },
           "baxis": {
            "gridcolor": "white",
            "linecolor": "white",
            "ticks": ""
           },
           "bgcolor": "#E5ECF6",
           "caxis": {
            "gridcolor": "white",
            "linecolor": "white",
            "ticks": ""
           }
          },
          "title": {
           "x": 0.05
          },
          "xaxis": {
           "automargin": true,
           "gridcolor": "white",
           "linecolor": "white",
           "ticks": "",
           "title": {
            "standoff": 15
           },
           "zerolinecolor": "white",
           "zerolinewidth": 2
          },
          "yaxis": {
           "automargin": true,
           "gridcolor": "white",
           "linecolor": "white",
           "ticks": "",
           "title": {
            "standoff": 15
           },
           "zerolinecolor": "white",
           "zerolinewidth": 2
          }
         }
        },
        "width": 800
       }
      }
     },
     "metadata": {},
     "output_type": "display_data"
    },
    {
     "data": {
      "application/vnd.plotly.v1+json": {
       "config": {
        "plotlyServerURL": "https://plot.ly"
       },
       "data": [
        {
         "marker": {
          "color": 0,
          "opacity": 0.8,
          "size": 10
         },
         "mode": "markers+text",
         "name": "baleine",
         "text": [
          "rorqual",
          "phoque",
          "petit_rorqual",
          "rorqual_commun",
          "cachalot",
          "mégaptère",
          "cétacé",
          "baleine_bleu",
          "baleinier",
          "béluga",
          "baleine_franc",
          "mammifère_marin",
          "baleine_gris",
          "chasse_baleinier",
          "commission_baleinier",
          "requin",
          "cétacés",
          "épaulard",
          "baleineau",
          "steve_irwin",
          "minke",
          "sanctuaire_baleinier",
          "otarie",
          "cachalots",
          "baleinier_japonais",
          "bébé_phoque",
          "nokosa",
          "dauphin",
          "cetace",
          "golfe_saint-laurent",
          "moby_dick",
          "krill",
          "lamantin",
          "flotte_baleinier_japonais",
          "sea_shepherd",
          "ours_polaire",
          "requin_blanc",
          "paul_watson",
          "calmar_géant",
          "requin_marteau",
          "pieuvre_géant",
          "mer_austral",
          "mégaptère_baleine",
          "dugong",
          "requin_baleine",
          "flotte_baleinier",
          "pinnipède",
          "oceanic_viking",
          "oiseau_marin",
          "raie_mantas",
          "baleine"
         ],
         "textfont": {
          "size": 10
         },
         "textposition": "top center",
         "type": "scatter",
         "x": [
          4.498912334442139,
          4.345391273498535,
          3.833235740661621,
          4.564210891723633,
          4.588927268981934,
          3.968196153640747,
          4.883843421936035,
          4.271672248840332,
          3.5909409523010254,
          4.184232234954834,
          3.56540846824646,
          4.805852890014648,
          3.5158815383911133,
          3.130452871322632,
          3.053144931793213,
          4.186062335968018,
          4.457121849060059,
          4.149667739868164,
          3.6712629795074463,
          3.144784927368164,
          3.1751842498779297,
          3.067791223526001,
          4.279719829559326,
          2.8304011821746826,
          3.265709161758423,
          3.5781350135803223,
          3.719458818435669,
          4.351073741912842,
          2.8683536052703857,
          3.322690010070801,
          3.2125356197357178,
          5.026706695556641,
          3.921419858932495,
          3.0093648433685303,
          3.4462575912475586,
          3.927152156829834,
          4.402266979217529,
          3.0035083293914795,
          3.74767804145813,
          4.42572021484375,
          3.30495285987854,
          3.323279619216919,
          2.8598949909210205,
          3.7782578468322754,
          4.251699447631836,
          2.851668119430542,
          4.139393329620361,
          2.9262125492095947,
          4.785828113555908,
          3.504847764968872,
          4.564845561981201
         ],
         "y": [
          9.043042182922363,
          9.26170539855957,
          9.430508613586426,
          8.69909381866455,
          8.721012115478516,
          9.079155921936035,
          8.823317527770996,
          8.953425407409668,
          9.505468368530273,
          9.172137260437012,
          8.719886779785156,
          8.786883354187012,
          9.251126289367676,
          9.367803573608398,
          9.060700416564941,
          7.927877426147461,
          8.573451042175293,
          8.98316478729248,
          8.82332992553711,
          9.753891944885254,
          9.012551307678223,
          9.476611137390137,
          8.255473136901855,
          8.828815460205078,
          9.714855194091797,
          9.308514595031738,
          8.991362571716309,
          8.290319442749023,
          8.944862365722656,
          8.770472526550293,
          8.681304931640625,
          7.971628189086914,
          8.290021896362305,
          9.64531421661377,
          9.818649291992188,
          9.175086975097656,
          8.072084426879883,
          9.4401273727417,
          8.446301460266113,
          7.970052719116211,
          8.306361198425293,
          8.86709213256836,
          8.556262969970703,
          8.340993881225586,
          7.935858249664307,
          9.594847679138184,
          8.517534255981445,
          9.478852272033691,
          8.602646827697754,
          8.22718620300293,
          9.180094718933105
         ]
        },
        {
         "marker": {
          "color": 1,
          "opacity": 0.8,
          "size": 10
         },
         "mode": "markers+text",
         "name": "poisson",
         "text": [
          "pêcher",
          "poisson-chat",
          "parfait_imbécile_heureux",
          "chinchard",
          "fraie",
          "poisson_pêcher",
          "poisson_carnivore",
          "poisson_pélagique",
          "crustacé",
          "omble",
          "tilapia",
          "saumon_truite",
          "poisson_prédateur",
          "vairon",
          "bonite",
          "omble_chevalier",
          "nageoire",
          "dorade_royal",
          "alevin",
          "carangue",
          "dorade_coryphèn",
          "baudroie",
          "rascasse",
          "tacaud",
          "truite",
          "thon_albacore",
          "éperlan",
          "truite_arc-en-ciel",
          "cyprinidé",
          "corégone",
          "crevette",
          "chevesne",
          "serran",
          "koï",
          "sardine_maquereau",
          "animal_aquatique",
          "barbillon",
          "carassin",
          "poisson_tropical",
          "vivaneal",
          "thazard",
          "dorade",
          "krill",
          "proie_vivant",
          "hotu",
          "poisson_carnassier",
          "poissonneux",
          "salmonidé",
          "vessie_natatoire",
          "flétan",
          "poisson"
         ],
         "textfont": {
          "size": 10
         },
         "textposition": "top center",
         "type": "scatter",
         "x": [
          4.210599899291992,
          4.390575885772705,
          3.220742702484131,
          4.79185676574707,
          3.921178102493286,
          4.560791969299316,
          4.013499736785889,
          5.101823329925537,
          4.9157795906066895,
          4.021457672119141,
          4.316682815551758,
          4.212532997131348,
          4.4043755531311035,
          3.935119390487671,
          5.034957408905029,
          4.237460613250732,
          4.388144016265869,
          3.7685060501098633,
          4.298234462738037,
          4.440037727355957,
          4.623310565948486,
          5.083522796630859,
          5.003267288208008,
          3.9594104290008545,
          4.5103373527526855,
          4.9835686683654785,
          3.6992244720458984,
          4.55412483215332,
          4.11686372756958,
          4.3073835372924805,
          4.9330315589904785,
          3.823843479156494,
          3.6201157569885254,
          3.5487964153289795,
          3.1827902793884277,
          4.09160041809082,
          4.012354850769043,
          3.7908592224121094,
          3.928539991378784,
          3.2510554790496826,
          3.3586034774780273,
          5.173589706420898,
          5.028426647186279,
          4.317093849182129,
          3.7152576446533203,
          3.4565656185150146,
          4.275941371917725,
          4.275570392608643,
          3.6346139907836914,
          4.969324111938477,
          4.758992671966553
         ],
         "y": [
          6.2959885597229,
          7.049620151519775,
          7.478142738342285,
          7.298770904541016,
          6.652806282043457,
          7.252172946929932,
          7.426441669464111,
          7.471959114074707,
          7.101183891296387,
          6.529615879058838,
          7.412666320800781,
          6.893925189971924,
          7.58731746673584,
          6.442976474761963,
          7.366675853729248,
          6.632716178894043,
          7.08394193649292,
          7.064295291900635,
          6.420548439025879,
          7.841403961181641,
          7.1854658126831055,
          6.979161262512207,
          7.061996936798096,
          7.42049503326416,
          6.376272201538086,
          7.526289463043213,
          7.264758110046387,
          6.562070369720459,
          6.4496636390686035,
          6.308925628662109,
          7.2155866622924805,
          6.459768295288086,
          7.596975803375244,
          7.134591102600098,
          7.3568549156188965,
          7.905994892120361,
          7.090727806091309,
          7.026496410369873,
          7.690485954284668,
          7.4646477699279785,
          7.396383762359619,
          6.869295597076416,
          7.821096897125244,
          7.544952869415283,
          6.662299633026123,
          6.820855140686035,
          6.844488620758057,
          6.205027103424072,
          7.2878499031066895,
          6.871541976928711,
          6.714746952056885
         ]
        },
        {
         "marker": {
          "color": 2,
          "opacity": 0.8,
          "size": 10
         },
         "mode": "markers+text",
         "name": "lion",
         "text": [
          "attaque_shinji_takahashi_genin",
          "bunke_pv_chakra_atk",
          "richard_csur",
          "lionceau",
          "suukou_byakugan_multiplicateur",
          "def_vivre_tsuji",
          "tigre",
          "françois_grether_yves",
          "combat_pv_chakra",
          "androclès",
          "sullias",
          "léopard",
          "rdv_anpe_rue",
          "armoire_magique",
          "aigle",
          "hyène",
          "lions",
          "mouton_ben_gourion",
          "sandro_esperanto",
          "chrimogen_promotion_citoyen",
          "epopée_européenne",
          "antilope",
          "eléphants",
          "dompteur",
          "narnia_chapitre",
          "éléphant",
          "rosenau_innovation_avec",
          "rugissement",
          "bélier_ascendant",
          "lion_rugir",
          "hyènes",
          "lion_affamer",
          "oryx",
          "web_association_maili",
          "congrès_atria",
          "animal_fétiche",
          "fauves",
          "rugir",
          "troyes_yvain",
          "tisa_terre",
          "alain_ruscio_affaire_redeker",
          "tigresse",
          "éléphant_girafe",
          "gueules_brocher",
          "dragon",
          "crocodile",
          "bête_sauvage",
          "serpent",
          "belier",
          "membré",
          "lion"
         ],
         "textfont": {
          "size": 10
         },
         "textposition": "top center",
         "type": "scatter",
         "x": [
          1.4134312868118286,
          1.6602426767349243,
          1.3280917406082153,
          1.72223961353302,
          1.7260581254959106,
          1.6077423095703125,
          2.4202685356140137,
          1.090035080909729,
          1.36099112033844,
          1.2595739364624023,
          1.3505231142044067,
          2.749281167984009,
          1.0802713632583618,
          1.6867495775222778,
          2.249675750732422,
          2.575235605239868,
          1.9059923887252808,
          1.2400381565093994,
          1.4984757900238037,
          1.3002592325210571,
          1.5205762386322021,
          2.9508228302001953,
          2.116290807723999,
          2.2309231758117676,
          1.8424795866012573,
          2.5709307193756104,
          1.2108300924301147,
          2.131891965866089,
          1.6259204149246216,
          2.1052017211914062,
          1.9372977018356323,
          2.342237949371338,
          2.710923194885254,
          1.8828710317611694,
          1.2354607582092285,
          2.3204991817474365,
          2.178436040878296,
          2.180039167404175,
          1.5205994844436646,
          1.897416353225708,
          1.3035101890563965,
          2.333507776260376,
          2.2494306564331055,
          1.5774366855621338,
          1.9881826639175415,
          3.541604995727539,
          2.001866102218628,
          3.0927438735961914,
          1.7362921237945557,
          1.9165077209472656,
          1.7370802164077759
         ],
         "y": [
          9.133793830871582,
          8.807853698730469,
          8.587432861328125,
          8.224874496459961,
          9.399017333984375,
          9.279699325561523,
          8.406256675720215,
          9.16558837890625,
          9.046733856201172,
          9.337762832641602,
          9.07950496673584,
          8.125810623168945,
          8.68239688873291,
          7.756811141967773,
          8.366291046142578,
          8.018259048461914,
          8.515257835388184,
          8.902499198913574,
          9.143153190612793,
          8.153820991516113,
          8.607725143432617,
          7.893360614776611,
          8.47107982635498,
          8.768184661865234,
          7.801695823669434,
          7.870997905731201,
          8.245274543762207,
          9.203426361083984,
          9.30856704711914,
          8.691535949707031,
          8.957806587219238,
          9.012791633605957,
          7.9751996994018555,
          8.900413513183594,
          8.626213073730469,
          8.891444206237793,
          8.318573951721191,
          9.201956748962402,
          8.575654029846191,
          8.606682777404785,
          8.732789039611816,
          8.830798149108887,
          7.837251663208008,
          8.87468147277832,
          7.736346244812012,
          7.988544940948486,
          8.53303050994873,
          8.141398429870605,
          9.180702209472656,
          8.31979751586914,
          7.912087440490723
         ]
        },
        {
         "marker": {
          "color": 3,
          "opacity": 0.8,
          "size": 10
         },
         "mode": "markers+text",
         "name": "festival",
         "text": [
          "festival_international",
          "festival_itinérant",
          "festival_off",
          "festivals",
          "festivalier",
          "vieille_charrues",
          "festival_jazz",
          "jazz_festival",
          "francofolies",
          "concert",
          "festival_internationnal",
          "programmation_éclectique",
          "tremplin_musical",
          "dixième_édition",
          "francofffonies",
          "ciné-concert",
          "festival_estival",
          "picardie_mouv",
          "festi",
          "sixième_édition",
          "espace_miramar",
          "long_métrage_fiction",
          "onzième_édition",
          "musicalarue",
          "vieilles_charrues",
          "saint-chartier",
          "mimos",
          "transmusicale",
          "festiv",
          "festival_oenovidéo",
          "ososphère",
          "estivales",
          "court_métrage",
          "biennale",
          "courts-métrage",
          "eurockéennes",
          "nuits_vertes",
          "jeunes_talents",
          "cinémas",
          "centre_wallonie-bruxelles",
          "spectacle",
          "sous_chapiteau",
          "calvi_jazz",
          "francofolie",
          "avignon_off",
          "francofffonie",
          "cinéville",
          "jeunes_talent",
          "transmusicales",
          "manifestation_culturel",
          "festival"
         ],
         "textfont": {
          "size": 10
         },
         "textposition": "top center",
         "type": "scatter",
         "x": [
          0.06115947663784027,
          -0.2828221321105957,
          -0.09346464276313782,
          -0.31405773758888245,
          -0.5640630722045898,
          -0.7409651279449463,
          -0.5281870365142822,
          -0.588721513748169,
          -0.5124989151954651,
          -0.30181264877319336,
          0.4969261884689331,
          -0.342824786901474,
          -0.1320817768573761,
          0.1966225951910019,
          -0.026203928515315056,
          0.361491858959198,
          -0.49137669801712036,
          0.09372285008430481,
          0.11637777090072632,
          0.20111744105815887,
          -0.11097204685211182,
          0.5232573747634888,
          0.2965395450592041,
          0.30804041028022766,
          -0.489208459854126,
          -0.06426899135112762,
          -0.03757457435131073,
          -0.7081633806228638,
          -0.021416110917925835,
          0.42666497826576233,
          -0.2667381167411804,
          0.11033741384744644,
          0.885552704334259,
          -0.0468037873506546,
          0.8358985185623169,
          -0.49605792760849,
          -0.3608512878417969,
          0.37171801924705505,
          0.4772063195705414,
          0.18272773921489716,
          0.2574036717414856,
          0.14981843531131744,
          0.5971757173538208,
          -0.2757040858268738,
          0.1606142818927765,
          0.4038955569267273,
          0.5769899487495422,
          0.5659734010696411,
          -0.7522743940353394,
          -0.390210896730423,
          -0.191952183842659
         ],
         "y": [
          7.665552616119385,
          7.76439094543457,
          8.349886894226074,
          7.926506996154785,
          7.936779975891113,
          8.161311149597168,
          7.466702461242676,
          7.528013706207275,
          8.258537292480469,
          7.41619873046875,
          8.364916801452637,
          7.365682601928711,
          7.891606330871582,
          8.43095874786377,
          8.98133373260498,
          7.668762683868408,
          7.707620620727539,
          8.167264938354492,
          7.6781392097473145,
          8.416581153869629,
          8.124113082885742,
          8.652907371520996,
          8.482815742492676,
          7.9093708992004395,
          8.657392501831055,
          8.142273902893066,
          8.59650993347168,
          8.111108779907227,
          7.87443733215332,
          8.878239631652832,
          8.76590347290039,
          7.368022918701172,
          7.695716857910156,
          8.537903785705566,
          7.653806686401367,
          8.43420124053955,
          8.3309907913208,
          8.37027645111084,
          8.003652572631836,
          8.884926795959473,
          7.240897178649902,
          7.209784030914307,
          8.76628303527832,
          8.255364418029785,
          8.885369300842285,
          8.705735206604004,
          7.976704120635986,
          8.353263854980469,
          8.196277618408203,
          7.463274002075195,
          7.713327884674072
         ]
        }
       ],
       "layout": {
        "font": {
         "family": "Arial",
         "size": 10
        },
        "height": 600,
        "legend": {
         "font": {
          "color": "black"
         },
         "x": 1,
         "y": 0.5
        },
        "margin": {
         "b": 0,
         "l": 0,
         "r": 0,
         "t": 0
        },
        "showlegend": true,
        "template": {
         "data": {
          "bar": [
           {
            "error_x": {
             "color": "#2a3f5f"
            },
            "error_y": {
             "color": "#2a3f5f"
            },
            "marker": {
             "line": {
              "color": "#E5ECF6",
              "width": 0.5
             },
             "pattern": {
              "fillmode": "overlay",
              "size": 10,
              "solidity": 0.2
             }
            },
            "type": "bar"
           }
          ],
          "barpolar": [
           {
            "marker": {
             "line": {
              "color": "#E5ECF6",
              "width": 0.5
             },
             "pattern": {
              "fillmode": "overlay",
              "size": 10,
              "solidity": 0.2
             }
            },
            "type": "barpolar"
           }
          ],
          "carpet": [
           {
            "aaxis": {
             "endlinecolor": "#2a3f5f",
             "gridcolor": "white",
             "linecolor": "white",
             "minorgridcolor": "white",
             "startlinecolor": "#2a3f5f"
            },
            "baxis": {
             "endlinecolor": "#2a3f5f",
             "gridcolor": "white",
             "linecolor": "white",
             "minorgridcolor": "white",
             "startlinecolor": "#2a3f5f"
            },
            "type": "carpet"
           }
          ],
          "choropleth": [
           {
            "colorbar": {
             "outlinewidth": 0,
             "ticks": ""
            },
            "type": "choropleth"
           }
          ],
          "contour": [
           {
            "colorbar": {
             "outlinewidth": 0,
             "ticks": ""
            },
            "colorscale": [
             [
              0,
              "#0d0887"
             ],
             [
              0.1111111111111111,
              "#46039f"
             ],
             [
              0.2222222222222222,
              "#7201a8"
             ],
             [
              0.3333333333333333,
              "#9c179e"
             ],
             [
              0.4444444444444444,
              "#bd3786"
             ],
             [
              0.5555555555555556,
              "#d8576b"
             ],
             [
              0.6666666666666666,
              "#ed7953"
             ],
             [
              0.7777777777777778,
              "#fb9f3a"
             ],
             [
              0.8888888888888888,
              "#fdca26"
             ],
             [
              1,
              "#f0f921"
             ]
            ],
            "type": "contour"
           }
          ],
          "contourcarpet": [
           {
            "colorbar": {
             "outlinewidth": 0,
             "ticks": ""
            },
            "type": "contourcarpet"
           }
          ],
          "heatmap": [
           {
            "colorbar": {
             "outlinewidth": 0,
             "ticks": ""
            },
            "colorscale": [
             [
              0,
              "#0d0887"
             ],
             [
              0.1111111111111111,
              "#46039f"
             ],
             [
              0.2222222222222222,
              "#7201a8"
             ],
             [
              0.3333333333333333,
              "#9c179e"
             ],
             [
              0.4444444444444444,
              "#bd3786"
             ],
             [
              0.5555555555555556,
              "#d8576b"
             ],
             [
              0.6666666666666666,
              "#ed7953"
             ],
             [
              0.7777777777777778,
              "#fb9f3a"
             ],
             [
              0.8888888888888888,
              "#fdca26"
             ],
             [
              1,
              "#f0f921"
             ]
            ],
            "type": "heatmap"
           }
          ],
          "heatmapgl": [
           {
            "colorbar": {
             "outlinewidth": 0,
             "ticks": ""
            },
            "colorscale": [
             [
              0,
              "#0d0887"
             ],
             [
              0.1111111111111111,
              "#46039f"
             ],
             [
              0.2222222222222222,
              "#7201a8"
             ],
             [
              0.3333333333333333,
              "#9c179e"
             ],
             [
              0.4444444444444444,
              "#bd3786"
             ],
             [
              0.5555555555555556,
              "#d8576b"
             ],
             [
              0.6666666666666666,
              "#ed7953"
             ],
             [
              0.7777777777777778,
              "#fb9f3a"
             ],
             [
              0.8888888888888888,
              "#fdca26"
             ],
             [
              1,
              "#f0f921"
             ]
            ],
            "type": "heatmapgl"
           }
          ],
          "histogram": [
           {
            "marker": {
             "pattern": {
              "fillmode": "overlay",
              "size": 10,
              "solidity": 0.2
             }
            },
            "type": "histogram"
           }
          ],
          "histogram2d": [
           {
            "colorbar": {
             "outlinewidth": 0,
             "ticks": ""
            },
            "colorscale": [
             [
              0,
              "#0d0887"
             ],
             [
              0.1111111111111111,
              "#46039f"
             ],
             [
              0.2222222222222222,
              "#7201a8"
             ],
             [
              0.3333333333333333,
              "#9c179e"
             ],
             [
              0.4444444444444444,
              "#bd3786"
             ],
             [
              0.5555555555555556,
              "#d8576b"
             ],
             [
              0.6666666666666666,
              "#ed7953"
             ],
             [
              0.7777777777777778,
              "#fb9f3a"
             ],
             [
              0.8888888888888888,
              "#fdca26"
             ],
             [
              1,
              "#f0f921"
             ]
            ],
            "type": "histogram2d"
           }
          ],
          "histogram2dcontour": [
           {
            "colorbar": {
             "outlinewidth": 0,
             "ticks": ""
            },
            "colorscale": [
             [
              0,
              "#0d0887"
             ],
             [
              0.1111111111111111,
              "#46039f"
             ],
             [
              0.2222222222222222,
              "#7201a8"
             ],
             [
              0.3333333333333333,
              "#9c179e"
             ],
             [
              0.4444444444444444,
              "#bd3786"
             ],
             [
              0.5555555555555556,
              "#d8576b"
             ],
             [
              0.6666666666666666,
              "#ed7953"
             ],
             [
              0.7777777777777778,
              "#fb9f3a"
             ],
             [
              0.8888888888888888,
              "#fdca26"
             ],
             [
              1,
              "#f0f921"
             ]
            ],
            "type": "histogram2dcontour"
           }
          ],
          "mesh3d": [
           {
            "colorbar": {
             "outlinewidth": 0,
             "ticks": ""
            },
            "type": "mesh3d"
           }
          ],
          "parcoords": [
           {
            "line": {
             "colorbar": {
              "outlinewidth": 0,
              "ticks": ""
             }
            },
            "type": "parcoords"
           }
          ],
          "pie": [
           {
            "automargin": true,
            "type": "pie"
           }
          ],
          "scatter": [
           {
            "fillpattern": {
             "fillmode": "overlay",
             "size": 10,
             "solidity": 0.2
            },
            "type": "scatter"
           }
          ],
          "scatter3d": [
           {
            "line": {
             "colorbar": {
              "outlinewidth": 0,
              "ticks": ""
             }
            },
            "marker": {
             "colorbar": {
              "outlinewidth": 0,
              "ticks": ""
             }
            },
            "type": "scatter3d"
           }
          ],
          "scattercarpet": [
           {
            "marker": {
             "colorbar": {
              "outlinewidth": 0,
              "ticks": ""
             }
            },
            "type": "scattercarpet"
           }
          ],
          "scattergeo": [
           {
            "marker": {
             "colorbar": {
              "outlinewidth": 0,
              "ticks": ""
             }
            },
            "type": "scattergeo"
           }
          ],
          "scattergl": [
           {
            "marker": {
             "colorbar": {
              "outlinewidth": 0,
              "ticks": ""
             }
            },
            "type": "scattergl"
           }
          ],
          "scattermapbox": [
           {
            "marker": {
             "colorbar": {
              "outlinewidth": 0,
              "ticks": ""
             }
            },
            "type": "scattermapbox"
           }
          ],
          "scatterpolar": [
           {
            "marker": {
             "colorbar": {
              "outlinewidth": 0,
              "ticks": ""
             }
            },
            "type": "scatterpolar"
           }
          ],
          "scatterpolargl": [
           {
            "marker": {
             "colorbar": {
              "outlinewidth": 0,
              "ticks": ""
             }
            },
            "type": "scatterpolargl"
           }
          ],
          "scatterternary": [
           {
            "marker": {
             "colorbar": {
              "outlinewidth": 0,
              "ticks": ""
             }
            },
            "type": "scatterternary"
           }
          ],
          "surface": [
           {
            "colorbar": {
             "outlinewidth": 0,
             "ticks": ""
            },
            "colorscale": [
             [
              0,
              "#0d0887"
             ],
             [
              0.1111111111111111,
              "#46039f"
             ],
             [
              0.2222222222222222,
              "#7201a8"
             ],
             [
              0.3333333333333333,
              "#9c179e"
             ],
             [
              0.4444444444444444,
              "#bd3786"
             ],
             [
              0.5555555555555556,
              "#d8576b"
             ],
             [
              0.6666666666666666,
              "#ed7953"
             ],
             [
              0.7777777777777778,
              "#fb9f3a"
             ],
             [
              0.8888888888888888,
              "#fdca26"
             ],
             [
              1,
              "#f0f921"
             ]
            ],
            "type": "surface"
           }
          ],
          "table": [
           {
            "cells": {
             "fill": {
              "color": "#EBF0F8"
             },
             "line": {
              "color": "white"
             }
            },
            "header": {
             "fill": {
              "color": "#C8D4E3"
             },
             "line": {
              "color": "white"
             }
            },
            "type": "table"
           }
          ]
         },
         "layout": {
          "annotationdefaults": {
           "arrowcolor": "#2a3f5f",
           "arrowhead": 0,
           "arrowwidth": 1
          },
          "autotypenumbers": "strict",
          "coloraxis": {
           "colorbar": {
            "outlinewidth": 0,
            "ticks": ""
           }
          },
          "colorscale": {
           "diverging": [
            [
             0,
             "#8e0152"
            ],
            [
             0.1,
             "#c51b7d"
            ],
            [
             0.2,
             "#de77ae"
            ],
            [
             0.3,
             "#f1b6da"
            ],
            [
             0.4,
             "#fde0ef"
            ],
            [
             0.5,
             "#f7f7f7"
            ],
            [
             0.6,
             "#e6f5d0"
            ],
            [
             0.7,
             "#b8e186"
            ],
            [
             0.8,
             "#7fbc41"
            ],
            [
             0.9,
             "#4d9221"
            ],
            [
             1,
             "#276419"
            ]
           ],
           "sequential": [
            [
             0,
             "#0d0887"
            ],
            [
             0.1111111111111111,
             "#46039f"
            ],
            [
             0.2222222222222222,
             "#7201a8"
            ],
            [
             0.3333333333333333,
             "#9c179e"
            ],
            [
             0.4444444444444444,
             "#bd3786"
            ],
            [
             0.5555555555555556,
             "#d8576b"
            ],
            [
             0.6666666666666666,
             "#ed7953"
            ],
            [
             0.7777777777777778,
             "#fb9f3a"
            ],
            [
             0.8888888888888888,
             "#fdca26"
            ],
            [
             1,
             "#f0f921"
            ]
           ],
           "sequentialminus": [
            [
             0,
             "#0d0887"
            ],
            [
             0.1111111111111111,
             "#46039f"
            ],
            [
             0.2222222222222222,
             "#7201a8"
            ],
            [
             0.3333333333333333,
             "#9c179e"
            ],
            [
             0.4444444444444444,
             "#bd3786"
            ],
            [
             0.5555555555555556,
             "#d8576b"
            ],
            [
             0.6666666666666666,
             "#ed7953"
            ],
            [
             0.7777777777777778,
             "#fb9f3a"
            ],
            [
             0.8888888888888888,
             "#fdca26"
            ],
            [
             1,
             "#f0f921"
            ]
           ]
          },
          "colorway": [
           "#636efa",
           "#EF553B",
           "#00cc96",
           "#ab63fa",
           "#FFA15A",
           "#19d3f3",
           "#FF6692",
           "#B6E880",
           "#FF97FF",
           "#FECB52"
          ],
          "font": {
           "color": "#2a3f5f"
          },
          "geo": {
           "bgcolor": "white",
           "lakecolor": "white",
           "landcolor": "#E5ECF6",
           "showlakes": true,
           "showland": true,
           "subunitcolor": "white"
          },
          "hoverlabel": {
           "align": "left"
          },
          "hovermode": "closest",
          "mapbox": {
           "style": "light"
          },
          "paper_bgcolor": "white",
          "plot_bgcolor": "#E5ECF6",
          "polar": {
           "angularaxis": {
            "gridcolor": "white",
            "linecolor": "white",
            "ticks": ""
           },
           "bgcolor": "#E5ECF6",
           "radialaxis": {
            "gridcolor": "white",
            "linecolor": "white",
            "ticks": ""
           }
          },
          "scene": {
           "xaxis": {
            "backgroundcolor": "#E5ECF6",
            "gridcolor": "white",
            "gridwidth": 2,
            "linecolor": "white",
            "showbackground": true,
            "ticks": "",
            "zerolinecolor": "white"
           },
           "yaxis": {
            "backgroundcolor": "#E5ECF6",
            "gridcolor": "white",
            "gridwidth": 2,
            "linecolor": "white",
            "showbackground": true,
            "ticks": "",
            "zerolinecolor": "white"
           },
           "zaxis": {
            "backgroundcolor": "#E5ECF6",
            "gridcolor": "white",
            "gridwidth": 2,
            "linecolor": "white",
            "showbackground": true,
            "ticks": "",
            "zerolinecolor": "white"
           }
          },
          "shapedefaults": {
           "line": {
            "color": "#2a3f5f"
           }
          },
          "ternary": {
           "aaxis": {
            "gridcolor": "white",
            "linecolor": "white",
            "ticks": ""
           },
           "baxis": {
            "gridcolor": "white",
            "linecolor": "white",
            "ticks": ""
           },
           "bgcolor": "#E5ECF6",
           "caxis": {
            "gridcolor": "white",
            "linecolor": "white",
            "ticks": ""
           }
          },
          "title": {
           "x": 0.05
          },
          "xaxis": {
           "automargin": true,
           "gridcolor": "white",
           "linecolor": "white",
           "ticks": "",
           "title": {
            "standoff": 15
           },
           "zerolinecolor": "white",
           "zerolinewidth": 2
          },
          "yaxis": {
           "automargin": true,
           "gridcolor": "white",
           "linecolor": "white",
           "ticks": "",
           "title": {
            "standoff": 15
           },
           "zerolinecolor": "white",
           "zerolinewidth": 2
          }
         }
        },
        "width": 800
       }
      }
     },
     "metadata": {},
     "output_type": "display_data"
    }
   ],
   "source": [
    "# Question 4b\n",
    "neigb_count = int(len(word_list) * topn / 3) # bon estimateur pour choisir le paramètre n_neighbors\n",
    "display_dimred_neighbors(model, word_list, n_components=2, topn=topn, method='isomap', n_neighbors=neigb_count)\n",
    "display_dimred_neighbors(model, word_list, n_components=2, topn=topn, method='tsne', n_neighbors=neigb_count)\n",
    "display_dimred_neighbors(model, word_list, n_components=2, topn=topn, method='umap', n_neighbors=neigb_count)"
   ]
  },
  {
   "cell_type": "markdown",
   "id": "40786364",
   "metadata": {},
   "source": [
    "Oui, ces 3 méthodes permettent une meilleur visualisation des mots (surtout tSNE et UMAP). Pour obtenir de bons résultats, il est important de choisir de bons paramètres. Une valeur `n_neighbors` égale à ~1/3 de la taille du groupe nous a donné de bons résultats."
   ]
  },
  {
   "cell_type": "code",
   "execution_count": 150,
   "id": "ff07e3ab",
   "metadata": {},
   "outputs": [
    {
     "data": {
      "application/vnd.plotly.v1+json": {
       "config": {
        "plotlyServerURL": "https://plot.ly"
       },
       "data": [
        {
         "marker": {
          "color": 0,
          "opacity": 0.8,
          "size": 10
         },
         "mode": "markers+text",
         "name": "baleine",
         "text": [
          "rorqual",
          "phoque",
          "petit_rorqual",
          "rorqual_commun",
          "cachalot",
          "mégaptère",
          "cétacé",
          "baleine_bleu",
          "baleinier",
          "béluga",
          "baleine_franc",
          "mammifère_marin",
          "baleine_gris",
          "chasse_baleinier",
          "commission_baleinier",
          "requin",
          "cétacés",
          "épaulard",
          "baleineau",
          "steve_irwin",
          "minke",
          "sanctuaire_baleinier",
          "otarie",
          "cachalots",
          "baleinier_japonais",
          "bébé_phoque",
          "nokosa",
          "dauphin",
          "cetace",
          "golfe_saint-laurent",
          "moby_dick",
          "krill",
          "lamantin",
          "flotte_baleinier_japonais",
          "sea_shepherd",
          "ours_polaire",
          "requin_blanc",
          "paul_watson",
          "calmar_géant",
          "requin_marteau",
          "pieuvre_géant",
          "mer_austral",
          "mégaptère_baleine",
          "dugong",
          "requin_baleine",
          "flotte_baleinier",
          "pinnipède",
          "oceanic_viking",
          "oiseau_marin",
          "raie_mantas",
          "baleine"
         ],
         "textfont": {
          "size": 10
         },
         "textposition": "top center",
         "type": "scatter",
         "x": [
          -18.43275260925293,
          -24.642780303955078,
          -7.902894496917725,
          -15.042887687683105,
          -22.344024658203125,
          -4.74385929107666,
          -25.10150146484375,
          -19.477458953857422,
          -21.285110473632812,
          -17.081987380981445,
          -1.6706916093826294,
          -22.72088050842285,
          -1.0962527990341187,
          -2.6882848739624023,
          -1.4420307874679565,
          -13.591791152954102,
          -12.437336921691895,
          -2.528010129928589,
          -0.8833855986595154,
          -4.5556159019470215,
          -2.123903274536133,
          -1.9130948781967163,
          -22.008625030517578,
          -0.1669790893793106,
          -3.4341845512390137,
          -7.967434406280518,
          -2.2147343158721924,
          -22.840900421142578,
          0.08449932932853699,
          -0.6469955444335938,
          -6.6167893409729,
          -8.599434852600098,
          -15.965184211730957,
          -2.6498050689697266,
          -6.2015485763549805,
          -14.51325511932373,
          -12.514596939086914,
          -2.7905113697052,
          -3.590658664703369,
          -5.861057281494141,
          -4.125923156738281,
          -0.9037734270095825,
          0.5796433091163635,
          -6.912947177886963,
          -7.629746913909912,
          -0.7050601840019226,
          -3.4843859672546387,
          -0.9978041648864746,
          -22.234764099121094,
          -2.9856417179107666,
          -30.911052703857422
         ],
         "y": [
          19.64728546142578,
          31.608543395996094,
          13.500835418701172,
          23.051864624023438,
          17.705242156982422,
          6.622776985168457,
          35.620452880859375,
          15.509013175964355,
          31.512248992919922,
          24.087862014770508,
          2.942667007446289,
          17.244863510131836,
          2.747966766357422,
          5.680666446685791,
          3.4432971477508545,
          0.47151777148246765,
          8.862580299377441,
          2.7286250591278076,
          1.4843220710754395,
          6.679642677307129,
          5.128921031951904,
          6.304862976074219,
          19.559566497802734,
          2.058788776397705,
          8.438652038574219,
          12.672272682189941,
          2.775254726409912,
          20.488231658935547,
          2.9173829555511475,
          1.7564740180969238,
          -4.769218444824219,
          -14.722715377807617,
          10.937914848327637,
          4.968997001647949,
          11.912769317626953,
          21.83649253845215,
          1.4190832376480103,
          4.787807464599609,
          0.5557523369789124,
          0.3445127606391907,
          -3.1028530597686768,
          1.9490023851394653,
          2.7767932415008545,
          3.0213663578033447,
          1.63181734085083,
          2.0024337768554688,
          6.064340114593506,
          2.6710262298583984,
          17.308218002319336,
          0.15631721913814545,
          32.53998947143555
         ]
        },
        {
         "marker": {
          "color": 1,
          "opacity": 0.8,
          "size": 10
         },
         "mode": "markers+text",
         "name": "poisson",
         "text": [
          "pêcher",
          "poisson-chat",
          "parfait_imbécile_heureux",
          "chinchard",
          "fraie",
          "poisson_pêcher",
          "poisson_carnivore",
          "poisson_pélagique",
          "crustacé",
          "omble",
          "tilapia",
          "saumon_truite",
          "poisson_prédateur",
          "vairon",
          "bonite",
          "omble_chevalier",
          "nageoire",
          "dorade_royal",
          "alevin",
          "carangue",
          "dorade_coryphèn",
          "baudroie",
          "rascasse",
          "tacaud",
          "truite",
          "thon_albacore",
          "éperlan",
          "truite_arc-en-ciel",
          "cyprinidé",
          "corégone",
          "crevette",
          "chevesne",
          "serran",
          "koï",
          "sardine_maquereau",
          "animal_aquatique",
          "barbillon",
          "carassin",
          "poisson_tropical",
          "vivaneal",
          "thazard",
          "dorade",
          "krill",
          "proie_vivant",
          "hotu",
          "poisson_carnassier",
          "poissonneux",
          "salmonidé",
          "vessie_natatoire",
          "flétan",
          "poisson"
         ],
         "textfont": {
          "size": 10
         },
         "textposition": "top center",
         "type": "scatter",
         "x": [
          -16.388845443725586,
          -6.777801990509033,
          -1.9808911085128784,
          -8.027242660522461,
          -6.0499467849731445,
          -6.753416538238525,
          -3.227928638458252,
          -10.359553337097168,
          -14.631548881530762,
          -9.663156509399414,
          -6.018348693847656,
          -4.039392948150635,
          -3.171192169189453,
          -9.226336479187012,
          -10.849090576171875,
          -6.5013275146484375,
          -6.885235786437988,
          -4.826879501342773,
          -12.268269538879395,
          -11.120182037353516,
          -5.201307773590088,
          -7.891895294189453,
          -12.233901023864746,
          -4.077259540557861,
          -13.067471504211426,
          -5.607560157775879,
          -3.6345317363739014,
          -11.534977912902832,
          -6.736489295959473,
          -13.857657432556152,
          -14.418048858642578,
          -9.774528503417969,
          -6.041388034820557,
          -8.699152946472168,
          -1.9883294105529785,
          -4.902067184448242,
          -5.094449520111084,
          -6.200438976287842,
          -5.203797817230225,
          -2.077711582183838,
          -3.532541036605835,
          -12.094775199890137,
          -8.599435806274414,
          -4.551624298095703,
          -6.461525917053223,
          -3.9408318996429443,
          -7.127581596374512,
          -10.800771713256836,
          -3.4265599250793457,
          -6.669173717498779,
          -12.509913444519043
         ],
         "y": [
          -32.92869567871094,
          -11.85457992553711,
          -1.118597388267517,
          -9.396374702453613,
          -10.294881820678711,
          -11.536637306213379,
          -3.936209201812744,
          -14.959424018859863,
          -19.370635986328125,
          -3.857110023498535,
          -9.486684799194336,
          -6.1399078369140625,
          -3.995126247406006,
          -16.88874626159668,
          -15.671820640563965,
          -10.259297370910645,
          -9.978217124938965,
          -3.367523193359375,
          -22.538501739501953,
          1.5699774026870728,
          -8.286338806152344,
          -7.8853936195373535,
          -15.71909236907959,
          -6.1495232582092285,
          -22.99754524230957,
          -9.111977577209473,
          -5.040562629699707,
          -16.646480560302734,
          -11.693113327026367,
          -12.402616500854492,
          -19.31827735900879,
          -18.495990753173828,
          0.05803775414824486,
          -1.9229120016098022,
          -1.2800767421722412,
          -6.82490873336792,
          -6.986433029174805,
          -10.470792770385742,
          -0.816290020942688,
          -1.9862521886825562,
          -4.895600318908691,
          -14.211917877197266,
          -14.722716331481934,
          -6.2231125831604,
          -11.534461975097656,
          -5.946866989135742,
          -12.15260124206543,
          -19.543838500976562,
          -4.33394718170166,
          -10.75594711303711,
          -24.285219192504883
         ]
        },
        {
         "marker": {
          "color": 2,
          "opacity": 0.8,
          "size": 10
         },
         "mode": "markers+text",
         "name": "lion",
         "text": [
          "attaque_shinji_takahashi_genin",
          "bunke_pv_chakra_atk",
          "richard_csur",
          "lionceau",
          "suukou_byakugan_multiplicateur",
          "def_vivre_tsuji",
          "tigre",
          "françois_grether_yves",
          "combat_pv_chakra",
          "androclès",
          "sullias",
          "léopard",
          "rdv_anpe_rue",
          "armoire_magique",
          "aigle",
          "hyène",
          "lions",
          "mouton_ben_gourion",
          "sandro_esperanto",
          "chrimogen_promotion_citoyen",
          "epopée_européenne",
          "antilope",
          "eléphants",
          "dompteur",
          "narnia_chapitre",
          "éléphant",
          "rosenau_innovation_avec",
          "rugissement",
          "bélier_ascendant",
          "lion_rugir",
          "hyènes",
          "lion_affamer",
          "oryx",
          "web_association_maili",
          "congrès_atria",
          "animal_fétiche",
          "fauves",
          "rugir",
          "troyes_yvain",
          "tisa_terre",
          "alain_ruscio_affaire_redeker",
          "tigresse",
          "éléphant_girafe",
          "gueules_brocher",
          "dragon",
          "crocodile",
          "bête_sauvage",
          "serpent",
          "belier",
          "membré",
          "lion"
         ],
         "textfont": {
          "size": 10
         },
         "textposition": "top center",
         "type": "scatter",
         "x": [
          2.168199062347412,
          2.246293544769287,
          2.3307652473449707,
          3.1912035942077637,
          2.2183821201324463,
          2.2697906494140625,
          -4.705393314361572,
          2.250913381576538,
          2.2634871006011963,
          2.2348530292510986,
          2.2168610095977783,
          1.671246886253357,
          2.228724956512451,
          2.7131614685058594,
          2.9454658031463623,
          1.577554702758789,
          3.310056447982788,
          2.7379846572875977,
          2.2454614639282227,
          2.2420108318328857,
          2.2250568866729736,
          -6.19374942779541,
          2.5587408542633057,
          2.879560947418213,
          2.6327593326568604,
          0.8624112010002136,
          2.241034507751465,
          3.032278537750244,
          2.2400894165039062,
          2.45885968208313,
          2.252573251724243,
          2.235496997833252,
          -2.3441002368927,
          2.3501555919647217,
          2.2955427169799805,
          2.2519233226776123,
          3.0482068061828613,
          3.1181397438049316,
          2.3483781814575195,
          2.357786178588867,
          2.5185372829437256,
          2.420217752456665,
          2.0324106216430664,
          2.2755126953125,
          3.374534845352173,
          -12.04688835144043,
          2.893146276473999,
          -0.8687081336975098,
          2.496825695037842,
          2.2676236629486084,
          3.754507303237915
         ],
         "y": [
          0.47320228815078735,
          0.1535896211862564,
          -0.12161552906036377,
          -3.7138984203338623,
          0.23448365926742554,
          0.04855422303080559,
          -4.575255870819092,
          0.015271101146936417,
          0.057950735092163086,
          0.03255888447165489,
          0.007130524143576622,
          -2.8603596687316895,
          0.045674435794353485,
          -1.7361263036727905,
          -3.478320837020874,
          -3.283998489379883,
          -4.627686500549316,
          -2.284712791442871,
          -0.0523262619972229,
          -0.07717084139585495,
          0.08475576341152191,
          -1.9452086687088013,
          -1.130908489227295,
          -3.0317115783691406,
          -1.4158461093902588,
          -3.513068675994873,
          -0.06990328431129456,
          -3.5509262084960938,
          0.07201197743415833,
          -0.7292514443397522,
          -0.16491499543190002,
          0.007075438275933266,
          -1.3019025325775146,
          -0.7230892777442932,
          -0.18036594986915588,
          -0.24487197399139404,
          -3.6752679347991943,
          -3.9663867950439453,
          -0.6054275035858154,
          -0.7537970542907715,
          -1.1388640403747559,
          -2.3270821571350098,
          -0.08468786627054214,
          -0.1388148069381714,
          -4.71937370300293,
          6.914945125579834,
          -3.2043755054473877,
          -5.94506311416626,
          -1.3421045541763306,
          -0.19330371916294098,
          -5.646251678466797
         ]
        },
        {
         "marker": {
          "color": 3,
          "opacity": 0.8,
          "size": 10
         },
         "mode": "markers+text",
         "name": "festival",
         "text": [
          "festival_international",
          "festival_itinérant",
          "festival_off",
          "festivals",
          "festivalier",
          "vieille_charrues",
          "festival_jazz",
          "jazz_festival",
          "francofolies",
          "concert",
          "festival_internationnal",
          "programmation_éclectique",
          "tremplin_musical",
          "dixième_édition",
          "francofffonies",
          "ciné-concert",
          "festival_estival",
          "picardie_mouv",
          "festi",
          "sixième_édition",
          "espace_miramar",
          "long_métrage_fiction",
          "onzième_édition",
          "musicalarue",
          "vieilles_charrues",
          "saint-chartier",
          "mimos",
          "transmusicale",
          "festiv",
          "festival_oenovidéo",
          "ososphère",
          "estivales",
          "court_métrage",
          "biennale",
          "courts-métrage",
          "eurockéennes",
          "nuits_vertes",
          "jeunes_talents",
          "cinémas",
          "centre_wallonie-bruxelles",
          "spectacle",
          "sous_chapiteau",
          "calvi_jazz",
          "francofolie",
          "avignon_off",
          "francofffonie",
          "cinéville",
          "jeunes_talent",
          "transmusicales",
          "manifestation_culturel",
          "festival"
         ],
         "textfont": {
          "size": 10
         },
         "textposition": "top center",
         "type": "scatter",
         "x": [
          18.72699546813965,
          18.476722717285156,
          17.140897750854492,
          29.80944061279297,
          30.404462814331055,
          14.401888847351074,
          19.43361473083496,
          26.629657745361328,
          12.469122886657715,
          23.09619140625,
          4.572366237640381,
          19.75046730041504,
          7.167110443115234,
          9.874881744384766,
          5.833188056945801,
          25.844865798950195,
          6.95700740814209,
          7.105452537536621,
          15.654046058654785,
          13.38055419921875,
          6.620546817779541,
          6.283573627471924,
          8.32107925415039,
          8.547772407531738,
          6.068207263946533,
          6.049651145935059,
          5.9712815284729,
          11.197949409484863,
          12.625845909118652,
          8.593585014343262,
          5.209676265716553,
          11.683966636657715,
          40.23340606689453,
          33.18580627441406,
          39.04680633544922,
          9.631111145019531,
          11.28789234161377,
          5.458892345428467,
          23.527782440185547,
          5.2938690185546875,
          30.66262435913086,
          24.387741088867188,
          4.24351167678833,
          18.79036521911621,
          4.585497856140137,
          7.933037757873535,
          9.69282341003418,
          6.1772141456604,
          7.725203990936279,
          30.862703323364258,
          26.28658676147461
         ],
         "y": [
          1.9789202213287354,
          3.4234423637390137,
          2.048133134841919,
          4.249660968780518,
          4.070330619812012,
          0.4277084767818451,
          5.148789882659912,
          3.829148530960083,
          3.5604166984558105,
          1.9778337478637695,
          0.3891768753528595,
          5.408586025238037,
          -0.11020819842815399,
          2.1184003353118896,
          2.223116874694824,
          7.141124725341797,
          2.6913204193115234,
          0.22027087211608887,
          2.2039170265197754,
          -0.849173903465271,
          2.445476531982422,
          1.1864131689071655,
          -0.07287353277206421,
          3.201432943344116,
          2.534855604171753,
          2.4236576557159424,
          2.4309213161468506,
          -0.49626055359840393,
          3.203308343887329,
          0.33701005578041077,
          0.7228678464889526,
          2.138106346130371,
          10.196344375610352,
          4.093349933624268,
          9.940832138061523,
          2.4060142040252686,
          3.291077136993408,
          2.134948968887329,
          5.975780487060547,
          2.1071856021881104,
          7.137972354888916,
          4.015172958374023,
          2.394227981567383,
          3.9430649280548096,
          0.48500049114227295,
          1.7432671785354614,
          3.544131278991699,
          -0.4845404624938965,
          0.35768550634384155,
          4.275339603424072,
          1.6933845281600952
         ]
        }
       ],
       "layout": {
        "font": {
         "family": "Arial",
         "size": 10
        },
        "height": 600,
        "legend": {
         "font": {
          "color": "black"
         },
         "x": 1,
         "y": 0.5
        },
        "margin": {
         "b": 0,
         "l": 0,
         "r": 0,
         "t": 0
        },
        "showlegend": true,
        "template": {
         "data": {
          "bar": [
           {
            "error_x": {
             "color": "#2a3f5f"
            },
            "error_y": {
             "color": "#2a3f5f"
            },
            "marker": {
             "line": {
              "color": "#E5ECF6",
              "width": 0.5
             },
             "pattern": {
              "fillmode": "overlay",
              "size": 10,
              "solidity": 0.2
             }
            },
            "type": "bar"
           }
          ],
          "barpolar": [
           {
            "marker": {
             "line": {
              "color": "#E5ECF6",
              "width": 0.5
             },
             "pattern": {
              "fillmode": "overlay",
              "size": 10,
              "solidity": 0.2
             }
            },
            "type": "barpolar"
           }
          ],
          "carpet": [
           {
            "aaxis": {
             "endlinecolor": "#2a3f5f",
             "gridcolor": "white",
             "linecolor": "white",
             "minorgridcolor": "white",
             "startlinecolor": "#2a3f5f"
            },
            "baxis": {
             "endlinecolor": "#2a3f5f",
             "gridcolor": "white",
             "linecolor": "white",
             "minorgridcolor": "white",
             "startlinecolor": "#2a3f5f"
            },
            "type": "carpet"
           }
          ],
          "choropleth": [
           {
            "colorbar": {
             "outlinewidth": 0,
             "ticks": ""
            },
            "type": "choropleth"
           }
          ],
          "contour": [
           {
            "colorbar": {
             "outlinewidth": 0,
             "ticks": ""
            },
            "colorscale": [
             [
              0,
              "#0d0887"
             ],
             [
              0.1111111111111111,
              "#46039f"
             ],
             [
              0.2222222222222222,
              "#7201a8"
             ],
             [
              0.3333333333333333,
              "#9c179e"
             ],
             [
              0.4444444444444444,
              "#bd3786"
             ],
             [
              0.5555555555555556,
              "#d8576b"
             ],
             [
              0.6666666666666666,
              "#ed7953"
             ],
             [
              0.7777777777777778,
              "#fb9f3a"
             ],
             [
              0.8888888888888888,
              "#fdca26"
             ],
             [
              1,
              "#f0f921"
             ]
            ],
            "type": "contour"
           }
          ],
          "contourcarpet": [
           {
            "colorbar": {
             "outlinewidth": 0,
             "ticks": ""
            },
            "type": "contourcarpet"
           }
          ],
          "heatmap": [
           {
            "colorbar": {
             "outlinewidth": 0,
             "ticks": ""
            },
            "colorscale": [
             [
              0,
              "#0d0887"
             ],
             [
              0.1111111111111111,
              "#46039f"
             ],
             [
              0.2222222222222222,
              "#7201a8"
             ],
             [
              0.3333333333333333,
              "#9c179e"
             ],
             [
              0.4444444444444444,
              "#bd3786"
             ],
             [
              0.5555555555555556,
              "#d8576b"
             ],
             [
              0.6666666666666666,
              "#ed7953"
             ],
             [
              0.7777777777777778,
              "#fb9f3a"
             ],
             [
              0.8888888888888888,
              "#fdca26"
             ],
             [
              1,
              "#f0f921"
             ]
            ],
            "type": "heatmap"
           }
          ],
          "heatmapgl": [
           {
            "colorbar": {
             "outlinewidth": 0,
             "ticks": ""
            },
            "colorscale": [
             [
              0,
              "#0d0887"
             ],
             [
              0.1111111111111111,
              "#46039f"
             ],
             [
              0.2222222222222222,
              "#7201a8"
             ],
             [
              0.3333333333333333,
              "#9c179e"
             ],
             [
              0.4444444444444444,
              "#bd3786"
             ],
             [
              0.5555555555555556,
              "#d8576b"
             ],
             [
              0.6666666666666666,
              "#ed7953"
             ],
             [
              0.7777777777777778,
              "#fb9f3a"
             ],
             [
              0.8888888888888888,
              "#fdca26"
             ],
             [
              1,
              "#f0f921"
             ]
            ],
            "type": "heatmapgl"
           }
          ],
          "histogram": [
           {
            "marker": {
             "pattern": {
              "fillmode": "overlay",
              "size": 10,
              "solidity": 0.2
             }
            },
            "type": "histogram"
           }
          ],
          "histogram2d": [
           {
            "colorbar": {
             "outlinewidth": 0,
             "ticks": ""
            },
            "colorscale": [
             [
              0,
              "#0d0887"
             ],
             [
              0.1111111111111111,
              "#46039f"
             ],
             [
              0.2222222222222222,
              "#7201a8"
             ],
             [
              0.3333333333333333,
              "#9c179e"
             ],
             [
              0.4444444444444444,
              "#bd3786"
             ],
             [
              0.5555555555555556,
              "#d8576b"
             ],
             [
              0.6666666666666666,
              "#ed7953"
             ],
             [
              0.7777777777777778,
              "#fb9f3a"
             ],
             [
              0.8888888888888888,
              "#fdca26"
             ],
             [
              1,
              "#f0f921"
             ]
            ],
            "type": "histogram2d"
           }
          ],
          "histogram2dcontour": [
           {
            "colorbar": {
             "outlinewidth": 0,
             "ticks": ""
            },
            "colorscale": [
             [
              0,
              "#0d0887"
             ],
             [
              0.1111111111111111,
              "#46039f"
             ],
             [
              0.2222222222222222,
              "#7201a8"
             ],
             [
              0.3333333333333333,
              "#9c179e"
             ],
             [
              0.4444444444444444,
              "#bd3786"
             ],
             [
              0.5555555555555556,
              "#d8576b"
             ],
             [
              0.6666666666666666,
              "#ed7953"
             ],
             [
              0.7777777777777778,
              "#fb9f3a"
             ],
             [
              0.8888888888888888,
              "#fdca26"
             ],
             [
              1,
              "#f0f921"
             ]
            ],
            "type": "histogram2dcontour"
           }
          ],
          "mesh3d": [
           {
            "colorbar": {
             "outlinewidth": 0,
             "ticks": ""
            },
            "type": "mesh3d"
           }
          ],
          "parcoords": [
           {
            "line": {
             "colorbar": {
              "outlinewidth": 0,
              "ticks": ""
             }
            },
            "type": "parcoords"
           }
          ],
          "pie": [
           {
            "automargin": true,
            "type": "pie"
           }
          ],
          "scatter": [
           {
            "fillpattern": {
             "fillmode": "overlay",
             "size": 10,
             "solidity": 0.2
            },
            "type": "scatter"
           }
          ],
          "scatter3d": [
           {
            "line": {
             "colorbar": {
              "outlinewidth": 0,
              "ticks": ""
             }
            },
            "marker": {
             "colorbar": {
              "outlinewidth": 0,
              "ticks": ""
             }
            },
            "type": "scatter3d"
           }
          ],
          "scattercarpet": [
           {
            "marker": {
             "colorbar": {
              "outlinewidth": 0,
              "ticks": ""
             }
            },
            "type": "scattercarpet"
           }
          ],
          "scattergeo": [
           {
            "marker": {
             "colorbar": {
              "outlinewidth": 0,
              "ticks": ""
             }
            },
            "type": "scattergeo"
           }
          ],
          "scattergl": [
           {
            "marker": {
             "colorbar": {
              "outlinewidth": 0,
              "ticks": ""
             }
            },
            "type": "scattergl"
           }
          ],
          "scattermapbox": [
           {
            "marker": {
             "colorbar": {
              "outlinewidth": 0,
              "ticks": ""
             }
            },
            "type": "scattermapbox"
           }
          ],
          "scatterpolar": [
           {
            "marker": {
             "colorbar": {
              "outlinewidth": 0,
              "ticks": ""
             }
            },
            "type": "scatterpolar"
           }
          ],
          "scatterpolargl": [
           {
            "marker": {
             "colorbar": {
              "outlinewidth": 0,
              "ticks": ""
             }
            },
            "type": "scatterpolargl"
           }
          ],
          "scatterternary": [
           {
            "marker": {
             "colorbar": {
              "outlinewidth": 0,
              "ticks": ""
             }
            },
            "type": "scatterternary"
           }
          ],
          "surface": [
           {
            "colorbar": {
             "outlinewidth": 0,
             "ticks": ""
            },
            "colorscale": [
             [
              0,
              "#0d0887"
             ],
             [
              0.1111111111111111,
              "#46039f"
             ],
             [
              0.2222222222222222,
              "#7201a8"
             ],
             [
              0.3333333333333333,
              "#9c179e"
             ],
             [
              0.4444444444444444,
              "#bd3786"
             ],
             [
              0.5555555555555556,
              "#d8576b"
             ],
             [
              0.6666666666666666,
              "#ed7953"
             ],
             [
              0.7777777777777778,
              "#fb9f3a"
             ],
             [
              0.8888888888888888,
              "#fdca26"
             ],
             [
              1,
              "#f0f921"
             ]
            ],
            "type": "surface"
           }
          ],
          "table": [
           {
            "cells": {
             "fill": {
              "color": "#EBF0F8"
             },
             "line": {
              "color": "white"
             }
            },
            "header": {
             "fill": {
              "color": "#C8D4E3"
             },
             "line": {
              "color": "white"
             }
            },
            "type": "table"
           }
          ]
         },
         "layout": {
          "annotationdefaults": {
           "arrowcolor": "#2a3f5f",
           "arrowhead": 0,
           "arrowwidth": 1
          },
          "autotypenumbers": "strict",
          "coloraxis": {
           "colorbar": {
            "outlinewidth": 0,
            "ticks": ""
           }
          },
          "colorscale": {
           "diverging": [
            [
             0,
             "#8e0152"
            ],
            [
             0.1,
             "#c51b7d"
            ],
            [
             0.2,
             "#de77ae"
            ],
            [
             0.3,
             "#f1b6da"
            ],
            [
             0.4,
             "#fde0ef"
            ],
            [
             0.5,
             "#f7f7f7"
            ],
            [
             0.6,
             "#e6f5d0"
            ],
            [
             0.7,
             "#b8e186"
            ],
            [
             0.8,
             "#7fbc41"
            ],
            [
             0.9,
             "#4d9221"
            ],
            [
             1,
             "#276419"
            ]
           ],
           "sequential": [
            [
             0,
             "#0d0887"
            ],
            [
             0.1111111111111111,
             "#46039f"
            ],
            [
             0.2222222222222222,
             "#7201a8"
            ],
            [
             0.3333333333333333,
             "#9c179e"
            ],
            [
             0.4444444444444444,
             "#bd3786"
            ],
            [
             0.5555555555555556,
             "#d8576b"
            ],
            [
             0.6666666666666666,
             "#ed7953"
            ],
            [
             0.7777777777777778,
             "#fb9f3a"
            ],
            [
             0.8888888888888888,
             "#fdca26"
            ],
            [
             1,
             "#f0f921"
            ]
           ],
           "sequentialminus": [
            [
             0,
             "#0d0887"
            ],
            [
             0.1111111111111111,
             "#46039f"
            ],
            [
             0.2222222222222222,
             "#7201a8"
            ],
            [
             0.3333333333333333,
             "#9c179e"
            ],
            [
             0.4444444444444444,
             "#bd3786"
            ],
            [
             0.5555555555555556,
             "#d8576b"
            ],
            [
             0.6666666666666666,
             "#ed7953"
            ],
            [
             0.7777777777777778,
             "#fb9f3a"
            ],
            [
             0.8888888888888888,
             "#fdca26"
            ],
            [
             1,
             "#f0f921"
            ]
           ]
          },
          "colorway": [
           "#636efa",
           "#EF553B",
           "#00cc96",
           "#ab63fa",
           "#FFA15A",
           "#19d3f3",
           "#FF6692",
           "#B6E880",
           "#FF97FF",
           "#FECB52"
          ],
          "font": {
           "color": "#2a3f5f"
          },
          "geo": {
           "bgcolor": "white",
           "lakecolor": "white",
           "landcolor": "#E5ECF6",
           "showlakes": true,
           "showland": true,
           "subunitcolor": "white"
          },
          "hoverlabel": {
           "align": "left"
          },
          "hovermode": "closest",
          "mapbox": {
           "style": "light"
          },
          "paper_bgcolor": "white",
          "plot_bgcolor": "#E5ECF6",
          "polar": {
           "angularaxis": {
            "gridcolor": "white",
            "linecolor": "white",
            "ticks": ""
           },
           "bgcolor": "#E5ECF6",
           "radialaxis": {
            "gridcolor": "white",
            "linecolor": "white",
            "ticks": ""
           }
          },
          "scene": {
           "xaxis": {
            "backgroundcolor": "#E5ECF6",
            "gridcolor": "white",
            "gridwidth": 2,
            "linecolor": "white",
            "showbackground": true,
            "ticks": "",
            "zerolinecolor": "white"
           },
           "yaxis": {
            "backgroundcolor": "#E5ECF6",
            "gridcolor": "white",
            "gridwidth": 2,
            "linecolor": "white",
            "showbackground": true,
            "ticks": "",
            "zerolinecolor": "white"
           },
           "zaxis": {
            "backgroundcolor": "#E5ECF6",
            "gridcolor": "white",
            "gridwidth": 2,
            "linecolor": "white",
            "showbackground": true,
            "ticks": "",
            "zerolinecolor": "white"
           }
          },
          "shapedefaults": {
           "line": {
            "color": "#2a3f5f"
           }
          },
          "ternary": {
           "aaxis": {
            "gridcolor": "white",
            "linecolor": "white",
            "ticks": ""
           },
           "baxis": {
            "gridcolor": "white",
            "linecolor": "white",
            "ticks": ""
           },
           "bgcolor": "#E5ECF6",
           "caxis": {
            "gridcolor": "white",
            "linecolor": "white",
            "ticks": ""
           }
          },
          "title": {
           "x": 0.05
          },
          "xaxis": {
           "automargin": true,
           "gridcolor": "white",
           "linecolor": "white",
           "ticks": "",
           "title": {
            "standoff": 15
           },
           "zerolinecolor": "white",
           "zerolinewidth": 2
          },
          "yaxis": {
           "automargin": true,
           "gridcolor": "white",
           "linecolor": "white",
           "ticks": "",
           "title": {
            "standoff": 15
           },
           "zerolinecolor": "white",
           "zerolinewidth": 2
          }
         }
        },
        "width": 800
       }
      }
     },
     "metadata": {},
     "output_type": "display_data"
    },
    {
     "data": {
      "application/vnd.plotly.v1+json": {
       "config": {
        "plotlyServerURL": "https://plot.ly"
       },
       "data": [
        {
         "marker": {
          "color": 0,
          "opacity": 0.8,
          "size": 10
         },
         "mode": "markers+text",
         "name": "baleine",
         "text": [
          "rorqual",
          "phoque",
          "petit_rorqual",
          "rorqual_commun",
          "cachalot",
          "mégaptère",
          "cétacé",
          "baleine_bleu",
          "baleinier",
          "béluga",
          "baleine_franc",
          "mammifère_marin",
          "baleine_gris",
          "chasse_baleinier",
          "commission_baleinier",
          "requin",
          "cétacés",
          "épaulard",
          "baleineau",
          "steve_irwin",
          "minke",
          "sanctuaire_baleinier",
          "otarie",
          "cachalots",
          "baleinier_japonais",
          "bébé_phoque",
          "nokosa",
          "dauphin",
          "cetace",
          "golfe_saint-laurent",
          "moby_dick",
          "krill",
          "lamantin",
          "flotte_baleinier_japonais",
          "sea_shepherd",
          "ours_polaire",
          "requin_blanc",
          "paul_watson",
          "calmar_géant",
          "requin_marteau",
          "pieuvre_géant",
          "mer_austral",
          "mégaptère_baleine",
          "dugong",
          "requin_baleine",
          "flotte_baleinier",
          "pinnipède",
          "oceanic_viking",
          "oiseau_marin",
          "raie_mantas",
          "baleine"
         ],
         "textfont": {
          "size": 10
         },
         "textposition": "top center",
         "type": "scatter",
         "x": [
          -38.40930938720703,
          -41.43984603881836,
          -41.22006607055664,
          -38.03050994873047,
          -37.9674072265625,
          -25.4527530670166,
          -30.286081314086914,
          -35.969482421875,
          -49.527706146240234,
          -23.71402931213379,
          -27.646137237548828,
          -31.236732482910156,
          -34.265296936035156,
          -37.496864318847656,
          -41.10716247558594,
          -5.019001007080078,
          -32.848060607910156,
          -23.99672508239746,
          -31.891693115234375,
          -50.06715774536133,
          -41.242515563964844,
          -44.41233825683594,
          -7.164042949676514,
          -32.68949890136719,
          -48.94931411743164,
          -41.55477523803711,
          -26.53472137451172,
          -40.86882019042969,
          -31.717058181762695,
          -32.145320892333984,
          -16.189044952392578,
          -27.358835220336914,
          -12.748449325561523,
          -36.2620964050293,
          -51.33310317993164,
          -22.55952262878418,
          -6.104281425476074,
          -44.57024002075195,
          -13.510663986206055,
          -7.308619976043701,
          -15.122822761535645,
          -30.179410934448242,
          -32.2529296875,
          -12.03823184967041,
          -8.14147663116455,
          -31.421213150024414,
          -32.14173889160156,
          -34.86273956298828,
          -34.75779724121094,
          -10.377640724182129,
          -40.13467788696289
         ],
         "y": [
          16.942291259765625,
          13.971403121948242,
          1.244687557220459,
          15.289034843444824,
          18.963233947753906,
          -2.9342501163482666,
          15.494043350219727,
          17.394208908081055,
          -2.6573944091796875,
          -1.084027886390686,
          -1.3742755651474,
          14.347947120666504,
          0.5042243599891663,
          -0.7516359090805054,
          -2.5736308097839355,
          4.630387783050537,
          12.71519660949707,
          -4.323126792907715,
          -1.1173722743988037,
          0.45805972814559937,
          -0.9466025829315186,
          -1.897528052330017,
          11.528850555419922,
          0.8062530159950256,
          -1.0718365907669067,
          2.9508049488067627,
          -4.220399856567383,
          19.620880126953125,
          5.886552333831787,
          -4.775096893310547,
          11.727997779846191,
          70.44335174560547,
          3.9053168296813965,
          4.824990272521973,
          1.3975547552108765,
          -0.033255450427532196,
          5.749899387359619,
          -3.5007243156433105,
          13.644835472106934,
          9.682350158691406,
          13.038512229919434,
          6.136380672454834,
          -6.706212997436523,
          5.289977073669434,
          7.476490020751953,
          2.000215530395508,
          9.986165046691895,
          4.185962200164795,
          13.11861515045166,
          7.935801029205322,
          16.746673583984375
         ]
        },
        {
         "marker": {
          "color": 1,
          "opacity": 0.8,
          "size": 10
         },
         "mode": "markers+text",
         "name": "poisson",
         "text": [
          "pêcher",
          "poisson-chat",
          "parfait_imbécile_heureux",
          "chinchard",
          "fraie",
          "poisson_pêcher",
          "poisson_carnivore",
          "poisson_pélagique",
          "crustacé",
          "omble",
          "tilapia",
          "saumon_truite",
          "poisson_prédateur",
          "vairon",
          "bonite",
          "omble_chevalier",
          "nageoire",
          "dorade_royal",
          "alevin",
          "carangue",
          "dorade_coryphèn",
          "baudroie",
          "rascasse",
          "tacaud",
          "truite",
          "thon_albacore",
          "éperlan",
          "truite_arc-en-ciel",
          "cyprinidé",
          "corégone",
          "crevette",
          "chevesne",
          "serran",
          "koï",
          "sardine_maquereau",
          "animal_aquatique",
          "barbillon",
          "carassin",
          "poisson_tropical",
          "vivaneal",
          "thazard",
          "dorade",
          "krill",
          "proie_vivant",
          "hotu",
          "poisson_carnassier",
          "poissonneux",
          "salmonidé",
          "vessie_natatoire",
          "flétan",
          "poisson"
         ],
         "textfont": {
          "size": 10
         },
         "textposition": "top center",
         "type": "scatter",
         "x": [
          16.85212516784668,
          14.4651517868042,
          0.8420887589454651,
          -2.5446019172668457,
          14.557952880859375,
          6.99286413192749,
          -7.552184104919434,
          2.4394845962524414,
          -13.57316780090332,
          11.692498207092285,
          -5.0100202560424805,
          4.264983654022217,
          -3.60670804977417,
          18.29291534423828,
          5.4026031494140625,
          11.029328346252441,
          -11.2771635055542,
          -0.7166780829429626,
          21.219249725341797,
          -5.390804767608643,
          5.085379123687744,
          -11.321085929870605,
          -11.03869342803955,
          -3.2079834938049316,
          9.559075355529785,
          4.4129958152771,
          -5.927599906921387,
          -3.918778419494629,
          17.611623764038086,
          18.292814254760742,
          -1.2586054801940918,
          16.86959457397461,
          1.574537992477417,
          -7.442853927612305,
          -1.6514233350753784,
          -1.8024486303329468,
          -9.706341743469238,
          -6.844134330749512,
          -11.563858985900879,
          0.24443727731704712,
          3.7964861392974854,
          -11.939699172973633,
          -27.358835220336914,
          -3.665738344192505,
          15.087635040283203,
          13.15301513671875,
          5.747196197509766,
          19.792407989501953,
          -2.073559522628784,
          -10.012601852416992,
          15.412660598754883
         ],
         "y": [
          52.33623123168945,
          49.97113037109375,
          45.55622100830078,
          54.981361389160156,
          42.133018493652344,
          54.390647888183594,
          37.244407653808594,
          57.851985931396484,
          55.012481689453125,
          33.24655532836914,
          40.726497650146484,
          45.748046875,
          39.553916931152344,
          45.73799133300781,
          58.4605827331543,
          32.73265838623047,
          38.16898727416992,
          49.12884521484375,
          36.9620361328125,
          9.028474807739258,
          54.89772033691406,
          55.370601654052734,
          53.637168884277344,
          51.94886779785156,
          31.44805908203125,
          56.847537994384766,
          51.43611145019531,
          56.02734375,
          40.10974884033203,
          38.550010681152344,
          56.04771423339844,
          45.09269714355469,
          48.49197769165039,
          35.574764251708984,
          46.295291900634766,
          37.20806884765625,
          37.932456970214844,
          50.2760124206543,
          8.897647857666016,
          47.4012336730957,
          52.90306091308594,
          57.67667007446289,
          70.44335174560547,
          37.80772018432617,
          43.645137786865234,
          44.31065368652344,
          45.40571594238281,
          37.690956115722656,
          40.91754150390625,
          56.517669677734375,
          51.45714569091797
         ]
        },
        {
         "marker": {
          "color": 2,
          "opacity": 0.8,
          "size": 10
         },
         "mode": "markers+text",
         "name": "lion",
         "text": [
          "attaque_shinji_takahashi_genin",
          "bunke_pv_chakra_atk",
          "richard_csur",
          "lionceau",
          "suukou_byakugan_multiplicateur",
          "def_vivre_tsuji",
          "tigre",
          "françois_grether_yves",
          "combat_pv_chakra",
          "androclès",
          "sullias",
          "léopard",
          "rdv_anpe_rue",
          "armoire_magique",
          "aigle",
          "hyène",
          "lions",
          "mouton_ben_gourion",
          "sandro_esperanto",
          "chrimogen_promotion_citoyen",
          "epopée_européenne",
          "antilope",
          "eléphants",
          "dompteur",
          "narnia_chapitre",
          "éléphant",
          "rosenau_innovation_avec",
          "rugissement",
          "bélier_ascendant",
          "lion_rugir",
          "hyènes",
          "lion_affamer",
          "oryx",
          "web_association_maili",
          "congrès_atria",
          "animal_fétiche",
          "fauves",
          "rugir",
          "troyes_yvain",
          "tisa_terre",
          "alain_ruscio_affaire_redeker",
          "tigresse",
          "éléphant_girafe",
          "gueules_brocher",
          "dragon",
          "crocodile",
          "bête_sauvage",
          "serpent",
          "belier",
          "membré",
          "lion"
         ],
         "textfont": {
          "size": 10
         },
         "textposition": "top center",
         "type": "scatter",
         "x": [
          -10.091967582702637,
          -1.1430704593658447,
          -15.8826265335083,
          4.4626898765563965,
          -4.834061622619629,
          -1.775390625,
          -11.05657958984375,
          -11.625239372253418,
          -3.985663414001465,
          -11.08396053314209,
          -13.953624725341797,
          -8.369904518127441,
          -8.560272216796875,
          12.466501235961914,
          -2.4321646690368652,
          -5.381260395050049,
          1.364882230758667,
          -14.218955993652344,
          -8.451038360595703,
          4.083245277404785,
          -11.711065292358398,
          -5.638803482055664,
          1.238175630569458,
          -19.13604736328125,
          11.887791633605957,
          -2.367368459701538,
          4.396166801452637,
          -22.697368621826172,
          -4.887552261352539,
          -21.50912857055664,
          -10.745294570922852,
          -8.50772762298584,
          -6.736637592315674,
          -12.482799530029297,
          -14.536407470703125,
          -14.299993515014648,
          -20.496519088745117,
          -23.640718460083008,
          -17.210336685180664,
          -11.865349769592285,
          -17.177627563476562,
          -13.9141263961792,
          -7.415285587310791,
          -4.751086235046387,
          14.194931030273438,
          -8.12613582611084,
          -23.20005989074707,
          -16.354955673217773,
          -3.6216797828674316,
          -5.7592949867248535,
          6.271283149719238
         ],
         "y": [
          -31.6164608001709,
          -33.893795013427734,
          -39.2301025390625,
          -36.20930480957031,
          -33.170230865478516,
          -33.3282585144043,
          -18.15732192993164,
          -37.8932991027832,
          -33.145751953125,
          -33.266353607177734,
          -37.26158905029297,
          -16.199125289916992,
          -29.81871795654297,
          -40.85069274902344,
          -40.48859786987305,
          -17.558414459228516,
          -37.80738067626953,
          -40.670352935791016,
          -34.89450454711914,
          -57.993499755859375,
          -30.7664737701416,
          -14.762845039367676,
          -36.31645202636719,
          -26.027090072631836,
          -41.18337631225586,
          -16.43199348449707,
          -57.43514633178711,
          -28.128799438476562,
          -27.745071411132812,
          -26.058856964111328,
          -28.127071380615234,
          -32.13857650756836,
          -16.418087005615234,
          -56.119163513183594,
          -32.717620849609375,
          -25.48125457763672,
          -24.212356567382812,
          -29.334177017211914,
          -37.9357795715332,
          -55.951229095458984,
          -40.77314376831055,
          -24.0078182220459,
          -19.490589141845703,
          -40.74534225463867,
          -40.99449920654297,
          -12.89265251159668,
          -25.038169860839844,
          14.774892807006836,
          -26.97414779663086,
          -41.93154525756836,
          -36.55543899536133
         ]
        },
        {
         "marker": {
          "color": 3,
          "opacity": 0.8,
          "size": 10
         },
         "mode": "markers+text",
         "name": "festival",
         "text": [
          "festival_international",
          "festival_itinérant",
          "festival_off",
          "festivals",
          "festivalier",
          "vieille_charrues",
          "festival_jazz",
          "jazz_festival",
          "francofolies",
          "concert",
          "festival_internationnal",
          "programmation_éclectique",
          "tremplin_musical",
          "dixième_édition",
          "francofffonies",
          "ciné-concert",
          "festival_estival",
          "picardie_mouv",
          "festi",
          "sixième_édition",
          "espace_miramar",
          "long_métrage_fiction",
          "onzième_édition",
          "musicalarue",
          "vieilles_charrues",
          "saint-chartier",
          "mimos",
          "transmusicale",
          "festiv",
          "festival_oenovidéo",
          "ososphère",
          "estivales",
          "court_métrage",
          "biennale",
          "courts-métrage",
          "eurockéennes",
          "nuits_vertes",
          "jeunes_talents",
          "cinémas",
          "centre_wallonie-bruxelles",
          "spectacle",
          "sous_chapiteau",
          "calvi_jazz",
          "francofolie",
          "avignon_off",
          "francofffonie",
          "cinéville",
          "jeunes_talent",
          "transmusicales",
          "manifestation_culturel",
          "festival"
         ],
         "textfont": {
          "size": 10
         },
         "textposition": "top center",
         "type": "scatter",
         "x": [
          38.77777099609375,
          52.58647537231445,
          38.21255111694336,
          50.78290557861328,
          52.0044059753418,
          35.489986419677734,
          55.67692565917969,
          56.739933013916016,
          37.382381439208984,
          51.78375244140625,
          41.35930252075195,
          53.399375915527344,
          50.333030700683594,
          24.80299949645996,
          34.6429328918457,
          29.65146255493164,
          38.7957878112793,
          36.2105712890625,
          43.0865592956543,
          23.29047393798828,
          28.041866302490234,
          29.37213706970215,
          26.33843994140625,
          44.872379302978516,
          37.0572509765625,
          38.309566497802734,
          37.896881103515625,
          33.12784194946289,
          51.31061553955078,
          29.206775665283203,
          35.682647705078125,
          45.86362075805664,
          74.10597229003906,
          54.43647384643555,
          74.22454071044922,
          39.08146286010742,
          43.10413360595703,
          48.0660400390625,
          26.870386123657227,
          34.113853454589844,
          47.54548263549805,
          46.7729377746582,
          37.41016387939453,
          36.886478424072266,
          37.67401123046875,
          33.13505935668945,
          28.578432083129883,
          46.625335693359375,
          34.65730285644531,
          54.741676330566406,
          38.59538269042969
         ],
         "y": [
          -18.25067710876465,
          -3.049891471862793,
          -14.75648307800293,
          -3.7932376861572266,
          -1.19841468334198,
          5.727179527282715,
          0.9264876246452332,
          1.976741075515747,
          6.611361026763916,
          -12.341103553771973,
          -8.146071434020996,
          -5.737949848175049,
          -14.22983169555664,
          -5.741833209991455,
          -9.514080047607422,
          -19.29239845275879,
          1.0672270059585571,
          -1.6616281270980835,
          -8.024195671081543,
          -5.167654037475586,
          -6.474739074707031,
          -15.620906829833984,
          -6.075239658355713,
          -1.250543236732483,
          0.9114311933517456,
          -6.431080341339111,
          -9.377998352050781,
          2.7531065940856934,
          -15.633248329162598,
          -14.086801528930664,
          -4.842644691467285,
          0.45883119106292725,
          -8.862897872924805,
          -2.789576530456543,
          -8.230146408081055,
          6.58698034286499,
          -1.5048967599868774,
          -14.155957221984863,
          -18.217182159423828,
          -5.044501304626465,
          3.5808544158935547,
          2.161313772201538,
          -7.875624656677246,
          8.433810234069824,
          -12.754471778869629,
          -9.776144981384277,
          -17.814455032348633,
          -14.66408920288086,
          2.2404720783233643,
          -6.733480930328369,
          -16.883480072021484
         ]
        }
       ],
       "layout": {
        "font": {
         "family": "Arial",
         "size": 10
        },
        "height": 600,
        "legend": {
         "font": {
          "color": "black"
         },
         "x": 1,
         "y": 0.5
        },
        "margin": {
         "b": 0,
         "l": 0,
         "r": 0,
         "t": 0
        },
        "showlegend": true,
        "template": {
         "data": {
          "bar": [
           {
            "error_x": {
             "color": "#2a3f5f"
            },
            "error_y": {
             "color": "#2a3f5f"
            },
            "marker": {
             "line": {
              "color": "#E5ECF6",
              "width": 0.5
             },
             "pattern": {
              "fillmode": "overlay",
              "size": 10,
              "solidity": 0.2
             }
            },
            "type": "bar"
           }
          ],
          "barpolar": [
           {
            "marker": {
             "line": {
              "color": "#E5ECF6",
              "width": 0.5
             },
             "pattern": {
              "fillmode": "overlay",
              "size": 10,
              "solidity": 0.2
             }
            },
            "type": "barpolar"
           }
          ],
          "carpet": [
           {
            "aaxis": {
             "endlinecolor": "#2a3f5f",
             "gridcolor": "white",
             "linecolor": "white",
             "minorgridcolor": "white",
             "startlinecolor": "#2a3f5f"
            },
            "baxis": {
             "endlinecolor": "#2a3f5f",
             "gridcolor": "white",
             "linecolor": "white",
             "minorgridcolor": "white",
             "startlinecolor": "#2a3f5f"
            },
            "type": "carpet"
           }
          ],
          "choropleth": [
           {
            "colorbar": {
             "outlinewidth": 0,
             "ticks": ""
            },
            "type": "choropleth"
           }
          ],
          "contour": [
           {
            "colorbar": {
             "outlinewidth": 0,
             "ticks": ""
            },
            "colorscale": [
             [
              0,
              "#0d0887"
             ],
             [
              0.1111111111111111,
              "#46039f"
             ],
             [
              0.2222222222222222,
              "#7201a8"
             ],
             [
              0.3333333333333333,
              "#9c179e"
             ],
             [
              0.4444444444444444,
              "#bd3786"
             ],
             [
              0.5555555555555556,
              "#d8576b"
             ],
             [
              0.6666666666666666,
              "#ed7953"
             ],
             [
              0.7777777777777778,
              "#fb9f3a"
             ],
             [
              0.8888888888888888,
              "#fdca26"
             ],
             [
              1,
              "#f0f921"
             ]
            ],
            "type": "contour"
           }
          ],
          "contourcarpet": [
           {
            "colorbar": {
             "outlinewidth": 0,
             "ticks": ""
            },
            "type": "contourcarpet"
           }
          ],
          "heatmap": [
           {
            "colorbar": {
             "outlinewidth": 0,
             "ticks": ""
            },
            "colorscale": [
             [
              0,
              "#0d0887"
             ],
             [
              0.1111111111111111,
              "#46039f"
             ],
             [
              0.2222222222222222,
              "#7201a8"
             ],
             [
              0.3333333333333333,
              "#9c179e"
             ],
             [
              0.4444444444444444,
              "#bd3786"
             ],
             [
              0.5555555555555556,
              "#d8576b"
             ],
             [
              0.6666666666666666,
              "#ed7953"
             ],
             [
              0.7777777777777778,
              "#fb9f3a"
             ],
             [
              0.8888888888888888,
              "#fdca26"
             ],
             [
              1,
              "#f0f921"
             ]
            ],
            "type": "heatmap"
           }
          ],
          "heatmapgl": [
           {
            "colorbar": {
             "outlinewidth": 0,
             "ticks": ""
            },
            "colorscale": [
             [
              0,
              "#0d0887"
             ],
             [
              0.1111111111111111,
              "#46039f"
             ],
             [
              0.2222222222222222,
              "#7201a8"
             ],
             [
              0.3333333333333333,
              "#9c179e"
             ],
             [
              0.4444444444444444,
              "#bd3786"
             ],
             [
              0.5555555555555556,
              "#d8576b"
             ],
             [
              0.6666666666666666,
              "#ed7953"
             ],
             [
              0.7777777777777778,
              "#fb9f3a"
             ],
             [
              0.8888888888888888,
              "#fdca26"
             ],
             [
              1,
              "#f0f921"
             ]
            ],
            "type": "heatmapgl"
           }
          ],
          "histogram": [
           {
            "marker": {
             "pattern": {
              "fillmode": "overlay",
              "size": 10,
              "solidity": 0.2
             }
            },
            "type": "histogram"
           }
          ],
          "histogram2d": [
           {
            "colorbar": {
             "outlinewidth": 0,
             "ticks": ""
            },
            "colorscale": [
             [
              0,
              "#0d0887"
             ],
             [
              0.1111111111111111,
              "#46039f"
             ],
             [
              0.2222222222222222,
              "#7201a8"
             ],
             [
              0.3333333333333333,
              "#9c179e"
             ],
             [
              0.4444444444444444,
              "#bd3786"
             ],
             [
              0.5555555555555556,
              "#d8576b"
             ],
             [
              0.6666666666666666,
              "#ed7953"
             ],
             [
              0.7777777777777778,
              "#fb9f3a"
             ],
             [
              0.8888888888888888,
              "#fdca26"
             ],
             [
              1,
              "#f0f921"
             ]
            ],
            "type": "histogram2d"
           }
          ],
          "histogram2dcontour": [
           {
            "colorbar": {
             "outlinewidth": 0,
             "ticks": ""
            },
            "colorscale": [
             [
              0,
              "#0d0887"
             ],
             [
              0.1111111111111111,
              "#46039f"
             ],
             [
              0.2222222222222222,
              "#7201a8"
             ],
             [
              0.3333333333333333,
              "#9c179e"
             ],
             [
              0.4444444444444444,
              "#bd3786"
             ],
             [
              0.5555555555555556,
              "#d8576b"
             ],
             [
              0.6666666666666666,
              "#ed7953"
             ],
             [
              0.7777777777777778,
              "#fb9f3a"
             ],
             [
              0.8888888888888888,
              "#fdca26"
             ],
             [
              1,
              "#f0f921"
             ]
            ],
            "type": "histogram2dcontour"
           }
          ],
          "mesh3d": [
           {
            "colorbar": {
             "outlinewidth": 0,
             "ticks": ""
            },
            "type": "mesh3d"
           }
          ],
          "parcoords": [
           {
            "line": {
             "colorbar": {
              "outlinewidth": 0,
              "ticks": ""
             }
            },
            "type": "parcoords"
           }
          ],
          "pie": [
           {
            "automargin": true,
            "type": "pie"
           }
          ],
          "scatter": [
           {
            "fillpattern": {
             "fillmode": "overlay",
             "size": 10,
             "solidity": 0.2
            },
            "type": "scatter"
           }
          ],
          "scatter3d": [
           {
            "line": {
             "colorbar": {
              "outlinewidth": 0,
              "ticks": ""
             }
            },
            "marker": {
             "colorbar": {
              "outlinewidth": 0,
              "ticks": ""
             }
            },
            "type": "scatter3d"
           }
          ],
          "scattercarpet": [
           {
            "marker": {
             "colorbar": {
              "outlinewidth": 0,
              "ticks": ""
             }
            },
            "type": "scattercarpet"
           }
          ],
          "scattergeo": [
           {
            "marker": {
             "colorbar": {
              "outlinewidth": 0,
              "ticks": ""
             }
            },
            "type": "scattergeo"
           }
          ],
          "scattergl": [
           {
            "marker": {
             "colorbar": {
              "outlinewidth": 0,
              "ticks": ""
             }
            },
            "type": "scattergl"
           }
          ],
          "scattermapbox": [
           {
            "marker": {
             "colorbar": {
              "outlinewidth": 0,
              "ticks": ""
             }
            },
            "type": "scattermapbox"
           }
          ],
          "scatterpolar": [
           {
            "marker": {
             "colorbar": {
              "outlinewidth": 0,
              "ticks": ""
             }
            },
            "type": "scatterpolar"
           }
          ],
          "scatterpolargl": [
           {
            "marker": {
             "colorbar": {
              "outlinewidth": 0,
              "ticks": ""
             }
            },
            "type": "scatterpolargl"
           }
          ],
          "scatterternary": [
           {
            "marker": {
             "colorbar": {
              "outlinewidth": 0,
              "ticks": ""
             }
            },
            "type": "scatterternary"
           }
          ],
          "surface": [
           {
            "colorbar": {
             "outlinewidth": 0,
             "ticks": ""
            },
            "colorscale": [
             [
              0,
              "#0d0887"
             ],
             [
              0.1111111111111111,
              "#46039f"
             ],
             [
              0.2222222222222222,
              "#7201a8"
             ],
             [
              0.3333333333333333,
              "#9c179e"
             ],
             [
              0.4444444444444444,
              "#bd3786"
             ],
             [
              0.5555555555555556,
              "#d8576b"
             ],
             [
              0.6666666666666666,
              "#ed7953"
             ],
             [
              0.7777777777777778,
              "#fb9f3a"
             ],
             [
              0.8888888888888888,
              "#fdca26"
             ],
             [
              1,
              "#f0f921"
             ]
            ],
            "type": "surface"
           }
          ],
          "table": [
           {
            "cells": {
             "fill": {
              "color": "#EBF0F8"
             },
             "line": {
              "color": "white"
             }
            },
            "header": {
             "fill": {
              "color": "#C8D4E3"
             },
             "line": {
              "color": "white"
             }
            },
            "type": "table"
           }
          ]
         },
         "layout": {
          "annotationdefaults": {
           "arrowcolor": "#2a3f5f",
           "arrowhead": 0,
           "arrowwidth": 1
          },
          "autotypenumbers": "strict",
          "coloraxis": {
           "colorbar": {
            "outlinewidth": 0,
            "ticks": ""
           }
          },
          "colorscale": {
           "diverging": [
            [
             0,
             "#8e0152"
            ],
            [
             0.1,
             "#c51b7d"
            ],
            [
             0.2,
             "#de77ae"
            ],
            [
             0.3,
             "#f1b6da"
            ],
            [
             0.4,
             "#fde0ef"
            ],
            [
             0.5,
             "#f7f7f7"
            ],
            [
             0.6,
             "#e6f5d0"
            ],
            [
             0.7,
             "#b8e186"
            ],
            [
             0.8,
             "#7fbc41"
            ],
            [
             0.9,
             "#4d9221"
            ],
            [
             1,
             "#276419"
            ]
           ],
           "sequential": [
            [
             0,
             "#0d0887"
            ],
            [
             0.1111111111111111,
             "#46039f"
            ],
            [
             0.2222222222222222,
             "#7201a8"
            ],
            [
             0.3333333333333333,
             "#9c179e"
            ],
            [
             0.4444444444444444,
             "#bd3786"
            ],
            [
             0.5555555555555556,
             "#d8576b"
            ],
            [
             0.6666666666666666,
             "#ed7953"
            ],
            [
             0.7777777777777778,
             "#fb9f3a"
            ],
            [
             0.8888888888888888,
             "#fdca26"
            ],
            [
             1,
             "#f0f921"
            ]
           ],
           "sequentialminus": [
            [
             0,
             "#0d0887"
            ],
            [
             0.1111111111111111,
             "#46039f"
            ],
            [
             0.2222222222222222,
             "#7201a8"
            ],
            [
             0.3333333333333333,
             "#9c179e"
            ],
            [
             0.4444444444444444,
             "#bd3786"
            ],
            [
             0.5555555555555556,
             "#d8576b"
            ],
            [
             0.6666666666666666,
             "#ed7953"
            ],
            [
             0.7777777777777778,
             "#fb9f3a"
            ],
            [
             0.8888888888888888,
             "#fdca26"
            ],
            [
             1,
             "#f0f921"
            ]
           ]
          },
          "colorway": [
           "#636efa",
           "#EF553B",
           "#00cc96",
           "#ab63fa",
           "#FFA15A",
           "#19d3f3",
           "#FF6692",
           "#B6E880",
           "#FF97FF",
           "#FECB52"
          ],
          "font": {
           "color": "#2a3f5f"
          },
          "geo": {
           "bgcolor": "white",
           "lakecolor": "white",
           "landcolor": "#E5ECF6",
           "showlakes": true,
           "showland": true,
           "subunitcolor": "white"
          },
          "hoverlabel": {
           "align": "left"
          },
          "hovermode": "closest",
          "mapbox": {
           "style": "light"
          },
          "paper_bgcolor": "white",
          "plot_bgcolor": "#E5ECF6",
          "polar": {
           "angularaxis": {
            "gridcolor": "white",
            "linecolor": "white",
            "ticks": ""
           },
           "bgcolor": "#E5ECF6",
           "radialaxis": {
            "gridcolor": "white",
            "linecolor": "white",
            "ticks": ""
           }
          },
          "scene": {
           "xaxis": {
            "backgroundcolor": "#E5ECF6",
            "gridcolor": "white",
            "gridwidth": 2,
            "linecolor": "white",
            "showbackground": true,
            "ticks": "",
            "zerolinecolor": "white"
           },
           "yaxis": {
            "backgroundcolor": "#E5ECF6",
            "gridcolor": "white",
            "gridwidth": 2,
            "linecolor": "white",
            "showbackground": true,
            "ticks": "",
            "zerolinecolor": "white"
           },
           "zaxis": {
            "backgroundcolor": "#E5ECF6",
            "gridcolor": "white",
            "gridwidth": 2,
            "linecolor": "white",
            "showbackground": true,
            "ticks": "",
            "zerolinecolor": "white"
           }
          },
          "shapedefaults": {
           "line": {
            "color": "#2a3f5f"
           }
          },
          "ternary": {
           "aaxis": {
            "gridcolor": "white",
            "linecolor": "white",
            "ticks": ""
           },
           "baxis": {
            "gridcolor": "white",
            "linecolor": "white",
            "ticks": ""
           },
           "bgcolor": "#E5ECF6",
           "caxis": {
            "gridcolor": "white",
            "linecolor": "white",
            "ticks": ""
           }
          },
          "title": {
           "x": 0.05
          },
          "xaxis": {
           "automargin": true,
           "gridcolor": "white",
           "linecolor": "white",
           "ticks": "",
           "title": {
            "standoff": 15
           },
           "zerolinecolor": "white",
           "zerolinewidth": 2
          },
          "yaxis": {
           "automargin": true,
           "gridcolor": "white",
           "linecolor": "white",
           "ticks": "",
           "title": {
            "standoff": 15
           },
           "zerolinecolor": "white",
           "zerolinewidth": 2
          }
         }
        },
        "width": 800
       }
      }
     },
     "metadata": {},
     "output_type": "display_data"
    },
    {
     "data": {
      "application/vnd.plotly.v1+json": {
       "config": {
        "plotlyServerURL": "https://plot.ly"
       },
       "data": [
        {
         "marker": {
          "color": 0,
          "opacity": 0.8,
          "size": 10
         },
         "mode": "markers+text",
         "name": "baleine",
         "text": [
          "rorqual",
          "phoque",
          "petit_rorqual",
          "rorqual_commun",
          "cachalot",
          "mégaptère",
          "cétacé",
          "baleine_bleu",
          "baleinier",
          "béluga",
          "baleine_franc",
          "mammifère_marin",
          "baleine_gris",
          "chasse_baleinier",
          "commission_baleinier",
          "requin",
          "cétacés",
          "épaulard",
          "baleineau",
          "steve_irwin",
          "minke",
          "sanctuaire_baleinier",
          "otarie",
          "cachalots",
          "baleinier_japonais",
          "bébé_phoque",
          "nokosa",
          "dauphin",
          "cetace",
          "golfe_saint-laurent",
          "moby_dick",
          "krill",
          "lamantin",
          "flotte_baleinier_japonais",
          "sea_shepherd",
          "ours_polaire",
          "requin_blanc",
          "paul_watson",
          "calmar_géant",
          "requin_marteau",
          "pieuvre_géant",
          "mer_austral",
          "mégaptère_baleine",
          "dugong",
          "requin_baleine",
          "flotte_baleinier",
          "pinnipède",
          "oceanic_viking",
          "oiseau_marin",
          "raie_mantas",
          "baleine"
         ],
         "textfont": {
          "size": 10
         },
         "textposition": "top center",
         "type": "scatter",
         "x": [
          -5.409426212310791,
          -5.296078205108643,
          -6.490519046783447,
          -5.460421562194824,
          -5.554508686065674,
          -1.6319687366485596,
          -4.755100727081299,
          -5.395755290985107,
          -7.23809814453125,
          -1.616122841835022,
          -1.7579103708267212,
          -4.6941914558410645,
          -1.9286267757415771,
          -1.9942491054534912,
          -6.587108612060547,
          0.20788370072841644,
          -4.634839057922363,
          -1.4872781038284302,
          -1.9459867477416992,
          -7.343753337860107,
          -6.620260238647461,
          -6.854665756225586,
          0.9756956696510315,
          -2.0154247283935547,
          -7.192725658416748,
          -6.366902828216553,
          -1.652376651763916,
          -5.291000843048096,
          -2.8939368724823,
          4.643919944763184,
          0.23022431135177612,
          -2.424258232116699,
          0.7393771409988403,
          -1.5276128053665161,
          -7.411226272583008,
          -1.6908262968063354,
          0.2395562380552292,
          -6.8693647384643555,
          0.3603411614894867,
          0.9391794800758362,
          0.3229244351387024,
          -2.8621342182159424,
          4.634336948394775,
          0.6851812601089478,
          0.30783286690711975,
          -2.0213327407836914,
          -3.2531838417053223,
          -1.6116102933883667,
          -4.624518871307373,
          0.4992094933986664,
          -5.376120567321777
         ],
         "y": [
          7.933453559875488,
          7.84446907043457,
          1.7480511665344238,
          8.005354881286621,
          7.7667236328125,
          6.365654468536377,
          7.417695045471191,
          7.909547805786133,
          1.0122544765472412,
          6.1929168701171875,
          6.8932037353515625,
          7.506036758422852,
          7.385116100311279,
          7.416079044342041,
          1.646714210510254,
          10.713513374328613,
          7.592954635620117,
          6.450008869171143,
          7.443362236022949,
          0.9128212332725525,
          1.622815489768982,
          1.385141134262085,
          11.084161758422852,
          7.501671314239502,
          1.0582889318466187,
          1.8713185787200928,
          6.313737869262695,
          7.988802433013916,
          7.4418158531188965,
          0.25771722197532654,
          11.530373573303223,
          12.229979515075684,
          11.345771789550781,
          7.730895042419434,
          0.8465760350227356,
          6.044428825378418,
          10.76509952545166,
          1.3672292232513428,
          11.445018768310547,
          11.104873657226562,
          11.45648193359375,
          7.433316707611084,
          0.20175369083881378,
          11.348174095153809,
          10.884746551513672,
          7.411860942840576,
          7.455766201019287,
          7.712001800537109,
          7.578799247741699,
          11.13459300994873,
          7.9111528396606445
         ]
        },
        {
         "marker": {
          "color": 1,
          "opacity": 0.8,
          "size": 10
         },
         "mode": "markers+text",
         "name": "poisson",
         "text": [
          "pêcher",
          "poisson-chat",
          "parfait_imbécile_heureux",
          "chinchard",
          "fraie",
          "poisson_pêcher",
          "poisson_carnivore",
          "poisson_pélagique",
          "crustacé",
          "omble",
          "tilapia",
          "saumon_truite",
          "poisson_prédateur",
          "vairon",
          "bonite",
          "omble_chevalier",
          "nageoire",
          "dorade_royal",
          "alevin",
          "carangue",
          "dorade_coryphèn",
          "baudroie",
          "rascasse",
          "tacaud",
          "truite",
          "thon_albacore",
          "éperlan",
          "truite_arc-en-ciel",
          "cyprinidé",
          "corégone",
          "crevette",
          "chevesne",
          "serran",
          "koï",
          "sardine_maquereau",
          "animal_aquatique",
          "barbillon",
          "carassin",
          "poisson_tropical",
          "vivaneal",
          "thazard",
          "dorade",
          "krill",
          "proie_vivant",
          "hotu",
          "poisson_carnassier",
          "poissonneux",
          "salmonidé",
          "vessie_natatoire",
          "flétan",
          "poisson"
         ],
         "textfont": {
          "size": 10
         },
         "textposition": "top center",
         "type": "scatter",
         "x": [
          3.9162871837615967,
          3.8126511573791504,
          0.915628969669342,
          0.19183999300003052,
          1.7438225746154785,
          1.1572335958480835,
          4.251007080078125,
          1.3482481241226196,
          -7.809711456298828,
          -4.747121334075928,
          3.8571338653564453,
          0.6928187012672424,
          3.8090624809265137,
          1.8348637819290161,
          1.2642803192138672,
          -4.75260066986084,
          4.461275100708008,
          0.8753222227096558,
          2.2004175186157227,
          0.9739914536476135,
          1.18932044506073,
          -7.817451000213623,
          -7.878846168518066,
          0.39549416303634644,
          -4.749561786651611,
          1.3096615076065063,
          -7.654398441314697,
          0.11519530415534973,
          1.9933310747146606,
          2.1519854068756104,
          0.1700952649116516,
          1.8004536628723145,
          0.8252466917037964,
          4.267507076263428,
          0.7387849688529968,
          3.790635585784912,
          4.419694423675537,
          -7.592123985290527,
          0.4438766837120056,
          0.9707419276237488,
          1.0449503660202026,
          -7.746415138244629,
          -2.393878221511841,
          3.758878707885742,
          1.7188032865524292,
          1.4662564992904663,
          0.6231070756912231,
          2.1927666664123535,
          3.841984748840332,
          -7.808084011077881,
          3.898690700531006
         ],
         "y": [
          7.9720072746276855,
          7.655093669891357,
          6.637664318084717,
          6.214596748352051,
          7.948884963989258,
          5.7615227699279785,
          7.512721061706543,
          5.508686542510986,
          -4.645840644836426,
          2.886146068572998,
          7.303940773010254,
          6.694337368011475,
          7.2696990966796875,
          8.025040626525879,
          5.410044193267822,
          2.884798526763916,
          7.692988872528076,
          6.471521854400635,
          8.642611503601074,
          11.07397747039795,
          5.7229905128479,
          -4.653327465057373,
          -4.714732646942139,
          6.140553951263428,
          2.8858375549316406,
          5.479729652404785,
          -4.482074737548828,
          6.291500568389893,
          8.326682090759277,
          8.557026863098145,
          6.233034133911133,
          8.003376960754395,
          6.465112686157227,
          7.553738117218018,
          6.486631870269775,
          7.202558517456055,
          7.653403282165527,
          -4.4192328453063965,
          11.171191215515137,
          6.4275994300842285,
          6.05399751663208,
          -4.581329345703125,
          12.200207710266113,
          7.214191913604736,
          7.915690898895264,
          7.5375261306762695,
          6.740987300872803,
          8.626716613769531,
          7.265791416168213,
          -4.6441168785095215,
          7.965907573699951
         ]
        },
        {
         "marker": {
          "color": 2,
          "opacity": 0.8,
          "size": 10
         },
         "mode": "markers+text",
         "name": "lion",
         "text": [
          "attaque_shinji_takahashi_genin",
          "bunke_pv_chakra_atk",
          "richard_csur",
          "lionceau",
          "suukou_byakugan_multiplicateur",
          "def_vivre_tsuji",
          "tigre",
          "françois_grether_yves",
          "combat_pv_chakra",
          "androclès",
          "sullias",
          "léopard",
          "rdv_anpe_rue",
          "armoire_magique",
          "aigle",
          "hyène",
          "lions",
          "mouton_ben_gourion",
          "sandro_esperanto",
          "chrimogen_promotion_citoyen",
          "epopée_européenne",
          "antilope",
          "eléphants",
          "dompteur",
          "narnia_chapitre",
          "éléphant",
          "rosenau_innovation_avec",
          "rugissement",
          "bélier_ascendant",
          "lion_rugir",
          "hyènes",
          "lion_affamer",
          "oryx",
          "web_association_maili",
          "congrès_atria",
          "animal_fétiche",
          "fauves",
          "rugir",
          "troyes_yvain",
          "tisa_terre",
          "alain_ruscio_affaire_redeker",
          "tigresse",
          "éléphant_girafe",
          "gueules_brocher",
          "dragon",
          "crocodile",
          "bête_sauvage",
          "serpent",
          "belier",
          "membré",
          "lion"
         ],
         "textfont": {
          "size": 10
         },
         "textposition": "top center",
         "type": "scatter",
         "x": [
          4.850172519683838,
          -2.3313510417938232,
          3.622116804122925,
          -2.0850110054016113,
          5.188237190246582,
          -2.3458313941955566,
          8.224553108215332,
          5.054966926574707,
          5.279305458068848,
          4.926863193511963,
          3.9516005516052246,
          8.20223617553711,
          4.778701305389404,
          6.81792688369751,
          5.547574520111084,
          8.083717346191406,
          -2.278078556060791,
          3.581934690475464,
          5.149949073791504,
          12.172000885009766,
          5.1647138595581055,
          8.240592956542969,
          -2.241685390472412,
          5.49556303024292,
          6.820533752441406,
          7.9709272384643555,
          12.17197322845459,
          5.867281913757324,
          4.543942928314209,
          5.6047797203063965,
          4.792875289916992,
          4.933801174163818,
          8.051304817199707,
          16.349512100219727,
          5.016392707824707,
          5.096405029296875,
          5.64586067199707,
          5.949435234069824,
          3.6030728816986084,
          16.348873138427734,
          3.4718785285949707,
          5.144964694976807,
          7.705214023590088,
          5.501493453979492,
          6.8194379806518555,
          7.928284645080566,
          5.7249836921691895,
          0.2851758897304535,
          4.535533428192139,
          5.550205230712891,
          -2.0578722953796387
         ],
         "y": [
          0.030629649758338928,
          1.4163647890090942,
          1.1002219915390015,
          1.1687545776367188,
          0.4861915111541748,
          1.4303375482559204,
          0.43467676639556885,
          -0.0879763811826706,
          0.5469346046447754,
          0.1822395771741867,
          0.8324655890464783,
          0.47941938042640686,
          0.013523648492991924,
          3.921985149383545,
          -0.5804686546325684,
          0.5328001379966736,
          1.3630694150924683,
          1.132262110710144,
          0.12451020628213882,
          8.258806228637695,
          -0.018879365175962448,
          0.6836569905281067,
          1.3248974084854126,
          -1.0908403396606445,
          3.9389002323150635,
          0.7049956321716309,
          8.258817672729492,
          -1.4224854707717896,
          -0.13611090183258057,
          -1.1857839822769165,
          0.0439678356051445,
          -0.026383843272924423,
          0.5899500846862793,
          3.4679806232452393,
          0.3584248125553131,
          -0.3420894145965576,
          -1.2277194261550903,
          -1.4904353618621826,
          1.1154985427856445,
          3.4677412509918213,
          1.2422350645065308,
          -0.3461577296257019,
          0.48000892996788025,
          -0.5569948554039001,
          3.931777238845825,
          0.7181906700134277,
          -1.2954846620559692,
          11.533159255981445,
          -0.17069973051548004,
          -0.5946812629699707,
          1.1412967443466187
         ]
        },
        {
         "marker": {
          "color": 3,
          "opacity": 0.8,
          "size": 10
         },
         "mode": "markers+text",
         "name": "festival",
         "text": [
          "festival_international",
          "festival_itinérant",
          "festival_off",
          "festivals",
          "festivalier",
          "vieille_charrues",
          "festival_jazz",
          "jazz_festival",
          "francofolies",
          "concert",
          "festival_internationnal",
          "programmation_éclectique",
          "tremplin_musical",
          "dixième_édition",
          "francofffonies",
          "ciné-concert",
          "festival_estival",
          "picardie_mouv",
          "festi",
          "sixième_édition",
          "espace_miramar",
          "long_métrage_fiction",
          "onzième_édition",
          "musicalarue",
          "vieilles_charrues",
          "saint-chartier",
          "mimos",
          "transmusicale",
          "festiv",
          "festival_oenovidéo",
          "ososphère",
          "estivales",
          "court_métrage",
          "biennale",
          "courts-métrage",
          "eurockéennes",
          "nuits_vertes",
          "jeunes_talents",
          "cinémas",
          "centre_wallonie-bruxelles",
          "spectacle",
          "sous_chapiteau",
          "calvi_jazz",
          "francofolie",
          "avignon_off",
          "francofffonie",
          "cinéville",
          "jeunes_talent",
          "transmusicales",
          "manifestation_culturel",
          "festival"
         ],
         "textfont": {
          "size": 10
         },
         "textposition": "top center",
         "type": "scatter",
         "x": [
          0.11881711333990097,
          -1.2600889205932617,
          0.19446410238742828,
          -1.150310754776001,
          -1.1232740879058838,
          -1.7549233436584473,
          -1.4238619804382324,
          -1.5216225385665894,
          -1.773094654083252,
          0.6662876009941101,
          0.31747573614120483,
          -1.0308372974395752,
          0.6580501198768616,
          1.233837604522705,
          0.0762275755405426,
          1.283900260925293,
          -1.358293056488037,
          -1.3643410205841064,
          0.2349528670310974,
          1.228946328163147,
          0.7718689441680908,
          1.0929694175720215,
          1.0099684000015259,
          -1.0313318967819214,
          -1.3866515159606934,
          0.4055464267730713,
          0.4182082712650299,
          -1.2490788698196411,
          0.6778416633605957,
          1.0896748304367065,
          0.5299723148345947,
          -1.2539379596710205,
          8.717926979064941,
          -1.194063425064087,
          8.71778392791748,
          -1.7863084077835083,
          -1.1129779815673828,
          0.5622013807296753,
          1.2952784299850464,
          0.5603675842285156,
          -1.5551329851150513,
          -1.4795151948928833,
          0.2995072901248932,
          -1.749352216720581,
          0.20501498878002167,
          -0.039579518139362335,
          1.2611215114593506,
          0.5425841212272644,
          -1.3014804124832153,
          -1.0408482551574707,
          0.152651846408844
         ],
         "y": [
          -5.7067179679870605,
          -2.814145565032959,
          -5.584972381591797,
          -2.9126272201538086,
          -2.9153518676757812,
          -5.684520721435547,
          -2.7531678676605225,
          -2.720205307006836,
          -5.703978061676025,
          -3.356501340866089,
          -4.545799255371094,
          -2.6727137565612793,
          -3.3749380111694336,
          -4.197751522064209,
          -4.218409061431885,
          -5.254914283752441,
          -5.455316066741943,
          -5.451244354248047,
          -4.716679096221924,
          -4.212600231170654,
          -4.324911594390869,
          -5.083251476287842,
          -4.326190948486328,
          -3.5110607147216797,
          -5.47239351272583,
          -4.368548393249512,
          -4.354350566864014,
          -5.311895370483398,
          -3.347811460494995,
          -5.082831859588623,
          -4.749734878540039,
          -3.521373748779297,
          12.007039070129395,
          -2.9230449199676514,
          12.007283210754395,
          -5.705699920654297,
          -3.5801548957824707,
          -3.5476737022399902,
          -5.274956703186035,
          -4.8748393058776855,
          -3.5852928161621094,
          -3.62009596824646,
          -4.263998031616211,
          -5.683921813964844,
          -5.344200611114502,
          -4.315512657165527,
          -5.2375359535217285,
          -3.589226484298706,
          -5.3749918937683105,
          -2.505380392074585,
          -5.663046360015869
         ]
        }
       ],
       "layout": {
        "font": {
         "family": "Arial",
         "size": 10
        },
        "height": 600,
        "legend": {
         "font": {
          "color": "black"
         },
         "x": 1,
         "y": 0.5
        },
        "margin": {
         "b": 0,
         "l": 0,
         "r": 0,
         "t": 0
        },
        "showlegend": true,
        "template": {
         "data": {
          "bar": [
           {
            "error_x": {
             "color": "#2a3f5f"
            },
            "error_y": {
             "color": "#2a3f5f"
            },
            "marker": {
             "line": {
              "color": "#E5ECF6",
              "width": 0.5
             },
             "pattern": {
              "fillmode": "overlay",
              "size": 10,
              "solidity": 0.2
             }
            },
            "type": "bar"
           }
          ],
          "barpolar": [
           {
            "marker": {
             "line": {
              "color": "#E5ECF6",
              "width": 0.5
             },
             "pattern": {
              "fillmode": "overlay",
              "size": 10,
              "solidity": 0.2
             }
            },
            "type": "barpolar"
           }
          ],
          "carpet": [
           {
            "aaxis": {
             "endlinecolor": "#2a3f5f",
             "gridcolor": "white",
             "linecolor": "white",
             "minorgridcolor": "white",
             "startlinecolor": "#2a3f5f"
            },
            "baxis": {
             "endlinecolor": "#2a3f5f",
             "gridcolor": "white",
             "linecolor": "white",
             "minorgridcolor": "white",
             "startlinecolor": "#2a3f5f"
            },
            "type": "carpet"
           }
          ],
          "choropleth": [
           {
            "colorbar": {
             "outlinewidth": 0,
             "ticks": ""
            },
            "type": "choropleth"
           }
          ],
          "contour": [
           {
            "colorbar": {
             "outlinewidth": 0,
             "ticks": ""
            },
            "colorscale": [
             [
              0,
              "#0d0887"
             ],
             [
              0.1111111111111111,
              "#46039f"
             ],
             [
              0.2222222222222222,
              "#7201a8"
             ],
             [
              0.3333333333333333,
              "#9c179e"
             ],
             [
              0.4444444444444444,
              "#bd3786"
             ],
             [
              0.5555555555555556,
              "#d8576b"
             ],
             [
              0.6666666666666666,
              "#ed7953"
             ],
             [
              0.7777777777777778,
              "#fb9f3a"
             ],
             [
              0.8888888888888888,
              "#fdca26"
             ],
             [
              1,
              "#f0f921"
             ]
            ],
            "type": "contour"
           }
          ],
          "contourcarpet": [
           {
            "colorbar": {
             "outlinewidth": 0,
             "ticks": ""
            },
            "type": "contourcarpet"
           }
          ],
          "heatmap": [
           {
            "colorbar": {
             "outlinewidth": 0,
             "ticks": ""
            },
            "colorscale": [
             [
              0,
              "#0d0887"
             ],
             [
              0.1111111111111111,
              "#46039f"
             ],
             [
              0.2222222222222222,
              "#7201a8"
             ],
             [
              0.3333333333333333,
              "#9c179e"
             ],
             [
              0.4444444444444444,
              "#bd3786"
             ],
             [
              0.5555555555555556,
              "#d8576b"
             ],
             [
              0.6666666666666666,
              "#ed7953"
             ],
             [
              0.7777777777777778,
              "#fb9f3a"
             ],
             [
              0.8888888888888888,
              "#fdca26"
             ],
             [
              1,
              "#f0f921"
             ]
            ],
            "type": "heatmap"
           }
          ],
          "heatmapgl": [
           {
            "colorbar": {
             "outlinewidth": 0,
             "ticks": ""
            },
            "colorscale": [
             [
              0,
              "#0d0887"
             ],
             [
              0.1111111111111111,
              "#46039f"
             ],
             [
              0.2222222222222222,
              "#7201a8"
             ],
             [
              0.3333333333333333,
              "#9c179e"
             ],
             [
              0.4444444444444444,
              "#bd3786"
             ],
             [
              0.5555555555555556,
              "#d8576b"
             ],
             [
              0.6666666666666666,
              "#ed7953"
             ],
             [
              0.7777777777777778,
              "#fb9f3a"
             ],
             [
              0.8888888888888888,
              "#fdca26"
             ],
             [
              1,
              "#f0f921"
             ]
            ],
            "type": "heatmapgl"
           }
          ],
          "histogram": [
           {
            "marker": {
             "pattern": {
              "fillmode": "overlay",
              "size": 10,
              "solidity": 0.2
             }
            },
            "type": "histogram"
           }
          ],
          "histogram2d": [
           {
            "colorbar": {
             "outlinewidth": 0,
             "ticks": ""
            },
            "colorscale": [
             [
              0,
              "#0d0887"
             ],
             [
              0.1111111111111111,
              "#46039f"
             ],
             [
              0.2222222222222222,
              "#7201a8"
             ],
             [
              0.3333333333333333,
              "#9c179e"
             ],
             [
              0.4444444444444444,
              "#bd3786"
             ],
             [
              0.5555555555555556,
              "#d8576b"
             ],
             [
              0.6666666666666666,
              "#ed7953"
             ],
             [
              0.7777777777777778,
              "#fb9f3a"
             ],
             [
              0.8888888888888888,
              "#fdca26"
             ],
             [
              1,
              "#f0f921"
             ]
            ],
            "type": "histogram2d"
           }
          ],
          "histogram2dcontour": [
           {
            "colorbar": {
             "outlinewidth": 0,
             "ticks": ""
            },
            "colorscale": [
             [
              0,
              "#0d0887"
             ],
             [
              0.1111111111111111,
              "#46039f"
             ],
             [
              0.2222222222222222,
              "#7201a8"
             ],
             [
              0.3333333333333333,
              "#9c179e"
             ],
             [
              0.4444444444444444,
              "#bd3786"
             ],
             [
              0.5555555555555556,
              "#d8576b"
             ],
             [
              0.6666666666666666,
              "#ed7953"
             ],
             [
              0.7777777777777778,
              "#fb9f3a"
             ],
             [
              0.8888888888888888,
              "#fdca26"
             ],
             [
              1,
              "#f0f921"
             ]
            ],
            "type": "histogram2dcontour"
           }
          ],
          "mesh3d": [
           {
            "colorbar": {
             "outlinewidth": 0,
             "ticks": ""
            },
            "type": "mesh3d"
           }
          ],
          "parcoords": [
           {
            "line": {
             "colorbar": {
              "outlinewidth": 0,
              "ticks": ""
             }
            },
            "type": "parcoords"
           }
          ],
          "pie": [
           {
            "automargin": true,
            "type": "pie"
           }
          ],
          "scatter": [
           {
            "fillpattern": {
             "fillmode": "overlay",
             "size": 10,
             "solidity": 0.2
            },
            "type": "scatter"
           }
          ],
          "scatter3d": [
           {
            "line": {
             "colorbar": {
              "outlinewidth": 0,
              "ticks": ""
             }
            },
            "marker": {
             "colorbar": {
              "outlinewidth": 0,
              "ticks": ""
             }
            },
            "type": "scatter3d"
           }
          ],
          "scattercarpet": [
           {
            "marker": {
             "colorbar": {
              "outlinewidth": 0,
              "ticks": ""
             }
            },
            "type": "scattercarpet"
           }
          ],
          "scattergeo": [
           {
            "marker": {
             "colorbar": {
              "outlinewidth": 0,
              "ticks": ""
             }
            },
            "type": "scattergeo"
           }
          ],
          "scattergl": [
           {
            "marker": {
             "colorbar": {
              "outlinewidth": 0,
              "ticks": ""
             }
            },
            "type": "scattergl"
           }
          ],
          "scattermapbox": [
           {
            "marker": {
             "colorbar": {
              "outlinewidth": 0,
              "ticks": ""
             }
            },
            "type": "scattermapbox"
           }
          ],
          "scatterpolar": [
           {
            "marker": {
             "colorbar": {
              "outlinewidth": 0,
              "ticks": ""
             }
            },
            "type": "scatterpolar"
           }
          ],
          "scatterpolargl": [
           {
            "marker": {
             "colorbar": {
              "outlinewidth": 0,
              "ticks": ""
             }
            },
            "type": "scatterpolargl"
           }
          ],
          "scatterternary": [
           {
            "marker": {
             "colorbar": {
              "outlinewidth": 0,
              "ticks": ""
             }
            },
            "type": "scatterternary"
           }
          ],
          "surface": [
           {
            "colorbar": {
             "outlinewidth": 0,
             "ticks": ""
            },
            "colorscale": [
             [
              0,
              "#0d0887"
             ],
             [
              0.1111111111111111,
              "#46039f"
             ],
             [
              0.2222222222222222,
              "#7201a8"
             ],
             [
              0.3333333333333333,
              "#9c179e"
             ],
             [
              0.4444444444444444,
              "#bd3786"
             ],
             [
              0.5555555555555556,
              "#d8576b"
             ],
             [
              0.6666666666666666,
              "#ed7953"
             ],
             [
              0.7777777777777778,
              "#fb9f3a"
             ],
             [
              0.8888888888888888,
              "#fdca26"
             ],
             [
              1,
              "#f0f921"
             ]
            ],
            "type": "surface"
           }
          ],
          "table": [
           {
            "cells": {
             "fill": {
              "color": "#EBF0F8"
             },
             "line": {
              "color": "white"
             }
            },
            "header": {
             "fill": {
              "color": "#C8D4E3"
             },
             "line": {
              "color": "white"
             }
            },
            "type": "table"
           }
          ]
         },
         "layout": {
          "annotationdefaults": {
           "arrowcolor": "#2a3f5f",
           "arrowhead": 0,
           "arrowwidth": 1
          },
          "autotypenumbers": "strict",
          "coloraxis": {
           "colorbar": {
            "outlinewidth": 0,
            "ticks": ""
           }
          },
          "colorscale": {
           "diverging": [
            [
             0,
             "#8e0152"
            ],
            [
             0.1,
             "#c51b7d"
            ],
            [
             0.2,
             "#de77ae"
            ],
            [
             0.3,
             "#f1b6da"
            ],
            [
             0.4,
             "#fde0ef"
            ],
            [
             0.5,
             "#f7f7f7"
            ],
            [
             0.6,
             "#e6f5d0"
            ],
            [
             0.7,
             "#b8e186"
            ],
            [
             0.8,
             "#7fbc41"
            ],
            [
             0.9,
             "#4d9221"
            ],
            [
             1,
             "#276419"
            ]
           ],
           "sequential": [
            [
             0,
             "#0d0887"
            ],
            [
             0.1111111111111111,
             "#46039f"
            ],
            [
             0.2222222222222222,
             "#7201a8"
            ],
            [
             0.3333333333333333,
             "#9c179e"
            ],
            [
             0.4444444444444444,
             "#bd3786"
            ],
            [
             0.5555555555555556,
             "#d8576b"
            ],
            [
             0.6666666666666666,
             "#ed7953"
            ],
            [
             0.7777777777777778,
             "#fb9f3a"
            ],
            [
             0.8888888888888888,
             "#fdca26"
            ],
            [
             1,
             "#f0f921"
            ]
           ],
           "sequentialminus": [
            [
             0,
             "#0d0887"
            ],
            [
             0.1111111111111111,
             "#46039f"
            ],
            [
             0.2222222222222222,
             "#7201a8"
            ],
            [
             0.3333333333333333,
             "#9c179e"
            ],
            [
             0.4444444444444444,
             "#bd3786"
            ],
            [
             0.5555555555555556,
             "#d8576b"
            ],
            [
             0.6666666666666666,
             "#ed7953"
            ],
            [
             0.7777777777777778,
             "#fb9f3a"
            ],
            [
             0.8888888888888888,
             "#fdca26"
            ],
            [
             1,
             "#f0f921"
            ]
           ]
          },
          "colorway": [
           "#636efa",
           "#EF553B",
           "#00cc96",
           "#ab63fa",
           "#FFA15A",
           "#19d3f3",
           "#FF6692",
           "#B6E880",
           "#FF97FF",
           "#FECB52"
          ],
          "font": {
           "color": "#2a3f5f"
          },
          "geo": {
           "bgcolor": "white",
           "lakecolor": "white",
           "landcolor": "#E5ECF6",
           "showlakes": true,
           "showland": true,
           "subunitcolor": "white"
          },
          "hoverlabel": {
           "align": "left"
          },
          "hovermode": "closest",
          "mapbox": {
           "style": "light"
          },
          "paper_bgcolor": "white",
          "plot_bgcolor": "#E5ECF6",
          "polar": {
           "angularaxis": {
            "gridcolor": "white",
            "linecolor": "white",
            "ticks": ""
           },
           "bgcolor": "#E5ECF6",
           "radialaxis": {
            "gridcolor": "white",
            "linecolor": "white",
            "ticks": ""
           }
          },
          "scene": {
           "xaxis": {
            "backgroundcolor": "#E5ECF6",
            "gridcolor": "white",
            "gridwidth": 2,
            "linecolor": "white",
            "showbackground": true,
            "ticks": "",
            "zerolinecolor": "white"
           },
           "yaxis": {
            "backgroundcolor": "#E5ECF6",
            "gridcolor": "white",
            "gridwidth": 2,
            "linecolor": "white",
            "showbackground": true,
            "ticks": "",
            "zerolinecolor": "white"
           },
           "zaxis": {
            "backgroundcolor": "#E5ECF6",
            "gridcolor": "white",
            "gridwidth": 2,
            "linecolor": "white",
            "showbackground": true,
            "ticks": "",
            "zerolinecolor": "white"
           }
          },
          "shapedefaults": {
           "line": {
            "color": "#2a3f5f"
           }
          },
          "ternary": {
           "aaxis": {
            "gridcolor": "white",
            "linecolor": "white",
            "ticks": ""
           },
           "baxis": {
            "gridcolor": "white",
            "linecolor": "white",
            "ticks": ""
           },
           "bgcolor": "#E5ECF6",
           "caxis": {
            "gridcolor": "white",
            "linecolor": "white",
            "ticks": ""
           }
          },
          "title": {
           "x": 0.05
          },
          "xaxis": {
           "automargin": true,
           "gridcolor": "white",
           "linecolor": "white",
           "ticks": "",
           "title": {
            "standoff": 15
           },
           "zerolinecolor": "white",
           "zerolinewidth": 2
          },
          "yaxis": {
           "automargin": true,
           "gridcolor": "white",
           "linecolor": "white",
           "ticks": "",
           "title": {
            "standoff": 15
           },
           "zerolinecolor": "white",
           "zerolinewidth": 2
          }
         }
        },
        "width": 800
       }
      }
     },
     "metadata": {},
     "output_type": "display_data"
    }
   ],
   "source": [
    "# Question 4c\n",
    "neigb_count = 2 # paramètre de mauvaise qualité\n",
    "display_dimred_neighbors(model, word_list, n_components=2, topn=topn, method='isomap', n_neighbors=neigb_count)\n",
    "display_dimred_neighbors(model, word_list, n_components=2, topn=topn, method='tsne', n_neighbors=neigb_count)\n",
    "display_dimred_neighbors(model, word_list, n_components=2, topn=topn, method='umap', n_neighbors=neigb_count)"
   ]
  },
  {
   "cell_type": "markdown",
   "id": "3b29ebc0",
   "metadata": {},
   "source": [
    "Avec un nombre de voisins égal à 2, les clusters semblent se diviser en sous clusters encore plus petits. Cela dit, même avec des valeurs égal à 4 ou 5 (donc très petit par rapport au nombre total de points), on obtient d'assez bon résultats de clustering.\n",
    "\n",
    "Exemple avec n_neighbors = 4 :"
   ]
  },
  {
   "cell_type": "code",
   "execution_count": 151,
   "id": "d9200ef0",
   "metadata": {},
   "outputs": [
    {
     "data": {
      "application/vnd.plotly.v1+json": {
       "config": {
        "plotlyServerURL": "https://plot.ly"
       },
       "data": [
        {
         "marker": {
          "color": 0,
          "opacity": 0.8,
          "size": 10
         },
         "mode": "markers+text",
         "name": "baleine",
         "text": [
          "rorqual",
          "phoque",
          "petit_rorqual",
          "rorqual_commun",
          "cachalot",
          "mégaptère",
          "cétacé",
          "baleine_bleu",
          "baleinier",
          "béluga",
          "baleine_franc",
          "mammifère_marin",
          "baleine_gris",
          "chasse_baleinier",
          "commission_baleinier",
          "requin",
          "cétacés",
          "épaulard",
          "baleineau",
          "steve_irwin",
          "minke",
          "sanctuaire_baleinier",
          "otarie",
          "cachalots",
          "baleinier_japonais",
          "bébé_phoque",
          "nokosa",
          "dauphin",
          "cetace",
          "golfe_saint-laurent",
          "moby_dick",
          "krill",
          "lamantin",
          "flotte_baleinier_japonais",
          "sea_shepherd",
          "ours_polaire",
          "requin_blanc",
          "paul_watson",
          "calmar_géant",
          "requin_marteau",
          "pieuvre_géant",
          "mer_austral",
          "mégaptère_baleine",
          "dugong",
          "requin_baleine",
          "flotte_baleinier",
          "pinnipède",
          "oceanic_viking",
          "oiseau_marin",
          "raie_mantas",
          "baleine"
         ],
         "textfont": {
          "size": 10
         },
         "textposition": "top center",
         "type": "scatter",
         "x": [
          2.9523558616638184,
          3.1335020065307617,
          3.0538864135742188,
          3.150214672088623,
          3.1586456298828125,
          3.5988540649414062,
          3.1934540271759033,
          3.3242909908294678,
          3.6176464557647705,
          3.348684787750244,
          2.958076238632202,
          3.1638846397399902,
          2.7545061111450195,
          3.019662380218506,
          3.225606918334961,
          1.6467463970184326,
          3.119255304336548,
          3.6575679779052734,
          2.964390754699707,
          3.605975389480591,
          3.2723090648651123,
          3.3388054370880127,
          2.073819160461426,
          2.7580935955047607,
          3.504033088684082,
          2.940617084503174,
          3.6442065238952637,
          2.497826337814331,
          2.695551872253418,
          3.495983600616455,
          2.342860698699951,
          -1.3300946950912476,
          2.6972861289978027,
          3.3025801181793213,
          3.634272813796997,
          3.3230865001678467,
          1.835815668106079,
          3.4446117877960205,
          2.2245168685913086,
          1.890617847442627,
          2.255819320678711,
          2.8146274089813232,
          3.5426852703094482,
          2.623260259628296,
          1.7960178852081299,
          3.1951851844787598,
          2.537294626235962,
          2.8493380546569824,
          3.065556526184082,
          2.1295759677886963,
          3.1968600749969482
         ],
         "y": [
          4.142303943634033,
          3.93387508392334,
          3.5772573947906494,
          4.408093452453613,
          4.384003162384033,
          3.420379161834717,
          4.723315715789795,
          4.406508922576904,
          2.106844425201416,
          3.8684158325195312,
          3.143129587173462,
          4.685270309448242,
          3.061239719390869,
          2.98848032951355,
          2.5670325756073,
          3.35111403465271,
          4.322083473205566,
          3.4358174800872803,
          2.946928024291992,
          1.987595796585083,
          2.8030128479003906,
          2.4732325077056885,
          3.649409532546997,
          2.8442795276641846,
          2.089385986328125,
          3.46083402633667,
          3.310887098312378,
          4.008291721343994,
          2.5208375453948975,
          3.074876308441162,
          2.6519198417663574,
          2.7102248668670654,
          1.8633478879928589,
          2.157907247543335,
          1.9851353168487549,
          3.9006614685058594,
          3.4880943298339844,
          2.4975130558013916,
          2.78621506690979,
          3.4463870525360107,
          2.636009931564331,
          2.6265406608581543,
          3.0136771202087402,
          1.9643231630325317,
          3.4557530879974365,
          2.303406238555908,
          2.211686849594116,
          2.4428553581237793,
          4.302334785461426,
          2.9175808429718018,
          4.294820308685303
         ]
        },
        {
         "marker": {
          "color": 1,
          "opacity": 0.8,
          "size": 10
         },
         "mode": "markers+text",
         "name": "poisson",
         "text": [
          "pêcher",
          "poisson-chat",
          "parfait_imbécile_heureux",
          "chinchard",
          "fraie",
          "poisson_pêcher",
          "poisson_carnivore",
          "poisson_pélagique",
          "crustacé",
          "omble",
          "tilapia",
          "saumon_truite",
          "poisson_prédateur",
          "vairon",
          "bonite",
          "omble_chevalier",
          "nageoire",
          "dorade_royal",
          "alevin",
          "carangue",
          "dorade_coryphèn",
          "baudroie",
          "rascasse",
          "tacaud",
          "truite",
          "thon_albacore",
          "éperlan",
          "truite_arc-en-ciel",
          "cyprinidé",
          "corégone",
          "crevette",
          "chevesne",
          "serran",
          "koï",
          "sardine_maquereau",
          "animal_aquatique",
          "barbillon",
          "carassin",
          "poisson_tropical",
          "vivaneal",
          "thazard",
          "dorade",
          "krill",
          "proie_vivant",
          "hotu",
          "poisson_carnassier",
          "poissonneux",
          "salmonidé",
          "vessie_natatoire",
          "flétan",
          "poisson"
         ],
         "textfont": {
          "size": 10
         },
         "textposition": "top center",
         "type": "scatter",
         "x": [
          -0.5747917890548706,
          -0.31955304741859436,
          0.08591149002313614,
          -0.7097956538200378,
          -0.009766069240868092,
          -0.7429164052009583,
          0.513799786567688,
          -1.1076200008392334,
          -0.9024844169616699,
          0.23470625281333923,
          -0.04366253688931465,
          0.07592040300369263,
          0.37303799390792847,
          -0.3732454478740692,
          -1.0999335050582886,
          0.08191311359405518,
          0.692076563835144,
          -0.07012297958135605,
          0.3344925045967102,
          1.8452693223953247,
          -0.6837261319160461,
          -1.04629647731781,
          -0.8856492042541504,
          -0.3196115791797638,
          0.005951404105871916,
          -1.1019818782806396,
          -0.5269935131072998,
          -0.30430322885513306,
          0.21839091181755066,
          0.3995649218559265,
          -0.9830450415611267,
          -0.4845881462097168,
          0.37913405895233154,
          0.4888675808906555,
          0.25760895013809204,
          0.5842671990394592,
          0.5915380120277405,
          -0.4407152533531189,
          1.8014428615570068,
          0.2557854950428009,
          -0.2735217213630676,
          -1.2582392692565918,
          -1.2918052673339844,
          0.4445958137512207,
          -0.15318801999092102,
          -0.06875747442245483,
          -0.019253933802247047,
          0.3720538020133972,
          0.4519641101360321,
          -1.2008209228515625,
          -0.6944166421890259
         ],
         "y": [
          1.884513020515442,
          2.177656888961792,
          2.9480643272399902,
          3.3725366592407227,
          1.8360183238983154,
          2.591562509536743,
          2.5349032878875732,
          2.7844114303588867,
          3.5293068885803223,
          3.5130748748779297,
          2.5287132263183594,
          3.1942226886749268,
          2.391674280166626,
          1.757602572441101,
          3.0993924140930176,
          3.710538387298584,
          2.50262188911438,
          3.432328939437866,
          1.6520658731460571,
          3.482602596282959,
          2.835949659347534,
          3.5591094493865967,
          3.788806915283203,
          3.078504800796509,
          3.714897632598877,
          2.7738471031188965,
          3.0474462509155273,
          3.554478883743286,
          1.6269078254699707,
          1.5534441471099854,
          3.4600820541381836,
          1.9535129070281982,
          3.3581032752990723,
          3.0147881507873535,
          2.748623847961426,
          2.1709368228912354,
          2.600802183151245,
          2.891148090362549,
          3.0222203731536865,
          2.8352959156036377,
          2.915198564529419,
          3.571319103240967,
          2.69645357131958,
          2.217249631881714,
          1.9769625663757324,
          2.0691518783569336,
          3.219184637069702,
          1.5758452415466309,
          2.5441553592681885,
          3.628347396850586,
          2.207550287246704
         ]
        },
        {
         "marker": {
          "color": 2,
          "opacity": 0.8,
          "size": 10
         },
         "mode": "markers+text",
         "name": "lion",
         "text": [
          "attaque_shinji_takahashi_genin",
          "bunke_pv_chakra_atk",
          "richard_csur",
          "lionceau",
          "suukou_byakugan_multiplicateur",
          "def_vivre_tsuji",
          "tigre",
          "françois_grether_yves",
          "combat_pv_chakra",
          "androclès",
          "sullias",
          "léopard",
          "rdv_anpe_rue",
          "armoire_magique",
          "aigle",
          "hyène",
          "lions",
          "mouton_ben_gourion",
          "sandro_esperanto",
          "chrimogen_promotion_citoyen",
          "epopée_européenne",
          "antilope",
          "eléphants",
          "dompteur",
          "narnia_chapitre",
          "éléphant",
          "rosenau_innovation_avec",
          "rugissement",
          "bélier_ascendant",
          "lion_rugir",
          "hyènes",
          "lion_affamer",
          "oryx",
          "web_association_maili",
          "congrès_atria",
          "animal_fétiche",
          "fauves",
          "rugir",
          "troyes_yvain",
          "tisa_terre",
          "alain_ruscio_affaire_redeker",
          "tigresse",
          "éléphant_girafe",
          "gueules_brocher",
          "dragon",
          "crocodile",
          "bête_sauvage",
          "serpent",
          "belier",
          "membré",
          "lion"
         ],
         "textfont": {
          "size": 10
         },
         "textposition": "top center",
         "type": "scatter",
         "x": [
          7.360880374908447,
          6.812444686889648,
          7.473546028137207,
          6.239745140075684,
          6.954741477966309,
          6.8019208908081055,
          5.022924423217773,
          7.602145195007324,
          6.888160705566406,
          7.482895374298096,
          7.467010498046875,
          4.801751613616943,
          7.334389686584473,
          6.599486827850342,
          6.727193832397461,
          5.252519130706787,
          6.646088123321533,
          7.595814228057861,
          7.1806840896606445,
          7.227642059326172,
          7.133282661437988,
          4.404340744018555,
          6.479839324951172,
          5.763059139251709,
          6.678627014160156,
          4.9612836837768555,
          7.318171501159668,
          5.715826988220215,
          6.939498424530029,
          5.621949672698975,
          6.35364294052124,
          6.671082496643066,
          4.763360977172852,
          7.543783664703369,
          7.197297096252441,
          6.195530891418457,
          5.55186653137207,
          5.792804718017578,
          7.478906154632568,
          7.458070278167725,
          7.561656951904297,
          5.973397254943848,
          4.873857498168945,
          6.999633312225342,
          6.630286693572998,
          4.468921661376953,
          5.95741605758667,
          5.326112747192383,
          6.895399570465088,
          7.138250827789307,
          6.378377914428711
         ],
         "y": [
          0.8298876881599426,
          0.9771687388420105,
          -0.13943630456924438,
          0.02748173102736473,
          0.8517193794250488,
          0.9172088503837585,
          1.0587786436080933,
          0.24039797484874725,
          0.8001622557640076,
          0.4930344521999359,
          0.31524044275283813,
          1.0911409854888916,
          0.9194303750991821,
          -0.5413658618927002,
          0.2698703408241272,
          0.7911478877067566,
          0.14856070280075073,
          -0.10412347316741943,
          1.0415674448013306,
          1.3244088888168335,
          0.8756415843963623,
          1.1805444955825806,
          0.253188818693161,
          0.7895853519439697,
          -0.5473858714103699,
          0.8309677839279175,
          1.1533101797103882,
          0.44994160532951355,
          1.2177873849868774,
          0.6384937763214111,
          0.7179775238037109,
          1.0010886192321777,
          1.018878698348999,
          0.5460637211799622,
          0.31307199597358704,
          1.0328444242477417,
          0.6897246241569519,
          0.31666725873947144,
          -0.10157588869333267,
          0.5702694058418274,
          -0.016238192096352577,
          1.026192307472229,
          1.1182819604873657,
          0.45990779995918274,
          -0.6218796968460083,
          1.0997182130813599,
          0.6720916628837585,
          0.5929145812988281,
          1.1871159076690674,
          0.4508126974105835,
          -0.37620601058006287
         ]
        },
        {
         "marker": {
          "color": 3,
          "opacity": 0.8,
          "size": 10
         },
         "mode": "markers+text",
         "name": "festival",
         "text": [
          "festival_international",
          "festival_itinérant",
          "festival_off",
          "festivals",
          "festivalier",
          "vieille_charrues",
          "festival_jazz",
          "jazz_festival",
          "francofolies",
          "concert",
          "festival_internationnal",
          "programmation_éclectique",
          "tremplin_musical",
          "dixième_édition",
          "francofffonies",
          "ciné-concert",
          "festival_estival",
          "picardie_mouv",
          "festi",
          "sixième_édition",
          "espace_miramar",
          "long_métrage_fiction",
          "onzième_édition",
          "musicalarue",
          "vieilles_charrues",
          "saint-chartier",
          "mimos",
          "transmusicale",
          "festiv",
          "festival_oenovidéo",
          "ososphère",
          "estivales",
          "court_métrage",
          "biennale",
          "courts-métrage",
          "eurockéennes",
          "nuits_vertes",
          "jeunes_talents",
          "cinémas",
          "centre_wallonie-bruxelles",
          "spectacle",
          "sous_chapiteau",
          "calvi_jazz",
          "francofolie",
          "avignon_off",
          "francofffonie",
          "cinéville",
          "jeunes_talent",
          "transmusicales",
          "manifestation_culturel",
          "festival"
         ],
         "textfont": {
          "size": 10
         },
         "textposition": "top center",
         "type": "scatter",
         "x": [
          11.731887817382812,
          12.103123664855957,
          11.368390083312988,
          11.935628890991211,
          12.100532531738281,
          11.251220703125,
          12.40925121307373,
          12.453635215759277,
          11.19923210144043,
          12.028209686279297,
          11.185888290405273,
          12.18043041229248,
          11.822243690490723,
          11.987041473388672,
          11.173283576965332,
          10.655617713928223,
          11.749612808227539,
          10.979080200195312,
          11.866326332092285,
          12.037332534790039,
          11.51572036743164,
          11.10816478729248,
          11.81435775756836,
          11.489940643310547,
          11.120054244995117,
          11.214966773986816,
          11.141775131225586,
          11.054607391357422,
          11.72230052947998,
          11.377555847167969,
          10.986299514770508,
          11.970511436462402,
          10.740456581115723,
          12.207645416259766,
          10.688783645629883,
          11.412250518798828,
          11.309228897094727,
          10.982698440551758,
          11.01988697052002,
          11.147218704223633,
          12.36184024810791,
          12.283581733703613,
          10.96008014678955,
          11.361189842224121,
          10.904877662658691,
          11.303017616271973,
          10.85685920715332,
          10.914457321166992,
          10.908703804016113,
          12.354353904724121,
          11.618288040161133
         ],
         "y": [
          0.9274680018424988,
          2.0166144371032715,
          1.212438702583313,
          1.938050389289856,
          2.034801483154297,
          2.967743158340454,
          2.154785633087158,
          2.127803087234497,
          2.969071865081787,
          2.764146566390991,
          2.0312089920043945,
          2.594729423522949,
          2.6086654663085938,
          1.374212622642517,
          1.3826149702072144,
          1.1396231651306152,
          2.6314172744750977,
          2.527783155441284,
          2.0285844802856445,
          1.3741458654403687,
          1.8718572854995728,
          1.4394813776016235,
          1.5211559534072876,
          2.3018581867218018,
          2.6190853118896484,
          1.973260521888733,
          1.647992730140686,
          2.986668109893799,
          2.354811668395996,
          1.471137285232544,
          2.1269443035125732,
          2.4539783000946045,
          1.182504653930664,
          1.6612510681152344,
          1.135056734085083,
          2.9982333183288574,
          2.466634750366211,
          2.070552349090576,
          1.1043174266815186,
          1.567501425743103,
          2.656996011734009,
          2.675015687942505,
          1.925413966178894,
          3.0325682163238525,
          1.677518606185913,
          1.3992241621017456,
          1.1899199485778809,
          2.063115119934082,
          2.7933242321014404,
          2.4669456481933594,
          0.9592304825782776
         ]
        }
       ],
       "layout": {
        "font": {
         "family": "Arial",
         "size": 10
        },
        "height": 600,
        "legend": {
         "font": {
          "color": "black"
         },
         "x": 1,
         "y": 0.5
        },
        "margin": {
         "b": 0,
         "l": 0,
         "r": 0,
         "t": 0
        },
        "showlegend": true,
        "template": {
         "data": {
          "bar": [
           {
            "error_x": {
             "color": "#2a3f5f"
            },
            "error_y": {
             "color": "#2a3f5f"
            },
            "marker": {
             "line": {
              "color": "#E5ECF6",
              "width": 0.5
             },
             "pattern": {
              "fillmode": "overlay",
              "size": 10,
              "solidity": 0.2
             }
            },
            "type": "bar"
           }
          ],
          "barpolar": [
           {
            "marker": {
             "line": {
              "color": "#E5ECF6",
              "width": 0.5
             },
             "pattern": {
              "fillmode": "overlay",
              "size": 10,
              "solidity": 0.2
             }
            },
            "type": "barpolar"
           }
          ],
          "carpet": [
           {
            "aaxis": {
             "endlinecolor": "#2a3f5f",
             "gridcolor": "white",
             "linecolor": "white",
             "minorgridcolor": "white",
             "startlinecolor": "#2a3f5f"
            },
            "baxis": {
             "endlinecolor": "#2a3f5f",
             "gridcolor": "white",
             "linecolor": "white",
             "minorgridcolor": "white",
             "startlinecolor": "#2a3f5f"
            },
            "type": "carpet"
           }
          ],
          "choropleth": [
           {
            "colorbar": {
             "outlinewidth": 0,
             "ticks": ""
            },
            "type": "choropleth"
           }
          ],
          "contour": [
           {
            "colorbar": {
             "outlinewidth": 0,
             "ticks": ""
            },
            "colorscale": [
             [
              0,
              "#0d0887"
             ],
             [
              0.1111111111111111,
              "#46039f"
             ],
             [
              0.2222222222222222,
              "#7201a8"
             ],
             [
              0.3333333333333333,
              "#9c179e"
             ],
             [
              0.4444444444444444,
              "#bd3786"
             ],
             [
              0.5555555555555556,
              "#d8576b"
             ],
             [
              0.6666666666666666,
              "#ed7953"
             ],
             [
              0.7777777777777778,
              "#fb9f3a"
             ],
             [
              0.8888888888888888,
              "#fdca26"
             ],
             [
              1,
              "#f0f921"
             ]
            ],
            "type": "contour"
           }
          ],
          "contourcarpet": [
           {
            "colorbar": {
             "outlinewidth": 0,
             "ticks": ""
            },
            "type": "contourcarpet"
           }
          ],
          "heatmap": [
           {
            "colorbar": {
             "outlinewidth": 0,
             "ticks": ""
            },
            "colorscale": [
             [
              0,
              "#0d0887"
             ],
             [
              0.1111111111111111,
              "#46039f"
             ],
             [
              0.2222222222222222,
              "#7201a8"
             ],
             [
              0.3333333333333333,
              "#9c179e"
             ],
             [
              0.4444444444444444,
              "#bd3786"
             ],
             [
              0.5555555555555556,
              "#d8576b"
             ],
             [
              0.6666666666666666,
              "#ed7953"
             ],
             [
              0.7777777777777778,
              "#fb9f3a"
             ],
             [
              0.8888888888888888,
              "#fdca26"
             ],
             [
              1,
              "#f0f921"
             ]
            ],
            "type": "heatmap"
           }
          ],
          "heatmapgl": [
           {
            "colorbar": {
             "outlinewidth": 0,
             "ticks": ""
            },
            "colorscale": [
             [
              0,
              "#0d0887"
             ],
             [
              0.1111111111111111,
              "#46039f"
             ],
             [
              0.2222222222222222,
              "#7201a8"
             ],
             [
              0.3333333333333333,
              "#9c179e"
             ],
             [
              0.4444444444444444,
              "#bd3786"
             ],
             [
              0.5555555555555556,
              "#d8576b"
             ],
             [
              0.6666666666666666,
              "#ed7953"
             ],
             [
              0.7777777777777778,
              "#fb9f3a"
             ],
             [
              0.8888888888888888,
              "#fdca26"
             ],
             [
              1,
              "#f0f921"
             ]
            ],
            "type": "heatmapgl"
           }
          ],
          "histogram": [
           {
            "marker": {
             "pattern": {
              "fillmode": "overlay",
              "size": 10,
              "solidity": 0.2
             }
            },
            "type": "histogram"
           }
          ],
          "histogram2d": [
           {
            "colorbar": {
             "outlinewidth": 0,
             "ticks": ""
            },
            "colorscale": [
             [
              0,
              "#0d0887"
             ],
             [
              0.1111111111111111,
              "#46039f"
             ],
             [
              0.2222222222222222,
              "#7201a8"
             ],
             [
              0.3333333333333333,
              "#9c179e"
             ],
             [
              0.4444444444444444,
              "#bd3786"
             ],
             [
              0.5555555555555556,
              "#d8576b"
             ],
             [
              0.6666666666666666,
              "#ed7953"
             ],
             [
              0.7777777777777778,
              "#fb9f3a"
             ],
             [
              0.8888888888888888,
              "#fdca26"
             ],
             [
              1,
              "#f0f921"
             ]
            ],
            "type": "histogram2d"
           }
          ],
          "histogram2dcontour": [
           {
            "colorbar": {
             "outlinewidth": 0,
             "ticks": ""
            },
            "colorscale": [
             [
              0,
              "#0d0887"
             ],
             [
              0.1111111111111111,
              "#46039f"
             ],
             [
              0.2222222222222222,
              "#7201a8"
             ],
             [
              0.3333333333333333,
              "#9c179e"
             ],
             [
              0.4444444444444444,
              "#bd3786"
             ],
             [
              0.5555555555555556,
              "#d8576b"
             ],
             [
              0.6666666666666666,
              "#ed7953"
             ],
             [
              0.7777777777777778,
              "#fb9f3a"
             ],
             [
              0.8888888888888888,
              "#fdca26"
             ],
             [
              1,
              "#f0f921"
             ]
            ],
            "type": "histogram2dcontour"
           }
          ],
          "mesh3d": [
           {
            "colorbar": {
             "outlinewidth": 0,
             "ticks": ""
            },
            "type": "mesh3d"
           }
          ],
          "parcoords": [
           {
            "line": {
             "colorbar": {
              "outlinewidth": 0,
              "ticks": ""
             }
            },
            "type": "parcoords"
           }
          ],
          "pie": [
           {
            "automargin": true,
            "type": "pie"
           }
          ],
          "scatter": [
           {
            "fillpattern": {
             "fillmode": "overlay",
             "size": 10,
             "solidity": 0.2
            },
            "type": "scatter"
           }
          ],
          "scatter3d": [
           {
            "line": {
             "colorbar": {
              "outlinewidth": 0,
              "ticks": ""
             }
            },
            "marker": {
             "colorbar": {
              "outlinewidth": 0,
              "ticks": ""
             }
            },
            "type": "scatter3d"
           }
          ],
          "scattercarpet": [
           {
            "marker": {
             "colorbar": {
              "outlinewidth": 0,
              "ticks": ""
             }
            },
            "type": "scattercarpet"
           }
          ],
          "scattergeo": [
           {
            "marker": {
             "colorbar": {
              "outlinewidth": 0,
              "ticks": ""
             }
            },
            "type": "scattergeo"
           }
          ],
          "scattergl": [
           {
            "marker": {
             "colorbar": {
              "outlinewidth": 0,
              "ticks": ""
             }
            },
            "type": "scattergl"
           }
          ],
          "scattermapbox": [
           {
            "marker": {
             "colorbar": {
              "outlinewidth": 0,
              "ticks": ""
             }
            },
            "type": "scattermapbox"
           }
          ],
          "scatterpolar": [
           {
            "marker": {
             "colorbar": {
              "outlinewidth": 0,
              "ticks": ""
             }
            },
            "type": "scatterpolar"
           }
          ],
          "scatterpolargl": [
           {
            "marker": {
             "colorbar": {
              "outlinewidth": 0,
              "ticks": ""
             }
            },
            "type": "scatterpolargl"
           }
          ],
          "scatterternary": [
           {
            "marker": {
             "colorbar": {
              "outlinewidth": 0,
              "ticks": ""
             }
            },
            "type": "scatterternary"
           }
          ],
          "surface": [
           {
            "colorbar": {
             "outlinewidth": 0,
             "ticks": ""
            },
            "colorscale": [
             [
              0,
              "#0d0887"
             ],
             [
              0.1111111111111111,
              "#46039f"
             ],
             [
              0.2222222222222222,
              "#7201a8"
             ],
             [
              0.3333333333333333,
              "#9c179e"
             ],
             [
              0.4444444444444444,
              "#bd3786"
             ],
             [
              0.5555555555555556,
              "#d8576b"
             ],
             [
              0.6666666666666666,
              "#ed7953"
             ],
             [
              0.7777777777777778,
              "#fb9f3a"
             ],
             [
              0.8888888888888888,
              "#fdca26"
             ],
             [
              1,
              "#f0f921"
             ]
            ],
            "type": "surface"
           }
          ],
          "table": [
           {
            "cells": {
             "fill": {
              "color": "#EBF0F8"
             },
             "line": {
              "color": "white"
             }
            },
            "header": {
             "fill": {
              "color": "#C8D4E3"
             },
             "line": {
              "color": "white"
             }
            },
            "type": "table"
           }
          ]
         },
         "layout": {
          "annotationdefaults": {
           "arrowcolor": "#2a3f5f",
           "arrowhead": 0,
           "arrowwidth": 1
          },
          "autotypenumbers": "strict",
          "coloraxis": {
           "colorbar": {
            "outlinewidth": 0,
            "ticks": ""
           }
          },
          "colorscale": {
           "diverging": [
            [
             0,
             "#8e0152"
            ],
            [
             0.1,
             "#c51b7d"
            ],
            [
             0.2,
             "#de77ae"
            ],
            [
             0.3,
             "#f1b6da"
            ],
            [
             0.4,
             "#fde0ef"
            ],
            [
             0.5,
             "#f7f7f7"
            ],
            [
             0.6,
             "#e6f5d0"
            ],
            [
             0.7,
             "#b8e186"
            ],
            [
             0.8,
             "#7fbc41"
            ],
            [
             0.9,
             "#4d9221"
            ],
            [
             1,
             "#276419"
            ]
           ],
           "sequential": [
            [
             0,
             "#0d0887"
            ],
            [
             0.1111111111111111,
             "#46039f"
            ],
            [
             0.2222222222222222,
             "#7201a8"
            ],
            [
             0.3333333333333333,
             "#9c179e"
            ],
            [
             0.4444444444444444,
             "#bd3786"
            ],
            [
             0.5555555555555556,
             "#d8576b"
            ],
            [
             0.6666666666666666,
             "#ed7953"
            ],
            [
             0.7777777777777778,
             "#fb9f3a"
            ],
            [
             0.8888888888888888,
             "#fdca26"
            ],
            [
             1,
             "#f0f921"
            ]
           ],
           "sequentialminus": [
            [
             0,
             "#0d0887"
            ],
            [
             0.1111111111111111,
             "#46039f"
            ],
            [
             0.2222222222222222,
             "#7201a8"
            ],
            [
             0.3333333333333333,
             "#9c179e"
            ],
            [
             0.4444444444444444,
             "#bd3786"
            ],
            [
             0.5555555555555556,
             "#d8576b"
            ],
            [
             0.6666666666666666,
             "#ed7953"
            ],
            [
             0.7777777777777778,
             "#fb9f3a"
            ],
            [
             0.8888888888888888,
             "#fdca26"
            ],
            [
             1,
             "#f0f921"
            ]
           ]
          },
          "colorway": [
           "#636efa",
           "#EF553B",
           "#00cc96",
           "#ab63fa",
           "#FFA15A",
           "#19d3f3",
           "#FF6692",
           "#B6E880",
           "#FF97FF",
           "#FECB52"
          ],
          "font": {
           "color": "#2a3f5f"
          },
          "geo": {
           "bgcolor": "white",
           "lakecolor": "white",
           "landcolor": "#E5ECF6",
           "showlakes": true,
           "showland": true,
           "subunitcolor": "white"
          },
          "hoverlabel": {
           "align": "left"
          },
          "hovermode": "closest",
          "mapbox": {
           "style": "light"
          },
          "paper_bgcolor": "white",
          "plot_bgcolor": "#E5ECF6",
          "polar": {
           "angularaxis": {
            "gridcolor": "white",
            "linecolor": "white",
            "ticks": ""
           },
           "bgcolor": "#E5ECF6",
           "radialaxis": {
            "gridcolor": "white",
            "linecolor": "white",
            "ticks": ""
           }
          },
          "scene": {
           "xaxis": {
            "backgroundcolor": "#E5ECF6",
            "gridcolor": "white",
            "gridwidth": 2,
            "linecolor": "white",
            "showbackground": true,
            "ticks": "",
            "zerolinecolor": "white"
           },
           "yaxis": {
            "backgroundcolor": "#E5ECF6",
            "gridcolor": "white",
            "gridwidth": 2,
            "linecolor": "white",
            "showbackground": true,
            "ticks": "",
            "zerolinecolor": "white"
           },
           "zaxis": {
            "backgroundcolor": "#E5ECF6",
            "gridcolor": "white",
            "gridwidth": 2,
            "linecolor": "white",
            "showbackground": true,
            "ticks": "",
            "zerolinecolor": "white"
           }
          },
          "shapedefaults": {
           "line": {
            "color": "#2a3f5f"
           }
          },
          "ternary": {
           "aaxis": {
            "gridcolor": "white",
            "linecolor": "white",
            "ticks": ""
           },
           "baxis": {
            "gridcolor": "white",
            "linecolor": "white",
            "ticks": ""
           },
           "bgcolor": "#E5ECF6",
           "caxis": {
            "gridcolor": "white",
            "linecolor": "white",
            "ticks": ""
           }
          },
          "title": {
           "x": 0.05
          },
          "xaxis": {
           "automargin": true,
           "gridcolor": "white",
           "linecolor": "white",
           "ticks": "",
           "title": {
            "standoff": 15
           },
           "zerolinecolor": "white",
           "zerolinewidth": 2
          },
          "yaxis": {
           "automargin": true,
           "gridcolor": "white",
           "linecolor": "white",
           "ticks": "",
           "title": {
            "standoff": 15
           },
           "zerolinecolor": "white",
           "zerolinewidth": 2
          }
         }
        },
        "width": 800
       }
      }
     },
     "metadata": {},
     "output_type": "display_data"
    }
   ],
   "source": [
    "display_dimred_neighbors(model, word_list, 2, topn, 'umap', 4)"
   ]
  },
  {
   "cell_type": "markdown",
   "id": "6b7f9433",
   "metadata": {},
   "source": [
    "## 5. Outil d'assistance pour le jeu Cémantix\n",
    "\n",
    "Le jeu en ligne [Cémantix](https://cemantix.certitudes.org/) (aussi proposé sur le site [Dictaly](https://www.dictaly.com/semantiques/))  demande de deviner le *mot du jour* en l'approchant peu à peu par des mots candidats.  Pour chacun, le système indique pour sa similarité word2vec avec le *mot du jour*, ce qui permet de se rapprocher graduellement de la solution.  Expérimentez d'abord un court instant avec le jeu 😀.\n",
    "\n",
    "L'objectif de cette question est de visualiser les voisinages de mots, pour vous aider à proposer des mots candidats et trouver plus vite la solution.  La procédure est la suivante :\n",
    "* essayez trois mots au hasard dans Cémantix\n",
    "* affichez 20-30 mots voisins de ces trois mots grâce à la fonction `display_dimred_neighbors`\n",
    "* à l'aide des mots affichés, essayez des mots candidats dans Cémantix\n",
    "* changez l'affichage en remplaçant les trois mots par de meilleurs mots\n",
    "* continuez jusqu'à trouver le *mot du jour*\n",
    "\n",
    "**Notes**\n",
    "* si vous le souhaitez, vous pouvez utiliser le modèle word2vec identique à celui de Cémantix, qui est frWac_no_postag_phrase_500_cbow_cut10.bin fourni par [J.-Ph. Fauconnier](https://fauconnier.github.io/#data)\n",
    "* ce modèle fait environ 2.3 Go et contient aussi des expressions de plusieurs mots (séparés par '_')\n",
    "* vous pouvez choisir d'utiliser le petit ou le grand modèle, sachant qu'avec le premier, les suggestions sont moins pertinentes\n",
    "* Cémantix ignore les expressions de plusieurs mots présentes dans le grand modèle -- vous pouvez choisir de le faire ou non."
   ]
  },
  {
   "cell_type": "code",
   "execution_count": 152,
   "id": "0acf3589",
   "metadata": {
    "scrolled": false
   },
   "outputs": [
    {
     "data": {
      "application/vnd.plotly.v1+json": {
       "config": {
        "plotlyServerURL": "https://plot.ly"
       },
       "data": [
        {
         "marker": {
          "color": 0,
          "opacity": 0.8,
          "size": 10
         },
         "mode": "markers+text",
         "name": "exposition",
         "text": [
          "exposition_itinérant",
          "exposition_photographique",
          "expositions",
          "vernissage",
          "exposition_temporaire",
          "musée",
          "exposition_retracer",
          "exposition_permanent",
          "exposition_monographique",
          "expostion",
          "peinture_sculpture",
          "expositon",
          "exposition_rétrospectif",
          "expo",
          "fondation_cartier",
          "art_contemporain",
          "artiste_contemporain",
          "galerie",
          "parcours_chronologique",
          "visite_commenter",
          "halle_saint-pierre",
          "oeuvres_peinture_sculpture",
          "centre_georges_pompidou",
          "musée_bourdelle",
          "scénographie_original",
          "exposition_inaugural",
          "peinture_gravure",
          "exposition-dossier",
          "exposition_trésors",
          "exposition-vente",
          "exposition"
         ],
         "textfont": {
          "size": 10
         },
         "textposition": "top center",
         "type": "scatter",
         "x": [
          -7.498220920562744,
          -3.522048234939575,
          -5.491487979888916,
          -0.9781758785247803,
          -14.55706787109375,
          -11.858159065246582,
          -4.041043281555176,
          -12.717748641967773,
          1.4895777702331543,
          1.679429292678833,
          0.7996801733970642,
          2.6929008960723877,
          1.3756170272827148,
          -1.3870031833648682,
          0.8078677654266357,
          -3.7785260677337646,
          1.1385716199874878,
          -1.345342993736267,
          -0.5153985619544983,
          -13.365251541137695,
          2.6216230392456055,
          2.371765613555908,
          -2.014512538909912,
          1.6481552124023438,
          2.072559118270874,
          1.769469141960144,
          3.0076887607574463,
          1.9610025882720947,
          3.013707399368286,
          0.004055520053952932,
          -7.735572814941406
         ],
         "y": [
          1.291541576385498,
          2.2942113876342773,
          3.7475790977478027,
          10.73807144165039,
          4.453394889831543,
          2.9606456756591797,
          0.9160674214363098,
          1.813523530960083,
          -2.5660014152526855,
          -2.6708364486694336,
          3.186217784881592,
          -5.364652633666992,
          -1.796120285987854,
          2.46824312210083,
          0.5939044952392578,
          8.893155097961426,
          7.972072601318359,
          5.138417720794678,
          -3.3596608638763428,
          1.5121248960494995,
          -5.225833415985107,
          -5.530599117279053,
          1.7271003723144531,
          -3.6302013397216797,
          -5.177186012268066,
          -4.484082221984863,
          -3.3362183570861816,
          -5.723414897918701,
          -5.956419944763184,
          -1.957901120185852,
          7.451344013214111
         ]
        },
        {
         "marker": {
          "color": 1,
          "opacity": 0.8,
          "size": 10
         },
         "mode": "markers+text",
         "name": "musée",
         "text": [
          "exposition_temporaire",
          "musées",
          "muséographie",
          "collection_archéologique",
          "muséographique",
          "exposition_permanent",
          "musée_archéologique",
          "château-musée",
          "muséal",
          "collection",
          "espace_muséographique",
          "exposition",
          "musee",
          "arts_asiatiques-guimet",
          "museum",
          "musée_matisse",
          "art_moderne",
          "musée_bourdelle",
          "musée_ethnographique",
          "muséologique",
          "louvre",
          "muser",
          "parcours_muséographique",
          "visite_guider",
          "visites-conférence",
          "librairie-boutique",
          "parcours_chronologique",
          "visite_commenter",
          "parc_archéologique",
          "musée_lapidaire",
          "musée"
         ],
         "textfont": {
          "size": 10
         },
         "textposition": "top center",
         "type": "scatter",
         "x": [
          -14.557073593139648,
          -7.961528778076172,
          -7.113982677459717,
          -2.279043674468994,
          -7.079693794250488,
          -12.717750549316406,
          -7.798171043395996,
          -1.7370710372924805,
          -4.299807071685791,
          -4.0755109786987305,
          -4.691100120544434,
          -7.73557186126709,
          -6.481080055236816,
          1.818068504333496,
          -6.244504451751709,
          -0.33525538444519043,
          -3.0042927265167236,
          1.6481550931930542,
          0.5432244539260864,
          -1.0143426656723022,
          -3.313472270965576,
          -1.5755748748779297,
          -0.7903861999511719,
          -14.515161514282227,
          -1.4072386026382446,
          -0.6474697589874268,
          -0.5153985619544983,
          -13.365252494812012,
          -2.311224937438965,
          0.17791639268398285,
          -11.85815715789795
         ],
         "y": [
          4.453396797180176,
          -0.7569006085395813,
          -1.3802380561828613,
          -4.473278045654297,
          -2.9893925189971924,
          1.8135247230529785,
          -2.9790308475494385,
          -1.420716404914856,
          -2.2643001079559326,
          -1.094922423362732,
          -4.086824893951416,
          7.451345920562744,
          2.5705244541168213,
          -5.592678546905518,
          0.9362237453460693,
          -1.437795877456665,
          7.544878959655762,
          -3.6302006244659424,
          -5.095193386077881,
          -6.398411273956299,
          -0.03056444600224495,
          -3.2084388732910156,
          -5.552402019500732,
          -0.8359296321868896,
          -5.5099873542785645,
          -4.923877716064453,
          -3.359661102294922,
          1.5121238231658936,
          -6.107927322387695,
          -5.381645679473877,
          2.960646152496338
         ]
        },
        {
         "marker": {
          "color": 2,
          "opacity": 0.8,
          "size": 10
         },
         "mode": "markers+text",
         "name": "peinture",
         "text": [
          "peindre",
          "peintre",
          "peinture_abstraire",
          "pictural",
          "peinture_acrylique",
          "sculpture",
          "sculpture_gravure",
          "huile_acrylique",
          "peinture_figuratif",
          "abstraction_lyrique",
          "gouache",
          "art_pictural",
          "matière_pictural",
          "aquarelle",
          "aquarelle_gouache",
          "william_bouguereau",
          "univers_pictural",
          "acrylique",
          "post-impressionniste",
          "oeuvres_pictural",
          "peinture_aquarelle",
          "dessin_peinture",
          "style_pictural",
          "figuratif",
          "peintures",
          "peinture_décoratif",
          "artiste_peintre",
          "gouacher",
          "bernard_buffet",
          "luminisme",
          "peinture"
         ],
         "textfont": {
          "size": 10
         },
         "textposition": "top center",
         "type": "scatter",
         "x": [
          12.276121139526367,
          9.988978385925293,
          7.580926418304443,
          10.279317855834961,
          9.023019790649414,
          3.3050010204315186,
          4.696331977844238,
          5.437283039093018,
          5.845017910003662,
          6.646228790283203,
          9.642794609069824,
          5.019357204437256,
          6.597118854522705,
          8.99889850616455,
          5.405916690826416,
          4.959598064422607,
          4.773580074310303,
          11.305129051208496,
          4.764056205749512,
          3.509394407272339,
          4.889125823974609,
          5.135790824890137,
          4.860728740692139,
          9.914478302001953,
          4.890606880187988,
          5.707339763641357,
          7.296873569488525,
          5.4878830909729,
          5.353877067565918,
          4.822847843170166,
          9.176013946533203
         ],
         "y": [
          6.931543827056885,
          10.302159309387207,
          3.03792667388916,
          6.877796173095703,
          2.718838691711426,
          8.76111125946045,
          -5.557962417602539,
          -3.818333387374878,
          -1.66645085811615,
          -0.42908573150634766,
          4.7728471755981445,
          0.27532339096069336,
          -2.7277486324310303,
          7.899126052856445,
          -5.053427696228027,
          -6.193400859832764,
          -3.842932939529419,
          6.271687984466553,
          -3.7866485118865967,
          -0.6250781416893005,
          -2.5295703411102295,
          5.477334976196289,
          -3.8693783283233643,
          4.713913440704346,
          4.217302322387695,
          -0.9185162782669067,
          10.494925498962402,
          -2.895840644836426,
          -2.121885299682617,
          -6.474533557891846,
          8.648102760314941
         ]
        }
       ],
       "layout": {
        "font": {
         "family": "Arial",
         "size": 10
        },
        "height": 600,
        "legend": {
         "font": {
          "color": "black"
         },
         "x": 1,
         "y": 0.5
        },
        "margin": {
         "b": 0,
         "l": 0,
         "r": 0,
         "t": 0
        },
        "showlegend": true,
        "template": {
         "data": {
          "bar": [
           {
            "error_x": {
             "color": "#2a3f5f"
            },
            "error_y": {
             "color": "#2a3f5f"
            },
            "marker": {
             "line": {
              "color": "#E5ECF6",
              "width": 0.5
             },
             "pattern": {
              "fillmode": "overlay",
              "size": 10,
              "solidity": 0.2
             }
            },
            "type": "bar"
           }
          ],
          "barpolar": [
           {
            "marker": {
             "line": {
              "color": "#E5ECF6",
              "width": 0.5
             },
             "pattern": {
              "fillmode": "overlay",
              "size": 10,
              "solidity": 0.2
             }
            },
            "type": "barpolar"
           }
          ],
          "carpet": [
           {
            "aaxis": {
             "endlinecolor": "#2a3f5f",
             "gridcolor": "white",
             "linecolor": "white",
             "minorgridcolor": "white",
             "startlinecolor": "#2a3f5f"
            },
            "baxis": {
             "endlinecolor": "#2a3f5f",
             "gridcolor": "white",
             "linecolor": "white",
             "minorgridcolor": "white",
             "startlinecolor": "#2a3f5f"
            },
            "type": "carpet"
           }
          ],
          "choropleth": [
           {
            "colorbar": {
             "outlinewidth": 0,
             "ticks": ""
            },
            "type": "choropleth"
           }
          ],
          "contour": [
           {
            "colorbar": {
             "outlinewidth": 0,
             "ticks": ""
            },
            "colorscale": [
             [
              0,
              "#0d0887"
             ],
             [
              0.1111111111111111,
              "#46039f"
             ],
             [
              0.2222222222222222,
              "#7201a8"
             ],
             [
              0.3333333333333333,
              "#9c179e"
             ],
             [
              0.4444444444444444,
              "#bd3786"
             ],
             [
              0.5555555555555556,
              "#d8576b"
             ],
             [
              0.6666666666666666,
              "#ed7953"
             ],
             [
              0.7777777777777778,
              "#fb9f3a"
             ],
             [
              0.8888888888888888,
              "#fdca26"
             ],
             [
              1,
              "#f0f921"
             ]
            ],
            "type": "contour"
           }
          ],
          "contourcarpet": [
           {
            "colorbar": {
             "outlinewidth": 0,
             "ticks": ""
            },
            "type": "contourcarpet"
           }
          ],
          "heatmap": [
           {
            "colorbar": {
             "outlinewidth": 0,
             "ticks": ""
            },
            "colorscale": [
             [
              0,
              "#0d0887"
             ],
             [
              0.1111111111111111,
              "#46039f"
             ],
             [
              0.2222222222222222,
              "#7201a8"
             ],
             [
              0.3333333333333333,
              "#9c179e"
             ],
             [
              0.4444444444444444,
              "#bd3786"
             ],
             [
              0.5555555555555556,
              "#d8576b"
             ],
             [
              0.6666666666666666,
              "#ed7953"
             ],
             [
              0.7777777777777778,
              "#fb9f3a"
             ],
             [
              0.8888888888888888,
              "#fdca26"
             ],
             [
              1,
              "#f0f921"
             ]
            ],
            "type": "heatmap"
           }
          ],
          "heatmapgl": [
           {
            "colorbar": {
             "outlinewidth": 0,
             "ticks": ""
            },
            "colorscale": [
             [
              0,
              "#0d0887"
             ],
             [
              0.1111111111111111,
              "#46039f"
             ],
             [
              0.2222222222222222,
              "#7201a8"
             ],
             [
              0.3333333333333333,
              "#9c179e"
             ],
             [
              0.4444444444444444,
              "#bd3786"
             ],
             [
              0.5555555555555556,
              "#d8576b"
             ],
             [
              0.6666666666666666,
              "#ed7953"
             ],
             [
              0.7777777777777778,
              "#fb9f3a"
             ],
             [
              0.8888888888888888,
              "#fdca26"
             ],
             [
              1,
              "#f0f921"
             ]
            ],
            "type": "heatmapgl"
           }
          ],
          "histogram": [
           {
            "marker": {
             "pattern": {
              "fillmode": "overlay",
              "size": 10,
              "solidity": 0.2
             }
            },
            "type": "histogram"
           }
          ],
          "histogram2d": [
           {
            "colorbar": {
             "outlinewidth": 0,
             "ticks": ""
            },
            "colorscale": [
             [
              0,
              "#0d0887"
             ],
             [
              0.1111111111111111,
              "#46039f"
             ],
             [
              0.2222222222222222,
              "#7201a8"
             ],
             [
              0.3333333333333333,
              "#9c179e"
             ],
             [
              0.4444444444444444,
              "#bd3786"
             ],
             [
              0.5555555555555556,
              "#d8576b"
             ],
             [
              0.6666666666666666,
              "#ed7953"
             ],
             [
              0.7777777777777778,
              "#fb9f3a"
             ],
             [
              0.8888888888888888,
              "#fdca26"
             ],
             [
              1,
              "#f0f921"
             ]
            ],
            "type": "histogram2d"
           }
          ],
          "histogram2dcontour": [
           {
            "colorbar": {
             "outlinewidth": 0,
             "ticks": ""
            },
            "colorscale": [
             [
              0,
              "#0d0887"
             ],
             [
              0.1111111111111111,
              "#46039f"
             ],
             [
              0.2222222222222222,
              "#7201a8"
             ],
             [
              0.3333333333333333,
              "#9c179e"
             ],
             [
              0.4444444444444444,
              "#bd3786"
             ],
             [
              0.5555555555555556,
              "#d8576b"
             ],
             [
              0.6666666666666666,
              "#ed7953"
             ],
             [
              0.7777777777777778,
              "#fb9f3a"
             ],
             [
              0.8888888888888888,
              "#fdca26"
             ],
             [
              1,
              "#f0f921"
             ]
            ],
            "type": "histogram2dcontour"
           }
          ],
          "mesh3d": [
           {
            "colorbar": {
             "outlinewidth": 0,
             "ticks": ""
            },
            "type": "mesh3d"
           }
          ],
          "parcoords": [
           {
            "line": {
             "colorbar": {
              "outlinewidth": 0,
              "ticks": ""
             }
            },
            "type": "parcoords"
           }
          ],
          "pie": [
           {
            "automargin": true,
            "type": "pie"
           }
          ],
          "scatter": [
           {
            "fillpattern": {
             "fillmode": "overlay",
             "size": 10,
             "solidity": 0.2
            },
            "type": "scatter"
           }
          ],
          "scatter3d": [
           {
            "line": {
             "colorbar": {
              "outlinewidth": 0,
              "ticks": ""
             }
            },
            "marker": {
             "colorbar": {
              "outlinewidth": 0,
              "ticks": ""
             }
            },
            "type": "scatter3d"
           }
          ],
          "scattercarpet": [
           {
            "marker": {
             "colorbar": {
              "outlinewidth": 0,
              "ticks": ""
             }
            },
            "type": "scattercarpet"
           }
          ],
          "scattergeo": [
           {
            "marker": {
             "colorbar": {
              "outlinewidth": 0,
              "ticks": ""
             }
            },
            "type": "scattergeo"
           }
          ],
          "scattergl": [
           {
            "marker": {
             "colorbar": {
              "outlinewidth": 0,
              "ticks": ""
             }
            },
            "type": "scattergl"
           }
          ],
          "scattermapbox": [
           {
            "marker": {
             "colorbar": {
              "outlinewidth": 0,
              "ticks": ""
             }
            },
            "type": "scattermapbox"
           }
          ],
          "scatterpolar": [
           {
            "marker": {
             "colorbar": {
              "outlinewidth": 0,
              "ticks": ""
             }
            },
            "type": "scatterpolar"
           }
          ],
          "scatterpolargl": [
           {
            "marker": {
             "colorbar": {
              "outlinewidth": 0,
              "ticks": ""
             }
            },
            "type": "scatterpolargl"
           }
          ],
          "scatterternary": [
           {
            "marker": {
             "colorbar": {
              "outlinewidth": 0,
              "ticks": ""
             }
            },
            "type": "scatterternary"
           }
          ],
          "surface": [
           {
            "colorbar": {
             "outlinewidth": 0,
             "ticks": ""
            },
            "colorscale": [
             [
              0,
              "#0d0887"
             ],
             [
              0.1111111111111111,
              "#46039f"
             ],
             [
              0.2222222222222222,
              "#7201a8"
             ],
             [
              0.3333333333333333,
              "#9c179e"
             ],
             [
              0.4444444444444444,
              "#bd3786"
             ],
             [
              0.5555555555555556,
              "#d8576b"
             ],
             [
              0.6666666666666666,
              "#ed7953"
             ],
             [
              0.7777777777777778,
              "#fb9f3a"
             ],
             [
              0.8888888888888888,
              "#fdca26"
             ],
             [
              1,
              "#f0f921"
             ]
            ],
            "type": "surface"
           }
          ],
          "table": [
           {
            "cells": {
             "fill": {
              "color": "#EBF0F8"
             },
             "line": {
              "color": "white"
             }
            },
            "header": {
             "fill": {
              "color": "#C8D4E3"
             },
             "line": {
              "color": "white"
             }
            },
            "type": "table"
           }
          ]
         },
         "layout": {
          "annotationdefaults": {
           "arrowcolor": "#2a3f5f",
           "arrowhead": 0,
           "arrowwidth": 1
          },
          "autotypenumbers": "strict",
          "coloraxis": {
           "colorbar": {
            "outlinewidth": 0,
            "ticks": ""
           }
          },
          "colorscale": {
           "diverging": [
            [
             0,
             "#8e0152"
            ],
            [
             0.1,
             "#c51b7d"
            ],
            [
             0.2,
             "#de77ae"
            ],
            [
             0.3,
             "#f1b6da"
            ],
            [
             0.4,
             "#fde0ef"
            ],
            [
             0.5,
             "#f7f7f7"
            ],
            [
             0.6,
             "#e6f5d0"
            ],
            [
             0.7,
             "#b8e186"
            ],
            [
             0.8,
             "#7fbc41"
            ],
            [
             0.9,
             "#4d9221"
            ],
            [
             1,
             "#276419"
            ]
           ],
           "sequential": [
            [
             0,
             "#0d0887"
            ],
            [
             0.1111111111111111,
             "#46039f"
            ],
            [
             0.2222222222222222,
             "#7201a8"
            ],
            [
             0.3333333333333333,
             "#9c179e"
            ],
            [
             0.4444444444444444,
             "#bd3786"
            ],
            [
             0.5555555555555556,
             "#d8576b"
            ],
            [
             0.6666666666666666,
             "#ed7953"
            ],
            [
             0.7777777777777778,
             "#fb9f3a"
            ],
            [
             0.8888888888888888,
             "#fdca26"
            ],
            [
             1,
             "#f0f921"
            ]
           ],
           "sequentialminus": [
            [
             0,
             "#0d0887"
            ],
            [
             0.1111111111111111,
             "#46039f"
            ],
            [
             0.2222222222222222,
             "#7201a8"
            ],
            [
             0.3333333333333333,
             "#9c179e"
            ],
            [
             0.4444444444444444,
             "#bd3786"
            ],
            [
             0.5555555555555556,
             "#d8576b"
            ],
            [
             0.6666666666666666,
             "#ed7953"
            ],
            [
             0.7777777777777778,
             "#fb9f3a"
            ],
            [
             0.8888888888888888,
             "#fdca26"
            ],
            [
             1,
             "#f0f921"
            ]
           ]
          },
          "colorway": [
           "#636efa",
           "#EF553B",
           "#00cc96",
           "#ab63fa",
           "#FFA15A",
           "#19d3f3",
           "#FF6692",
           "#B6E880",
           "#FF97FF",
           "#FECB52"
          ],
          "font": {
           "color": "#2a3f5f"
          },
          "geo": {
           "bgcolor": "white",
           "lakecolor": "white",
           "landcolor": "#E5ECF6",
           "showlakes": true,
           "showland": true,
           "subunitcolor": "white"
          },
          "hoverlabel": {
           "align": "left"
          },
          "hovermode": "closest",
          "mapbox": {
           "style": "light"
          },
          "paper_bgcolor": "white",
          "plot_bgcolor": "#E5ECF6",
          "polar": {
           "angularaxis": {
            "gridcolor": "white",
            "linecolor": "white",
            "ticks": ""
           },
           "bgcolor": "#E5ECF6",
           "radialaxis": {
            "gridcolor": "white",
            "linecolor": "white",
            "ticks": ""
           }
          },
          "scene": {
           "xaxis": {
            "backgroundcolor": "#E5ECF6",
            "gridcolor": "white",
            "gridwidth": 2,
            "linecolor": "white",
            "showbackground": true,
            "ticks": "",
            "zerolinecolor": "white"
           },
           "yaxis": {
            "backgroundcolor": "#E5ECF6",
            "gridcolor": "white",
            "gridwidth": 2,
            "linecolor": "white",
            "showbackground": true,
            "ticks": "",
            "zerolinecolor": "white"
           },
           "zaxis": {
            "backgroundcolor": "#E5ECF6",
            "gridcolor": "white",
            "gridwidth": 2,
            "linecolor": "white",
            "showbackground": true,
            "ticks": "",
            "zerolinecolor": "white"
           }
          },
          "shapedefaults": {
           "line": {
            "color": "#2a3f5f"
           }
          },
          "ternary": {
           "aaxis": {
            "gridcolor": "white",
            "linecolor": "white",
            "ticks": ""
           },
           "baxis": {
            "gridcolor": "white",
            "linecolor": "white",
            "ticks": ""
           },
           "bgcolor": "#E5ECF6",
           "caxis": {
            "gridcolor": "white",
            "linecolor": "white",
            "ticks": ""
           }
          },
          "title": {
           "x": 0.05
          },
          "xaxis": {
           "automargin": true,
           "gridcolor": "white",
           "linecolor": "white",
           "ticks": "",
           "title": {
            "standoff": 15
           },
           "zerolinecolor": "white",
           "zerolinewidth": 2
          },
          "yaxis": {
           "automargin": true,
           "gridcolor": "white",
           "linecolor": "white",
           "ticks": "",
           "title": {
            "standoff": 15
           },
           "zerolinecolor": "white",
           "zerolinewidth": 2
          }
         }
        },
        "width": 800
       }
      }
     },
     "metadata": {},
     "output_type": "display_data"
    }
   ],
   "source": [
    "# candidate_words = ['homme', 'rouge', 'étudier']\n",
    "candidate_words = ['exposition', 'musée','peinture']\n",
    "display_dimred_neighbors(model, candidate_words, n_components = 2, topn = 30, method = 'pca')"
   ]
  },
  {
   "cell_type": "markdown",
   "id": "ee8813d7",
   "metadata": {},
   "source": [
    "Veuillez noter ici vos observations sur la procédure, et coller un extrait montrant votre meilleure performance au jeu."
   ]
  },
  {
   "cell_type": "markdown",
   "id": "72c6ddc4",
   "metadata": {},
   "source": [
    "![image](résultats-cémantix.jpeg)"
   ]
  },
  {
   "cell_type": "markdown",
   "id": "1539000b",
   "metadata": {},
   "source": [
    "**Fin du Labo.**  Veuillez nettoyer ce notebook en gardant seulement les résultats désirés, l'enregistrer, et le soumettre comme devoir sur Cyberlearn."
   ]
  }
 ],
 "metadata": {
  "kernelspec": {
   "display_name": "data-science",
   "language": "python",
   "name": "python3"
  },
  "language_info": {
   "codemirror_mode": {
    "name": "ipython",
    "version": 3
   },
   "file_extension": ".py",
   "mimetype": "text/x-python",
   "name": "python",
   "nbconvert_exporter": "python",
   "pygments_lexer": "ipython3",
   "version": "3.12.7"
  }
 },
 "nbformat": 4,
 "nbformat_minor": 5
}
